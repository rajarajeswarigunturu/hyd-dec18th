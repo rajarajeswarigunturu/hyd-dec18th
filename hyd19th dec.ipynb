{
 "cells": [
  {
   "cell_type": "code",
   "execution_count": 1,
   "id": "3e5087e5",
   "metadata": {},
   "outputs": [],
   "source": [
    "a=10"
   ]
  },
  {
   "cell_type": "code",
   "execution_count": 2,
   "id": "55c4a94b",
   "metadata": {},
   "outputs": [
    {
     "data": {
      "text/plain": [
       "10"
      ]
     },
     "execution_count": 2,
     "metadata": {},
     "output_type": "execute_result"
    }
   ],
   "source": [
    "a"
   ]
  },
  {
   "cell_type": "code",
   "execution_count": 3,
   "id": "8942cde8",
   "metadata": {},
   "outputs": [
    {
     "ename": "SyntaxError",
     "evalue": "invalid syntax (Temp/ipykernel_11372/3513270752.py, line 1)",
     "output_type": "error",
     "traceback": [
      "\u001b[1;36m  File \u001b[1;32m\"C:\\Users\\91903\\AppData\\Local\\Temp/ipykernel_11372/3513270752.py\"\u001b[1;36m, line \u001b[1;32m1\u001b[0m\n\u001b[1;33m    if a<15\u001b[0m\n\u001b[1;37m           ^\u001b[0m\n\u001b[1;31mSyntaxError\u001b[0m\u001b[1;31m:\u001b[0m invalid syntax\n"
     ]
    }
   ],
   "source": [
    "if a<15"
   ]
  },
  {
   "cell_type": "code",
   "execution_count": 4,
   "id": "87be69cf",
   "metadata": {},
   "outputs": [
    {
     "ename": "IndentationError",
     "evalue": "expected an indented block (Temp/ipykernel_11372/1328255600.py, line 2)",
     "output_type": "error",
     "traceback": [
      "\u001b[1;36m  File \u001b[1;32m\"C:\\Users\\91903\\AppData\\Local\\Temp/ipykernel_11372/1328255600.py\"\u001b[1;36m, line \u001b[1;32m2\u001b[0m\n\u001b[1;33m    \u001b[0m\n\u001b[1;37m    ^\u001b[0m\n\u001b[1;31mIndentationError\u001b[0m\u001b[1;31m:\u001b[0m expected an indented block\n"
     ]
    }
   ],
   "source": [
    "if a<15:\n",
    "    "
   ]
  },
  {
   "cell_type": "code",
   "execution_count": 5,
   "id": "209bc862",
   "metadata": {},
   "outputs": [],
   "source": [
    "if a<15:\n",
    "    pass"
   ]
  },
  {
   "cell_type": "code",
   "execution_count": 6,
   "id": "d9fcedb5",
   "metadata": {},
   "outputs": [
    {
     "data": {
      "text/plain": [
       "True"
      ]
     },
     "execution_count": 6,
     "metadata": {},
     "output_type": "execute_result"
    }
   ],
   "source": [
    "a<15"
   ]
  },
  {
   "cell_type": "code",
   "execution_count": 7,
   "id": "3cc5e846",
   "metadata": {},
   "outputs": [
    {
     "name": "stdout",
     "output_type": "stream",
     "text": [
      "gunturu is a city\n"
     ]
    }
   ],
   "source": [
    "if a<15:\n",
    "    print(\"gunturu is a city\")"
   ]
  },
  {
   "cell_type": "code",
   "execution_count": 8,
   "id": "f7911208",
   "metadata": {},
   "outputs": [],
   "source": [
    "if 10>15:\n",
    "    print(\"hindu\")"
   ]
  },
  {
   "cell_type": "code",
   "execution_count": 9,
   "id": "abf1b317",
   "metadata": {},
   "outputs": [
    {
     "name": "stdout",
     "output_type": "stream",
     "text": [
      "canada\n"
     ]
    }
   ],
   "source": [
    "if 10<15:\n",
    "    print(\"canada\")"
   ]
  },
  {
   "cell_type": "code",
   "execution_count": 10,
   "id": "7732d80b",
   "metadata": {},
   "outputs": [
    {
     "data": {
      "text/plain": [
       "False"
      ]
     },
     "execution_count": 10,
     "metadata": {},
     "output_type": "execute_result"
    }
   ],
   "source": [
    "24<15"
   ]
  },
  {
   "cell_type": "code",
   "execution_count": 11,
   "id": "74881dd3",
   "metadata": {},
   "outputs": [
    {
     "data": {
      "text/plain": [
       "True"
      ]
     },
     "execution_count": 11,
     "metadata": {},
     "output_type": "execute_result"
    }
   ],
   "source": [
    "24>15"
   ]
  },
  {
   "cell_type": "code",
   "execution_count": 12,
   "id": "9edda709",
   "metadata": {},
   "outputs": [
    {
     "name": "stdout",
     "output_type": "stream",
     "text": [
      "greater\n"
     ]
    }
   ],
   "source": [
    "if 24 < 15:\n",
    "    print(\"lesser\")\n",
    "else:\n",
    "    print(\"greater\")"
   ]
  },
  {
   "cell_type": "code",
   "execution_count": 13,
   "id": "4b4d408b",
   "metadata": {},
   "outputs": [
    {
     "name": "stdout",
     "output_type": "stream",
     "text": [
      "greater\n"
     ]
    }
   ],
   "source": [
    "if 24 > 15:\n",
    "    print(\"greater\")\n",
    "else:\n",
    "    print(\"lesser\")"
   ]
  },
  {
   "cell_type": "code",
   "execution_count": 14,
   "id": "c12cb2cd",
   "metadata": {},
   "outputs": [
    {
     "name": "stdout",
     "output_type": "stream",
     "text": [
      "nothing\n"
     ]
    }
   ],
   "source": [
    "salary=100\n",
    "if salary <50:\n",
    "    print(\"chocolate\")\n",
    "elif salary <70:\n",
    "    print(\"pizza\")\n",
    "elif salary <90:\n",
    "    print(\"burger\")\n",
    "elif salary < 100:\n",
    "    print(\"kfc chicken\")\n",
    "else:\n",
    "    print(\"nothing\")"
   ]
  },
  {
   "cell_type": "code",
   "execution_count": 15,
   "id": "eeaa889c",
   "metadata": {},
   "outputs": [
    {
     "name": "stdout",
     "output_type": "stream",
     "text": [
      "kfc chicken\n"
     ]
    }
   ],
   "source": [
    "salary=100\n",
    "if salary <=50:\n",
    "    print(\"chocolate\")\n",
    "elif salary <=70:\n",
    "    print(\"pizza\")\n",
    "elif salary <=90:\n",
    "    print(\"burger\")\n",
    "elif salary <= 100:\n",
    "    print(\"kfc chicken\")\n",
    "else:\n",
    "    print(\"nothing\")"
   ]
  },
  {
   "cell_type": "code",
   "execution_count": 17,
   "id": "bfa58753",
   "metadata": {},
   "outputs": [
    {
     "name": "stdout",
     "output_type": "stream",
     "text": [
      "65\n",
      "pizza\n"
     ]
    }
   ],
   "source": [
    "salary=int(input())\n",
    "if salary <=50:\n",
    "    print(\"chocolate\")\n",
    "elif salary <=70:\n",
    "    print(\"pizza\")\n",
    "elif salary <=90:\n",
    "    print(\"burger\")\n",
    "elif salary <= 100:\n",
    "    print(\"kfc chicken\")\n",
    "else:\n",
    "    print(\"nothing\")"
   ]
  },
  {
   "cell_type": "code",
   "execution_count": 18,
   "id": "93b721cf",
   "metadata": {},
   "outputs": [
    {
     "name": "stdout",
     "output_type": "stream",
     "text": [
      "100\n",
      "kfc chicken\n"
     ]
    }
   ],
   "source": [
    "salary=int(input())\n",
    "if salary <=50:\n",
    "    print(\"chocolate\")\n",
    "elif salary <=70:\n",
    "    print(\"pizza\")\n",
    "elif salary <=90:\n",
    "    print(\"burger\")\n",
    "elif salary <= 100:\n",
    "    print(\"kfc chicken\")\n",
    "else:\n",
    "    print(\"nothing\")"
   ]
  },
  {
   "cell_type": "code",
   "execution_count": 19,
   "id": "6c9918f6",
   "metadata": {},
   "outputs": [
    {
     "name": "stdout",
     "output_type": "stream",
     "text": [
      "1500\n",
      "no discount\n"
     ]
    }
   ],
   "source": [
    "cost=int(input())\n",
    "if cost==2000:\n",
    "    discount=cost*.10\n",
    "    bill=cost-discount\n",
    "    print(bill)\n",
    "elif cost == 3000:\n",
    "    discount=cost*.15\n",
    "    bill=cost-discount\n",
    "    print(bill)\n",
    "elif cost == 5000:\n",
    "    discount=cost*.20\n",
    "    bill=cost-discount\n",
    "    print(bill)\n",
    "else:\n",
    "    print(\"no discount\")\n",
    "    "
   ]
  },
  {
   "cell_type": "code",
   "execution_count": 21,
   "id": "dea0d871",
   "metadata": {},
   "outputs": [
    {
     "name": "stdout",
     "output_type": "stream",
     "text": [
      "2000\n",
      "bill after discount: 1800.0\n"
     ]
    }
   ],
   "source": [
    "cost=int(input())\n",
    "if cost==2000:\n",
    "    discount=cost*.10\n",
    "    bill=cost-discount\n",
    "    print(\"bill after discount:\", bill)\n",
    "elif cost == 3000:\n",
    "    discount=cost*.15\n",
    "    bill=cost-discount\n",
    "    print(\"bill after discount:\",bill)\n",
    "elif cost == 5000:\n",
    "    discount=cost*.20\n",
    "    bill=cost-discount\n",
    "    print(\"bill after discount:\",bill)\n",
    "else:\n",
    "    print(\"no discount\")"
   ]
  },
  {
   "cell_type": "code",
   "execution_count": 22,
   "id": "f7378471",
   "metadata": {},
   "outputs": [
    {
     "name": "stdout",
     "output_type": "stream",
     "text": [
      "5000\n",
      "bill after discount: 4000.0\n"
     ]
    }
   ],
   "source": [
    "cost=int(input())\n",
    "if cost==2000:\n",
    "    discount=cost*.10\n",
    "    bill=cost-discount\n",
    "    print(\"bill after discount:\", bill)\n",
    "elif cost == 3000:\n",
    "    discount=cost*.15\n",
    "    bill=cost-discount\n",
    "    print(\"bill after discount:\",bill)\n",
    "elif cost == 5000:\n",
    "    discount=cost*.20\n",
    "    bill=cost-discount\n",
    "    print(\"bill after discount:\",bill)\n",
    "else:\n",
    "    print(\"no discount\")"
   ]
  },
  {
   "cell_type": "code",
   "execution_count": 23,
   "id": "e53f0c8e",
   "metadata": {},
   "outputs": [
    {
     "name": "stdout",
     "output_type": "stream",
     "text": [
      "5500\n",
      "no discount\n"
     ]
    }
   ],
   "source": [
    "cost=int(input())\n",
    "if cost==2000:\n",
    "    discount=cost*.10\n",
    "    bill=cost-discount\n",
    "    print(\"bill after discount:\", bill)\n",
    "elif cost == 3000:\n",
    "    discount=cost*.15\n",
    "    bill=cost-discount\n",
    "    print(\"bill after discount:\",bill)\n",
    "elif cost == 5000:\n",
    "    discount=cost*.20\n",
    "    bill=cost-discount\n",
    "    print(\"bill after discount:\",bill)\n",
    "else:\n",
    "    print(\"no discount\")"
   ]
  },
  {
   "cell_type": "code",
   "execution_count": 24,
   "id": "e10d4041",
   "metadata": {},
   "outputs": [
    {
     "data": {
      "text/plain": [
       "True"
      ]
     },
     "execution_count": 24,
     "metadata": {},
     "output_type": "execute_result"
    }
   ],
   "source": [
    "\"raji\"==\"raji\""
   ]
  },
  {
   "cell_type": "code",
   "execution_count": 25,
   "id": "3556d002",
   "metadata": {},
   "outputs": [
    {
     "ename": "SyntaxError",
     "evalue": "cannot assign to literal (Temp/ipykernel_11372/1731839919.py, line 1)",
     "output_type": "error",
     "traceback": [
      "\u001b[1;36m  File \u001b[1;32m\"C:\\Users\\91903\\AppData\\Local\\Temp/ipykernel_11372/1731839919.py\"\u001b[1;36m, line \u001b[1;32m1\u001b[0m\n\u001b[1;33m    \"raji\"=\"raji\"\u001b[0m\n\u001b[1;37m    ^\u001b[0m\n\u001b[1;31mSyntaxError\u001b[0m\u001b[1;31m:\u001b[0m cannot assign to literal\n"
     ]
    }
   ],
   "source": [
    "\"raji\"=\"raji\""
   ]
  },
  {
   "cell_type": "code",
   "execution_count": 26,
   "id": "ffb0e527",
   "metadata": {},
   "outputs": [
    {
     "name": "stdout",
     "output_type": "stream",
     "text": [
      "3\n",
      "course will complete in 8 months\n"
     ]
    }
   ],
   "source": [
    "studytime=int(input())\n",
    "if studytime >= 6:\n",
    "    print(\"course will complete in 4 months\")\n",
    "elif studytime >= 4:\n",
    "    print(\"course will complete in 6 months\")\n",
    "elif studytime >= 2:\n",
    "    print(\"course will complete in 8 months\")\n",
    "elif studytime >= 1:\n",
    "    print(\"course will complete in 12 months\")\n",
    "else:\n",
    "    print(\"more time to be taken\")"
   ]
  },
  {
   "cell_type": "code",
   "execution_count": 27,
   "id": "b68144b3",
   "metadata": {},
   "outputs": [
    {
     "name": "stdout",
     "output_type": "stream",
     "text": [
      "6.3\n"
     ]
    },
    {
     "ename": "ValueError",
     "evalue": "invalid literal for int() with base 10: '6.3'",
     "output_type": "error",
     "traceback": [
      "\u001b[1;31m---------------------------------------------------------------------------\u001b[0m",
      "\u001b[1;31mValueError\u001b[0m                                Traceback (most recent call last)",
      "\u001b[1;32m~\\AppData\\Local\\Temp/ipykernel_11372/2294749750.py\u001b[0m in \u001b[0;36m<module>\u001b[1;34m\u001b[0m\n\u001b[1;32m----> 1\u001b[1;33m \u001b[0mstudytime\u001b[0m\u001b[1;33m=\u001b[0m\u001b[0mint\u001b[0m\u001b[1;33m(\u001b[0m\u001b[0minput\u001b[0m\u001b[1;33m(\u001b[0m\u001b[1;33m)\u001b[0m\u001b[1;33m)\u001b[0m\u001b[1;33m\u001b[0m\u001b[1;33m\u001b[0m\u001b[0m\n\u001b[0m\u001b[0;32m      2\u001b[0m \u001b[1;32mif\u001b[0m \u001b[0mstudytime\u001b[0m \u001b[1;33m<=\u001b[0m \u001b[1;36m1\u001b[0m\u001b[1;33m:\u001b[0m\u001b[1;33m\u001b[0m\u001b[1;33m\u001b[0m\u001b[0m\n\u001b[0;32m      3\u001b[0m     \u001b[0mprint\u001b[0m\u001b[1;33m(\u001b[0m\u001b[1;34m\"course will complete in 10 months\"\u001b[0m\u001b[1;33m)\u001b[0m\u001b[1;33m\u001b[0m\u001b[1;33m\u001b[0m\u001b[0m\n\u001b[0;32m      4\u001b[0m \u001b[1;32melif\u001b[0m \u001b[0mstudytime\u001b[0m \u001b[1;33m<=\u001b[0m \u001b[1;36m3\u001b[0m\u001b[1;33m:\u001b[0m\u001b[1;33m\u001b[0m\u001b[1;33m\u001b[0m\u001b[0m\n\u001b[0;32m      5\u001b[0m     \u001b[0mprint\u001b[0m\u001b[1;33m(\u001b[0m\u001b[1;34m\"course will complete in 8 months\"\u001b[0m\u001b[1;33m)\u001b[0m\u001b[1;33m\u001b[0m\u001b[1;33m\u001b[0m\u001b[0m\n",
      "\u001b[1;31mValueError\u001b[0m: invalid literal for int() with base 10: '6.3'"
     ]
    }
   ],
   "source": [
    "studytime=int(input())\n",
    "if studytime <= 1:\n",
    "    print(\"course will complete in 10 months\")\n",
    "elif studytime <= 3:\n",
    "    print(\"course will complete in 8 months\")\n",
    "elif studytime <= 5:\n",
    "    print(\"course will complete in 6 months\")\n",
    "elif studytime <= 7:\n",
    "    print(\"course will complete in 4 months\")\n",
    "else:\n",
    "    print(\"more time to be taken\")"
   ]
  },
  {
   "cell_type": "code",
   "execution_count": 28,
   "id": "947a0ac3",
   "metadata": {},
   "outputs": [
    {
     "name": "stdout",
     "output_type": "stream",
     "text": [
      "5\n",
      "course will complete in 6 months\n"
     ]
    }
   ],
   "source": [
    "studytime=int(input())\n",
    "if studytime <= 1:\n",
    "    print(\"course will complete in 10 months\")\n",
    "elif studytime <= 3:\n",
    "    print(\"course will complete in 8 months\")\n",
    "elif studytime <= 5:\n",
    "    print(\"course will complete in 6 months\")\n",
    "elif studytime <= 7:\n",
    "    print(\"course will complete in 4 months\")\n",
    "else:\n",
    "    print(\"more time to be taken\")"
   ]
  },
  {
   "cell_type": "code",
   "execution_count": 29,
   "id": "77306d05",
   "metadata": {},
   "outputs": [
    {
     "name": "stdout",
     "output_type": "stream",
     "text": [
      "2.5\n",
      "course will complete in 8 months\n"
     ]
    }
   ],
   "source": [
    "studytime=float(input())\n",
    "if studytime <= 1:\n",
    "    print(\"course will complete in 10 months\")\n",
    "elif studytime <= 3:\n",
    "    print(\"course will complete in 8 months\")\n",
    "elif studytime <= 5:\n",
    "    print(\"course will complete in 6 months\")\n",
    "elif studytime <= 7:\n",
    "    print(\"course will complete in 4 months\")\n",
    "else:\n",
    "    print(\"more time to be taken\")"
   ]
  },
  {
   "cell_type": "code",
   "execution_count": 30,
   "id": "751e9975",
   "metadata": {},
   "outputs": [
    {
     "name": "stdout",
     "output_type": "stream",
     "text": [
      "2.5\n",
      "course will complete in 6 months\n"
     ]
    }
   ],
   "source": [
    "studytime=float(input())\n",
    "if studytime <1 and studytime >0.5:\n",
    "    print(\"course will complete in 10 months\")\n",
    "elif studytime > 1 and studytime <2:\n",
    "    print(\"course will complete in 8 months\")\n",
    "elif studytime > 2 and studytime <4:\n",
    "    print(\"course will complete in 6 months\")\n",
    "elif studytime >4 and studytime < 8:\n",
    "    print(\"course will complete in 4 months\")\n",
    "else:\n",
    "    print(\"more time to be taken\")"
   ]
  },
  {
   "cell_type": "code",
   "execution_count": 31,
   "id": "b33cebd3",
   "metadata": {},
   "outputs": [
    {
     "name": "stdout",
     "output_type": "stream",
     "text": [
      "valid\n"
     ]
    }
   ],
   "source": [
    "a=9\n",
    "if a==9:\n",
    "    print(\"valid\")"
   ]
  },
  {
   "cell_type": "code",
   "execution_count": 32,
   "id": "0c86296d",
   "metadata": {},
   "outputs": [
    {
     "name": "stdout",
     "output_type": "stream",
     "text": [
      "not valid\n"
     ]
    }
   ],
   "source": [
    "a=10\n",
    "if a ==9:\n",
    "    print(\"skbjdf\")\n",
    "else:\n",
    "    print(\"not valid\")"
   ]
  },
  {
   "cell_type": "code",
   "execution_count": 33,
   "id": "66763d8c",
   "metadata": {},
   "outputs": [
    {
     "name": "stdout",
     "output_type": "stream",
     "text": [
      "Enter a mother name:ramana\n",
      "Enter child name:ramadevi\n",
      "Enter grand child name:raji\n",
      "elder grand daughter of ramana\n"
     ]
    }
   ],
   "source": [
    "s=input(\"Enter a mother name:\")\n",
    "a= input(\"Enter child name:\")\n",
    "b=input(\"Enter grand child name:\")\n",
    "\n",
    "if s==\"ramana\":\n",
    "    if a==\"ramakanth\":\n",
    "        if b==\"dattu\":\n",
    "            print(\"grand son of\", s)\n",
    "        elif b==\"ramya\":\n",
    "            print(\"grand daughter of \",s)\n",
    "        else:\n",
    "            print(\"not the grand child of\", s)\n",
    "    elif a==\"rambabu\":\n",
    "        if b==\"tinku\":\n",
    "            print(\"small grand daughter of \", s)\n",
    "        else:\n",
    "            print(\"not the child of\", a)\n",
    "    elif a==\"ramadevi\":\n",
    "        if b==\"raji\":\n",
    "            print(\"elder grand daughter of\", s)\n",
    "        elif b==\"manasa\":\n",
    "            print(\"small grand daughter of \", s)\n",
    "        else:\n",
    "            print(\"not the daughters of\", a)\n",
    "    else:\n",
    "        print(\"not the children of\", s)\n",
    "elif s==\"saaradhi\":\n",
    "    if a==\"srinivasarao\":\n",
    "        if b==\"ravi\":\n",
    "            print(\"elder son of\", a)\n",
    "        elif b==\"bhanu\":\n",
    "            print(\"small son of \", a)\n",
    "        else:\n",
    "            print(\"not the sons of\", a)\n",
    "    elif a==\"seshu\":\n",
    "        if b==\"karthik\":\n",
    "            print(\"only son of \", a)\n",
    "        else:\n",
    "            print(\"not the son of\", a)\n",
    "    else:\n",
    "        print(\"not the grand children of \", s)\n",
    "else:\n",
    "    print(\"not the grand children of ramana and saradhi\")"
   ]
  },
  {
   "cell_type": "code",
   "execution_count": 34,
   "id": "a5a26bc1",
   "metadata": {},
   "outputs": [
    {
     "name": "stdout",
     "output_type": "stream",
     "text": [
      "Enter a mother name:saradhi\n",
      "Enter child name:seshu\n",
      "Enter grand child name:kartheek\n",
      "not the grand children of ramana and saradhi\n"
     ]
    }
   ],
   "source": [
    "s=input(\"Enter a mother name:\")\n",
    "a= input(\"Enter child name:\")\n",
    "b=input(\"Enter grand child name:\")\n",
    "\n",
    "if s==\"ramana\":\n",
    "    print(\"ramakanth rambabu ramadevi\")\n",
    "    if a==\"ramakanth\":\n",
    "        print(\"dattu ramya\")\n",
    "        if b==\"dattu\":\n",
    "            print(\"grand son of\", s)\n",
    "        elif b==\"ramya\":\n",
    "            print(\"grand daughter of \",s)\n",
    "        else:\n",
    "            print(\"not the grand child of\", s)\n",
    "    elif a==\"rambabu\":\n",
    "        print(\"tinku\")\n",
    "        if b==\"tinku\":\n",
    "            print(\"small grand daughter of \", s)\n",
    "        else:\n",
    "            print(\"not the child of\", a)\n",
    "    elif a==\"ramadevi\":\n",
    "        print(\"raji manasa\")\n",
    "        if b==\"raji\":\n",
    "            print(\"elder grand daughter of\", s)\n",
    "        elif b==\"manasa\":\n",
    "            print(\"small grand daughter of \", s)\n",
    "        else:\n",
    "            print(\"not the daughters of\", a)\n",
    "    else:\n",
    "        print(\"not the children of\", s)\n",
    "elif s==\"saaradhi\":\n",
    "    print(\"srinivasarao seshu\")\n",
    "    if a==\"srinivasarao\":\n",
    "        print(\"ravi bhanu\")\n",
    "        if b==\"ravi\":\n",
    "            print(\"elder son of\", a)\n",
    "        elif b==\"bhanu\":\n",
    "            print(\"small son of \", a)\n",
    "        else:\n",
    "            print(\"not the sons of\", a)\n",
    "    elif a==\"seshu\":\n",
    "        print(\"karthik only\")\n",
    "        if b==\"karthik\":\n",
    "            print(\"only son of \", a)\n",
    "        else:\n",
    "            print(\"not the son of\", a)\n",
    "    else:\n",
    "        print(\"not the grand children of \", s)\n",
    "else:\n",
    "    print(\"not the grand children of ramana and saradhi\")"
   ]
  },
  {
   "cell_type": "markdown",
   "id": "080886e0",
   "metadata": {},
   "source": [
    "# for loop"
   ]
  },
  {
   "cell_type": "code",
   "execution_count": 35,
   "id": "0d13fa16",
   "metadata": {},
   "outputs": [
    {
     "ename": "SyntaxError",
     "evalue": "invalid syntax (Temp/ipykernel_11372/1558352779.py, line 2)",
     "output_type": "error",
     "traceback": [
      "\u001b[1;36m  File \u001b[1;32m\"C:\\Users\\91903\\AppData\\Local\\Temp/ipykernel_11372/1558352779.py\"\u001b[1;36m, line \u001b[1;32m2\u001b[0m\n\u001b[1;33m    for i in l\u001b[0m\n\u001b[1;37m              ^\u001b[0m\n\u001b[1;31mSyntaxError\u001b[0m\u001b[1;31m:\u001b[0m invalid syntax\n"
     ]
    }
   ],
   "source": [
    "l=[1,2,3,4,5,6,7]\n",
    "for i in l"
   ]
  },
  {
   "cell_type": "code",
   "execution_count": 36,
   "id": "dd0bd6c4",
   "metadata": {},
   "outputs": [
    {
     "name": "stdout",
     "output_type": "stream",
     "text": [
      "1\n",
      "2\n",
      "3\n",
      "4\n",
      "5\n",
      "6\n",
      "7\n"
     ]
    }
   ],
   "source": [
    "l=[1,2,3,4,5,6,7]\n",
    "for i in l:\n",
    "    print(i)"
   ]
  },
  {
   "cell_type": "code",
   "execution_count": 37,
   "id": "42f26db1",
   "metadata": {},
   "outputs": [],
   "source": [
    "l=[1,2,3,4,5,6,7]\n",
    "for i in l:\n",
    "    pass"
   ]
  },
  {
   "cell_type": "code",
   "execution_count": 38,
   "id": "7cbfae5c",
   "metadata": {},
   "outputs": [
    {
     "name": "stdout",
     "output_type": "stream",
     "text": [
      "r\n",
      "a\n",
      "j\n",
      "i\n"
     ]
    }
   ],
   "source": [
    "for i in \"raji\":\n",
    "    print(i)"
   ]
  },
  {
   "cell_type": "code",
   "execution_count": 39,
   "id": "d17e24cf",
   "metadata": {},
   "outputs": [
    {
     "name": "stdout",
     "output_type": "stream",
     "text": [
      "1\n",
      "2\n",
      "3\n",
      "4\n",
      "5\n",
      "6\n",
      "7\n",
      "8\n",
      "9\n"
     ]
    }
   ],
   "source": [
    "t=(1,2,3,4,5,6,7,8,9)\n",
    "for i in t:\n",
    "    print(i)"
   ]
  },
  {
   "cell_type": "code",
   "execution_count": 40,
   "id": "29556b28",
   "metadata": {},
   "outputs": [
    {
     "name": "stdout",
     "output_type": "stream",
     "text": [
      "<class 'int'> type of 1\n",
      "<class 'int'> type of 2\n",
      "<class 'int'> type of 3\n",
      "<class 'int'> type of 4\n",
      "<class 'int'> type of 5\n",
      "<class 'int'> type of 6\n",
      "<class 'int'> type of 7\n",
      "<class 'int'> type of 8\n",
      "<class 'int'> type of 9\n"
     ]
    }
   ],
   "source": [
    "for i in t:\n",
    "    print(type(i), \"type of\", i)"
   ]
  },
  {
   "cell_type": "code",
   "execution_count": 43,
   "id": "52e0417b",
   "metadata": {},
   "outputs": [],
   "source": [
    "t=(1,2,3,3.2,6+4j,True,7,8,9,\"raji\",\"pavan\")"
   ]
  },
  {
   "cell_type": "code",
   "execution_count": 44,
   "id": "8d5fd4ec",
   "metadata": {},
   "outputs": [
    {
     "name": "stdout",
     "output_type": "stream",
     "text": [
      "<class 'int'> type of 1\n",
      "<class 'int'> type of 2\n",
      "<class 'int'> type of 3\n",
      "<class 'float'> type of 3.2\n",
      "<class 'complex'> type of (6+4j)\n",
      "<class 'bool'> type of True\n",
      "<class 'int'> type of 7\n",
      "<class 'int'> type of 8\n",
      "<class 'int'> type of 9\n",
      "<class 'str'> type of raji\n",
      "<class 'str'> type of pavan\n"
     ]
    }
   ],
   "source": [
    "for i in t:\n",
    "    print(type(i), \"type of\", i)"
   ]
  },
  {
   "cell_type": "code",
   "execution_count": 45,
   "id": "ac93b888",
   "metadata": {},
   "outputs": [
    {
     "data": {
      "text/plain": [
       "str"
      ]
     },
     "execution_count": 45,
     "metadata": {},
     "output_type": "execute_result"
    }
   ],
   "source": [
    "type(\"raji\")"
   ]
  },
  {
   "cell_type": "code",
   "execution_count": 46,
   "id": "9ca34db7",
   "metadata": {},
   "outputs": [
    {
     "data": {
      "text/plain": [
       "int"
      ]
     },
     "execution_count": 46,
     "metadata": {},
     "output_type": "execute_result"
    }
   ],
   "source": [
    "type(100)"
   ]
  },
  {
   "cell_type": "code",
   "execution_count": 47,
   "id": "518aa66a",
   "metadata": {},
   "outputs": [
    {
     "data": {
      "text/plain": [
       "tuple"
      ]
     },
     "execution_count": 47,
     "metadata": {},
     "output_type": "execute_result"
    }
   ],
   "source": [
    "type((1,2,3))"
   ]
  },
  {
   "cell_type": "code",
   "execution_count": 48,
   "id": "81468dde",
   "metadata": {},
   "outputs": [],
   "source": [
    "l=[4,5,6,\"raji\",\"pavan\",3.2,True,4+2j]"
   ]
  },
  {
   "cell_type": "code",
   "execution_count": 49,
   "id": "644ed11b",
   "metadata": {},
   "outputs": [],
   "source": [
    "a=[1,2,3,4]"
   ]
  },
  {
   "cell_type": "code",
   "execution_count": 50,
   "id": "4f011f0c",
   "metadata": {},
   "outputs": [
    {
     "name": "stdout",
     "output_type": "stream",
     "text": [
      "1\n",
      "2\n",
      "3\n",
      "4\n"
     ]
    }
   ],
   "source": [
    "for i in a:\n",
    "    print(i)"
   ]
  },
  {
   "cell_type": "code",
   "execution_count": 51,
   "id": "6dce81bb",
   "metadata": {},
   "outputs": [
    {
     "name": "stdout",
     "output_type": "stream",
     "text": [
      "3\n",
      "4\n",
      "5\n",
      "6\n"
     ]
    }
   ],
   "source": [
    "for i in a:\n",
    "    print(i+2)"
   ]
  },
  {
   "cell_type": "code",
   "execution_count": 52,
   "id": "40e5d30e",
   "metadata": {},
   "outputs": [
    {
     "name": "stdout",
     "output_type": "stream",
     "text": [
      "[3, 4, 5, 6]\n"
     ]
    }
   ],
   "source": [
    "a1=[]\n",
    "for i in a:\n",
    "    a1.append(i+2)\n",
    "print(a1)"
   ]
  },
  {
   "cell_type": "code",
   "execution_count": 53,
   "id": "dbbf32e7",
   "metadata": {},
   "outputs": [
    {
     "name": "stdout",
     "output_type": "stream",
     "text": [
      "[3]\n",
      "[3, 4]\n",
      "[3, 4, 5]\n",
      "[3, 4, 5, 6]\n"
     ]
    }
   ],
   "source": [
    "a1=[] # this is wrong method\n",
    "for i in a:\n",
    "    a1.append(i+2)\n",
    "    print(a1)"
   ]
  },
  {
   "cell_type": "code",
   "execution_count": 54,
   "id": "043771b8",
   "metadata": {},
   "outputs": [
    {
     "data": {
      "text/plain": [
       "[4, 5, 6, 'raji', 'pavan', 3.2, True, (4+2j)]"
      ]
     },
     "execution_count": 54,
     "metadata": {},
     "output_type": "execute_result"
    }
   ],
   "source": [
    "l"
   ]
  },
  {
   "cell_type": "code",
   "execution_count": 55,
   "id": "9a528754",
   "metadata": {},
   "outputs": [],
   "source": [
    "b=[4, 5, 6,[1,2,3],(10,20,30), 'raji', 'pavan', 3.2, True, (4+2j)]"
   ]
  },
  {
   "cell_type": "code",
   "execution_count": 56,
   "id": "cbf2c7d4",
   "metadata": {},
   "outputs": [
    {
     "data": {
      "text/plain": [
       "[4, 5, 6, [1, 2, 3], (10, 20, 30), 'raji', 'pavan', 3.2, True, (4+2j)]"
      ]
     },
     "execution_count": 56,
     "metadata": {},
     "output_type": "execute_result"
    }
   ],
   "source": [
    "b"
   ]
  },
  {
   "cell_type": "code",
   "execution_count": 57,
   "id": "b0768fc3",
   "metadata": {},
   "outputs": [
    {
     "name": "stdout",
     "output_type": "stream",
     "text": [
      "4\n",
      "5\n",
      "6\n"
     ]
    }
   ],
   "source": [
    "for i in b:\n",
    "    if type(i)==int:\n",
    "        print(i)"
   ]
  },
  {
   "cell_type": "code",
   "execution_count": 59,
   "id": "082f46b9",
   "metadata": {},
   "outputs": [
    {
     "name": "stdout",
     "output_type": "stream",
     "text": [
      "1\n",
      "2\n",
      "3\n"
     ]
    }
   ],
   "source": [
    "for i in b:\n",
    "    if type(i)==list:\n",
    "        for j in i:\n",
    "            print(j)"
   ]
  },
  {
   "cell_type": "code",
   "execution_count": 60,
   "id": "4e5cf55c",
   "metadata": {},
   "outputs": [
    {
     "name": "stdout",
     "output_type": "stream",
     "text": [
      "10\n",
      "20\n",
      "30\n"
     ]
    }
   ],
   "source": [
    "for i in b:\n",
    "    if type(i)==tuple:\n",
    "        for j in i:\n",
    "            print(j)"
   ]
  },
  {
   "cell_type": "code",
   "execution_count": 61,
   "id": "8d24e946",
   "metadata": {},
   "outputs": [
    {
     "data": {
      "text/plain": [
       "[1, 2, 3, 4]"
      ]
     },
     "execution_count": 61,
     "metadata": {},
     "output_type": "execute_result"
    }
   ],
   "source": [
    "a"
   ]
  },
  {
   "cell_type": "code",
   "execution_count": 62,
   "id": "bc343aa8",
   "metadata": {},
   "outputs": [
    {
     "data": {
      "text/plain": [
       "[4, 5, 6, [1, 2, 3], (10, 20, 30), 'raji', 'pavan', 3.2, True, (4+2j)]"
      ]
     },
     "execution_count": 62,
     "metadata": {},
     "output_type": "execute_result"
    }
   ],
   "source": [
    "b"
   ]
  },
  {
   "cell_type": "code",
   "execution_count": 63,
   "id": "a192857a",
   "metadata": {},
   "outputs": [
    {
     "name": "stdout",
     "output_type": "stream",
     "text": [
      "4\n",
      "5\n",
      "6\n",
      "1\n",
      "2\n",
      "3\n",
      "10\n",
      "20\n",
      "30\n"
     ]
    }
   ],
   "source": [
    "for i in b:\n",
    "    if type(i)==int:\n",
    "        print(i)\n",
    "    elif type(i)==list:\n",
    "        for j in i:\n",
    "            print(j)\n",
    "    elif type(i)==tuple:\n",
    "        for k in i:\n",
    "            print(k)"
   ]
  },
  {
   "cell_type": "code",
   "execution_count": 64,
   "id": "de0aafec",
   "metadata": {},
   "outputs": [],
   "source": [
    "l = [2,45,78,12,12,12,12,\"sudh\" , 6+7j,[56,67,78,\"dsfdsf\"]]\n",
    "# try to print index of all the element \n",
    "# Try to extract all the list of char if element is string \n",
    "# Try to return a list after doing a square of all the int\n",
    "# element "
   ]
  },
  {
   "cell_type": "code",
   "execution_count": 65,
   "id": "59a7cb09",
   "metadata": {},
   "outputs": [
    {
     "data": {
      "text/plain": [
       "[2, 45, 78, 12, 12, 12, 12, 'sudh', (6+7j), [56, 67, 78, 'dsfdsf']]"
      ]
     },
     "execution_count": 65,
     "metadata": {},
     "output_type": "execute_result"
    }
   ],
   "source": [
    "l"
   ]
  },
  {
   "cell_type": "code",
   "execution_count": 66,
   "id": "ed4668d7",
   "metadata": {},
   "outputs": [
    {
     "name": "stdout",
     "output_type": "stream",
     "text": [
      "<class 'int'> type of 2\n",
      "<class 'int'> type of 45\n",
      "<class 'int'> type of 78\n",
      "<class 'int'> type of 12\n",
      "<class 'int'> type of 12\n",
      "<class 'int'> type of 12\n",
      "<class 'int'> type of 12\n",
      "<class 'str'> type of sudh\n",
      "<class 'complex'> type of (6+7j)\n",
      "<class 'list'> type of [56, 67, 78, 'dsfdsf']\n"
     ]
    }
   ],
   "source": [
    "for i in l:\n",
    "    print(type(i), \"type of\", i)"
   ]
  },
  {
   "cell_type": "code",
   "execution_count": 69,
   "id": "00ff9cd9",
   "metadata": {},
   "outputs": [
    {
     "data": {
      "text/plain": [
       "range(0, 10)"
      ]
     },
     "execution_count": 69,
     "metadata": {},
     "output_type": "execute_result"
    }
   ],
   "source": [
    "range(10)"
   ]
  },
  {
   "cell_type": "code",
   "execution_count": 71,
   "id": "9f83498c",
   "metadata": {},
   "outputs": [
    {
     "data": {
      "text/plain": [
       "range(0, 10)"
      ]
     },
     "execution_count": 71,
     "metadata": {},
     "output_type": "execute_result"
    }
   ],
   "source": [
    "range(0,10)"
   ]
  },
  {
   "cell_type": "code",
   "execution_count": 72,
   "id": "979ba172",
   "metadata": {},
   "outputs": [
    {
     "ename": "TypeError",
     "evalue": "object of type 'int' has no len()",
     "output_type": "error",
     "traceback": [
      "\u001b[1;31m---------------------------------------------------------------------------\u001b[0m",
      "\u001b[1;31mTypeError\u001b[0m                                 Traceback (most recent call last)",
      "\u001b[1;32m~\\AppData\\Local\\Temp/ipykernel_11372/3338265758.py\u001b[0m in \u001b[0;36m<module>\u001b[1;34m\u001b[0m\n\u001b[1;32m----> 1\u001b[1;33m \u001b[0mlen\u001b[0m\u001b[1;33m(\u001b[0m\u001b[1;36m10\u001b[0m\u001b[1;33m)\u001b[0m\u001b[1;33m\u001b[0m\u001b[1;33m\u001b[0m\u001b[0m\n\u001b[0m",
      "\u001b[1;31mTypeError\u001b[0m: object of type 'int' has no len()"
     ]
    }
   ],
   "source": [
    "len(10)"
   ]
  },
  {
   "cell_type": "code",
   "execution_count": 73,
   "id": "6d72167f",
   "metadata": {},
   "outputs": [
    {
     "data": {
      "text/plain": [
       "10"
      ]
     },
     "execution_count": 73,
     "metadata": {},
     "output_type": "execute_result"
    }
   ],
   "source": [
    "len(range(10))"
   ]
  },
  {
   "cell_type": "code",
   "execution_count": 75,
   "id": "1093ac0a",
   "metadata": {},
   "outputs": [
    {
     "name": "stdout",
     "output_type": "stream",
     "text": [
      "0\n",
      "1\n",
      "2\n",
      "3\n",
      "4\n",
      "5\n",
      "6\n",
      "7\n",
      "8\n",
      "9\n"
     ]
    }
   ],
   "source": [
    "for i in range(10):\n",
    "    print(i)"
   ]
  },
  {
   "cell_type": "code",
   "execution_count": 76,
   "id": "dcf76cc8",
   "metadata": {},
   "outputs": [
    {
     "data": {
      "text/plain": [
       "10"
      ]
     },
     "execution_count": 76,
     "metadata": {},
     "output_type": "execute_result"
    }
   ],
   "source": [
    "len(l)"
   ]
  },
  {
   "cell_type": "code",
   "execution_count": 78,
   "id": "2517d969",
   "metadata": {},
   "outputs": [
    {
     "name": "stdout",
     "output_type": "stream",
     "text": [
      "index of 2 is 0\n",
      "index of 45 is 1\n",
      "index of 78 is 2\n",
      "index of 12 is 3\n",
      "index of 12 is 4\n",
      "index of 12 is 5\n",
      "index of 12 is 6\n",
      "index of sudh is 7\n",
      "index of (6+7j) is 8\n",
      "index of [56, 67, 78, 'dsfdsf'] is 9\n"
     ]
    }
   ],
   "source": [
    "for i in range(len(l)):\n",
    "    print(\"index of\",l[i],\"is\",i)"
   ]
  },
  {
   "cell_type": "code",
   "execution_count": 79,
   "id": "6bbccdf0",
   "metadata": {},
   "outputs": [
    {
     "name": "stdout",
     "output_type": "stream",
     "text": [
      "0 2\n",
      "1 45\n",
      "2 78\n",
      "3 12\n",
      "4 12\n",
      "5 12\n",
      "6 12\n",
      "7 sudh\n",
      "8 (6+7j)\n",
      "9 [56, 67, 78, 'dsfdsf']\n"
     ]
    }
   ],
   "source": [
    "for i in range(len(l)):\n",
    "    print(i,l[i])"
   ]
  },
  {
   "cell_type": "code",
   "execution_count": 80,
   "id": "841e537c",
   "metadata": {},
   "outputs": [
    {
     "name": "stdout",
     "output_type": "stream",
     "text": [
      "(0, 2)\n",
      "(1, 45)\n",
      "(2, 78)\n",
      "(3, 12)\n",
      "(4, 12)\n",
      "(5, 12)\n",
      "(6, 12)\n",
      "(7, 'sudh')\n",
      "(8, (6+7j))\n",
      "(9, [56, 67, 78, 'dsfdsf'])\n"
     ]
    }
   ],
   "source": [
    "for i in enumerate(l):\n",
    "    print(i)"
   ]
  },
  {
   "cell_type": "code",
   "execution_count": 81,
   "id": "77797112",
   "metadata": {},
   "outputs": [
    {
     "name": "stdout",
     "output_type": "stream",
     "text": [
      "0 2\n",
      "1 45\n",
      "2 78\n",
      "3 12\n",
      "4 12\n",
      "5 12\n",
      "6 12\n",
      "7 sudh\n",
      "8 (6+7j)\n",
      "9 [56, 67, 78, 'dsfdsf']\n"
     ]
    }
   ],
   "source": [
    "for i,j in enumerate(l):\n",
    "    print(i,j)"
   ]
  },
  {
   "cell_type": "code",
   "execution_count": 82,
   "id": "c0324579",
   "metadata": {},
   "outputs": [
    {
     "data": {
      "text/plain": [
       "[2, 45, 78, 12, 12, 12, 12, 'sudh', (6+7j), [56, 67, 78, 'dsfdsf']]"
      ]
     },
     "execution_count": 82,
     "metadata": {},
     "output_type": "execute_result"
    }
   ],
   "source": [
    "l"
   ]
  },
  {
   "cell_type": "code",
   "execution_count": 83,
   "id": "f6e4797e",
   "metadata": {},
   "outputs": [
    {
     "name": "stdout",
     "output_type": "stream",
     "text": [
      "['s', 'u', 'd', 'h']\n"
     ]
    }
   ],
   "source": [
    "for i in l:\n",
    "    if type(i)==str:\n",
    "        l1=[]\n",
    "        for j in i:\n",
    "            l1.append(j)\n",
    "        print(l1)"
   ]
  },
  {
   "cell_type": "code",
   "execution_count": 84,
   "id": "b0e29874",
   "metadata": {},
   "outputs": [
    {
     "name": "stdout",
     "output_type": "stream",
     "text": [
      "['s']\n",
      "['s', 'u']\n",
      "['s', 'u', 'd']\n",
      "['s', 'u', 'd', 'h']\n"
     ]
    }
   ],
   "source": [
    "for i in l:# not correct\n",
    "    if type(i)==str:\n",
    "        l1=[]\n",
    "        for j in i:\n",
    "            l1.append(j)\n",
    "            print(l1)"
   ]
  },
  {
   "cell_type": "code",
   "execution_count": 85,
   "id": "e406cf0c",
   "metadata": {},
   "outputs": [],
   "source": [
    "a=[\"raji\",\"pavan\",\"sanvi\",\"seivi\"]"
   ]
  },
  {
   "cell_type": "code",
   "execution_count": 86,
   "id": "a1ca0833",
   "metadata": {},
   "outputs": [
    {
     "name": "stdout",
     "output_type": "stream",
     "text": [
      "['r', 'a', 'j', 'i']\n",
      "['p', 'a', 'v', 'a', 'n']\n",
      "['s', 'a', 'n', 'v', 'i']\n",
      "['s', 'e', 'i', 'v', 'i']\n"
     ]
    }
   ],
   "source": [
    "for i in a:\n",
    "    if type(i)==str:\n",
    "        a1=[]\n",
    "        for j in i:\n",
    "            a1.append(j)\n",
    "        print(a1)"
   ]
  },
  {
   "cell_type": "code",
   "execution_count": 87,
   "id": "ec2de158",
   "metadata": {},
   "outputs": [],
   "source": [
    "a=[\"raji\",\"pavan\",\"sanvi\",\"seivi\",10,2,3,4,[10,20,30]]"
   ]
  },
  {
   "cell_type": "code",
   "execution_count": 88,
   "id": "16ecf0be",
   "metadata": {},
   "outputs": [
    {
     "data": {
      "text/plain": [
       "['raji', 'pavan', 'sanvi', 'seivi', 10, 2, 3, 4, [10, 20, 30]]"
      ]
     },
     "execution_count": 88,
     "metadata": {},
     "output_type": "execute_result"
    }
   ],
   "source": [
    "a"
   ]
  },
  {
   "cell_type": "code",
   "execution_count": 89,
   "id": "8cbbca11",
   "metadata": {},
   "outputs": [
    {
     "name": "stdout",
     "output_type": "stream",
     "text": [
      "100\n",
      "4\n",
      "9\n",
      "16\n"
     ]
    }
   ],
   "source": [
    "for i in a:\n",
    "    if type(i)==int:\n",
    "        print(i**2)"
   ]
  },
  {
   "cell_type": "code",
   "execution_count": 96,
   "id": "5ce98161",
   "metadata": {},
   "outputs": [
    {
     "name": "stdout",
     "output_type": "stream",
     "text": [
      "[100, 4, 9, 16]\n"
     ]
    }
   ],
   "source": [
    "a2=[]\n",
    "for i in a:\n",
    "    if type(i)==int:\n",
    "        a2.append(i**2)\n",
    "print(a2)   \n",
    "    "
   ]
  },
  {
   "cell_type": "code",
   "execution_count": 98,
   "id": "250727bb",
   "metadata": {},
   "outputs": [
    {
     "ename": "TypeError",
     "evalue": "string indices must be integers",
     "output_type": "error",
     "traceback": [
      "\u001b[1;31m---------------------------------------------------------------------------\u001b[0m",
      "\u001b[1;31mTypeError\u001b[0m                                 Traceback (most recent call last)",
      "\u001b[1;32m~\\AppData\\Local\\Temp/ipykernel_11372/3616514007.py\u001b[0m in \u001b[0;36m<module>\u001b[1;34m\u001b[0m\n\u001b[0;32m      2\u001b[0m \u001b[1;32mfor\u001b[0m \u001b[0mi\u001b[0m \u001b[1;32min\u001b[0m \u001b[0ms\u001b[0m\u001b[1;33m:\u001b[0m\u001b[1;33m\u001b[0m\u001b[1;33m\u001b[0m\u001b[0m\n\u001b[0;32m      3\u001b[0m     \u001b[1;32mif\u001b[0m  \u001b[0mtype\u001b[0m\u001b[1;33m(\u001b[0m\u001b[0ms\u001b[0m\u001b[1;33m)\u001b[0m\u001b[1;33m==\u001b[0m\u001b[0mstr\u001b[0m\u001b[1;33m:\u001b[0m\u001b[1;33m\u001b[0m\u001b[1;33m\u001b[0m\u001b[0m\n\u001b[1;32m----> 4\u001b[1;33m         \u001b[0mprint\u001b[0m\u001b[1;33m(\u001b[0m\u001b[1;34m\"index is\"\u001b[0m\u001b[1;33m,\u001b[0m\u001b[0mi\u001b[0m\u001b[1;33m,\u001b[0m\u001b[1;34m\"for\"\u001b[0m\u001b[1;33m,\u001b[0m\u001b[0ms\u001b[0m\u001b[1;33m[\u001b[0m\u001b[0mi\u001b[0m\u001b[1;33m]\u001b[0m\u001b[1;33m)\u001b[0m\u001b[1;33m\u001b[0m\u001b[1;33m\u001b[0m\u001b[0m\n\u001b[0m",
      "\u001b[1;31mTypeError\u001b[0m: string indices must be integers"
     ]
    }
   ],
   "source": [
    "s=\"pavankumar\"\n",
    "for i in s:\n",
    "    if  type(s)==str:\n",
    "        print(\"index is\",i,\"for\",s[i])"
   ]
  },
  {
   "cell_type": "code",
   "execution_count": 99,
   "id": "c8260875",
   "metadata": {},
   "outputs": [],
   "source": [
    "s=\"pavankumar\""
   ]
  },
  {
   "cell_type": "code",
   "execution_count": 100,
   "id": "e62e95af",
   "metadata": {},
   "outputs": [
    {
     "data": {
      "text/plain": [
       "10"
      ]
     },
     "execution_count": 100,
     "metadata": {},
     "output_type": "execute_result"
    }
   ],
   "source": [
    "len(s)"
   ]
  },
  {
   "cell_type": "code",
   "execution_count": 106,
   "id": "b2e5045c",
   "metadata": {},
   "outputs": [
    {
     "name": "stdout",
     "output_type": "stream",
     "text": [
      "p\n",
      "a\n",
      "v\n",
      "a\n",
      "n\n",
      "k\n",
      "u\n",
      "m\n",
      "a\n",
      "r\n"
     ]
    }
   ],
   "source": [
    "for i in range(len(s)):\n",
    "    print(s[i])\n",
    "               "
   ]
  },
  {
   "cell_type": "code",
   "execution_count": 116,
   "id": "a7afbea4",
   "metadata": {},
   "outputs": [
    {
     "name": "stdout",
     "output_type": "stream",
     "text": [
      "p\n",
      "r\n",
      "a\n",
      "m\n",
      "u\n",
      "k\n",
      "n\n",
      "a\n",
      "v\n",
      "a\n"
     ]
    }
   ],
   "source": [
    "for i in range(len(s)):\n",
    "    print(s[-i])"
   ]
  },
  {
   "cell_type": "code",
   "execution_count": 117,
   "id": "4a064729",
   "metadata": {},
   "outputs": [
    {
     "data": {
      "text/plain": [
       "'this is mentioned as a docstring'"
      ]
     },
     "execution_count": 117,
     "metadata": {},
     "output_type": "execute_result"
    }
   ],
   "source": [
    "\"\"\"this is mentioned as a docstring\"\"\""
   ]
  },
  {
   "cell_type": "code",
   "execution_count": null,
   "id": "54800284",
   "metadata": {},
   "outputs": [],
   "source": []
  }
 ],
 "metadata": {
  "kernelspec": {
   "display_name": "Python 3 (ipykernel)",
   "language": "python",
   "name": "python3"
  },
  "language_info": {
   "codemirror_mode": {
    "name": "ipython",
    "version": 3
   },
   "file_extension": ".py",
   "mimetype": "text/x-python",
   "name": "python",
   "nbconvert_exporter": "python",
   "pygments_lexer": "ipython3",
   "version": "3.9.7"
  }
 },
 "nbformat": 4,
 "nbformat_minor": 5
}
