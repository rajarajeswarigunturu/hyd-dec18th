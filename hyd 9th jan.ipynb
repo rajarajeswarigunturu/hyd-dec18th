{
 "cells": [
  {
   "cell_type": "code",
   "execution_count": 1,
   "id": "6928e347",
   "metadata": {},
   "outputs": [],
   "source": [
    "# generator"
   ]
  },
  {
   "cell_type": "code",
   "execution_count": 2,
   "id": "0fc974e0",
   "metadata": {},
   "outputs": [],
   "source": [
    "# An iterator is an object that contains a countable\n",
    "# number of values.\n",
    "# iterator is an object that you can traverse \n",
    "# through all the values.\n",
    "#an iterator is an object which implements the iterator protocol, which consist of the \n",
    "# methods __iter__() and __next__()"
   ]
  },
  {
   "cell_type": "code",
   "execution_count": 3,
   "id": "2f2c7184",
   "metadata": {},
   "outputs": [],
   "source": [
    "# __init__(), function allows you to do some initializing \n",
    "# when the object is being created.\n",
    "\n",
    "# __iter__() method acts similar, you can do operations (initializing etc.), \n",
    "# but must always return the iterator object itself.\n",
    "\n",
    "#__next__() method also allows you to do operations, and must \n",
    "# return the next item in the sequence."
   ]
  },
  {
   "cell_type": "code",
   "execution_count": 4,
   "id": "57314ee8",
   "metadata": {},
   "outputs": [],
   "source": [
    "s=\"raji\""
   ]
  },
  {
   "cell_type": "code",
   "execution_count": 5,
   "id": "6a7f7880",
   "metadata": {},
   "outputs": [
    {
     "ename": "TypeError",
     "evalue": "'str' object is not an iterator",
     "output_type": "error",
     "traceback": [
      "\u001b[1;31m---------------------------------------------------------------------------\u001b[0m",
      "\u001b[1;31mTypeError\u001b[0m                                 Traceback (most recent call last)",
      "\u001b[1;32m~\\AppData\\Local\\Temp/ipykernel_41792/1977886155.py\u001b[0m in \u001b[0;36m<module>\u001b[1;34m\u001b[0m\n\u001b[1;32m----> 1\u001b[1;33m \u001b[0mnext\u001b[0m\u001b[1;33m(\u001b[0m\u001b[0ms\u001b[0m\u001b[1;33m)\u001b[0m\u001b[1;33m\u001b[0m\u001b[1;33m\u001b[0m\u001b[0m\n\u001b[0m",
      "\u001b[1;31mTypeError\u001b[0m: 'str' object is not an iterator"
     ]
    }
   ],
   "source": [
    "next(s)"
   ]
  },
  {
   "cell_type": "code",
   "execution_count": 6,
   "id": "e66edc76",
   "metadata": {},
   "outputs": [],
   "source": [
    "s=iter(s)"
   ]
  },
  {
   "cell_type": "code",
   "execution_count": 7,
   "id": "d8f43446",
   "metadata": {},
   "outputs": [
    {
     "data": {
      "text/plain": [
       "'r'"
      ]
     },
     "execution_count": 7,
     "metadata": {},
     "output_type": "execute_result"
    }
   ],
   "source": [
    "next(s)"
   ]
  },
  {
   "cell_type": "code",
   "execution_count": 8,
   "id": "9d89a614",
   "metadata": {},
   "outputs": [
    {
     "data": {
      "text/plain": [
       "'a'"
      ]
     },
     "execution_count": 8,
     "metadata": {},
     "output_type": "execute_result"
    }
   ],
   "source": [
    "next(s)"
   ]
  },
  {
   "cell_type": "code",
   "execution_count": 9,
   "id": "d91003a2",
   "metadata": {},
   "outputs": [
    {
     "data": {
      "text/plain": [
       "'j'"
      ]
     },
     "execution_count": 9,
     "metadata": {},
     "output_type": "execute_result"
    }
   ],
   "source": [
    "next(s)"
   ]
  },
  {
   "cell_type": "code",
   "execution_count": 10,
   "id": "e9246b61",
   "metadata": {},
   "outputs": [
    {
     "data": {
      "text/plain": [
       "'i'"
      ]
     },
     "execution_count": 10,
     "metadata": {},
     "output_type": "execute_result"
    }
   ],
   "source": [
    "next(s)"
   ]
  },
  {
   "cell_type": "code",
   "execution_count": 11,
   "id": "0ef6d018",
   "metadata": {},
   "outputs": [
    {
     "ename": "StopIteration",
     "evalue": "",
     "output_type": "error",
     "traceback": [
      "\u001b[1;31m---------------------------------------------------------------------------\u001b[0m",
      "\u001b[1;31mStopIteration\u001b[0m                             Traceback (most recent call last)",
      "\u001b[1;32m~\\AppData\\Local\\Temp/ipykernel_41792/1977886155.py\u001b[0m in \u001b[0;36m<module>\u001b[1;34m\u001b[0m\n\u001b[1;32m----> 1\u001b[1;33m \u001b[0mnext\u001b[0m\u001b[1;33m(\u001b[0m\u001b[0ms\u001b[0m\u001b[1;33m)\u001b[0m\u001b[1;33m\u001b[0m\u001b[1;33m\u001b[0m\u001b[0m\n\u001b[0m",
      "\u001b[1;31mStopIteration\u001b[0m: "
     ]
    }
   ],
   "source": [
    "next(s)"
   ]
  },
  {
   "cell_type": "code",
   "execution_count": 12,
   "id": "86c3381d",
   "metadata": {},
   "outputs": [],
   "source": [
    "l=[1,2,3]"
   ]
  },
  {
   "cell_type": "code",
   "execution_count": 13,
   "id": "9ed8e4db",
   "metadata": {},
   "outputs": [
    {
     "ename": "TypeError",
     "evalue": "'list' object is not an iterator",
     "output_type": "error",
     "traceback": [
      "\u001b[1;31m---------------------------------------------------------------------------\u001b[0m",
      "\u001b[1;31mTypeError\u001b[0m                                 Traceback (most recent call last)",
      "\u001b[1;32m~\\AppData\\Local\\Temp/ipykernel_41792/2016234150.py\u001b[0m in \u001b[0;36m<module>\u001b[1;34m\u001b[0m\n\u001b[1;32m----> 1\u001b[1;33m \u001b[0mnext\u001b[0m\u001b[1;33m(\u001b[0m\u001b[0ml\u001b[0m\u001b[1;33m)\u001b[0m\u001b[1;33m\u001b[0m\u001b[1;33m\u001b[0m\u001b[0m\n\u001b[0m",
      "\u001b[1;31mTypeError\u001b[0m: 'list' object is not an iterator"
     ]
    }
   ],
   "source": [
    "next(l)"
   ]
  },
  {
   "cell_type": "code",
   "execution_count": 14,
   "id": "d38d3703",
   "metadata": {},
   "outputs": [],
   "source": [
    "l=iter(l)"
   ]
  },
  {
   "cell_type": "code",
   "execution_count": 15,
   "id": "fd78a6ee",
   "metadata": {},
   "outputs": [
    {
     "data": {
      "text/plain": [
       "1"
      ]
     },
     "execution_count": 15,
     "metadata": {},
     "output_type": "execute_result"
    }
   ],
   "source": [
    "next(l)"
   ]
  },
  {
   "cell_type": "code",
   "execution_count": 16,
   "id": "6ecfea03",
   "metadata": {},
   "outputs": [
    {
     "data": {
      "text/plain": [
       "2"
      ]
     },
     "execution_count": 16,
     "metadata": {},
     "output_type": "execute_result"
    }
   ],
   "source": [
    "next(l)"
   ]
  },
  {
   "cell_type": "code",
   "execution_count": 17,
   "id": "fe803999",
   "metadata": {},
   "outputs": [
    {
     "data": {
      "text/plain": [
       "3"
      ]
     },
     "execution_count": 17,
     "metadata": {},
     "output_type": "execute_result"
    }
   ],
   "source": [
    "next(l)"
   ]
  },
  {
   "cell_type": "code",
   "execution_count": 18,
   "id": "190e9b62",
   "metadata": {},
   "outputs": [
    {
     "ename": "StopIteration",
     "evalue": "",
     "output_type": "error",
     "traceback": [
      "\u001b[1;31m---------------------------------------------------------------------------\u001b[0m",
      "\u001b[1;31mStopIteration\u001b[0m                             Traceback (most recent call last)",
      "\u001b[1;32m~\\AppData\\Local\\Temp/ipykernel_41792/2016234150.py\u001b[0m in \u001b[0;36m<module>\u001b[1;34m\u001b[0m\n\u001b[1;32m----> 1\u001b[1;33m \u001b[0mnext\u001b[0m\u001b[1;33m(\u001b[0m\u001b[0ml\u001b[0m\u001b[1;33m)\u001b[0m\u001b[1;33m\u001b[0m\u001b[1;33m\u001b[0m\u001b[0m\n\u001b[0m",
      "\u001b[1;31mStopIteration\u001b[0m: "
     ]
    }
   ],
   "source": [
    "next(l)"
   ]
  },
  {
   "cell_type": "code",
   "execution_count": 19,
   "id": "84f2f164",
   "metadata": {},
   "outputs": [],
   "source": [
    "s=range(6)"
   ]
  },
  {
   "cell_type": "code",
   "execution_count": 20,
   "id": "634000e6",
   "metadata": {},
   "outputs": [
    {
     "ename": "TypeError",
     "evalue": "'range' object is not an iterator",
     "output_type": "error",
     "traceback": [
      "\u001b[1;31m---------------------------------------------------------------------------\u001b[0m",
      "\u001b[1;31mTypeError\u001b[0m                                 Traceback (most recent call last)",
      "\u001b[1;32m~\\AppData\\Local\\Temp/ipykernel_41792/1977886155.py\u001b[0m in \u001b[0;36m<module>\u001b[1;34m\u001b[0m\n\u001b[1;32m----> 1\u001b[1;33m \u001b[0mnext\u001b[0m\u001b[1;33m(\u001b[0m\u001b[0ms\u001b[0m\u001b[1;33m)\u001b[0m\u001b[1;33m\u001b[0m\u001b[1;33m\u001b[0m\u001b[0m\n\u001b[0m",
      "\u001b[1;31mTypeError\u001b[0m: 'range' object is not an iterator"
     ]
    }
   ],
   "source": [
    "next(s)"
   ]
  },
  {
   "cell_type": "code",
   "execution_count": 21,
   "id": "71525dce",
   "metadata": {},
   "outputs": [],
   "source": [
    "s=iter(s)"
   ]
  },
  {
   "cell_type": "code",
   "execution_count": 22,
   "id": "b4deb82c",
   "metadata": {},
   "outputs": [
    {
     "data": {
      "text/plain": [
       "0"
      ]
     },
     "execution_count": 22,
     "metadata": {},
     "output_type": "execute_result"
    }
   ],
   "source": [
    "next(s)"
   ]
  },
  {
   "cell_type": "code",
   "execution_count": 23,
   "id": "4a79dbcb",
   "metadata": {},
   "outputs": [
    {
     "data": {
      "text/plain": [
       "1"
      ]
     },
     "execution_count": 23,
     "metadata": {},
     "output_type": "execute_result"
    }
   ],
   "source": [
    "next(s)"
   ]
  },
  {
   "cell_type": "code",
   "execution_count": 24,
   "id": "5b6d9093",
   "metadata": {},
   "outputs": [
    {
     "data": {
      "text/plain": [
       "2"
      ]
     },
     "execution_count": 24,
     "metadata": {},
     "output_type": "execute_result"
    }
   ],
   "source": [
    "next(s)"
   ]
  },
  {
   "cell_type": "code",
   "execution_count": 25,
   "id": "ac09711f",
   "metadata": {},
   "outputs": [
    {
     "data": {
      "text/plain": [
       "3"
      ]
     },
     "execution_count": 25,
     "metadata": {},
     "output_type": "execute_result"
    }
   ],
   "source": [
    "next(s)"
   ]
  },
  {
   "cell_type": "code",
   "execution_count": 26,
   "id": "fc4b5090",
   "metadata": {},
   "outputs": [
    {
     "data": {
      "text/plain": [
       "4"
      ]
     },
     "execution_count": 26,
     "metadata": {},
     "output_type": "execute_result"
    }
   ],
   "source": [
    "next(s)"
   ]
  },
  {
   "cell_type": "code",
   "execution_count": 27,
   "id": "559783c9",
   "metadata": {},
   "outputs": [
    {
     "data": {
      "text/plain": [
       "5"
      ]
     },
     "execution_count": 27,
     "metadata": {},
     "output_type": "execute_result"
    }
   ],
   "source": [
    "next(s)"
   ]
  },
  {
   "cell_type": "code",
   "execution_count": 28,
   "id": "3744d0c6",
   "metadata": {},
   "outputs": [
    {
     "ename": "StopIteration",
     "evalue": "",
     "output_type": "error",
     "traceback": [
      "\u001b[1;31m---------------------------------------------------------------------------\u001b[0m",
      "\u001b[1;31mStopIteration\u001b[0m                             Traceback (most recent call last)",
      "\u001b[1;32m~\\AppData\\Local\\Temp/ipykernel_41792/1977886155.py\u001b[0m in \u001b[0;36m<module>\u001b[1;34m\u001b[0m\n\u001b[1;32m----> 1\u001b[1;33m \u001b[0mnext\u001b[0m\u001b[1;33m(\u001b[0m\u001b[0ms\u001b[0m\u001b[1;33m)\u001b[0m\u001b[1;33m\u001b[0m\u001b[1;33m\u001b[0m\u001b[0m\n\u001b[0m",
      "\u001b[1;31mStopIteration\u001b[0m: "
     ]
    }
   ],
   "source": [
    "next(s)"
   ]
  },
  {
   "cell_type": "code",
   "execution_count": 29,
   "id": "76fe610f",
   "metadata": {},
   "outputs": [],
   "source": [
    "a=56"
   ]
  },
  {
   "cell_type": "code",
   "execution_count": 30,
   "id": "79a250f3",
   "metadata": {},
   "outputs": [
    {
     "ename": "TypeError",
     "evalue": "'int' object is not an iterator",
     "output_type": "error",
     "traceback": [
      "\u001b[1;31m---------------------------------------------------------------------------\u001b[0m",
      "\u001b[1;31mTypeError\u001b[0m                                 Traceback (most recent call last)",
      "\u001b[1;32m~\\AppData\\Local\\Temp/ipykernel_41792/1242322984.py\u001b[0m in \u001b[0;36m<module>\u001b[1;34m\u001b[0m\n\u001b[1;32m----> 1\u001b[1;33m \u001b[0mnext\u001b[0m\u001b[1;33m(\u001b[0m\u001b[0ma\u001b[0m\u001b[1;33m)\u001b[0m\u001b[1;33m\u001b[0m\u001b[1;33m\u001b[0m\u001b[0m\n\u001b[0m",
      "\u001b[1;31mTypeError\u001b[0m: 'int' object is not an iterator"
     ]
    }
   ],
   "source": [
    "next(a)"
   ]
  },
  {
   "cell_type": "code",
   "execution_count": 31,
   "id": "3fb63735",
   "metadata": {},
   "outputs": [
    {
     "ename": "TypeError",
     "evalue": "'int' object is not iterable",
     "output_type": "error",
     "traceback": [
      "\u001b[1;31m---------------------------------------------------------------------------\u001b[0m",
      "\u001b[1;31mTypeError\u001b[0m                                 Traceback (most recent call last)",
      "\u001b[1;32m~\\AppData\\Local\\Temp/ipykernel_41792/3390596645.py\u001b[0m in \u001b[0;36m<module>\u001b[1;34m\u001b[0m\n\u001b[1;32m----> 1\u001b[1;33m \u001b[0ma\u001b[0m\u001b[1;33m=\u001b[0m\u001b[0miter\u001b[0m\u001b[1;33m(\u001b[0m\u001b[0ma\u001b[0m\u001b[1;33m)\u001b[0m\u001b[1;33m\u001b[0m\u001b[1;33m\u001b[0m\u001b[0m\n\u001b[0m",
      "\u001b[1;31mTypeError\u001b[0m: 'int' object is not iterable"
     ]
    }
   ],
   "source": [
    "a=iter(a)"
   ]
  },
  {
   "cell_type": "code",
   "execution_count": 32,
   "id": "6251592f",
   "metadata": {},
   "outputs": [],
   "source": [
    "#a generator is a function that returns an iterator \n",
    "#that produces a sequence of values when iterated over.\n",
    "\n",
    "#Generators are useful when we want to produce a\n",
    "#large sequence of values, but we don't want to\n",
    "#store all of them in memory at once."
   ]
  },
  {
   "cell_type": "code",
   "execution_count": 33,
   "id": "7785097b",
   "metadata": {},
   "outputs": [
    {
     "data": {
      "text/plain": [
       "range(0, 45)"
      ]
     },
     "execution_count": 33,
     "metadata": {},
     "output_type": "execute_result"
    }
   ],
   "source": [
    "range(45)"
   ]
  },
  {
   "cell_type": "code",
   "execution_count": 34,
   "id": "159067a2",
   "metadata": {},
   "outputs": [],
   "source": [
    "# someone has created a logic for range function"
   ]
  },
  {
   "cell_type": "code",
   "execution_count": 35,
   "id": "4b83658b",
   "metadata": {},
   "outputs": [
    {
     "data": {
      "text/plain": [
       "[0, 3, 6, 9, 12, 15, 18, 21, 24, 27, 30, 33, 36, 39, 42]"
      ]
     },
     "execution_count": 35,
     "metadata": {},
     "output_type": "execute_result"
    }
   ],
   "source": [
    "list(range(0,45,3))"
   ]
  },
  {
   "cell_type": "code",
   "execution_count": 42,
   "id": "f4fffe00",
   "metadata": {},
   "outputs": [],
   "source": [
    "def gencube(n):\n",
    "    l=[]\n",
    "    for i in range(n):\n",
    "        l.append(i**3)\n",
    "    return l"
   ]
  },
  {
   "cell_type": "code",
   "execution_count": 43,
   "id": "f31745f7",
   "metadata": {},
   "outputs": [
    {
     "data": {
      "text/plain": [
       "[0, 1, 8, 27, 64, 125]"
      ]
     },
     "execution_count": 43,
     "metadata": {},
     "output_type": "execute_result"
    }
   ],
   "source": [
    "gencube(6)"
   ]
  },
  {
   "cell_type": "code",
   "execution_count": 44,
   "id": "b809735b",
   "metadata": {},
   "outputs": [],
   "source": [
    "# gencube(60000000000)"
   ]
  },
  {
   "cell_type": "code",
   "execution_count": 45,
   "id": "4dda2379",
   "metadata": {},
   "outputs": [],
   "source": [
    "# range generates an object and uses ir"
   ]
  },
  {
   "cell_type": "code",
   "execution_count": 47,
   "id": "2f6466ca",
   "metadata": {},
   "outputs": [
    {
     "name": "stdout",
     "output_type": "stream",
     "text": [
      "0\n",
      "1\n",
      "2\n",
      "3\n",
      "4\n",
      "5\n",
      "6\n",
      "7\n",
      "8\n",
      "9\n",
      "10\n",
      "11\n",
      "12\n",
      "13\n",
      "14\n",
      "15\n",
      "16\n",
      "17\n",
      "18\n",
      "19\n",
      "20\n",
      "21\n",
      "22\n",
      "23\n",
      "24\n",
      "25\n",
      "26\n",
      "27\n",
      "28\n",
      "29\n",
      "30\n",
      "31\n",
      "32\n",
      "33\n",
      "34\n",
      "35\n",
      "36\n",
      "37\n",
      "38\n",
      "39\n",
      "40\n",
      "41\n",
      "42\n",
      "43\n",
      "44\n",
      "45\n",
      "46\n",
      "47\n",
      "48\n",
      "49\n",
      "50\n",
      "51\n",
      "52\n",
      "53\n",
      "54\n",
      "55\n",
      "56\n",
      "57\n",
      "58\n",
      "59\n",
      "60\n",
      "61\n",
      "62\n",
      "63\n",
      "64\n",
      "65\n",
      "66\n",
      "67\n",
      "68\n",
      "69\n",
      "70\n",
      "71\n",
      "72\n",
      "73\n",
      "74\n",
      "75\n",
      "76\n",
      "77\n",
      "78\n",
      "79\n",
      "80\n",
      "81\n",
      "82\n",
      "83\n",
      "84\n",
      "85\n",
      "86\n",
      "87\n",
      "88\n",
      "89\n",
      "90\n",
      "91\n",
      "92\n",
      "93\n",
      "94\n",
      "95\n",
      "96\n",
      "97\n",
      "98\n",
      "99\n"
     ]
    }
   ],
   "source": [
    "for i in range(100):\n",
    "    print(i)"
   ]
  },
  {
   "cell_type": "code",
   "execution_count": 48,
   "id": "d1b666b2",
   "metadata": {},
   "outputs": [],
   "source": [
    "def gencube(n):\n",
    "    for i in range(n):\n",
    "        yield i**3"
   ]
  },
  {
   "cell_type": "code",
   "execution_count": 49,
   "id": "d8c4a14d",
   "metadata": {},
   "outputs": [],
   "source": [
    "# yield converts a function into a generator"
   ]
  },
  {
   "cell_type": "code",
   "execution_count": 50,
   "id": "8b219345",
   "metadata": {},
   "outputs": [
    {
     "data": {
      "text/plain": [
       "<generator object gencube at 0x0000025C24A014A0>"
      ]
     },
     "execution_count": 50,
     "metadata": {},
     "output_type": "execute_result"
    }
   ],
   "source": [
    "gencube(10)"
   ]
  },
  {
   "cell_type": "code",
   "execution_count": 51,
   "id": "9048f03b",
   "metadata": {},
   "outputs": [
    {
     "name": "stdout",
     "output_type": "stream",
     "text": [
      "0\n",
      "1\n",
      "8\n",
      "27\n",
      "64\n",
      "125\n",
      "216\n",
      "343\n",
      "512\n"
     ]
    }
   ],
   "source": [
    "for i in gencube(9):\n",
    "    print(i)"
   ]
  },
  {
   "cell_type": "code",
   "execution_count": 53,
   "id": "348f57f9",
   "metadata": {},
   "outputs": [],
   "source": [
    "# yield does what i have produced last time\n",
    "# and logic and where to stop"
   ]
  },
  {
   "cell_type": "code",
   "execution_count": 54,
   "id": "900be3e7",
   "metadata": {},
   "outputs": [],
   "source": [
    "# yield helps internally in memory management"
   ]
  },
  {
   "cell_type": "code",
   "execution_count": 55,
   "id": "9a3f8ab0",
   "metadata": {},
   "outputs": [],
   "source": [
    "#fibonacci sequence"
   ]
  },
  {
   "cell_type": "code",
   "execution_count": 59,
   "id": "e2b58bd2",
   "metadata": {},
   "outputs": [],
   "source": [
    "def fibnum(n):\n",
    "    a=1\n",
    "    b=1\n",
    "    for i in range(n):\n",
    "        yield a,i\n",
    "        a,b=b,a+b"
   ]
  },
  {
   "cell_type": "code",
   "execution_count": 60,
   "id": "4c3bee4a",
   "metadata": {},
   "outputs": [
    {
     "data": {
      "text/plain": [
       "<generator object fibnum at 0x0000025C24A06120>"
      ]
     },
     "execution_count": 60,
     "metadata": {},
     "output_type": "execute_result"
    }
   ],
   "source": [
    "fibnum(10)"
   ]
  },
  {
   "cell_type": "code",
   "execution_count": 61,
   "id": "e51ca5fe",
   "metadata": {},
   "outputs": [
    {
     "name": "stdout",
     "output_type": "stream",
     "text": [
      "(1, 0)\n",
      "(1, 1)\n",
      "(2, 2)\n",
      "(3, 3)\n",
      "(5, 4)\n",
      "(8, 5)\n",
      "(13, 6)\n",
      "(21, 7)\n",
      "(34, 8)\n",
      "(55, 9)\n"
     ]
    }
   ],
   "source": [
    "for i in fibnum(10):\n",
    "    print(i)"
   ]
  },
  {
   "cell_type": "code",
   "execution_count": 66,
   "id": "4d2cb333",
   "metadata": {},
   "outputs": [],
   "source": [
    "def fibnum(n):\n",
    "    a=1\n",
    "    b=1\n",
    "    output=[]\n",
    "    for i in range(n):\n",
    "        output.append(i)\n",
    "        a,b=b,a+b\n",
    "    return output\n",
    "        "
   ]
  },
  {
   "cell_type": "code",
   "execution_count": 65,
   "id": "90915706",
   "metadata": {},
   "outputs": [
    {
     "ename": "TypeError",
     "evalue": "'list' object is not callable",
     "output_type": "error",
     "traceback": [
      "\u001b[1;31m---------------------------------------------------------------------------\u001b[0m",
      "\u001b[1;31mTypeError\u001b[0m                                 Traceback (most recent call last)",
      "\u001b[1;32m~\\AppData\\Local\\Temp/ipykernel_41792/1350869546.py\u001b[0m in \u001b[0;36m<module>\u001b[1;34m\u001b[0m\n\u001b[1;32m----> 1\u001b[1;33m \u001b[0mfibnum\u001b[0m\u001b[1;33m(\u001b[0m\u001b[1;36m10\u001b[0m\u001b[1;33m)\u001b[0m\u001b[1;33m\u001b[0m\u001b[1;33m\u001b[0m\u001b[0m\n\u001b[0m",
      "\u001b[1;32m~\\AppData\\Local\\Temp/ipykernel_41792/588558421.py\u001b[0m in \u001b[0;36mfibnum\u001b[1;34m(n)\u001b[0m\n\u001b[0;32m      6\u001b[0m         \u001b[0moutput\u001b[0m\u001b[1;33m.\u001b[0m\u001b[0mappend\u001b[0m\u001b[1;33m(\u001b[0m\u001b[0mi\u001b[0m\u001b[1;33m)\u001b[0m\u001b[1;33m\u001b[0m\u001b[1;33m\u001b[0m\u001b[0m\n\u001b[0;32m      7\u001b[0m         \u001b[0ma\u001b[0m\u001b[1;33m,\u001b[0m\u001b[0mb\u001b[0m\u001b[1;33m=\u001b[0m\u001b[0mb\u001b[0m\u001b[1;33m,\u001b[0m\u001b[0ma\u001b[0m\u001b[1;33m+\u001b[0m\u001b[0mb\u001b[0m\u001b[1;33m\u001b[0m\u001b[1;33m\u001b[0m\u001b[0m\n\u001b[1;32m----> 8\u001b[1;33m     \u001b[1;32mreturn\u001b[0m \u001b[0moutput\u001b[0m\u001b[1;33m(\u001b[0m\u001b[1;33m)\u001b[0m\u001b[1;33m\u001b[0m\u001b[1;33m\u001b[0m\u001b[0m\n\u001b[0m\u001b[0;32m      9\u001b[0m \u001b[1;33m\u001b[0m\u001b[0m\n",
      "\u001b[1;31mTypeError\u001b[0m: 'list' object is not callable"
     ]
    }
   ],
   "source": [
    "fibnum(10)"
   ]
  },
  {
   "cell_type": "markdown",
   "id": "be7e2575",
   "metadata": {},
   "source": [
    "#file system"
   ]
  },
  {
   "cell_type": "code",
   "execution_count": 71,
   "id": "e90a0e5f",
   "metadata": {},
   "outputs": [
    {
     "name": "stdout",
     "output_type": "stream",
     "text": [
      "dfiurughrgh\n"
     ]
    }
   ],
   "source": [
    "print(\"dfiurughrgh\")"
   ]
  },
  {
   "cell_type": "code",
   "execution_count": 72,
   "id": "ba4d68a2",
   "metadata": {},
   "outputs": [],
   "source": [
    "f=open(\"test.txt\",\"w\")"
   ]
  },
  {
   "cell_type": "code",
   "execution_count": 73,
   "id": "904a7e76",
   "metadata": {},
   "outputs": [
    {
     "name": "stdout",
     "output_type": "stream",
     "text": [
      " Volume in drive C is Windows-SSD\n",
      " Volume Serial Number is BA08-EA00\n",
      "\n",
      " Directory of C:\\Users\\91903\n",
      "\n",
      "02-12-2023  11:55    <DIR>          .\n",
      "02-04-2023  19:05    <DIR>          ..\n",
      "31-07-2022  11:32    <DIR>          .astropy\n",
      "31-07-2022  11:13    <DIR>          .conda\n",
      "30-11-2022  14:28    <DIR>          .cufflinks\n",
      "08-05-2023  16:03    <DIR>          .idea\n",
      "02-12-2023  08:16    <DIR>          .ipynb_checkpoints\n",
      "21-02-2022  17:38    <DIR>          .ipython\n",
      "05-03-2022  10:37    <DIR>          .jupyter\n",
      "31-07-2022  11:40    <DIR>          .matplotlib\n",
      "07-05-2023  18:31    <DIR>          __pycache__\n",
      "08-10-2022  22:23            21,198 15th jan exception handling part1.ipynb\n",
      "26-02-2023  16:06             6,880 16th jan logging.ipynb\n",
      "25-08-2022  18:29            56,638 18th dec practice.ipynb\n",
      "18-08-2023  10:20            63,220 19th dec practice.ipynb\n",
      "11-09-2023  17:09         4,672,436 2023 20dec for loop  and while ipynb.ipynb\n",
      "11-09-2023  21:28            23,182 2023 21dec ipynb.ipynb\n",
      "14-09-2023  20:19            30,516 2023 23dec, 8th jan function ipynb.ipynb\n",
      "01-06-2023  15:09             9,891 2023 6th feb sql day2.ipynb\n",
      "11-09-2023  13:41            46,294 2023 dec18th set tuple dict ipynb part2.ipynb\n",
      "11-09-2023  12:26            25,571 2023 dec19th new ipynb if else.ipynb\n",
      "10-09-2023  22:01            68,837 2023 dec5th str,list new ipynb.ipynb\n",
      "07-05-2023  19:28           110,238 2023 modules and pycharm.ipynb\n",
      "11-05-2023  16:37            11,034 2023 sql part 1 feb5th.ipynb\n",
      "18-08-2023  11:24            21,293 20thdec practice.ipynb\n",
      "09-04-2022  15:17            23,165 21st dec practice.ipynb\n",
      "14-10-2022  16:05           100,700 22jan module discussion.ipynb\n",
      "14-10-2022  17:38             5,648 22jan oops concept.ipynb\n",
      "30-07-2022  13:00                 0 22jan.py\n",
      "30-07-2022  13:15                29 22jan1.py\n",
      "26-06-2022  21:49            22,964 23decrestart.ipynb\n",
      "11-04-2022  17:05            33,103 23rd dec practice.ipynb\n",
      "19-10-2022  14:31             8,048 23rd jan oops concept.ipynb\n",
      "24-08-2022  17:17            34,953 29jan oops.ipynb\n",
      "25-06-2022  23:46            18,529 8th jan .ipynb\n",
      "16-10-2022  22:12            38,125 8th jan practice.ipynb\n",
      "06-10-2022  19:59           105,942 9th jan iterator,generator and filesystem.ipynb\n",
      "27-06-2022  21:47            69,372 9thjanpractice.ipynb\n",
      "07-05-2023  18:05                 0 akhil.py\n",
      "21-02-2022  16:16    <DIR>          anaconda3\n",
      "02-12-2022  12:49             1,089 API FLASK1.ipynb\n",
      "04-07-2023  11:44            14,141 Assignment 8.ipynb\n",
      "04-07-2023  12:15             4,535 Assignment 9.ipynb\n",
      "28-02-2022  14:55             8,732 Assignment1.ipynb\n",
      "08-05-2022  18:10            15,719 assignment2.ipynb\n",
      "22-08-2022  11:36            15,644 Assignment4.ipynb\n",
      "14-10-2022  11:56    <DIR>          autoCompletion\n",
      "16-11-2022  14:49           461,474 bank.csv\n",
      "16-11-2022  14:46           461,474 bank.xls\n",
      "23-09-2022  02:00             1,007 change.log\n",
      "02-04-2023  19:10    <DIR>          Contacts\n",
      "17-01-2022  06:13             4,843 contextMenu.xml\n",
      "15-11-2022  11:25             5,845 cricket.csv\n",
      "10-11-2022  11:31             1,560 datastax.ipynb\n",
      "03-05-2022  12:58            55,145 dec 5th practice.ipynb\n",
      "25-08-2022  11:55            41,712 dec 5th practice2.ipynb\n",
      "16-08-2023  13:02            23,803 dec4th practice.ipynb\n",
      "01-04-2022  17:58    <DIR>          Documents\n",
      "01-12-2023  15:52    <DIR>          Downloads\n",
      "24-04-2023  13:09                22 enapple.ini\n",
      "13-10-2022  14:04            94,633 exception part2 and logging.ipynb\n",
      "30-06-2022  21:18            35,344 excpthndlng2.ipynb\n",
      "28-06-2022  23:07            12,467 exhndlng1.ipynb\n",
      "02-04-2023  19:10    <DIR>          Favorites\n",
      "05-10-2022  18:07            89,207 function dec 23rd class practice.ipynb\n",
      "14-10-2022  11:56    <DIR>          functionList\n",
      "14-10-2022  12:37               131 funmod1.py\n",
      "14-10-2022  12:22                 0 funmod2.py\n",
      "14-10-2022  12:53                94 funmod3.py\n",
      "14-10-2022  13:00                40 funmod4.py\n",
      "29-11-2022  22:57         3,078,946 graph 1.ipynb\n",
      "30-11-2022  17:59         1,789,919 graph2.ipynb\n",
      "01-12-2023  15:52            56,367 htd 8th jan.ipynb\n",
      "28-11-2023  15:16                72 hyd 1.ipynb\n",
      "30-11-2023  11:30            33,145 hyd 20th dec.ipynb\n",
      "30-11-2023  20:07            18,848 hyd 21st dec.ipynb\n",
      "01-12-2023  15:50            28,293 hyd 23rd dec.ipynb\n",
      "02-12-2023  11:55            36,395 hyd 9th jan.ipynb\n",
      "29-11-2023  11:37            80,734 hyd dec18th.ipynb\n",
      "01-12-2023  23:59           105,324 hyd practice book.ipynb\n",
      "29-11-2023  14:02            44,090 hyd19th dec.ipynb\n",
      "31-07-2022  12:59            41,601 jan22practice.ipynb\n",
      "08-11-2022  15:10            12,288 joindb.db\n",
      "08-11-2022  15:20             8,720 joindb.db-journal\n",
      "15-11-2022  14:27            35,186 json_res.csv\n",
      "28-05-2022  07:17           350,341 langs.model.xml\n",
      "15-08-2021  05:50            35,500 LICENSE\n",
      "06-10-2022  19:56               147 life.txt\n",
      "02-04-2023  19:10    <DIR>          Links\n",
      "14-10-2022  11:56    <DIR>          localization\n",
      "06-10-2022  19:27             1,934 mahesh.txt\n",
      "06-10-2022  18:50                51 manasa.txt\n",
      "13-10-2022  13:52                 0 meethu.log\n",
      "07-05-2023  18:20               180 mini.py\n",
      "07-05-2023  17:55                 0 mod1.py\n",
      "07-05-2023  18:12               130 mod2.py\n",
      "07-05-2023  17:54                 0 module.py\n",
      "14-10-2022  11:39                 0 module2.py\n",
      "27-10-2022  12:23             5,444 mongodb.ipynb\n",
      "02-04-2023  19:10    <DIR>          Music\n",
      "30-07-2022  14:06               213 my_module.py\n",
      "25-10-2022  14:40            10,208 mysql class1.ipynb\n",
      "15-11-2022  11:15            78,961 NBA.csv\n",
      "07-05-2023  17:57    <DIR>          notepadplus\n",
      "05-12-2021  09:58                 0 nppLogNulContentCorruptionIssue.xml\n",
      "25-09-2022  23:30           232,984 NppShell_06.dll\n",
      "23-11-2022  17:51            50,763 numpy.ipynb\n",
      "02-04-2023  19:08    <DIR>          OneDrive\n",
      "31-07-2022  19:10             5,529 oops basic 22jan.ipynb\n",
      "01-08-2022  15:53            11,638 oops jan23.ipynb\n",
      "22-11-2022  21:35           107,440 pandas and numpy.ipynb\n",
      "10-11-2022  23:34           128,025 pandas1.ipynb\n",
      "15-11-2022  14:41           619,109 pandas2.ipynb\n",
      "16-11-2022  15:55           141,613 pandas3.ipynb\n",
      "17-11-2022  13:14               588 pandas4.ipynb\n",
      "21-11-2022  19:35           173,487 pandasday4.ipynb\n",
      "08-11-2022  14:51             8,192 person.db\n",
      "14-10-2022  11:56    <DIR>          plugins\n",
      "02-12-2022  11:38    <DIR>          Postman\n",
      "07-05-2023  19:11    <DIR>          PycharmProjects\n",
      "29-09-2022  08:46            10,630 python assignment 5.ipynb\n",
      "08-10-2022  23:27            14,458 python basic assignment 6.ipynb\n",
      "15-07-2023  12:52             7,374 python basic programming assignment 11.ipynb\n",
      "20-07-2023  15:51             6,955 python basic programming assignment 12.ipynb\n",
      "30-09-2022  18:26             6,317 python basic programming assignment 5.ipynb\n",
      "07-10-2022  00:13             6,545 python basic programming assignment 6.ipynb\n",
      "13-10-2022  16:11             4,776 python basic programming assignment 7.ipynb\n",
      "23-09-2022  16:44             7,776 python basic programming assignment4.ipynb\n",
      "11-07-2023  15:08             1,383 python programming assignment 10.ipynb\n",
      "14-07-2023  10:20             9,645 python programming assignment 11.ipynb\n",
      "04-07-2023  13:58             5,375 python programming assignment 8.ipynb\n",
      "09-07-2023  17:13            10,556 python programming assignment 9.ipynb\n",
      "22-08-2022  15:53             4,908 python programming assignment1.ipynb\n",
      "21-09-2022  14:12             4,130 python programming assignment2.ipynb\n",
      "22-09-2022  14:06            26,533 python programming assignment3.ipynb\n",
      "08-11-2022  14:54             8,192 raj.db\n",
      "08-10-2022  22:02                 9 raji.txt\n",
      "06-10-2022  19:42                58 rama.txt\n",
      "27-05-2021  04:27             1,526 readme.txt\n",
      "21-06-2022  13:45            23,522 restart 20dec.ipynb\n",
      "21-06-2022  17:07            21,171 restart 21dec.ipynb\n",
      "17-06-2022  16:30            17,684 restart dec19.ipynb\n",
      "14-10-2022  12:24                44 rfunmod1.py\n",
      "13-10-2022  13:29               480 ritu.log\n",
      "10-11-2022  19:13            14,905 Sales.csv\n",
      "10-11-2022  19:36               201 sample.csv\n",
      "10-11-2022  23:15               232 sample.xls.csv\n",
      "02-04-2023  19:10    <DIR>          Saved Games\n",
      "30-11-2022  14:30    <DIR>          seaborn-data\n",
      "02-04-2023  19:10    <DIR>          Searches\n",
      "13-10-2022  13:35               904 seethu.log\n",
      "27-05-2021  04:27               965 shortcuts.xml\n",
      "08-11-2022  19:47            77,976 sql lite 08112022.ipynb\n",
      "25-10-2022  14:40             8,079 sql part2.ipynb\n",
      "22-10-2022  23:32             7,994 sql2.ipynb\n",
      "20-09-2022  22:39           174,773 stylers.model.xml\n",
      "30-09-2022  17:37             6,652 sudhasirqsadans.ipynb\n",
      "30-06-2022  22:41               310 test.log\n",
      "02-12-2023  11:55                 0 test.txt\n",
      "13-10-2022  12:17                 4 test1\n",
      "13-10-2022  11:53                22 test1.txt\n",
      "30-07-2022  13:47               225 test11.py\n",
      "30-06-2022  22:53               278 test2.log\n",
      "27-06-2022  13:24                31 test2.txt\n",
      "14-10-2022  11:29                 0 test3.py\n",
      "28-06-2022  23:08                11 test3.txt\n",
      "30-06-2022  16:50                 0 test43.txt\n",
      "27-06-2022  21:30               551 test5.txt\n",
      "07-05-2023  18:31               138 testu.py\n",
      "14-10-2022  11:56    <DIR>          themes\n",
      "28-02-2022  20:21            53,575 Untitled.ipynb\n",
      "01-03-2022  14:37                72 Untitled1.ipynb\n",
      "27-02-2023  14:30             1,679 Untitled10.ipynb\n",
      "09-05-2023  10:29                72 Untitled11.ipynb\n",
      "04-07-2023  13:54             8,651 Untitled12.ipynb\n",
      "03-08-2023  10:33             3,443 Untitled13.ipynb\n",
      "03-03-2022  15:56            36,553 Untitled2.ipynb\n",
      "21-06-2022  15:32               588 Untitled3.ipynb\n",
      "27-06-2022  22:55             5,082 Untitled4.ipynb\n",
      "29-06-2022  00:49             5,617 Untitled5.ipynb\n",
      "30-07-2022  12:48             1,518 Untitled6.ipynb\n",
      "24-08-2022  17:18            18,874 Untitled7.ipynb\n",
      "16-10-2022  10:53               588 Untitled8.ipynb\n",
      "28-11-2022  14:32               796 Untitled9.ipynb\n",
      "14-10-2022  11:56    <DIR>          updater\n",
      "02-04-2023  19:10    <DIR>          Videos\n",
      "             154 File(s)     14,940,278 bytes\n",
      "              32 Dir(s)  418,830,356,480 bytes free\n"
     ]
    }
   ],
   "source": [
    "ls"
   ]
  },
  {
   "cell_type": "code",
   "execution_count": 74,
   "id": "f6425ce4",
   "metadata": {},
   "outputs": [
    {
     "data": {
      "text/plain": [
       "'C:\\\\Users\\\\91903'"
      ]
     },
     "execution_count": 74,
     "metadata": {},
     "output_type": "execute_result"
    }
   ],
   "source": [
    "pwd()"
   ]
  },
  {
   "cell_type": "code",
   "execution_count": 75,
   "id": "9a967e61",
   "metadata": {},
   "outputs": [],
   "source": [
    "f=open(\"hydtest1.txt\",\"w\")"
   ]
  },
  {
   "cell_type": "code",
   "execution_count": 76,
   "id": "af5cfca0",
   "metadata": {},
   "outputs": [
    {
     "data": {
      "text/plain": [
       "38"
      ]
     },
     "execution_count": 76,
     "metadata": {},
     "output_type": "execute_result"
    }
   ],
   "source": [
    "f.write(\"this is something written in this file\")"
   ]
  },
  {
   "cell_type": "code",
   "execution_count": 77,
   "id": "ca73c0e0",
   "metadata": {},
   "outputs": [],
   "source": [
    "f.close()"
   ]
  },
  {
   "cell_type": "code",
   "execution_count": 78,
   "id": "8f89de03",
   "metadata": {},
   "outputs": [
    {
     "name": "stdout",
     "output_type": "stream",
     "text": [
      " Volume in drive C is Windows-SSD\n",
      " Volume Serial Number is BA08-EA00\n",
      "\n",
      " Directory of C:\\Users\\91903\n",
      "\n",
      "02-12-2023  11:57    <DIR>          .\n",
      "02-04-2023  19:05    <DIR>          ..\n",
      "31-07-2022  11:32    <DIR>          .astropy\n",
      "31-07-2022  11:13    <DIR>          .conda\n",
      "30-11-2022  14:28    <DIR>          .cufflinks\n",
      "08-05-2023  16:03    <DIR>          .idea\n",
      "02-12-2023  08:16    <DIR>          .ipynb_checkpoints\n",
      "21-02-2022  17:38    <DIR>          .ipython\n",
      "05-03-2022  10:37    <DIR>          .jupyter\n",
      "31-07-2022  11:40    <DIR>          .matplotlib\n",
      "07-05-2023  18:31    <DIR>          __pycache__\n",
      "08-10-2022  22:23            21,198 15th jan exception handling part1.ipynb\n",
      "26-02-2023  16:06             6,880 16th jan logging.ipynb\n",
      "25-08-2022  18:29            56,638 18th dec practice.ipynb\n",
      "18-08-2023  10:20            63,220 19th dec practice.ipynb\n",
      "11-09-2023  17:09         4,672,436 2023 20dec for loop  and while ipynb.ipynb\n",
      "11-09-2023  21:28            23,182 2023 21dec ipynb.ipynb\n",
      "14-09-2023  20:19            30,516 2023 23dec, 8th jan function ipynb.ipynb\n",
      "01-06-2023  15:09             9,891 2023 6th feb sql day2.ipynb\n",
      "11-09-2023  13:41            46,294 2023 dec18th set tuple dict ipynb part2.ipynb\n",
      "11-09-2023  12:26            25,571 2023 dec19th new ipynb if else.ipynb\n",
      "10-09-2023  22:01            68,837 2023 dec5th str,list new ipynb.ipynb\n",
      "07-05-2023  19:28           110,238 2023 modules and pycharm.ipynb\n",
      "11-05-2023  16:37            11,034 2023 sql part 1 feb5th.ipynb\n",
      "18-08-2023  11:24            21,293 20thdec practice.ipynb\n",
      "09-04-2022  15:17            23,165 21st dec practice.ipynb\n",
      "14-10-2022  16:05           100,700 22jan module discussion.ipynb\n",
      "14-10-2022  17:38             5,648 22jan oops concept.ipynb\n",
      "30-07-2022  13:00                 0 22jan.py\n",
      "30-07-2022  13:15                29 22jan1.py\n",
      "26-06-2022  21:49            22,964 23decrestart.ipynb\n",
      "11-04-2022  17:05            33,103 23rd dec practice.ipynb\n",
      "19-10-2022  14:31             8,048 23rd jan oops concept.ipynb\n",
      "24-08-2022  17:17            34,953 29jan oops.ipynb\n",
      "25-06-2022  23:46            18,529 8th jan .ipynb\n",
      "16-10-2022  22:12            38,125 8th jan practice.ipynb\n",
      "06-10-2022  19:59           105,942 9th jan iterator,generator and filesystem.ipynb\n",
      "27-06-2022  21:47            69,372 9thjanpractice.ipynb\n",
      "07-05-2023  18:05                 0 akhil.py\n",
      "21-02-2022  16:16    <DIR>          anaconda3\n",
      "02-12-2022  12:49             1,089 API FLASK1.ipynb\n",
      "04-07-2023  11:44            14,141 Assignment 8.ipynb\n",
      "04-07-2023  12:15             4,535 Assignment 9.ipynb\n",
      "28-02-2022  14:55             8,732 Assignment1.ipynb\n",
      "08-05-2022  18:10            15,719 assignment2.ipynb\n",
      "22-08-2022  11:36            15,644 Assignment4.ipynb\n",
      "14-10-2022  11:56    <DIR>          autoCompletion\n",
      "16-11-2022  14:49           461,474 bank.csv\n",
      "16-11-2022  14:46           461,474 bank.xls\n",
      "23-09-2022  02:00             1,007 change.log\n",
      "02-04-2023  19:10    <DIR>          Contacts\n",
      "17-01-2022  06:13             4,843 contextMenu.xml\n",
      "15-11-2022  11:25             5,845 cricket.csv\n",
      "10-11-2022  11:31             1,560 datastax.ipynb\n",
      "03-05-2022  12:58            55,145 dec 5th practice.ipynb\n",
      "25-08-2022  11:55            41,712 dec 5th practice2.ipynb\n",
      "16-08-2023  13:02            23,803 dec4th practice.ipynb\n",
      "01-04-2022  17:58    <DIR>          Documents\n",
      "01-12-2023  15:52    <DIR>          Downloads\n",
      "24-04-2023  13:09                22 enapple.ini\n",
      "13-10-2022  14:04            94,633 exception part2 and logging.ipynb\n",
      "30-06-2022  21:18            35,344 excpthndlng2.ipynb\n",
      "28-06-2022  23:07            12,467 exhndlng1.ipynb\n",
      "02-04-2023  19:10    <DIR>          Favorites\n",
      "05-10-2022  18:07            89,207 function dec 23rd class practice.ipynb\n",
      "14-10-2022  11:56    <DIR>          functionList\n",
      "14-10-2022  12:37               131 funmod1.py\n",
      "14-10-2022  12:22                 0 funmod2.py\n",
      "14-10-2022  12:53                94 funmod3.py\n",
      "14-10-2022  13:00                40 funmod4.py\n",
      "29-11-2022  22:57         3,078,946 graph 1.ipynb\n",
      "30-11-2022  17:59         1,789,919 graph2.ipynb\n",
      "01-12-2023  15:52            56,367 htd 8th jan.ipynb\n",
      "28-11-2023  15:16                72 hyd 1.ipynb\n",
      "30-11-2023  11:30            33,145 hyd 20th dec.ipynb\n",
      "30-11-2023  20:07            18,848 hyd 21st dec.ipynb\n",
      "01-12-2023  15:50            28,293 hyd 23rd dec.ipynb\n",
      "02-12-2023  11:57            36,556 hyd 9th jan.ipynb\n",
      "29-11-2023  11:37            80,734 hyd dec18th.ipynb\n",
      "01-12-2023  23:59           105,324 hyd practice book.ipynb\n",
      "29-11-2023  14:02            44,090 hyd19th dec.ipynb\n",
      "02-12-2023  11:59                38 hydtest1.txt\n",
      "31-07-2022  12:59            41,601 jan22practice.ipynb\n",
      "08-11-2022  15:10            12,288 joindb.db\n",
      "08-11-2022  15:20             8,720 joindb.db-journal\n",
      "15-11-2022  14:27            35,186 json_res.csv\n",
      "28-05-2022  07:17           350,341 langs.model.xml\n",
      "15-08-2021  05:50            35,500 LICENSE\n",
      "06-10-2022  19:56               147 life.txt\n",
      "02-04-2023  19:10    <DIR>          Links\n",
      "14-10-2022  11:56    <DIR>          localization\n",
      "06-10-2022  19:27             1,934 mahesh.txt\n",
      "06-10-2022  18:50                51 manasa.txt\n",
      "13-10-2022  13:52                 0 meethu.log\n",
      "07-05-2023  18:20               180 mini.py\n",
      "07-05-2023  17:55                 0 mod1.py\n",
      "07-05-2023  18:12               130 mod2.py\n",
      "07-05-2023  17:54                 0 module.py\n",
      "14-10-2022  11:39                 0 module2.py\n",
      "27-10-2022  12:23             5,444 mongodb.ipynb\n",
      "02-04-2023  19:10    <DIR>          Music\n",
      "30-07-2022  14:06               213 my_module.py\n",
      "25-10-2022  14:40            10,208 mysql class1.ipynb\n",
      "15-11-2022  11:15            78,961 NBA.csv\n",
      "07-05-2023  17:57    <DIR>          notepadplus\n",
      "05-12-2021  09:58                 0 nppLogNulContentCorruptionIssue.xml\n",
      "25-09-2022  23:30           232,984 NppShell_06.dll\n",
      "23-11-2022  17:51            50,763 numpy.ipynb\n",
      "02-04-2023  19:08    <DIR>          OneDrive\n",
      "31-07-2022  19:10             5,529 oops basic 22jan.ipynb\n",
      "01-08-2022  15:53            11,638 oops jan23.ipynb\n",
      "22-11-2022  21:35           107,440 pandas and numpy.ipynb\n",
      "10-11-2022  23:34           128,025 pandas1.ipynb\n",
      "15-11-2022  14:41           619,109 pandas2.ipynb\n",
      "16-11-2022  15:55           141,613 pandas3.ipynb\n",
      "17-11-2022  13:14               588 pandas4.ipynb\n",
      "21-11-2022  19:35           173,487 pandasday4.ipynb\n",
      "08-11-2022  14:51             8,192 person.db\n",
      "14-10-2022  11:56    <DIR>          plugins\n",
      "02-12-2022  11:38    <DIR>          Postman\n",
      "07-05-2023  19:11    <DIR>          PycharmProjects\n",
      "29-09-2022  08:46            10,630 python assignment 5.ipynb\n",
      "08-10-2022  23:27            14,458 python basic assignment 6.ipynb\n",
      "15-07-2023  12:52             7,374 python basic programming assignment 11.ipynb\n",
      "20-07-2023  15:51             6,955 python basic programming assignment 12.ipynb\n",
      "30-09-2022  18:26             6,317 python basic programming assignment 5.ipynb\n",
      "07-10-2022  00:13             6,545 python basic programming assignment 6.ipynb\n",
      "13-10-2022  16:11             4,776 python basic programming assignment 7.ipynb\n",
      "23-09-2022  16:44             7,776 python basic programming assignment4.ipynb\n",
      "11-07-2023  15:08             1,383 python programming assignment 10.ipynb\n",
      "14-07-2023  10:20             9,645 python programming assignment 11.ipynb\n",
      "04-07-2023  13:58             5,375 python programming assignment 8.ipynb\n",
      "09-07-2023  17:13            10,556 python programming assignment 9.ipynb\n",
      "22-08-2022  15:53             4,908 python programming assignment1.ipynb\n",
      "21-09-2022  14:12             4,130 python programming assignment2.ipynb\n",
      "22-09-2022  14:06            26,533 python programming assignment3.ipynb\n",
      "08-11-2022  14:54             8,192 raj.db\n",
      "08-10-2022  22:02                 9 raji.txt\n",
      "06-10-2022  19:42                58 rama.txt\n",
      "27-05-2021  04:27             1,526 readme.txt\n",
      "21-06-2022  13:45            23,522 restart 20dec.ipynb\n",
      "21-06-2022  17:07            21,171 restart 21dec.ipynb\n",
      "17-06-2022  16:30            17,684 restart dec19.ipynb\n",
      "14-10-2022  12:24                44 rfunmod1.py\n",
      "13-10-2022  13:29               480 ritu.log\n",
      "10-11-2022  19:13            14,905 Sales.csv\n",
      "10-11-2022  19:36               201 sample.csv\n",
      "10-11-2022  23:15               232 sample.xls.csv\n",
      "02-04-2023  19:10    <DIR>          Saved Games\n",
      "30-11-2022  14:30    <DIR>          seaborn-data\n",
      "02-04-2023  19:10    <DIR>          Searches\n",
      "13-10-2022  13:35               904 seethu.log\n",
      "27-05-2021  04:27               965 shortcuts.xml\n",
      "08-11-2022  19:47            77,976 sql lite 08112022.ipynb\n",
      "25-10-2022  14:40             8,079 sql part2.ipynb\n",
      "22-10-2022  23:32             7,994 sql2.ipynb\n",
      "20-09-2022  22:39           174,773 stylers.model.xml\n",
      "30-09-2022  17:37             6,652 sudhasirqsadans.ipynb\n",
      "30-06-2022  22:41               310 test.log\n",
      "02-12-2023  11:55                 0 test.txt\n",
      "13-10-2022  12:17                 4 test1\n",
      "13-10-2022  11:53                22 test1.txt\n",
      "30-07-2022  13:47               225 test11.py\n",
      "30-06-2022  22:53               278 test2.log\n",
      "27-06-2022  13:24                31 test2.txt\n",
      "14-10-2022  11:29                 0 test3.py\n",
      "28-06-2022  23:08                11 test3.txt\n",
      "30-06-2022  16:50                 0 test43.txt\n",
      "27-06-2022  21:30               551 test5.txt\n",
      "07-05-2023  18:31               138 testu.py\n",
      "14-10-2022  11:56    <DIR>          themes\n",
      "28-02-2022  20:21            53,575 Untitled.ipynb\n",
      "01-03-2022  14:37                72 Untitled1.ipynb\n",
      "27-02-2023  14:30             1,679 Untitled10.ipynb\n",
      "09-05-2023  10:29                72 Untitled11.ipynb\n",
      "04-07-2023  13:54             8,651 Untitled12.ipynb\n",
      "03-08-2023  10:33             3,443 Untitled13.ipynb\n",
      "03-03-2022  15:56            36,553 Untitled2.ipynb\n",
      "21-06-2022  15:32               588 Untitled3.ipynb\n",
      "27-06-2022  22:55             5,082 Untitled4.ipynb\n",
      "29-06-2022  00:49             5,617 Untitled5.ipynb\n",
      "30-07-2022  12:48             1,518 Untitled6.ipynb\n",
      "24-08-2022  17:18            18,874 Untitled7.ipynb\n",
      "16-10-2022  10:53               588 Untitled8.ipynb\n",
      "28-11-2022  14:32               796 Untitled9.ipynb\n",
      "14-10-2022  11:56    <DIR>          updater\n",
      "02-04-2023  19:10    <DIR>          Videos\n",
      "             155 File(s)     14,940,477 bytes\n",
      "              32 Dir(s)  418,829,340,672 bytes free\n"
     ]
    }
   ],
   "source": [
    "ls"
   ]
  },
  {
   "cell_type": "code",
   "execution_count": 79,
   "id": "cfccfa23",
   "metadata": {},
   "outputs": [
    {
     "data": {
      "text/plain": [
       "'C:\\\\Users\\\\91903'"
      ]
     },
     "execution_count": 79,
     "metadata": {},
     "output_type": "execute_result"
    }
   ],
   "source": [
    "pwd()"
   ]
  },
  {
   "cell_type": "code",
   "execution_count": 81,
   "id": "e9b05531",
   "metadata": {},
   "outputs": [],
   "source": [
    "f=open(\"hydtest.txt\",\"w\")"
   ]
  },
  {
   "cell_type": "code",
   "execution_count": 83,
   "id": "c2748b21",
   "metadata": {},
   "outputs": [
    {
     "data": {
      "text/plain": [
       "17"
      ]
     },
     "execution_count": 83,
     "metadata": {},
     "output_type": "execute_result"
    }
   ],
   "source": [
    "f.write(\"this is hyderabad\")\n"
   ]
  },
  {
   "cell_type": "code",
   "execution_count": 84,
   "id": "b17aaec4",
   "metadata": {},
   "outputs": [],
   "source": [
    "f.close()"
   ]
  },
  {
   "cell_type": "code",
   "execution_count": 85,
   "id": "7e6d4b66",
   "metadata": {},
   "outputs": [
    {
     "name": "stdout",
     "output_type": "stream",
     "text": [
      "Writing hydtest2.txt\n"
     ]
    }
   ],
   "source": [
    "%%writefile hydtest2.txt\n",
    "this is a data which i m saving in this file"
   ]
  },
  {
   "cell_type": "code",
   "execution_count": 87,
   "id": "aa9ae52f",
   "metadata": {},
   "outputs": [
    {
     "name": "stdout",
     "output_type": "stream",
     "text": [
      " Volume in drive C is Windows-SSD\n",
      " Volume Serial Number is BA08-EA00\n",
      "\n",
      " Directory of C:\\Users\\91903\n",
      "\n",
      "02-12-2023  12:14    <DIR>          .\n",
      "02-04-2023  19:05    <DIR>          ..\n",
      "31-07-2022  11:32    <DIR>          .astropy\n",
      "31-07-2022  11:13    <DIR>          .conda\n",
      "30-11-2022  14:28    <DIR>          .cufflinks\n",
      "08-05-2023  16:03    <DIR>          .idea\n",
      "02-12-2023  08:16    <DIR>          .ipynb_checkpoints\n",
      "21-02-2022  17:38    <DIR>          .ipython\n",
      "05-03-2022  10:37    <DIR>          .jupyter\n",
      "31-07-2022  11:40    <DIR>          .matplotlib\n",
      "07-05-2023  18:31    <DIR>          __pycache__\n",
      "08-10-2022  22:23            21,198 15th jan exception handling part1.ipynb\n",
      "26-02-2023  16:06             6,880 16th jan logging.ipynb\n",
      "25-08-2022  18:29            56,638 18th dec practice.ipynb\n",
      "18-08-2023  10:20            63,220 19th dec practice.ipynb\n",
      "11-09-2023  17:09         4,672,436 2023 20dec for loop  and while ipynb.ipynb\n",
      "11-09-2023  21:28            23,182 2023 21dec ipynb.ipynb\n",
      "14-09-2023  20:19            30,516 2023 23dec, 8th jan function ipynb.ipynb\n",
      "01-06-2023  15:09             9,891 2023 6th feb sql day2.ipynb\n",
      "11-09-2023  13:41            46,294 2023 dec18th set tuple dict ipynb part2.ipynb\n",
      "11-09-2023  12:26            25,571 2023 dec19th new ipynb if else.ipynb\n",
      "10-09-2023  22:01            68,837 2023 dec5th str,list new ipynb.ipynb\n",
      "07-05-2023  19:28           110,238 2023 modules and pycharm.ipynb\n",
      "11-05-2023  16:37            11,034 2023 sql part 1 feb5th.ipynb\n",
      "18-08-2023  11:24            21,293 20thdec practice.ipynb\n",
      "09-04-2022  15:17            23,165 21st dec practice.ipynb\n",
      "14-10-2022  16:05           100,700 22jan module discussion.ipynb\n",
      "14-10-2022  17:38             5,648 22jan oops concept.ipynb\n",
      "30-07-2022  13:00                 0 22jan.py\n",
      "30-07-2022  13:15                29 22jan1.py\n",
      "26-06-2022  21:49            22,964 23decrestart.ipynb\n",
      "11-04-2022  17:05            33,103 23rd dec practice.ipynb\n",
      "19-10-2022  14:31             8,048 23rd jan oops concept.ipynb\n",
      "24-08-2022  17:17            34,953 29jan oops.ipynb\n",
      "25-06-2022  23:46            18,529 8th jan .ipynb\n",
      "16-10-2022  22:12            38,125 8th jan practice.ipynb\n",
      "06-10-2022  19:59           105,942 9th jan iterator,generator and filesystem.ipynb\n",
      "27-06-2022  21:47            69,372 9thjanpractice.ipynb\n",
      "07-05-2023  18:05                 0 akhil.py\n",
      "21-02-2022  16:16    <DIR>          anaconda3\n",
      "02-12-2022  12:49             1,089 API FLASK1.ipynb\n",
      "04-07-2023  11:44            14,141 Assignment 8.ipynb\n",
      "04-07-2023  12:15             4,535 Assignment 9.ipynb\n",
      "28-02-2022  14:55             8,732 Assignment1.ipynb\n",
      "08-05-2022  18:10            15,719 assignment2.ipynb\n",
      "22-08-2022  11:36            15,644 Assignment4.ipynb\n",
      "14-10-2022  11:56    <DIR>          autoCompletion\n",
      "16-11-2022  14:49           461,474 bank.csv\n",
      "16-11-2022  14:46           461,474 bank.xls\n",
      "23-09-2022  02:00             1,007 change.log\n",
      "02-04-2023  19:10    <DIR>          Contacts\n",
      "17-01-2022  06:13             4,843 contextMenu.xml\n",
      "15-11-2022  11:25             5,845 cricket.csv\n",
      "10-11-2022  11:31             1,560 datastax.ipynb\n",
      "03-05-2022  12:58            55,145 dec 5th practice.ipynb\n",
      "25-08-2022  11:55            41,712 dec 5th practice2.ipynb\n",
      "16-08-2023  13:02            23,803 dec4th practice.ipynb\n",
      "01-04-2022  17:58    <DIR>          Documents\n",
      "01-12-2023  15:52    <DIR>          Downloads\n",
      "24-04-2023  13:09                22 enapple.ini\n",
      "13-10-2022  14:04            94,633 exception part2 and logging.ipynb\n",
      "30-06-2022  21:18            35,344 excpthndlng2.ipynb\n",
      "28-06-2022  23:07            12,467 exhndlng1.ipynb\n",
      "02-04-2023  19:10    <DIR>          Favorites\n",
      "05-10-2022  18:07            89,207 function dec 23rd class practice.ipynb\n",
      "14-10-2022  11:56    <DIR>          functionList\n",
      "14-10-2022  12:37               131 funmod1.py\n",
      "14-10-2022  12:22                 0 funmod2.py\n",
      "14-10-2022  12:53                94 funmod3.py\n",
      "14-10-2022  13:00                40 funmod4.py\n",
      "29-11-2022  22:57         3,078,946 graph 1.ipynb\n",
      "30-11-2022  17:59         1,789,919 graph2.ipynb\n",
      "01-12-2023  15:52            56,367 htd 8th jan.ipynb\n",
      "28-11-2023  15:16                72 hyd 1.ipynb\n",
      "30-11-2023  11:30            33,145 hyd 20th dec.ipynb\n",
      "30-11-2023  20:07            18,848 hyd 21st dec.ipynb\n",
      "01-12-2023  15:50            28,293 hyd 23rd dec.ipynb\n",
      "02-12-2023  12:14            50,710 hyd 9th jan.ipynb\n",
      "29-11-2023  11:37            80,734 hyd dec18th.ipynb\n",
      "01-12-2023  23:59           105,324 hyd practice book.ipynb\n",
      "29-11-2023  14:02            44,090 hyd19th dec.ipynb\n",
      "02-12-2023  12:12                34 hydtest.txt\n",
      "02-12-2023  11:59                38 hydtest1.txt\n",
      "02-12-2023  12:14                46 hydtest2.txt\n",
      "31-07-2022  12:59            41,601 jan22practice.ipynb\n",
      "08-11-2022  15:10            12,288 joindb.db\n",
      "08-11-2022  15:20             8,720 joindb.db-journal\n",
      "15-11-2022  14:27            35,186 json_res.csv\n",
      "28-05-2022  07:17           350,341 langs.model.xml\n",
      "15-08-2021  05:50            35,500 LICENSE\n",
      "06-10-2022  19:56               147 life.txt\n",
      "02-04-2023  19:10    <DIR>          Links\n",
      "14-10-2022  11:56    <DIR>          localization\n",
      "06-10-2022  19:27             1,934 mahesh.txt\n",
      "06-10-2022  18:50                51 manasa.txt\n",
      "13-10-2022  13:52                 0 meethu.log\n",
      "07-05-2023  18:20               180 mini.py\n",
      "07-05-2023  17:55                 0 mod1.py\n",
      "07-05-2023  18:12               130 mod2.py\n",
      "07-05-2023  17:54                 0 module.py\n",
      "14-10-2022  11:39                 0 module2.py\n",
      "27-10-2022  12:23             5,444 mongodb.ipynb\n",
      "02-04-2023  19:10    <DIR>          Music\n",
      "30-07-2022  14:06               213 my_module.py\n",
      "25-10-2022  14:40            10,208 mysql class1.ipynb\n",
      "15-11-2022  11:15            78,961 NBA.csv\n",
      "07-05-2023  17:57    <DIR>          notepadplus\n",
      "05-12-2021  09:58                 0 nppLogNulContentCorruptionIssue.xml\n",
      "25-09-2022  23:30           232,984 NppShell_06.dll\n",
      "23-11-2022  17:51            50,763 numpy.ipynb\n",
      "02-04-2023  19:08    <DIR>          OneDrive\n",
      "31-07-2022  19:10             5,529 oops basic 22jan.ipynb\n",
      "01-08-2022  15:53            11,638 oops jan23.ipynb\n",
      "22-11-2022  21:35           107,440 pandas and numpy.ipynb\n",
      "10-11-2022  23:34           128,025 pandas1.ipynb\n",
      "15-11-2022  14:41           619,109 pandas2.ipynb\n",
      "16-11-2022  15:55           141,613 pandas3.ipynb\n",
      "17-11-2022  13:14               588 pandas4.ipynb\n",
      "21-11-2022  19:35           173,487 pandasday4.ipynb\n",
      "08-11-2022  14:51             8,192 person.db\n",
      "14-10-2022  11:56    <DIR>          plugins\n",
      "02-12-2022  11:38    <DIR>          Postman\n",
      "07-05-2023  19:11    <DIR>          PycharmProjects\n",
      "29-09-2022  08:46            10,630 python assignment 5.ipynb\n",
      "08-10-2022  23:27            14,458 python basic assignment 6.ipynb\n",
      "15-07-2023  12:52             7,374 python basic programming assignment 11.ipynb\n",
      "20-07-2023  15:51             6,955 python basic programming assignment 12.ipynb\n",
      "30-09-2022  18:26             6,317 python basic programming assignment 5.ipynb\n",
      "07-10-2022  00:13             6,545 python basic programming assignment 6.ipynb\n",
      "13-10-2022  16:11             4,776 python basic programming assignment 7.ipynb\n",
      "23-09-2022  16:44             7,776 python basic programming assignment4.ipynb\n",
      "11-07-2023  15:08             1,383 python programming assignment 10.ipynb\n",
      "14-07-2023  10:20             9,645 python programming assignment 11.ipynb\n",
      "04-07-2023  13:58             5,375 python programming assignment 8.ipynb\n",
      "09-07-2023  17:13            10,556 python programming assignment 9.ipynb\n",
      "22-08-2022  15:53             4,908 python programming assignment1.ipynb\n",
      "21-09-2022  14:12             4,130 python programming assignment2.ipynb\n",
      "22-09-2022  14:06            26,533 python programming assignment3.ipynb\n",
      "08-11-2022  14:54             8,192 raj.db\n",
      "08-10-2022  22:02                 9 raji.txt\n",
      "06-10-2022  19:42                58 rama.txt\n",
      "27-05-2021  04:27             1,526 readme.txt\n",
      "21-06-2022  13:45            23,522 restart 20dec.ipynb\n",
      "21-06-2022  17:07            21,171 restart 21dec.ipynb\n",
      "17-06-2022  16:30            17,684 restart dec19.ipynb\n",
      "14-10-2022  12:24                44 rfunmod1.py\n",
      "13-10-2022  13:29               480 ritu.log\n",
      "10-11-2022  19:13            14,905 Sales.csv\n",
      "10-11-2022  19:36               201 sample.csv\n",
      "10-11-2022  23:15               232 sample.xls.csv\n",
      "02-04-2023  19:10    <DIR>          Saved Games\n",
      "30-11-2022  14:30    <DIR>          seaborn-data\n",
      "02-04-2023  19:10    <DIR>          Searches\n",
      "13-10-2022  13:35               904 seethu.log\n",
      "27-05-2021  04:27               965 shortcuts.xml\n",
      "08-11-2022  19:47            77,976 sql lite 08112022.ipynb\n",
      "25-10-2022  14:40             8,079 sql part2.ipynb\n",
      "22-10-2022  23:32             7,994 sql2.ipynb\n",
      "20-09-2022  22:39           174,773 stylers.model.xml\n",
      "30-09-2022  17:37             6,652 sudhasirqsadans.ipynb\n",
      "30-06-2022  22:41               310 test.log\n",
      "02-12-2023  11:55                 0 test.txt\n",
      "13-10-2022  12:17                 4 test1\n",
      "13-10-2022  11:53                22 test1.txt\n",
      "30-07-2022  13:47               225 test11.py\n",
      "30-06-2022  22:53               278 test2.log\n",
      "27-06-2022  13:24                31 test2.txt\n",
      "14-10-2022  11:29                 0 test3.py\n",
      "28-06-2022  23:08                11 test3.txt\n",
      "30-06-2022  16:50                 0 test43.txt\n",
      "27-06-2022  21:30               551 test5.txt\n",
      "07-05-2023  18:31               138 testu.py\n",
      "14-10-2022  11:56    <DIR>          themes\n",
      "28-02-2022  20:21            53,575 Untitled.ipynb\n",
      "01-03-2022  14:37                72 Untitled1.ipynb\n",
      "27-02-2023  14:30             1,679 Untitled10.ipynb\n",
      "09-05-2023  10:29                72 Untitled11.ipynb\n",
      "04-07-2023  13:54             8,651 Untitled12.ipynb\n",
      "03-08-2023  10:33             3,443 Untitled13.ipynb\n",
      "03-03-2022  15:56            36,553 Untitled2.ipynb\n",
      "21-06-2022  15:32               588 Untitled3.ipynb\n",
      "27-06-2022  22:55             5,082 Untitled4.ipynb\n",
      "29-06-2022  00:49             5,617 Untitled5.ipynb\n",
      "30-07-2022  12:48             1,518 Untitled6.ipynb\n",
      "24-08-2022  17:18            18,874 Untitled7.ipynb\n",
      "16-10-2022  10:53               588 Untitled8.ipynb\n",
      "28-11-2022  14:32               796 Untitled9.ipynb\n",
      "14-10-2022  11:56    <DIR>          updater\n",
      "02-04-2023  19:10    <DIR>          Videos\n",
      "             157 File(s)     14,954,711 bytes\n",
      "              32 Dir(s)  418,260,578,304 bytes free\n"
     ]
    }
   ],
   "source": [
    "ls"
   ]
  },
  {
   "cell_type": "code",
   "execution_count": 88,
   "id": "ff8b4e2d",
   "metadata": {},
   "outputs": [],
   "source": [
    "# above is scripting aapproach"
   ]
  },
  {
   "cell_type": "code",
   "execution_count": 89,
   "id": "05bb964e",
   "metadata": {},
   "outputs": [],
   "source": [
    "#but follow functional approach"
   ]
  },
  {
   "cell_type": "code",
   "execution_count": 90,
   "id": "cb7142f8",
   "metadata": {},
   "outputs": [],
   "source": [
    "f=open(\"hydtest1.txt\")"
   ]
  },
  {
   "cell_type": "code",
   "execution_count": 91,
   "id": "c9844968",
   "metadata": {},
   "outputs": [
    {
     "data": {
      "text/plain": [
       "'this is something written in this file'"
      ]
     },
     "execution_count": 91,
     "metadata": {},
     "output_type": "execute_result"
    }
   ],
   "source": [
    "f.read()"
   ]
  },
  {
   "cell_type": "code",
   "execution_count": 92,
   "id": "4c7b6a53",
   "metadata": {},
   "outputs": [
    {
     "ename": "UnsupportedOperation",
     "evalue": "not writable",
     "output_type": "error",
     "traceback": [
      "\u001b[1;31m---------------------------------------------------------------------------\u001b[0m",
      "\u001b[1;31mUnsupportedOperation\u001b[0m                      Traceback (most recent call last)",
      "\u001b[1;32m~\\AppData\\Local\\Temp/ipykernel_41792/1201325285.py\u001b[0m in \u001b[0;36m<module>\u001b[1;34m\u001b[0m\n\u001b[1;32m----> 1\u001b[1;33m \u001b[0mf\u001b[0m\u001b[1;33m.\u001b[0m\u001b[0mwrite\u001b[0m\u001b[1;33m(\u001b[0m\u001b[1;34m\"dfikfveir\"\u001b[0m\u001b[1;33m)\u001b[0m\u001b[1;33m\u001b[0m\u001b[1;33m\u001b[0m\u001b[0m\n\u001b[0m",
      "\u001b[1;31mUnsupportedOperation\u001b[0m: not writable"
     ]
    }
   ],
   "source": [
    "f.write(\"dfikfveir\")"
   ]
  },
  {
   "cell_type": "code",
   "execution_count": 93,
   "id": "fd9e2053",
   "metadata": {},
   "outputs": [
    {
     "data": {
      "text/plain": [
       "''"
      ]
     },
     "execution_count": 93,
     "metadata": {},
     "output_type": "execute_result"
    }
   ],
   "source": [
    "f.read()"
   ]
  },
  {
   "cell_type": "code",
   "execution_count": 94,
   "id": "782b2c8f",
   "metadata": {},
   "outputs": [],
   "source": [
    "# because cursor is at theend of line of character"
   ]
  },
  {
   "cell_type": "code",
   "execution_count": 95,
   "id": "7616ab47",
   "metadata": {},
   "outputs": [
    {
     "data": {
      "text/plain": [
       "''"
      ]
     },
     "execution_count": 95,
     "metadata": {},
     "output_type": "execute_result"
    }
   ],
   "source": [
    "f.read()"
   ]
  },
  {
   "cell_type": "code",
   "execution_count": 96,
   "id": "c44299b2",
   "metadata": {},
   "outputs": [
    {
     "data": {
      "text/plain": [
       "0"
      ]
     },
     "execution_count": 96,
     "metadata": {},
     "output_type": "execute_result"
    }
   ],
   "source": [
    "f.seek(0)"
   ]
  },
  {
   "cell_type": "code",
   "execution_count": 97,
   "id": "f9c753af",
   "metadata": {},
   "outputs": [
    {
     "data": {
      "text/plain": [
       "'this is something written in this file'"
      ]
     },
     "execution_count": 97,
     "metadata": {},
     "output_type": "execute_result"
    }
   ],
   "source": [
    "f.read()"
   ]
  },
  {
   "cell_type": "code",
   "execution_count": 98,
   "id": "9b062a9a",
   "metadata": {},
   "outputs": [
    {
     "data": {
      "text/plain": [
       "5"
      ]
     },
     "execution_count": 98,
     "metadata": {},
     "output_type": "execute_result"
    }
   ],
   "source": [
    "f.seek(5)"
   ]
  },
  {
   "cell_type": "code",
   "execution_count": 99,
   "id": "9765d245",
   "metadata": {},
   "outputs": [
    {
     "data": {
      "text/plain": [
       "'is something written in this file'"
      ]
     },
     "execution_count": 99,
     "metadata": {},
     "output_type": "execute_result"
    }
   ],
   "source": [
    "f.read()"
   ]
  },
  {
   "cell_type": "code",
   "execution_count": 100,
   "id": "0ea46d8b",
   "metadata": {},
   "outputs": [
    {
     "data": {
      "text/plain": [
       "0"
      ]
     },
     "execution_count": 100,
     "metadata": {},
     "output_type": "execute_result"
    }
   ],
   "source": [
    "f.seek(0)"
   ]
  },
  {
   "cell_type": "code",
   "execution_count": 103,
   "id": "9b343cba",
   "metadata": {},
   "outputs": [
    {
     "data": {
      "text/plain": [
       "0"
      ]
     },
     "execution_count": 103,
     "metadata": {},
     "output_type": "execute_result"
    }
   ],
   "source": [
    "f.tell()"
   ]
  },
  {
   "cell_type": "code",
   "execution_count": 104,
   "id": "bcd8bb5e",
   "metadata": {},
   "outputs": [],
   "source": [
    "f.close()"
   ]
  },
  {
   "cell_type": "code",
   "execution_count": 106,
   "id": "02b13697",
   "metadata": {},
   "outputs": [],
   "source": [
    "f=open(\"hydtest1.txt\",\"r+\")"
   ]
  },
  {
   "cell_type": "code",
   "execution_count": 107,
   "id": "fae679a8",
   "metadata": {},
   "outputs": [
    {
     "data": {
      "text/plain": [
       "'this is something written in this file'"
      ]
     },
     "execution_count": 107,
     "metadata": {},
     "output_type": "execute_result"
    }
   ],
   "source": [
    "f.read()"
   ]
  },
  {
   "cell_type": "code",
   "execution_count": 109,
   "id": "c15b1966",
   "metadata": {},
   "outputs": [
    {
     "data": {
      "text/plain": [
       "0"
      ]
     },
     "execution_count": 109,
     "metadata": {},
     "output_type": "execute_result"
    }
   ],
   "source": [
    "f.seek(0)"
   ]
  },
  {
   "cell_type": "code",
   "execution_count": 110,
   "id": "e1c40e5d",
   "metadata": {},
   "outputs": [
    {
     "data": {
      "text/plain": [
       "'this is something written in this file'"
      ]
     },
     "execution_count": 110,
     "metadata": {},
     "output_type": "execute_result"
    }
   ],
   "source": [
    "f.readline()"
   ]
  },
  {
   "cell_type": "code",
   "execution_count": 111,
   "id": "b24680ba",
   "metadata": {},
   "outputs": [],
   "source": [
    "f.close()"
   ]
  },
  {
   "cell_type": "code",
   "execution_count": 112,
   "id": "622f9bf2",
   "metadata": {},
   "outputs": [],
   "source": [
    "f=open(\"hydpara.txt\",\"w\")\n"
   ]
  },
  {
   "cell_type": "code",
   "execution_count": 113,
   "id": "7d57a48c",
   "metadata": {},
   "outputs": [
    {
     "data": {
      "text/plain": [
       "529"
      ]
     },
     "execution_count": 113,
     "metadata": {},
     "output_type": "execute_result"
    }
   ],
   "source": [
    "f.write(\"That is animal abuse and they should not do that because then the animals are the ones that attack us, they are living beings that feel like we do and with this we cause them to no longer trust us.We use both first and third-party cookies to personalise web content, analyse visits to our websites and tailor advertisements. Some of these cookies are necessary for the website to function, whilst others require your consent. More detail can be found in our cookie policy and you can tailor your choices in the preference centre.\")"
   ]
  },
  {
   "cell_type": "code",
   "execution_count": 114,
   "id": "b58178c0",
   "metadata": {},
   "outputs": [],
   "source": [
    "f.close()"
   ]
  },
  {
   "cell_type": "code",
   "execution_count": 118,
   "id": "a6417cca",
   "metadata": {},
   "outputs": [],
   "source": [
    "f=open(\"hydpara.txt\",\"r\")"
   ]
  },
  {
   "cell_type": "code",
   "execution_count": 119,
   "id": "5a26f3d0",
   "metadata": {},
   "outputs": [
    {
     "data": {
      "text/plain": [
       "'That is animal abuse and they should not do that because then the animals are the ones that attack us, they are living beings that feel like we do and with this we cause them to no longer trust us.We use both first and third-party cookies to personalise web content, analyse visits to our websites and tailor advertisements. Some of these cookies are necessary for the website to function, whilst others require your consent. More detail can be found in our cookie policy and you can tailor your choices in the preference centre.'"
      ]
     },
     "execution_count": 119,
     "metadata": {},
     "output_type": "execute_result"
    }
   ],
   "source": [
    "f.read()"
   ]
  },
  {
   "cell_type": "code",
   "execution_count": 120,
   "id": "0ef942cf",
   "metadata": {},
   "outputs": [
    {
     "data": {
      "text/plain": [
       "0"
      ]
     },
     "execution_count": 120,
     "metadata": {},
     "output_type": "execute_result"
    }
   ],
   "source": [
    "f.seek(0)"
   ]
  },
  {
   "cell_type": "code",
   "execution_count": 121,
   "id": "25bf9263",
   "metadata": {},
   "outputs": [
    {
     "data": {
      "text/plain": [
       "['That is animal abuse and they should not do that because then the animals are the ones that attack us, they are living beings that feel like we do and with this we cause them to no longer trust us.We use both first and third-party cookies to personalise web content, analyse visits to our websites and tailor advertisements. Some of these cookies are necessary for the website to function, whilst others require your consent. More detail can be found in our cookie policy and you can tailor your choices in the preference centre.']"
      ]
     },
     "execution_count": 121,
     "metadata": {},
     "output_type": "execute_result"
    }
   ],
   "source": [
    "f.readlines()"
   ]
  },
  {
   "cell_type": "code",
   "execution_count": 122,
   "id": "28cc0c07",
   "metadata": {},
   "outputs": [
    {
     "data": {
      "text/plain": [
       "0"
      ]
     },
     "execution_count": 122,
     "metadata": {},
     "output_type": "execute_result"
    }
   ],
   "source": [
    "f.seek(0)"
   ]
  },
  {
   "cell_type": "code",
   "execution_count": 123,
   "id": "cbd23e4e",
   "metadata": {},
   "outputs": [],
   "source": [
    "f.close()"
   ]
  },
  {
   "cell_type": "code",
   "execution_count": 124,
   "id": "fc977f33",
   "metadata": {},
   "outputs": [],
   "source": [
    "f=open(\"hydpara.txt\",\"r+\")"
   ]
  },
  {
   "cell_type": "code",
   "execution_count": 125,
   "id": "2e621b56",
   "metadata": {},
   "outputs": [
    {
     "name": "stdout",
     "output_type": "stream",
     "text": [
      "That is animal abuse and they should not do that because then the animals are the ones that attack us, they are living beings that feel like we do and with this we cause them to no longer trust us.We use both first and third-party cookies to personalise web content, analyse visits to our websites and tailor advertisements. Some of these cookies are necessary for the website to function, whilst others require your consent. More detail can be found in our cookie policy and you can tailor your choices in the preference centre. "
     ]
    }
   ],
   "source": [
    "for line in f:\n",
    "    print(line, end=\" \")"
   ]
  },
  {
   "cell_type": "code",
   "execution_count": 126,
   "id": "e54a4c98",
   "metadata": {},
   "outputs": [
    {
     "data": {
      "text/plain": [
       "0"
      ]
     },
     "execution_count": 126,
     "metadata": {},
     "output_type": "execute_result"
    }
   ],
   "source": [
    "f.seek(0)"
   ]
  },
  {
   "cell_type": "code",
   "execution_count": 127,
   "id": "eb3e6172",
   "metadata": {},
   "outputs": [
    {
     "data": {
      "text/plain": [
       "'That is animal abuse and they should not do that because then the animals are the ones that attack us, they are living beings that feel like we do and with this we cause them to no longer trust us.We use both first and third-party cookies to personalise web content, analyse visits to our websites and tailor advertisements. Some of these cookies are necessary for the website to function, whilst others require your consent. More detail can be found in our cookie policy and you can tailor your choices in the preference centre.'"
      ]
     },
     "execution_count": 127,
     "metadata": {},
     "output_type": "execute_result"
    }
   ],
   "source": [
    "f.read()"
   ]
  },
  {
   "cell_type": "code",
   "execution_count": 128,
   "id": "70c48af7",
   "metadata": {},
   "outputs": [
    {
     "data": {
      "text/plain": [
       "529"
      ]
     },
     "execution_count": 128,
     "metadata": {},
     "output_type": "execute_result"
    }
   ],
   "source": [
    "f.tell()"
   ]
  },
  {
   "cell_type": "code",
   "execution_count": 129,
   "id": "f58315c9",
   "metadata": {},
   "outputs": [
    {
     "data": {
      "text/plain": [
       "156"
      ]
     },
     "execution_count": 129,
     "metadata": {},
     "output_type": "execute_result"
    }
   ],
   "source": [
    "f.write(\"Do you like listening to and reading stories? Reading stories is a great way to improve your vocabulary and we have lots of great stories for you to watch. \")"
   ]
  },
  {
   "cell_type": "code",
   "execution_count": 130,
   "id": "1cc1159b",
   "metadata": {},
   "outputs": [
    {
     "data": {
      "text/plain": [
       "''"
      ]
     },
     "execution_count": 130,
     "metadata": {},
     "output_type": "execute_result"
    }
   ],
   "source": [
    "f.read()"
   ]
  },
  {
   "cell_type": "code",
   "execution_count": 131,
   "id": "58eaad0a",
   "metadata": {},
   "outputs": [
    {
     "data": {
      "text/plain": [
       "0"
      ]
     },
     "execution_count": 131,
     "metadata": {},
     "output_type": "execute_result"
    }
   ],
   "source": [
    "f.seek(0)"
   ]
  },
  {
   "cell_type": "code",
   "execution_count": 132,
   "id": "cc3950a0",
   "metadata": {},
   "outputs": [
    {
     "data": {
      "text/plain": [
       "'That is animal abuse and they should not do that because then the animals are the ones that attack us, they are living beings that feel like we do and with this we cause them to no longer trust us.We use both first and third-party cookies to personalise web content, analyse visits to our websites and tailor advertisements. Some of these cookies are necessary for the website to function, whilst others require your consent. More detail can be found in our cookie policy and you can tailor your choices in the preference centre.Do you like listening to and reading stories? Reading stories is a great way to improve your vocabulary and we have lots of great stories for you to watch. '"
      ]
     },
     "execution_count": 132,
     "metadata": {},
     "output_type": "execute_result"
    }
   ],
   "source": [
    "f.read()"
   ]
  },
  {
   "cell_type": "code",
   "execution_count": 133,
   "id": "f5e1361a",
   "metadata": {},
   "outputs": [],
   "source": [
    "f.close()"
   ]
  },
  {
   "cell_type": "code",
   "execution_count": 142,
   "id": "3e88e9fe",
   "metadata": {},
   "outputs": [],
   "source": [
    "f=open(\"hydpara.txt\",\"r+\")"
   ]
  },
  {
   "cell_type": "code",
   "execution_count": 143,
   "id": "7778e82e",
   "metadata": {},
   "outputs": [
    {
     "data": {
      "text/plain": [
       "'We have a list of short moral stories for kids that you can read to your kids. These stories will help instil moral values in your kids and get them hooked on reading.se them to no longer trust us.We use both first and third-party cookies to personalise web content, analyse visits to our websites and tailor advertisements. Some of these cookies are necessary for the website to function, whilst others require your consent. More detail can be found in our cookie policy and you can tailor your choices in the preference centre.Do you like listening to and reading stories? Reading stories is a great way to improve your vocabulary and we have lots of great stories for you to watch. '"
      ]
     },
     "execution_count": 143,
     "metadata": {},
     "output_type": "execute_result"
    }
   ],
   "source": [
    "f.read()"
   ]
  },
  {
   "cell_type": "code",
   "execution_count": 144,
   "id": "7cf5ddcd",
   "metadata": {},
   "outputs": [
    {
     "data": {
      "text/plain": [
       "0"
      ]
     },
     "execution_count": 144,
     "metadata": {},
     "output_type": "execute_result"
    }
   ],
   "source": [
    "f.seek(0)"
   ]
  },
  {
   "cell_type": "code",
   "execution_count": 145,
   "id": "b5e24918",
   "metadata": {},
   "outputs": [
    {
     "data": {
      "text/plain": [
       "167"
      ]
     },
     "execution_count": 145,
     "metadata": {},
     "output_type": "execute_result"
    }
   ],
   "source": [
    "f.write(\"We have a list of short moral stories for kids that you can read to your kids. These stories will help instil moral values in your kids and get them hooked on reading.\")"
   ]
  },
  {
   "cell_type": "code",
   "execution_count": 146,
   "id": "51d6f284",
   "metadata": {},
   "outputs": [
    {
     "data": {
      "text/plain": [
       "0"
      ]
     },
     "execution_count": 146,
     "metadata": {},
     "output_type": "execute_result"
    }
   ],
   "source": [
    "f.seek(0)"
   ]
  },
  {
   "cell_type": "code",
   "execution_count": 147,
   "id": "2c689197",
   "metadata": {},
   "outputs": [
    {
     "data": {
      "text/plain": [
       "'We have a list of short moral stories for kids that you can read to your kids. These stories will help instil moral values in your kids and get them hooked on reading.se them to no longer trust us.We use both first and third-party cookies to personalise web content, analyse visits to our websites and tailor advertisements. Some of these cookies are necessary for the website to function, whilst others require your consent. More detail can be found in our cookie policy and you can tailor your choices in the preference centre.Do you like listening to and reading stories? Reading stories is a great way to improve your vocabulary and we have lots of great stories for you to watch. '"
      ]
     },
     "execution_count": 147,
     "metadata": {},
     "output_type": "execute_result"
    }
   ],
   "source": [
    "f.read()"
   ]
  },
  {
   "cell_type": "code",
   "execution_count": 141,
   "id": "5d4acb70",
   "metadata": {},
   "outputs": [],
   "source": [
    "f.close()"
   ]
  },
  {
   "cell_type": "code",
   "execution_count": 148,
   "id": "f7b3f0f8",
   "metadata": {},
   "outputs": [],
   "source": [
    "f=open(\"hydpara.txt\",\"r+\")"
   ]
  },
  {
   "cell_type": "code",
   "execution_count": 149,
   "id": "4122b3e4",
   "metadata": {},
   "outputs": [
    {
     "data": {
      "text/plain": [
       "['We have a list of short moral stories for kids that you can read to your kids. These stories will help instil moral values in your kids and get them hooked on reading.se them to no longer trust us.We use both first and third-party cookies to personalise web content, analyse visits to our websites and tailor advertisements. Some of these cookies are necessary for the website to function, whilst others require your consent. More detail can be found in our cookie policy and you can tailor your choices in the preference centre.Do you like listening to and reading stories? Reading stories is a great way to improve your vocabulary and we have lots of great stories for you to watch. ']"
      ]
     },
     "execution_count": 149,
     "metadata": {},
     "output_type": "execute_result"
    }
   ],
   "source": [
    "f.readlines()"
   ]
  },
  {
   "cell_type": "code",
   "execution_count": 150,
   "id": "3d8dc855",
   "metadata": {},
   "outputs": [
    {
     "data": {
      "text/plain": [
       "0"
      ]
     },
     "execution_count": 150,
     "metadata": {},
     "output_type": "execute_result"
    }
   ],
   "source": [
    "len(f.readlines())"
   ]
  },
  {
   "cell_type": "code",
   "execution_count": 151,
   "id": "f82dfff9",
   "metadata": {},
   "outputs": [
    {
     "data": {
      "text/plain": [
       "0"
      ]
     },
     "execution_count": 151,
     "metadata": {},
     "output_type": "execute_result"
    }
   ],
   "source": [
    "f.seek(0)"
   ]
  },
  {
   "cell_type": "code",
   "execution_count": 152,
   "id": "9764b2d3",
   "metadata": {},
   "outputs": [],
   "source": [
    "l=f.readlines()"
   ]
  },
  {
   "cell_type": "code",
   "execution_count": 153,
   "id": "fd447d25",
   "metadata": {},
   "outputs": [
    {
     "data": {
      "text/plain": [
       "['We have a list of short moral stories for kids that you can read to your kids. These stories will help instil moral values in your kids and get them hooked on reading.se them to no longer trust us.We use both first and third-party cookies to personalise web content, analyse visits to our websites and tailor advertisements. Some of these cookies are necessary for the website to function, whilst others require your consent. More detail can be found in our cookie policy and you can tailor your choices in the preference centre.Do you like listening to and reading stories? Reading stories is a great way to improve your vocabulary and we have lots of great stories for you to watch. ']"
      ]
     },
     "execution_count": 153,
     "metadata": {},
     "output_type": "execute_result"
    }
   ],
   "source": [
    "l"
   ]
  },
  {
   "cell_type": "code",
   "execution_count": 155,
   "id": "51643bf1",
   "metadata": {},
   "outputs": [
    {
     "data": {
      "text/plain": [
       "'We have a list of short moral stories for kids that you can read to your kids. These stories will help instil moral values in your kids and get them hooked on reading.se them to no longer trust us.We use both first and third-party cookies to personalise web content, analyse visits to our websites and tailor advertisements. Some of these cookies are necessary for the website to function, whilst others require your consent. More detail can be found in our cookie policy and you can tailor your choices in the preference centre.Do you like listening to and reading stories? Reading stories is a great way to improve your vocabulary and we have lots of great stories for you to watch. '"
      ]
     },
     "execution_count": 155,
     "metadata": {},
     "output_type": "execute_result"
    }
   ],
   "source": [
    "l[0]"
   ]
  },
  {
   "cell_type": "code",
   "execution_count": 156,
   "id": "59464325",
   "metadata": {},
   "outputs": [
    {
     "data": {
      "text/plain": [
       "['We',\n",
       " 'have',\n",
       " 'a',\n",
       " 'list',\n",
       " 'of',\n",
       " 'short',\n",
       " 'moral',\n",
       " 'stories',\n",
       " 'for',\n",
       " 'kids',\n",
       " 'that',\n",
       " 'you',\n",
       " 'can',\n",
       " 'read',\n",
       " 'to',\n",
       " 'your',\n",
       " 'kids.',\n",
       " 'These',\n",
       " 'stories',\n",
       " 'will',\n",
       " 'help',\n",
       " 'instil',\n",
       " 'moral',\n",
       " 'values',\n",
       " 'in',\n",
       " 'your',\n",
       " 'kids',\n",
       " 'and',\n",
       " 'get',\n",
       " 'them',\n",
       " 'hooked',\n",
       " 'on',\n",
       " 'reading.se',\n",
       " 'them',\n",
       " 'to',\n",
       " 'no',\n",
       " 'longer',\n",
       " 'trust',\n",
       " 'us.We',\n",
       " 'use',\n",
       " 'both',\n",
       " 'first',\n",
       " 'and',\n",
       " 'third-party',\n",
       " 'cookies',\n",
       " 'to',\n",
       " 'personalise',\n",
       " 'web',\n",
       " 'content,',\n",
       " 'analyse',\n",
       " 'visits',\n",
       " 'to',\n",
       " 'our',\n",
       " 'websites',\n",
       " 'and',\n",
       " 'tailor',\n",
       " 'advertisements.',\n",
       " 'Some',\n",
       " 'of',\n",
       " 'these',\n",
       " 'cookies',\n",
       " 'are',\n",
       " 'necessary',\n",
       " 'for',\n",
       " 'the',\n",
       " 'website',\n",
       " 'to',\n",
       " 'function,',\n",
       " 'whilst',\n",
       " 'others',\n",
       " 'require',\n",
       " 'your',\n",
       " 'consent.',\n",
       " 'More',\n",
       " 'detail',\n",
       " 'can',\n",
       " 'be',\n",
       " 'found',\n",
       " 'in',\n",
       " 'our',\n",
       " 'cookie',\n",
       " 'policy',\n",
       " 'and',\n",
       " 'you',\n",
       " 'can',\n",
       " 'tailor',\n",
       " 'your',\n",
       " 'choices',\n",
       " 'in',\n",
       " 'the',\n",
       " 'preference',\n",
       " 'centre.Do',\n",
       " 'you',\n",
       " 'like',\n",
       " 'listening',\n",
       " 'to',\n",
       " 'and',\n",
       " 'reading',\n",
       " 'stories?',\n",
       " 'Reading',\n",
       " 'stories',\n",
       " 'is',\n",
       " 'a',\n",
       " 'great',\n",
       " 'way',\n",
       " 'to',\n",
       " 'improve',\n",
       " 'your',\n",
       " 'vocabulary',\n",
       " 'and',\n",
       " 'we',\n",
       " 'have',\n",
       " 'lots',\n",
       " 'of',\n",
       " 'great',\n",
       " 'stories',\n",
       " 'for',\n",
       " 'you',\n",
       " 'to',\n",
       " 'watch.']"
      ]
     },
     "execution_count": 156,
     "metadata": {},
     "output_type": "execute_result"
    }
   ],
   "source": [
    "l[0].split()"
   ]
  },
  {
   "cell_type": "code",
   "execution_count": 158,
   "id": "b7cf0da5",
   "metadata": {},
   "outputs": [
    {
     "data": {
      "text/plain": [
       "['We',\n",
       " 'have',\n",
       " 'a',\n",
       " 'list',\n",
       " 'of',\n",
       " 'short',\n",
       " 'moral',\n",
       " 'stories',\n",
       " 'for',\n",
       " 'kids',\n",
       " 'that',\n",
       " 'you',\n",
       " 'can',\n",
       " 'read',\n",
       " 'to',\n",
       " 'your',\n",
       " 'kids.',\n",
       " 'These',\n",
       " 'stories',\n",
       " 'will',\n",
       " 'help',\n",
       " 'instil',\n",
       " 'moral',\n",
       " 'values',\n",
       " 'in',\n",
       " 'your',\n",
       " 'kids',\n",
       " 'and',\n",
       " 'get',\n",
       " 'them',\n",
       " 'hooked',\n",
       " 'on',\n",
       " 'reading.se',\n",
       " 'them',\n",
       " 'to',\n",
       " 'no',\n",
       " 'longer',\n",
       " 'trust',\n",
       " 'us.We',\n",
       " 'use',\n",
       " 'both',\n",
       " 'first',\n",
       " 'and',\n",
       " 'third-party',\n",
       " 'cookies',\n",
       " 'to',\n",
       " 'personalise',\n",
       " 'web',\n",
       " 'content,',\n",
       " 'analyse',\n",
       " 'visits',\n",
       " 'to',\n",
       " 'our',\n",
       " 'websites',\n",
       " 'and',\n",
       " 'tailor',\n",
       " 'advertisements.',\n",
       " 'Some',\n",
       " 'of',\n",
       " 'these',\n",
       " 'cookies',\n",
       " 'are',\n",
       " 'necessary',\n",
       " 'for',\n",
       " 'the',\n",
       " 'website',\n",
       " 'to',\n",
       " 'function,',\n",
       " 'whilst',\n",
       " 'others',\n",
       " 'require',\n",
       " 'your',\n",
       " 'consent.',\n",
       " 'More',\n",
       " 'detail',\n",
       " 'can',\n",
       " 'be',\n",
       " 'found',\n",
       " 'in',\n",
       " 'our',\n",
       " 'cookie',\n",
       " 'policy',\n",
       " 'and',\n",
       " 'you',\n",
       " 'can',\n",
       " 'tailor',\n",
       " 'your',\n",
       " 'choices',\n",
       " 'in',\n",
       " 'the',\n",
       " 'preference',\n",
       " 'centre.Do',\n",
       " 'you',\n",
       " 'like',\n",
       " 'listening',\n",
       " 'to',\n",
       " 'and',\n",
       " 'reading',\n",
       " 'stories?',\n",
       " 'Reading',\n",
       " 'stories',\n",
       " 'is',\n",
       " 'a',\n",
       " 'great',\n",
       " 'way',\n",
       " 'to',\n",
       " 'improve',\n",
       " 'your',\n",
       " 'vocabulary',\n",
       " 'and',\n",
       " 'we',\n",
       " 'have',\n",
       " 'lots',\n",
       " 'of',\n",
       " 'great',\n",
       " 'stories',\n",
       " 'for',\n",
       " 'you',\n",
       " 'to',\n",
       " 'watch.']"
      ]
     },
     "execution_count": 158,
     "metadata": {},
     "output_type": "execute_result"
    }
   ],
   "source": [
    "l[0].split()"
   ]
  },
  {
   "cell_type": "code",
   "execution_count": 160,
   "id": "000595ad",
   "metadata": {},
   "outputs": [],
   "source": [
    "c=[]\n",
    "for i in l[0].split():\n",
    "    c.append(i[0])\n",
    "    "
   ]
  },
  {
   "cell_type": "code",
   "execution_count": 161,
   "id": "6162f385",
   "metadata": {},
   "outputs": [
    {
     "data": {
      "text/plain": [
       "['W',\n",
       " 'h',\n",
       " 'a',\n",
       " 'l',\n",
       " 'o',\n",
       " 's',\n",
       " 'm',\n",
       " 's',\n",
       " 'f',\n",
       " 'k',\n",
       " 't',\n",
       " 'y',\n",
       " 'c',\n",
       " 'r',\n",
       " 't',\n",
       " 'y',\n",
       " 'k',\n",
       " 'T',\n",
       " 's',\n",
       " 'w',\n",
       " 'h',\n",
       " 'i',\n",
       " 'm',\n",
       " 'v',\n",
       " 'i',\n",
       " 'y',\n",
       " 'k',\n",
       " 'a',\n",
       " 'g',\n",
       " 't',\n",
       " 'h',\n",
       " 'o',\n",
       " 'r',\n",
       " 't',\n",
       " 't',\n",
       " 'n',\n",
       " 'l',\n",
       " 't',\n",
       " 'u',\n",
       " 'u',\n",
       " 'b',\n",
       " 'f',\n",
       " 'a',\n",
       " 't',\n",
       " 'c',\n",
       " 't',\n",
       " 'p',\n",
       " 'w',\n",
       " 'c',\n",
       " 'a',\n",
       " 'v',\n",
       " 't',\n",
       " 'o',\n",
       " 'w',\n",
       " 'a',\n",
       " 't',\n",
       " 'a',\n",
       " 'S',\n",
       " 'o',\n",
       " 't',\n",
       " 'c',\n",
       " 'a',\n",
       " 'n',\n",
       " 'f',\n",
       " 't',\n",
       " 'w',\n",
       " 't',\n",
       " 'f',\n",
       " 'w',\n",
       " 'o',\n",
       " 'r',\n",
       " 'y',\n",
       " 'c',\n",
       " 'M',\n",
       " 'd',\n",
       " 'c',\n",
       " 'b',\n",
       " 'f',\n",
       " 'i',\n",
       " 'o',\n",
       " 'c',\n",
       " 'p',\n",
       " 'a',\n",
       " 'y',\n",
       " 'c',\n",
       " 't',\n",
       " 'y',\n",
       " 'c',\n",
       " 'i',\n",
       " 't',\n",
       " 'p',\n",
       " 'c',\n",
       " 'y',\n",
       " 'l',\n",
       " 'l',\n",
       " 't',\n",
       " 'a',\n",
       " 'r',\n",
       " 's',\n",
       " 'R',\n",
       " 's',\n",
       " 'i',\n",
       " 'a',\n",
       " 'g',\n",
       " 'w',\n",
       " 't',\n",
       " 'i',\n",
       " 'y',\n",
       " 'v',\n",
       " 'a',\n",
       " 'w',\n",
       " 'h',\n",
       " 'l',\n",
       " 'o',\n",
       " 'g',\n",
       " 's',\n",
       " 'f',\n",
       " 'y',\n",
       " 't',\n",
       " 'w']"
      ]
     },
     "execution_count": 161,
     "metadata": {},
     "output_type": "execute_result"
    }
   ],
   "source": [
    "c"
   ]
  },
  {
   "cell_type": "code",
   "execution_count": 164,
   "id": "771ef7e1",
   "metadata": {},
   "outputs": [
    {
     "data": {
      "text/plain": [
       "0"
      ]
     },
     "execution_count": 164,
     "metadata": {},
     "output_type": "execute_result"
    }
   ],
   "source": [
    "f.seek(0)"
   ]
  },
  {
   "cell_type": "code",
   "execution_count": 165,
   "id": "5a77f167",
   "metadata": {},
   "outputs": [
    {
     "data": {
      "text/plain": [
       "'We have a list of short moral stories for kids that you can read to your kids. These stories will help instil moral values in your kids and get them hooked on reading.se them to no longer trust us.We use both first and third-party cookies to personalise web content, analyse visits to our websites and tailor advertisements. Some of these cookies are necessary for the website to function, whilst others require your consent. More detail can be found in our cookie policy and you can tailor your choices in the preference centre.Do you like listening to and reading stories? Reading stories is a great way to improve your vocabulary and we have lots of great stories for you to watch. '"
      ]
     },
     "execution_count": 165,
     "metadata": {},
     "output_type": "execute_result"
    }
   ],
   "source": [
    "f.read()"
   ]
  },
  {
   "cell_type": "code",
   "execution_count": 170,
   "id": "12f67089",
   "metadata": {},
   "outputs": [
    {
     "data": {
      "text/plain": [
       "0"
      ]
     },
     "execution_count": 170,
     "metadata": {},
     "output_type": "execute_result"
    }
   ],
   "source": [
    "f.seek(0)"
   ]
  },
  {
   "cell_type": "code",
   "execution_count": 171,
   "id": "eaafa25e",
   "metadata": {},
   "outputs": [],
   "source": [
    "h=f.readlines()"
   ]
  },
  {
   "cell_type": "code",
   "execution_count": 172,
   "id": "a41ef632",
   "metadata": {},
   "outputs": [
    {
     "data": {
      "text/plain": [
       "['We have a list of short moral stories for kids that you can read to your kids. These stories will help instil moral values in your kids and get them hooked on reading.se them to no longer trust us.We use both first and third-party cookies to personalise web content, analyse visits to our websites and tailor advertisements. Some of these cookies are necessary for the website to function, whilst others require your consent. More detail can be found in our cookie policy and you can tailor your choices in the preference centre.Do you like listening to and reading stories? Reading stories is a great way to improve your vocabulary and we have lots of great stories for you to watch. ']"
      ]
     },
     "execution_count": 172,
     "metadata": {},
     "output_type": "execute_result"
    }
   ],
   "source": [
    "h"
   ]
  },
  {
   "cell_type": "code",
   "execution_count": 173,
   "id": "5472706d",
   "metadata": {},
   "outputs": [
    {
     "data": {
      "text/plain": [
       "'We have a list of short moral stories for kids that you can read to your kids. These stories will help instil moral values in your kids and get them hooked on reading.se them to no longer trust us.We use both first and third-party cookies to personalise web content, analyse visits to our websites and tailor advertisements. Some of these cookies are necessary for the website to function, whilst others require your consent. More detail can be found in our cookie policy and you can tailor your choices in the preference centre.Do you like listening to and reading stories? Reading stories is a great way to improve your vocabulary and we have lots of great stories for you to watch. '"
      ]
     },
     "execution_count": 173,
     "metadata": {},
     "output_type": "execute_result"
    }
   ],
   "source": [
    "h[0]"
   ]
  },
  {
   "cell_type": "code",
   "execution_count": 175,
   "id": "934344fc",
   "metadata": {},
   "outputs": [],
   "source": [
    "k=h[0].split()"
   ]
  },
  {
   "cell_type": "code",
   "execution_count": 176,
   "id": "8a0c2899",
   "metadata": {},
   "outputs": [
    {
     "data": {
      "text/plain": [
       "['We',\n",
       " 'have',\n",
       " 'a',\n",
       " 'list',\n",
       " 'of',\n",
       " 'short',\n",
       " 'moral',\n",
       " 'stories',\n",
       " 'for',\n",
       " 'kids',\n",
       " 'that',\n",
       " 'you',\n",
       " 'can',\n",
       " 'read',\n",
       " 'to',\n",
       " 'your',\n",
       " 'kids.',\n",
       " 'These',\n",
       " 'stories',\n",
       " 'will',\n",
       " 'help',\n",
       " 'instil',\n",
       " 'moral',\n",
       " 'values',\n",
       " 'in',\n",
       " 'your',\n",
       " 'kids',\n",
       " 'and',\n",
       " 'get',\n",
       " 'them',\n",
       " 'hooked',\n",
       " 'on',\n",
       " 'reading.se',\n",
       " 'them',\n",
       " 'to',\n",
       " 'no',\n",
       " 'longer',\n",
       " 'trust',\n",
       " 'us.We',\n",
       " 'use',\n",
       " 'both',\n",
       " 'first',\n",
       " 'and',\n",
       " 'third-party',\n",
       " 'cookies',\n",
       " 'to',\n",
       " 'personalise',\n",
       " 'web',\n",
       " 'content,',\n",
       " 'analyse',\n",
       " 'visits',\n",
       " 'to',\n",
       " 'our',\n",
       " 'websites',\n",
       " 'and',\n",
       " 'tailor',\n",
       " 'advertisements.',\n",
       " 'Some',\n",
       " 'of',\n",
       " 'these',\n",
       " 'cookies',\n",
       " 'are',\n",
       " 'necessary',\n",
       " 'for',\n",
       " 'the',\n",
       " 'website',\n",
       " 'to',\n",
       " 'function,',\n",
       " 'whilst',\n",
       " 'others',\n",
       " 'require',\n",
       " 'your',\n",
       " 'consent.',\n",
       " 'More',\n",
       " 'detail',\n",
       " 'can',\n",
       " 'be',\n",
       " 'found',\n",
       " 'in',\n",
       " 'our',\n",
       " 'cookie',\n",
       " 'policy',\n",
       " 'and',\n",
       " 'you',\n",
       " 'can',\n",
       " 'tailor',\n",
       " 'your',\n",
       " 'choices',\n",
       " 'in',\n",
       " 'the',\n",
       " 'preference',\n",
       " 'centre.Do',\n",
       " 'you',\n",
       " 'like',\n",
       " 'listening',\n",
       " 'to',\n",
       " 'and',\n",
       " 'reading',\n",
       " 'stories?',\n",
       " 'Reading',\n",
       " 'stories',\n",
       " 'is',\n",
       " 'a',\n",
       " 'great',\n",
       " 'way',\n",
       " 'to',\n",
       " 'improve',\n",
       " 'your',\n",
       " 'vocabulary',\n",
       " 'and',\n",
       " 'we',\n",
       " 'have',\n",
       " 'lots',\n",
       " 'of',\n",
       " 'great',\n",
       " 'stories',\n",
       " 'for',\n",
       " 'you',\n",
       " 'to',\n",
       " 'watch.']"
      ]
     },
     "execution_count": 176,
     "metadata": {},
     "output_type": "execute_result"
    }
   ],
   "source": [
    "k"
   ]
  },
  {
   "cell_type": "code",
   "execution_count": 179,
   "id": "1788d6ce",
   "metadata": {},
   "outputs": [
    {
     "data": {
      "text/plain": [
       "'hydpara.txt'"
      ]
     },
     "execution_count": 179,
     "metadata": {},
     "output_type": "execute_result"
    }
   ],
   "source": [
    "f.name"
   ]
  },
  {
   "cell_type": "code",
   "execution_count": 180,
   "id": "358a198a",
   "metadata": {},
   "outputs": [],
   "source": [
    "l=[\"raji\",\"pavan\",\"sanvi\",\"seivi\"]"
   ]
  },
  {
   "cell_type": "code",
   "execution_count": 181,
   "id": "3ef28fb6",
   "metadata": {},
   "outputs": [
    {
     "data": {
      "text/plain": [
       "21"
      ]
     },
     "execution_count": 181,
     "metadata": {},
     "output_type": "execute_result"
    }
   ],
   "source": [
    "f.write(\"i can write at cursor\")"
   ]
  },
  {
   "cell_type": "code",
   "execution_count": 182,
   "id": "c3ec436a",
   "metadata": {},
   "outputs": [],
   "source": [
    "f.writelines(l)"
   ]
  },
  {
   "cell_type": "code",
   "execution_count": 183,
   "id": "85795568",
   "metadata": {},
   "outputs": [
    {
     "data": {
      "text/plain": [
       "0"
      ]
     },
     "execution_count": 183,
     "metadata": {},
     "output_type": "execute_result"
    }
   ],
   "source": [
    "f.seek(0)"
   ]
  },
  {
   "cell_type": "code",
   "execution_count": 184,
   "id": "c586cfb7",
   "metadata": {},
   "outputs": [
    {
     "data": {
      "text/plain": [
       "'We have a list of short moral stories for kids that you can read to your kids. These stories will help instil moral values in your kids and get them hooked on reading.se them to no longer trust us.We use both first and third-party cookies to personalise web content, analyse visits to our websites and tailor advertisements. Some of these cookies are necessary for the website to function, whilst others require your consent. More detail can be found in our cookie policy and you can tailor your choices in the preference centre.Do you like listening to and reading stories? Reading stories is a great way to improve your vocabulary and we have lots of great stories for you to watch. i can write at cursorrajipavansanviseivi'"
      ]
     },
     "execution_count": 184,
     "metadata": {},
     "output_type": "execute_result"
    }
   ],
   "source": [
    "f.read()"
   ]
  },
  {
   "cell_type": "code",
   "execution_count": 185,
   "id": "bb604996",
   "metadata": {},
   "outputs": [],
   "source": [
    " f.close()"
   ]
  },
  {
   "cell_type": "code",
   "execution_count": 186,
   "id": "0826655e",
   "metadata": {},
   "outputs": [],
   "source": [
    "f=open(\"hydpara.txt\",\"r+\")"
   ]
  },
  {
   "cell_type": "code",
   "execution_count": 187,
   "id": "903d1be7",
   "metadata": {},
   "outputs": [
    {
     "data": {
      "text/plain": [
       "5"
      ]
     },
     "execution_count": 187,
     "metadata": {},
     "output_type": "execute_result"
    }
   ],
   "source": [
    "f.fileno()"
   ]
  },
  {
   "cell_type": "code",
   "execution_count": 188,
   "id": "6255a1f2",
   "metadata": {},
   "outputs": [],
   "source": [
    "f.close()"
   ]
  },
  {
   "cell_type": "code",
   "execution_count": 189,
   "id": "4ebb39a6",
   "metadata": {},
   "outputs": [],
   "source": [
    "# to delete a file call os"
   ]
  },
  {
   "cell_type": "code",
   "execution_count": 190,
   "id": "1be4f4c8",
   "metadata": {},
   "outputs": [],
   "source": [
    "import os"
   ]
  },
  {
   "cell_type": "code",
   "execution_count": 192,
   "id": "409e7410",
   "metadata": {},
   "outputs": [],
   "source": [
    "os.remove(\"hydtest2.txt\")"
   ]
  },
  {
   "cell_type": "code",
   "execution_count": 193,
   "id": "a32216d1",
   "metadata": {},
   "outputs": [
    {
     "name": "stdout",
     "output_type": "stream",
     "text": [
      " Volume in drive C is Windows-SSD\n",
      " Volume Serial Number is BA08-EA00\n",
      "\n",
      " Directory of C:\\Users\\91903\n",
      "\n",
      "02-12-2023  13:59    <DIR>          .\n",
      "02-04-2023  19:05    <DIR>          ..\n",
      "31-07-2022  11:32    <DIR>          .astropy\n",
      "31-07-2022  11:13    <DIR>          .conda\n",
      "30-11-2022  14:28    <DIR>          .cufflinks\n",
      "08-05-2023  16:03    <DIR>          .idea\n",
      "02-12-2023  08:16    <DIR>          .ipynb_checkpoints\n",
      "21-02-2022  17:38    <DIR>          .ipython\n",
      "05-03-2022  10:37    <DIR>          .jupyter\n",
      "31-07-2022  11:40    <DIR>          .matplotlib\n",
      "07-05-2023  18:31    <DIR>          __pycache__\n",
      "08-10-2022  22:23            21,198 15th jan exception handling part1.ipynb\n",
      "26-02-2023  16:06             6,880 16th jan logging.ipynb\n",
      "25-08-2022  18:29            56,638 18th dec practice.ipynb\n",
      "18-08-2023  10:20            63,220 19th dec practice.ipynb\n",
      "11-09-2023  17:09         4,672,436 2023 20dec for loop  and while ipynb.ipynb\n",
      "11-09-2023  21:28            23,182 2023 21dec ipynb.ipynb\n",
      "14-09-2023  20:19            30,516 2023 23dec, 8th jan function ipynb.ipynb\n",
      "01-06-2023  15:09             9,891 2023 6th feb sql day2.ipynb\n",
      "11-09-2023  13:41            46,294 2023 dec18th set tuple dict ipynb part2.ipynb\n",
      "11-09-2023  12:26            25,571 2023 dec19th new ipynb if else.ipynb\n",
      "10-09-2023  22:01            68,837 2023 dec5th str,list new ipynb.ipynb\n",
      "07-05-2023  19:28           110,238 2023 modules and pycharm.ipynb\n",
      "11-05-2023  16:37            11,034 2023 sql part 1 feb5th.ipynb\n",
      "18-08-2023  11:24            21,293 20thdec practice.ipynb\n",
      "09-04-2022  15:17            23,165 21st dec practice.ipynb\n",
      "14-10-2022  16:05           100,700 22jan module discussion.ipynb\n",
      "14-10-2022  17:38             5,648 22jan oops concept.ipynb\n",
      "30-07-2022  13:00                 0 22jan.py\n",
      "30-07-2022  13:15                29 22jan1.py\n",
      "26-06-2022  21:49            22,964 23decrestart.ipynb\n",
      "11-04-2022  17:05            33,103 23rd dec practice.ipynb\n",
      "19-10-2022  14:31             8,048 23rd jan oops concept.ipynb\n",
      "24-08-2022  17:17            34,953 29jan oops.ipynb\n",
      "25-06-2022  23:46            18,529 8th jan .ipynb\n",
      "16-10-2022  22:12            38,125 8th jan practice.ipynb\n",
      "06-10-2022  19:59           105,942 9th jan iterator,generator and filesystem.ipynb\n",
      "27-06-2022  21:47            69,372 9thjanpractice.ipynb\n",
      "07-05-2023  18:05                 0 akhil.py\n",
      "21-02-2022  16:16    <DIR>          anaconda3\n",
      "02-12-2022  12:49             1,089 API FLASK1.ipynb\n",
      "04-07-2023  11:44            14,141 Assignment 8.ipynb\n",
      "04-07-2023  12:15             4,535 Assignment 9.ipynb\n",
      "28-02-2022  14:55             8,732 Assignment1.ipynb\n",
      "08-05-2022  18:10            15,719 assignment2.ipynb\n",
      "22-08-2022  11:36            15,644 Assignment4.ipynb\n",
      "14-10-2022  11:56    <DIR>          autoCompletion\n",
      "16-11-2022  14:49           461,474 bank.csv\n",
      "16-11-2022  14:46           461,474 bank.xls\n",
      "23-09-2022  02:00             1,007 change.log\n",
      "02-04-2023  19:10    <DIR>          Contacts\n",
      "17-01-2022  06:13             4,843 contextMenu.xml\n",
      "15-11-2022  11:25             5,845 cricket.csv\n",
      "10-11-2022  11:31             1,560 datastax.ipynb\n",
      "03-05-2022  12:58            55,145 dec 5th practice.ipynb\n",
      "25-08-2022  11:55            41,712 dec 5th practice2.ipynb\n",
      "16-08-2023  13:02            23,803 dec4th practice.ipynb\n",
      "01-04-2022  17:58    <DIR>          Documents\n",
      "01-12-2023  15:52    <DIR>          Downloads\n",
      "24-04-2023  13:09                22 enapple.ini\n",
      "13-10-2022  14:04            94,633 exception part2 and logging.ipynb\n",
      "30-06-2022  21:18            35,344 excpthndlng2.ipynb\n",
      "28-06-2022  23:07            12,467 exhndlng1.ipynb\n",
      "02-04-2023  19:10    <DIR>          Favorites\n",
      "05-10-2022  18:07            89,207 function dec 23rd class practice.ipynb\n",
      "14-10-2022  11:56    <DIR>          functionList\n",
      "14-10-2022  12:37               131 funmod1.py\n",
      "14-10-2022  12:22                 0 funmod2.py\n",
      "14-10-2022  12:53                94 funmod3.py\n",
      "14-10-2022  13:00                40 funmod4.py\n",
      "29-11-2022  22:57         3,078,946 graph 1.ipynb\n",
      "30-11-2022  17:59         1,789,919 graph2.ipynb\n",
      "01-12-2023  15:52            56,367 htd 8th jan.ipynb\n",
      "28-11-2023  15:16                72 hyd 1.ipynb\n",
      "30-11-2023  11:30            33,145 hyd 20th dec.ipynb\n",
      "30-11-2023  20:07            18,848 hyd 21st dec.ipynb\n",
      "01-12-2023  15:50            28,293 hyd 23rd dec.ipynb\n",
      "02-12-2023  13:59           105,209 hyd 9th jan.ipynb\n",
      "29-11-2023  11:37            80,734 hyd dec18th.ipynb\n",
      "01-12-2023  23:59           105,324 hyd practice book.ipynb\n",
      "29-11-2023  14:02            44,090 hyd19th dec.ipynb\n",
      "02-12-2023  13:48               725 hydpara.txt\n",
      "02-12-2023  12:12                34 hydtest.txt\n",
      "02-12-2023  11:59                38 hydtest1.txt\n",
      "31-07-2022  12:59            41,601 jan22practice.ipynb\n",
      "08-11-2022  15:10            12,288 joindb.db\n",
      "08-11-2022  15:20             8,720 joindb.db-journal\n",
      "15-11-2022  14:27            35,186 json_res.csv\n",
      "28-05-2022  07:17           350,341 langs.model.xml\n",
      "15-08-2021  05:50            35,500 LICENSE\n",
      "06-10-2022  19:56               147 life.txt\n",
      "02-04-2023  19:10    <DIR>          Links\n",
      "14-10-2022  11:56    <DIR>          localization\n",
      "06-10-2022  19:27             1,934 mahesh.txt\n",
      "06-10-2022  18:50                51 manasa.txt\n",
      "13-10-2022  13:52                 0 meethu.log\n",
      "07-05-2023  18:20               180 mini.py\n",
      "07-05-2023  17:55                 0 mod1.py\n",
      "07-05-2023  18:12               130 mod2.py\n",
      "07-05-2023  17:54                 0 module.py\n",
      "14-10-2022  11:39                 0 module2.py\n",
      "27-10-2022  12:23             5,444 mongodb.ipynb\n",
      "02-04-2023  19:10    <DIR>          Music\n",
      "30-07-2022  14:06               213 my_module.py\n",
      "25-10-2022  14:40            10,208 mysql class1.ipynb\n",
      "15-11-2022  11:15            78,961 NBA.csv\n",
      "07-05-2023  17:57    <DIR>          notepadplus\n",
      "05-12-2021  09:58                 0 nppLogNulContentCorruptionIssue.xml\n",
      "25-09-2022  23:30           232,984 NppShell_06.dll\n",
      "23-11-2022  17:51            50,763 numpy.ipynb\n",
      "02-04-2023  19:08    <DIR>          OneDrive\n",
      "31-07-2022  19:10             5,529 oops basic 22jan.ipynb\n",
      "01-08-2022  15:53            11,638 oops jan23.ipynb\n",
      "22-11-2022  21:35           107,440 pandas and numpy.ipynb\n",
      "10-11-2022  23:34           128,025 pandas1.ipynb\n",
      "15-11-2022  14:41           619,109 pandas2.ipynb\n",
      "16-11-2022  15:55           141,613 pandas3.ipynb\n",
      "17-11-2022  13:14               588 pandas4.ipynb\n",
      "21-11-2022  19:35           173,487 pandasday4.ipynb\n",
      "08-11-2022  14:51             8,192 person.db\n",
      "14-10-2022  11:56    <DIR>          plugins\n",
      "02-12-2022  11:38    <DIR>          Postman\n",
      "07-05-2023  19:11    <DIR>          PycharmProjects\n",
      "29-09-2022  08:46            10,630 python assignment 5.ipynb\n",
      "08-10-2022  23:27            14,458 python basic assignment 6.ipynb\n",
      "15-07-2023  12:52             7,374 python basic programming assignment 11.ipynb\n",
      "20-07-2023  15:51             6,955 python basic programming assignment 12.ipynb\n",
      "30-09-2022  18:26             6,317 python basic programming assignment 5.ipynb\n",
      "07-10-2022  00:13             6,545 python basic programming assignment 6.ipynb\n",
      "13-10-2022  16:11             4,776 python basic programming assignment 7.ipynb\n",
      "23-09-2022  16:44             7,776 python basic programming assignment4.ipynb\n",
      "11-07-2023  15:08             1,383 python programming assignment 10.ipynb\n",
      "14-07-2023  10:20             9,645 python programming assignment 11.ipynb\n",
      "04-07-2023  13:58             5,375 python programming assignment 8.ipynb\n",
      "09-07-2023  17:13            10,556 python programming assignment 9.ipynb\n",
      "22-08-2022  15:53             4,908 python programming assignment1.ipynb\n",
      "21-09-2022  14:12             4,130 python programming assignment2.ipynb\n",
      "22-09-2022  14:06            26,533 python programming assignment3.ipynb\n",
      "08-11-2022  14:54             8,192 raj.db\n",
      "08-10-2022  22:02                 9 raji.txt\n",
      "06-10-2022  19:42                58 rama.txt\n",
      "27-05-2021  04:27             1,526 readme.txt\n",
      "21-06-2022  13:45            23,522 restart 20dec.ipynb\n",
      "21-06-2022  17:07            21,171 restart 21dec.ipynb\n",
      "17-06-2022  16:30            17,684 restart dec19.ipynb\n",
      "14-10-2022  12:24                44 rfunmod1.py\n",
      "13-10-2022  13:29               480 ritu.log\n",
      "10-11-2022  19:13            14,905 Sales.csv\n",
      "10-11-2022  19:36               201 sample.csv\n",
      "10-11-2022  23:15               232 sample.xls.csv\n",
      "02-04-2023  19:10    <DIR>          Saved Games\n",
      "30-11-2022  14:30    <DIR>          seaborn-data\n",
      "02-04-2023  19:10    <DIR>          Searches\n",
      "13-10-2022  13:35               904 seethu.log\n",
      "27-05-2021  04:27               965 shortcuts.xml\n",
      "08-11-2022  19:47            77,976 sql lite 08112022.ipynb\n",
      "25-10-2022  14:40             8,079 sql part2.ipynb\n",
      "22-10-2022  23:32             7,994 sql2.ipynb\n",
      "20-09-2022  22:39           174,773 stylers.model.xml\n",
      "30-09-2022  17:37             6,652 sudhasirqsadans.ipynb\n",
      "30-06-2022  22:41               310 test.log\n",
      "02-12-2023  11:55                 0 test.txt\n",
      "13-10-2022  12:17                 4 test1\n",
      "13-10-2022  11:53                22 test1.txt\n",
      "30-07-2022  13:47               225 test11.py\n",
      "30-06-2022  22:53               278 test2.log\n",
      "27-06-2022  13:24                31 test2.txt\n",
      "14-10-2022  11:29                 0 test3.py\n",
      "28-06-2022  23:08                11 test3.txt\n",
      "30-06-2022  16:50                 0 test43.txt\n",
      "27-06-2022  21:30               551 test5.txt\n",
      "07-05-2023  18:31               138 testu.py\n",
      "14-10-2022  11:56    <DIR>          themes\n",
      "28-02-2022  20:21            53,575 Untitled.ipynb\n",
      "01-03-2022  14:37                72 Untitled1.ipynb\n",
      "27-02-2023  14:30             1,679 Untitled10.ipynb\n",
      "09-05-2023  10:29                72 Untitled11.ipynb\n",
      "04-07-2023  13:54             8,651 Untitled12.ipynb\n",
      "03-08-2023  10:33             3,443 Untitled13.ipynb\n",
      "03-03-2022  15:56            36,553 Untitled2.ipynb\n",
      "21-06-2022  15:32               588 Untitled3.ipynb\n",
      "27-06-2022  22:55             5,082 Untitled4.ipynb\n",
      "29-06-2022  00:49             5,617 Untitled5.ipynb\n",
      "30-07-2022  12:48             1,518 Untitled6.ipynb\n",
      "24-08-2022  17:18            18,874 Untitled7.ipynb\n",
      "16-10-2022  10:53               588 Untitled8.ipynb\n",
      "28-11-2022  14:32               796 Untitled9.ipynb\n",
      "14-10-2022  11:56    <DIR>          updater\n",
      "02-04-2023  19:10    <DIR>          Videos\n",
      "             157 File(s)     15,009,889 bytes\n",
      "              32 Dir(s)  418,207,330,304 bytes free\n"
     ]
    }
   ],
   "source": [
    "ls"
   ]
  },
  {
   "cell_type": "code",
   "execution_count": 194,
   "id": "ab9a496e",
   "metadata": {},
   "outputs": [
    {
     "ename": "NameError",
     "evalue": "name 'cwd' is not defined",
     "output_type": "error",
     "traceback": [
      "\u001b[1;31m---------------------------------------------------------------------------\u001b[0m",
      "\u001b[1;31mNameError\u001b[0m                                 Traceback (most recent call last)",
      "\u001b[1;32m~\\AppData\\Local\\Temp/ipykernel_41792/3559788311.py\u001b[0m in \u001b[0;36m<module>\u001b[1;34m\u001b[0m\n\u001b[1;32m----> 1\u001b[1;33m \u001b[0mcwd\u001b[0m\u001b[1;33m\u001b[0m\u001b[1;33m\u001b[0m\u001b[0m\n\u001b[0m",
      "\u001b[1;31mNameError\u001b[0m: name 'cwd' is not defined"
     ]
    }
   ],
   "source": [
    "cwd"
   ]
  },
  {
   "cell_type": "code",
   "execution_count": 195,
   "id": "f7956a01",
   "metadata": {},
   "outputs": [
    {
     "data": {
      "text/plain": [
       "'C:\\\\Users\\\\91903'"
      ]
     },
     "execution_count": 195,
     "metadata": {},
     "output_type": "execute_result"
    }
   ],
   "source": [
    "os.getcwd()"
   ]
  },
  {
   "cell_type": "code",
   "execution_count": 196,
   "id": "e26e0f6f",
   "metadata": {},
   "outputs": [
    {
     "data": {
      "text/plain": [
       "['.astropy',\n",
       " '.conda',\n",
       " '.cufflinks',\n",
       " '.idea',\n",
       " '.ipynb_checkpoints',\n",
       " '.ipython',\n",
       " '.jupyter',\n",
       " '.matplotlib',\n",
       " '.opera',\n",
       " '15th jan exception handling part1.ipynb',\n",
       " '16th jan logging.ipynb',\n",
       " '18th dec practice.ipynb',\n",
       " '19th dec practice.ipynb',\n",
       " '2023 20dec for loop  and while ipynb.ipynb',\n",
       " '2023 21dec ipynb.ipynb',\n",
       " '2023 23dec, 8th jan function ipynb.ipynb',\n",
       " '2023 6th feb sql day2.ipynb',\n",
       " '2023 dec18th set tuple dict ipynb part2.ipynb',\n",
       " '2023 dec19th new ipynb if else.ipynb',\n",
       " '2023 dec5th str,list new ipynb.ipynb',\n",
       " '2023 modules and pycharm.ipynb',\n",
       " '2023 sql part 1 feb5th.ipynb',\n",
       " '20thdec practice.ipynb',\n",
       " '21st dec practice.ipynb',\n",
       " '22jan module discussion.ipynb',\n",
       " '22jan oops concept.ipynb',\n",
       " '22jan.py',\n",
       " '22jan1.py',\n",
       " '23decrestart.ipynb',\n",
       " '23rd dec practice.ipynb',\n",
       " '23rd jan oops concept.ipynb',\n",
       " '29jan oops.ipynb',\n",
       " '8th jan .ipynb',\n",
       " '8th jan practice.ipynb',\n",
       " '9th jan iterator,generator and filesystem.ipynb',\n",
       " '9thjanpractice.ipynb',\n",
       " 'akhil.py',\n",
       " 'anaconda3',\n",
       " 'API FLASK1.ipynb',\n",
       " 'AppData',\n",
       " 'Application Data',\n",
       " 'Assignment 8.ipynb',\n",
       " 'Assignment 9.ipynb',\n",
       " 'Assignment1.ipynb',\n",
       " 'assignment2.ipynb',\n",
       " 'Assignment4.ipynb',\n",
       " 'autoCompletion',\n",
       " 'bank.csv',\n",
       " 'bank.xls',\n",
       " 'change.log',\n",
       " 'Contacts',\n",
       " 'contextMenu.xml',\n",
       " 'Cookies',\n",
       " 'cricket.csv',\n",
       " 'datastax.ipynb',\n",
       " 'dec 5th practice.ipynb',\n",
       " 'dec 5th practice2.ipynb',\n",
       " 'dec4th practice.ipynb',\n",
       " 'Documents',\n",
       " 'Downloads',\n",
       " 'enapple.ini',\n",
       " 'exception part2 and logging.ipynb',\n",
       " 'excpthndlng2.ipynb',\n",
       " 'exhndlng1.ipynb',\n",
       " 'Favorites',\n",
       " 'function dec 23rd class practice.ipynb',\n",
       " 'functionList',\n",
       " 'funmod1.py',\n",
       " 'funmod2.py',\n",
       " 'funmod3.py',\n",
       " 'funmod4.py',\n",
       " 'graph 1.ipynb',\n",
       " 'graph2.ipynb',\n",
       " 'htd 8th jan.ipynb',\n",
       " 'hyd 1.ipynb',\n",
       " 'hyd 20th dec.ipynb',\n",
       " 'hyd 21st dec.ipynb',\n",
       " 'hyd 23rd dec.ipynb',\n",
       " 'hyd 9th jan.ipynb',\n",
       " 'hyd dec18th.ipynb',\n",
       " 'hyd practice book.ipynb',\n",
       " 'hyd19th dec.ipynb',\n",
       " 'hydpara.txt',\n",
       " 'hydtest.txt',\n",
       " 'hydtest1.txt',\n",
       " 'IntelGraphicsProfiles',\n",
       " 'jan22practice.ipynb',\n",
       " 'joindb.db',\n",
       " 'joindb.db-journal',\n",
       " 'json_res.csv',\n",
       " 'langs.model.xml',\n",
       " 'LICENSE',\n",
       " 'life.txt',\n",
       " 'Links',\n",
       " 'Local Settings',\n",
       " 'localization',\n",
       " 'mahesh.txt',\n",
       " 'manasa.txt',\n",
       " 'meethu.log',\n",
       " 'mini.py',\n",
       " 'mod1.py',\n",
       " 'mod2.py',\n",
       " 'module.py',\n",
       " 'module2.py',\n",
       " 'mongodb.ipynb',\n",
       " 'Music',\n",
       " 'My Documents',\n",
       " 'mysql class1.ipynb',\n",
       " 'my_module.py',\n",
       " 'NBA.csv',\n",
       " 'NetHood',\n",
       " 'notepadplus',\n",
       " 'nppLogNulContentCorruptionIssue.xml',\n",
       " 'NppShell_06.dll',\n",
       " 'NTUSER.DAT',\n",
       " 'ntuser.dat.LOG1',\n",
       " 'ntuser.dat.LOG2',\n",
       " 'NTUSER.DAT{ffae3c57-d15a-11ed-8b1b-e018312c1022}.TM.blf',\n",
       " 'NTUSER.DAT{ffae3c57-d15a-11ed-8b1b-e018312c1022}.TMContainer00000000000000000001.regtrans-ms',\n",
       " 'NTUSER.DAT{ffae3c57-d15a-11ed-8b1b-e018312c1022}.TMContainer00000000000000000002.regtrans-ms',\n",
       " 'ntuser.ini',\n",
       " 'numpy.ipynb',\n",
       " 'OneDrive',\n",
       " 'oops basic 22jan.ipynb',\n",
       " 'oops jan23.ipynb',\n",
       " 'pandas and numpy.ipynb',\n",
       " 'pandas1.ipynb',\n",
       " 'pandas2.ipynb',\n",
       " 'pandas3.ipynb',\n",
       " 'pandas4.ipynb',\n",
       " 'pandasday4.ipynb',\n",
       " 'person.db',\n",
       " 'plugins',\n",
       " 'Postman',\n",
       " 'PrintHood',\n",
       " 'PycharmProjects',\n",
       " 'python assignment 5.ipynb',\n",
       " 'python basic assignment 6.ipynb',\n",
       " 'python basic programming assignment 11.ipynb',\n",
       " 'python basic programming assignment 12.ipynb',\n",
       " 'python basic programming assignment 5.ipynb',\n",
       " 'python basic programming assignment 6.ipynb',\n",
       " 'python basic programming assignment 7.ipynb',\n",
       " 'python basic programming assignment4.ipynb',\n",
       " 'python programming assignment 10.ipynb',\n",
       " 'python programming assignment 11.ipynb',\n",
       " 'python programming assignment 8.ipynb',\n",
       " 'python programming assignment 9.ipynb',\n",
       " 'python programming assignment1.ipynb',\n",
       " 'python programming assignment2.ipynb',\n",
       " 'python programming assignment3.ipynb',\n",
       " 'raj.db',\n",
       " 'raji.txt',\n",
       " 'rama.txt',\n",
       " 'readme.txt',\n",
       " 'Recent',\n",
       " 'restart 20dec.ipynb',\n",
       " 'restart 21dec.ipynb',\n",
       " 'restart dec19.ipynb',\n",
       " 'rfunmod1.py',\n",
       " 'ritu.log',\n",
       " 'Sales.csv',\n",
       " 'sample.csv',\n",
       " 'sample.xls.csv',\n",
       " 'Saved Games',\n",
       " 'seaborn-data',\n",
       " 'Searches',\n",
       " 'seethu.log',\n",
       " 'SendTo',\n",
       " 'shortcuts.xml',\n",
       " 'sql lite 08112022.ipynb',\n",
       " 'sql part2.ipynb',\n",
       " 'sql2.ipynb',\n",
       " 'Start Menu',\n",
       " 'stylers.model.xml',\n",
       " 'sudhasirqsadans.ipynb',\n",
       " 'Templates',\n",
       " 'test.log',\n",
       " 'test.txt',\n",
       " 'test1',\n",
       " 'test1.txt',\n",
       " 'test11.py',\n",
       " 'test2.log',\n",
       " 'test2.txt',\n",
       " 'test3.py',\n",
       " 'test3.txt',\n",
       " 'test43.txt',\n",
       " 'test5.txt',\n",
       " 'testu.py',\n",
       " 'themes',\n",
       " 'Untitled.ipynb',\n",
       " 'Untitled1.ipynb',\n",
       " 'Untitled10.ipynb',\n",
       " 'Untitled11.ipynb',\n",
       " 'Untitled12.ipynb',\n",
       " 'Untitled13.ipynb',\n",
       " 'Untitled2.ipynb',\n",
       " 'Untitled3.ipynb',\n",
       " 'Untitled4.ipynb',\n",
       " 'Untitled5.ipynb',\n",
       " 'Untitled6.ipynb',\n",
       " 'Untitled7.ipynb',\n",
       " 'Untitled8.ipynb',\n",
       " 'Untitled9.ipynb',\n",
       " 'updater',\n",
       " 'Videos',\n",
       " '__pycache__']"
      ]
     },
     "execution_count": 196,
     "metadata": {},
     "output_type": "execute_result"
    }
   ],
   "source": [
    "os.listdir()"
   ]
  },
  {
   "cell_type": "code",
   "execution_count": 197,
   "id": "3cb6a9ba",
   "metadata": {},
   "outputs": [],
   "source": [
    "import os"
   ]
  },
  {
   "cell_type": "code",
   "execution_count": 199,
   "id": "f0bd805b",
   "metadata": {},
   "outputs": [],
   "source": [
    "def bring_files(directory):\n",
    "    fileslist=[]\n",
    "    for root,_,files in os.walk(directory):\n",
    "        for file in files:\n",
    "            if file.endswith('.txt'):\n",
    "                fileslist.append(os.path.join(root,file))\n",
    "    return fileslist"
   ]
  },
  {
   "cell_type": "code",
   "execution_count": 205,
   "id": "9d7ab093",
   "metadata": {},
   "outputs": [
    {
     "ename": "KeyboardInterrupt",
     "evalue": "",
     "output_type": "error",
     "traceback": [
      "\u001b[1;31m---------------------------------------------------------------------------\u001b[0m",
      "\u001b[1;31mKeyboardInterrupt\u001b[0m                         Traceback (most recent call last)",
      "\u001b[1;32m~\\AppData\\Local\\Temp/ipykernel_41792/995058847.py\u001b[0m in \u001b[0;36m<module>\u001b[1;34m\u001b[0m\n\u001b[1;32m----> 1\u001b[1;33m \u001b[0mbring_files\u001b[0m\u001b[1;33m(\u001b[0m\u001b[1;34m'C:\\\\Users\\\\91903'\u001b[0m\u001b[1;33m)\u001b[0m\u001b[1;33m\u001b[0m\u001b[1;33m\u001b[0m\u001b[0m\n\u001b[0m",
      "\u001b[1;32m~\\AppData\\Local\\Temp/ipykernel_41792/3330539777.py\u001b[0m in \u001b[0;36mbring_files\u001b[1;34m(directory)\u001b[0m\n\u001b[0;32m      1\u001b[0m \u001b[1;32mdef\u001b[0m \u001b[0mbring_files\u001b[0m\u001b[1;33m(\u001b[0m\u001b[0mdirectory\u001b[0m\u001b[1;33m)\u001b[0m\u001b[1;33m:\u001b[0m\u001b[1;33m\u001b[0m\u001b[1;33m\u001b[0m\u001b[0m\n\u001b[0;32m      2\u001b[0m     \u001b[0mfileslist\u001b[0m\u001b[1;33m=\u001b[0m\u001b[1;33m[\u001b[0m\u001b[1;33m]\u001b[0m\u001b[1;33m\u001b[0m\u001b[1;33m\u001b[0m\u001b[0m\n\u001b[1;32m----> 3\u001b[1;33m     \u001b[1;32mfor\u001b[0m \u001b[0mroot\u001b[0m\u001b[1;33m,\u001b[0m\u001b[0m_\u001b[0m\u001b[1;33m,\u001b[0m\u001b[0mfiles\u001b[0m \u001b[1;32min\u001b[0m \u001b[0mos\u001b[0m\u001b[1;33m.\u001b[0m\u001b[0mwalk\u001b[0m\u001b[1;33m(\u001b[0m\u001b[0mdirectory\u001b[0m\u001b[1;33m)\u001b[0m\u001b[1;33m:\u001b[0m\u001b[1;33m\u001b[0m\u001b[1;33m\u001b[0m\u001b[0m\n\u001b[0m\u001b[0;32m      4\u001b[0m         \u001b[1;32mfor\u001b[0m \u001b[0mfile\u001b[0m \u001b[1;32min\u001b[0m \u001b[0mfiles\u001b[0m\u001b[1;33m:\u001b[0m\u001b[1;33m\u001b[0m\u001b[1;33m\u001b[0m\u001b[0m\n\u001b[0;32m      5\u001b[0m             \u001b[1;32mif\u001b[0m \u001b[0mfile\u001b[0m\u001b[1;33m.\u001b[0m\u001b[0mendswith\u001b[0m\u001b[1;33m(\u001b[0m\u001b[1;34m'.txt'\u001b[0m\u001b[1;33m)\u001b[0m\u001b[1;33m:\u001b[0m\u001b[1;33m\u001b[0m\u001b[1;33m\u001b[0m\u001b[0m\n",
      "\u001b[1;32m~\\anaconda3\\lib\\os.py\u001b[0m in \u001b[0;36m_walk\u001b[1;34m(top, topdown, onerror, followlinks)\u001b[0m\n\u001b[0;32m    416\u001b[0m             \u001b[1;31m# above.\u001b[0m\u001b[1;33m\u001b[0m\u001b[1;33m\u001b[0m\u001b[0m\n\u001b[0;32m    417\u001b[0m             \u001b[1;32mif\u001b[0m \u001b[0mfollowlinks\u001b[0m \u001b[1;32mor\u001b[0m \u001b[1;32mnot\u001b[0m \u001b[0mislink\u001b[0m\u001b[1;33m(\u001b[0m\u001b[0mnew_path\u001b[0m\u001b[1;33m)\u001b[0m\u001b[1;33m:\u001b[0m\u001b[1;33m\u001b[0m\u001b[1;33m\u001b[0m\u001b[0m\n\u001b[1;32m--> 418\u001b[1;33m                 \u001b[1;32myield\u001b[0m \u001b[1;32mfrom\u001b[0m \u001b[0m_walk\u001b[0m\u001b[1;33m(\u001b[0m\u001b[0mnew_path\u001b[0m\u001b[1;33m,\u001b[0m \u001b[0mtopdown\u001b[0m\u001b[1;33m,\u001b[0m \u001b[0monerror\u001b[0m\u001b[1;33m,\u001b[0m \u001b[0mfollowlinks\u001b[0m\u001b[1;33m)\u001b[0m\u001b[1;33m\u001b[0m\u001b[1;33m\u001b[0m\u001b[0m\n\u001b[0m\u001b[0;32m    419\u001b[0m     \u001b[1;32melse\u001b[0m\u001b[1;33m:\u001b[0m\u001b[1;33m\u001b[0m\u001b[1;33m\u001b[0m\u001b[0m\n\u001b[0;32m    420\u001b[0m         \u001b[1;31m# Recurse into sub-directories\u001b[0m\u001b[1;33m\u001b[0m\u001b[1;33m\u001b[0m\u001b[0m\n",
      "\u001b[1;32m~\\anaconda3\\lib\\os.py\u001b[0m in \u001b[0;36m_walk\u001b[1;34m(top, topdown, onerror, followlinks)\u001b[0m\n\u001b[0;32m    416\u001b[0m             \u001b[1;31m# above.\u001b[0m\u001b[1;33m\u001b[0m\u001b[1;33m\u001b[0m\u001b[0m\n\u001b[0;32m    417\u001b[0m             \u001b[1;32mif\u001b[0m \u001b[0mfollowlinks\u001b[0m \u001b[1;32mor\u001b[0m \u001b[1;32mnot\u001b[0m \u001b[0mislink\u001b[0m\u001b[1;33m(\u001b[0m\u001b[0mnew_path\u001b[0m\u001b[1;33m)\u001b[0m\u001b[1;33m:\u001b[0m\u001b[1;33m\u001b[0m\u001b[1;33m\u001b[0m\u001b[0m\n\u001b[1;32m--> 418\u001b[1;33m                 \u001b[1;32myield\u001b[0m \u001b[1;32mfrom\u001b[0m \u001b[0m_walk\u001b[0m\u001b[1;33m(\u001b[0m\u001b[0mnew_path\u001b[0m\u001b[1;33m,\u001b[0m \u001b[0mtopdown\u001b[0m\u001b[1;33m,\u001b[0m \u001b[0monerror\u001b[0m\u001b[1;33m,\u001b[0m \u001b[0mfollowlinks\u001b[0m\u001b[1;33m)\u001b[0m\u001b[1;33m\u001b[0m\u001b[1;33m\u001b[0m\u001b[0m\n\u001b[0m\u001b[0;32m    419\u001b[0m     \u001b[1;32melse\u001b[0m\u001b[1;33m:\u001b[0m\u001b[1;33m\u001b[0m\u001b[1;33m\u001b[0m\u001b[0m\n\u001b[0;32m    420\u001b[0m         \u001b[1;31m# Recurse into sub-directories\u001b[0m\u001b[1;33m\u001b[0m\u001b[1;33m\u001b[0m\u001b[0m\n",
      "\u001b[1;32m~\\anaconda3\\lib\\os.py\u001b[0m in \u001b[0;36m_walk\u001b[1;34m(top, topdown, onerror, followlinks)\u001b[0m\n\u001b[0;32m    416\u001b[0m             \u001b[1;31m# above.\u001b[0m\u001b[1;33m\u001b[0m\u001b[1;33m\u001b[0m\u001b[0m\n\u001b[0;32m    417\u001b[0m             \u001b[1;32mif\u001b[0m \u001b[0mfollowlinks\u001b[0m \u001b[1;32mor\u001b[0m \u001b[1;32mnot\u001b[0m \u001b[0mislink\u001b[0m\u001b[1;33m(\u001b[0m\u001b[0mnew_path\u001b[0m\u001b[1;33m)\u001b[0m\u001b[1;33m:\u001b[0m\u001b[1;33m\u001b[0m\u001b[1;33m\u001b[0m\u001b[0m\n\u001b[1;32m--> 418\u001b[1;33m                 \u001b[1;32myield\u001b[0m \u001b[1;32mfrom\u001b[0m \u001b[0m_walk\u001b[0m\u001b[1;33m(\u001b[0m\u001b[0mnew_path\u001b[0m\u001b[1;33m,\u001b[0m \u001b[0mtopdown\u001b[0m\u001b[1;33m,\u001b[0m \u001b[0monerror\u001b[0m\u001b[1;33m,\u001b[0m \u001b[0mfollowlinks\u001b[0m\u001b[1;33m)\u001b[0m\u001b[1;33m\u001b[0m\u001b[1;33m\u001b[0m\u001b[0m\n\u001b[0m\u001b[0;32m    419\u001b[0m     \u001b[1;32melse\u001b[0m\u001b[1;33m:\u001b[0m\u001b[1;33m\u001b[0m\u001b[1;33m\u001b[0m\u001b[0m\n\u001b[0;32m    420\u001b[0m         \u001b[1;31m# Recurse into sub-directories\u001b[0m\u001b[1;33m\u001b[0m\u001b[1;33m\u001b[0m\u001b[0m\n",
      "\u001b[1;32m~\\anaconda3\\lib\\os.py\u001b[0m in \u001b[0;36m_walk\u001b[1;34m(top, topdown, onerror, followlinks)\u001b[0m\n\u001b[0;32m    416\u001b[0m             \u001b[1;31m# above.\u001b[0m\u001b[1;33m\u001b[0m\u001b[1;33m\u001b[0m\u001b[0m\n\u001b[0;32m    417\u001b[0m             \u001b[1;32mif\u001b[0m \u001b[0mfollowlinks\u001b[0m \u001b[1;32mor\u001b[0m \u001b[1;32mnot\u001b[0m \u001b[0mislink\u001b[0m\u001b[1;33m(\u001b[0m\u001b[0mnew_path\u001b[0m\u001b[1;33m)\u001b[0m\u001b[1;33m:\u001b[0m\u001b[1;33m\u001b[0m\u001b[1;33m\u001b[0m\u001b[0m\n\u001b[1;32m--> 418\u001b[1;33m                 \u001b[1;32myield\u001b[0m \u001b[1;32mfrom\u001b[0m \u001b[0m_walk\u001b[0m\u001b[1;33m(\u001b[0m\u001b[0mnew_path\u001b[0m\u001b[1;33m,\u001b[0m \u001b[0mtopdown\u001b[0m\u001b[1;33m,\u001b[0m \u001b[0monerror\u001b[0m\u001b[1;33m,\u001b[0m \u001b[0mfollowlinks\u001b[0m\u001b[1;33m)\u001b[0m\u001b[1;33m\u001b[0m\u001b[1;33m\u001b[0m\u001b[0m\n\u001b[0m\u001b[0;32m    419\u001b[0m     \u001b[1;32melse\u001b[0m\u001b[1;33m:\u001b[0m\u001b[1;33m\u001b[0m\u001b[1;33m\u001b[0m\u001b[0m\n\u001b[0;32m    420\u001b[0m         \u001b[1;31m# Recurse into sub-directories\u001b[0m\u001b[1;33m\u001b[0m\u001b[1;33m\u001b[0m\u001b[0m\n",
      "\u001b[1;32m~\\anaconda3\\lib\\os.py\u001b[0m in \u001b[0;36m_walk\u001b[1;34m(top, topdown, onerror, followlinks)\u001b[0m\n\u001b[0;32m    416\u001b[0m             \u001b[1;31m# above.\u001b[0m\u001b[1;33m\u001b[0m\u001b[1;33m\u001b[0m\u001b[0m\n\u001b[0;32m    417\u001b[0m             \u001b[1;32mif\u001b[0m \u001b[0mfollowlinks\u001b[0m \u001b[1;32mor\u001b[0m \u001b[1;32mnot\u001b[0m \u001b[0mislink\u001b[0m\u001b[1;33m(\u001b[0m\u001b[0mnew_path\u001b[0m\u001b[1;33m)\u001b[0m\u001b[1;33m:\u001b[0m\u001b[1;33m\u001b[0m\u001b[1;33m\u001b[0m\u001b[0m\n\u001b[1;32m--> 418\u001b[1;33m                 \u001b[1;32myield\u001b[0m \u001b[1;32mfrom\u001b[0m \u001b[0m_walk\u001b[0m\u001b[1;33m(\u001b[0m\u001b[0mnew_path\u001b[0m\u001b[1;33m,\u001b[0m \u001b[0mtopdown\u001b[0m\u001b[1;33m,\u001b[0m \u001b[0monerror\u001b[0m\u001b[1;33m,\u001b[0m \u001b[0mfollowlinks\u001b[0m\u001b[1;33m)\u001b[0m\u001b[1;33m\u001b[0m\u001b[1;33m\u001b[0m\u001b[0m\n\u001b[0m\u001b[0;32m    419\u001b[0m     \u001b[1;32melse\u001b[0m\u001b[1;33m:\u001b[0m\u001b[1;33m\u001b[0m\u001b[1;33m\u001b[0m\u001b[0m\n\u001b[0;32m    420\u001b[0m         \u001b[1;31m# Recurse into sub-directories\u001b[0m\u001b[1;33m\u001b[0m\u001b[1;33m\u001b[0m\u001b[0m\n",
      "\u001b[1;32m~\\anaconda3\\lib\\os.py\u001b[0m in \u001b[0;36m_walk\u001b[1;34m(top, topdown, onerror, followlinks)\u001b[0m\n\u001b[0;32m    416\u001b[0m             \u001b[1;31m# above.\u001b[0m\u001b[1;33m\u001b[0m\u001b[1;33m\u001b[0m\u001b[0m\n\u001b[0;32m    417\u001b[0m             \u001b[1;32mif\u001b[0m \u001b[0mfollowlinks\u001b[0m \u001b[1;32mor\u001b[0m \u001b[1;32mnot\u001b[0m \u001b[0mislink\u001b[0m\u001b[1;33m(\u001b[0m\u001b[0mnew_path\u001b[0m\u001b[1;33m)\u001b[0m\u001b[1;33m:\u001b[0m\u001b[1;33m\u001b[0m\u001b[1;33m\u001b[0m\u001b[0m\n\u001b[1;32m--> 418\u001b[1;33m                 \u001b[1;32myield\u001b[0m \u001b[1;32mfrom\u001b[0m \u001b[0m_walk\u001b[0m\u001b[1;33m(\u001b[0m\u001b[0mnew_path\u001b[0m\u001b[1;33m,\u001b[0m \u001b[0mtopdown\u001b[0m\u001b[1;33m,\u001b[0m \u001b[0monerror\u001b[0m\u001b[1;33m,\u001b[0m \u001b[0mfollowlinks\u001b[0m\u001b[1;33m)\u001b[0m\u001b[1;33m\u001b[0m\u001b[1;33m\u001b[0m\u001b[0m\n\u001b[0m\u001b[0;32m    419\u001b[0m     \u001b[1;32melse\u001b[0m\u001b[1;33m:\u001b[0m\u001b[1;33m\u001b[0m\u001b[1;33m\u001b[0m\u001b[0m\n\u001b[0;32m    420\u001b[0m         \u001b[1;31m# Recurse into sub-directories\u001b[0m\u001b[1;33m\u001b[0m\u001b[1;33m\u001b[0m\u001b[0m\n",
      "\u001b[1;32m~\\anaconda3\\lib\\os.py\u001b[0m in \u001b[0;36m_walk\u001b[1;34m(top, topdown, onerror, followlinks)\u001b[0m\n\u001b[0;32m    416\u001b[0m             \u001b[1;31m# above.\u001b[0m\u001b[1;33m\u001b[0m\u001b[1;33m\u001b[0m\u001b[0m\n\u001b[0;32m    417\u001b[0m             \u001b[1;32mif\u001b[0m \u001b[0mfollowlinks\u001b[0m \u001b[1;32mor\u001b[0m \u001b[1;32mnot\u001b[0m \u001b[0mislink\u001b[0m\u001b[1;33m(\u001b[0m\u001b[0mnew_path\u001b[0m\u001b[1;33m)\u001b[0m\u001b[1;33m:\u001b[0m\u001b[1;33m\u001b[0m\u001b[1;33m\u001b[0m\u001b[0m\n\u001b[1;32m--> 418\u001b[1;33m                 \u001b[1;32myield\u001b[0m \u001b[1;32mfrom\u001b[0m \u001b[0m_walk\u001b[0m\u001b[1;33m(\u001b[0m\u001b[0mnew_path\u001b[0m\u001b[1;33m,\u001b[0m \u001b[0mtopdown\u001b[0m\u001b[1;33m,\u001b[0m \u001b[0monerror\u001b[0m\u001b[1;33m,\u001b[0m \u001b[0mfollowlinks\u001b[0m\u001b[1;33m)\u001b[0m\u001b[1;33m\u001b[0m\u001b[1;33m\u001b[0m\u001b[0m\n\u001b[0m\u001b[0;32m    419\u001b[0m     \u001b[1;32melse\u001b[0m\u001b[1;33m:\u001b[0m\u001b[1;33m\u001b[0m\u001b[1;33m\u001b[0m\u001b[0m\n\u001b[0;32m    420\u001b[0m         \u001b[1;31m# Recurse into sub-directories\u001b[0m\u001b[1;33m\u001b[0m\u001b[1;33m\u001b[0m\u001b[0m\n",
      "\u001b[1;32m~\\anaconda3\\lib\\os.py\u001b[0m in \u001b[0;36m_walk\u001b[1;34m(top, topdown, onerror, followlinks)\u001b[0m\n\u001b[0;32m    415\u001b[0m             \u001b[1;31m# the caller can replace the directory entry during the \"yield\"\u001b[0m\u001b[1;33m\u001b[0m\u001b[1;33m\u001b[0m\u001b[0m\n\u001b[0;32m    416\u001b[0m             \u001b[1;31m# above.\u001b[0m\u001b[1;33m\u001b[0m\u001b[1;33m\u001b[0m\u001b[0m\n\u001b[1;32m--> 417\u001b[1;33m             \u001b[1;32mif\u001b[0m \u001b[0mfollowlinks\u001b[0m \u001b[1;32mor\u001b[0m \u001b[1;32mnot\u001b[0m \u001b[0mislink\u001b[0m\u001b[1;33m(\u001b[0m\u001b[0mnew_path\u001b[0m\u001b[1;33m)\u001b[0m\u001b[1;33m:\u001b[0m\u001b[1;33m\u001b[0m\u001b[1;33m\u001b[0m\u001b[0m\n\u001b[0m\u001b[0;32m    418\u001b[0m                 \u001b[1;32myield\u001b[0m \u001b[1;32mfrom\u001b[0m \u001b[0m_walk\u001b[0m\u001b[1;33m(\u001b[0m\u001b[0mnew_path\u001b[0m\u001b[1;33m,\u001b[0m \u001b[0mtopdown\u001b[0m\u001b[1;33m,\u001b[0m \u001b[0monerror\u001b[0m\u001b[1;33m,\u001b[0m \u001b[0mfollowlinks\u001b[0m\u001b[1;33m)\u001b[0m\u001b[1;33m\u001b[0m\u001b[1;33m\u001b[0m\u001b[0m\n\u001b[0;32m    419\u001b[0m     \u001b[1;32melse\u001b[0m\u001b[1;33m:\u001b[0m\u001b[1;33m\u001b[0m\u001b[1;33m\u001b[0m\u001b[0m\n",
      "\u001b[1;32m~\\anaconda3\\lib\\ntpath.py\u001b[0m in \u001b[0;36mislink\u001b[1;34m(path)\u001b[0m\n\u001b[0;32m    231\u001b[0m     \"\"\"\n\u001b[0;32m    232\u001b[0m     \u001b[1;32mtry\u001b[0m\u001b[1;33m:\u001b[0m\u001b[1;33m\u001b[0m\u001b[1;33m\u001b[0m\u001b[0m\n\u001b[1;32m--> 233\u001b[1;33m         \u001b[0mst\u001b[0m \u001b[1;33m=\u001b[0m \u001b[0mos\u001b[0m\u001b[1;33m.\u001b[0m\u001b[0mlstat\u001b[0m\u001b[1;33m(\u001b[0m\u001b[0mpath\u001b[0m\u001b[1;33m)\u001b[0m\u001b[1;33m\u001b[0m\u001b[1;33m\u001b[0m\u001b[0m\n\u001b[0m\u001b[0;32m    234\u001b[0m     \u001b[1;32mexcept\u001b[0m \u001b[1;33m(\u001b[0m\u001b[0mOSError\u001b[0m\u001b[1;33m,\u001b[0m \u001b[0mValueError\u001b[0m\u001b[1;33m,\u001b[0m \u001b[0mAttributeError\u001b[0m\u001b[1;33m)\u001b[0m\u001b[1;33m:\u001b[0m\u001b[1;33m\u001b[0m\u001b[1;33m\u001b[0m\u001b[0m\n\u001b[0;32m    235\u001b[0m         \u001b[1;32mreturn\u001b[0m \u001b[1;32mFalse\u001b[0m\u001b[1;33m\u001b[0m\u001b[1;33m\u001b[0m\u001b[0m\n",
      "\u001b[1;31mKeyboardInterrupt\u001b[0m: "
     ]
    }
   ],
   "source": [
    "bring_files('C:\\\\Users\\\\91903')"
   ]
  },
  {
   "cell_type": "code",
   "execution_count": null,
   "id": "0c748c4e",
   "metadata": {},
   "outputs": [],
   "source": []
  },
  {
   "cell_type": "code",
   "execution_count": null,
   "id": "565447a8",
   "metadata": {},
   "outputs": [],
   "source": []
  }
 ],
 "metadata": {
  "kernelspec": {
   "display_name": "Python 3 (ipykernel)",
   "language": "python",
   "name": "python3"
  },
  "language_info": {
   "codemirror_mode": {
    "name": "ipython",
    "version": 3
   },
   "file_extension": ".py",
   "mimetype": "text/x-python",
   "name": "python",
   "nbconvert_exporter": "python",
   "pygments_lexer": "ipython3",
   "version": "3.9.7"
  }
 },
 "nbformat": 4,
 "nbformat_minor": 5
}
