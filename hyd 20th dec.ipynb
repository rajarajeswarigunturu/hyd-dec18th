{
 "cells": [
  {
   "cell_type": "code",
   "execution_count": 1,
   "id": "1f2f8f16",
   "metadata": {},
   "outputs": [],
   "source": [
    "# loop"
   ]
  },
  {
   "cell_type": "code",
   "execution_count": 2,
   "id": "c01ed14b",
   "metadata": {},
   "outputs": [],
   "source": [
    "l=[\"name\",\"mail\",\"phone\",\"address\"]"
   ]
  },
  {
   "cell_type": "code",
   "execution_count": 3,
   "id": "cc4a1ada",
   "metadata": {},
   "outputs": [
    {
     "name": "stdout",
     "output_type": "stream",
     "text": [
      "name\n",
      "mail\n",
      "phone\n",
      "address\n"
     ]
    }
   ],
   "source": [
    "for i in l:\n",
    "    print(i)"
   ]
  },
  {
   "cell_type": "code",
   "execution_count": 5,
   "id": "edb29351",
   "metadata": {},
   "outputs": [
    {
     "name": "stdout",
     "output_type": "stream",
     "text": [
      "name raji\n",
      "mail raji\n",
      "phone raji\n",
      "address raji\n"
     ]
    }
   ],
   "source": [
    "for i in l:\n",
    "    print(i + \" raji\")"
   ]
  },
  {
   "cell_type": "code",
   "execution_count": 6,
   "id": "1bf6fd0c",
   "metadata": {},
   "outputs": [
    {
     "name": "stdout",
     "output_type": "stream",
     "text": [
      "m\n",
      "u\n",
      "m\n",
      "b\n",
      "a\n",
      "i\n"
     ]
    }
   ],
   "source": [
    "s=\"mumbai\"\n",
    "for i in s:\n",
    "    print(i)"
   ]
  },
  {
   "cell_type": "code",
   "execution_count": 7,
   "id": "cb5da58d",
   "metadata": {},
   "outputs": [],
   "source": [
    "# for else is available in only python"
   ]
  },
  {
   "cell_type": "code",
   "execution_count": 8,
   "id": "cb6a05bd",
   "metadata": {},
   "outputs": [
    {
     "data": {
      "text/plain": [
       "['name', 'mail', 'phone', 'address']"
      ]
     },
     "execution_count": 8,
     "metadata": {},
     "output_type": "execute_result"
    }
   ],
   "source": [
    "l"
   ]
  },
  {
   "cell_type": "code",
   "execution_count": 9,
   "id": "95ec04e0",
   "metadata": {},
   "outputs": [
    {
     "name": "stdout",
     "output_type": "stream",
     "text": [
      "name\n",
      "mail\n",
      "phone\n",
      "address\n"
     ]
    }
   ],
   "source": [
    "for i in l:\n",
    "    print(i)"
   ]
  },
  {
   "cell_type": "code",
   "execution_count": 10,
   "id": "86c5f37c",
   "metadata": {},
   "outputs": [
    {
     "name": "stdout",
     "output_type": "stream",
     "text": [
      "name\n",
      "mail\n",
      "phone\n",
      "address\n",
      "for fails it will come to else\n"
     ]
    }
   ],
   "source": [
    "for i in l:\n",
    "    print(i)\n",
    "else:\n",
    "    print(\"for fails it will come to else\")"
   ]
  },
  {
   "cell_type": "code",
   "execution_count": 11,
   "id": "41745dee",
   "metadata": {},
   "outputs": [],
   "source": [
    "# both for and else works\n",
    "# if for fails else also fails"
   ]
  },
  {
   "cell_type": "code",
   "execution_count": 13,
   "id": "088e8bcf",
   "metadata": {},
   "outputs": [
    {
     "ename": "TypeError",
     "evalue": "'int' object is not iterable",
     "output_type": "error",
     "traceback": [
      "\u001b[1;31m---------------------------------------------------------------------------\u001b[0m",
      "\u001b[1;31mTypeError\u001b[0m                                 Traceback (most recent call last)",
      "\u001b[1;32m~\\AppData\\Local\\Temp/ipykernel_11964/1568775417.py\u001b[0m in \u001b[0;36m<module>\u001b[1;34m\u001b[0m\n\u001b[0;32m      1\u001b[0m \u001b[0ma\u001b[0m\u001b[1;33m=\u001b[0m\u001b[1;36m40\u001b[0m\u001b[1;33m\u001b[0m\u001b[1;33m\u001b[0m\u001b[0m\n\u001b[1;32m----> 2\u001b[1;33m \u001b[1;32mfor\u001b[0m \u001b[0mi\u001b[0m \u001b[1;32min\u001b[0m \u001b[0ma\u001b[0m\u001b[1;33m:\u001b[0m\u001b[1;33m\u001b[0m\u001b[1;33m\u001b[0m\u001b[0m\n\u001b[0m\u001b[0;32m      3\u001b[0m    \u001b[0mprint\u001b[0m\u001b[1;33m(\u001b[0m\u001b[1;34m\"ten\"\u001b[0m\u001b[1;33m)\u001b[0m\u001b[1;33m\u001b[0m\u001b[1;33m\u001b[0m\u001b[0m\n\u001b[0;32m      4\u001b[0m \u001b[1;32melse\u001b[0m\u001b[1;33m:\u001b[0m\u001b[1;33m\u001b[0m\u001b[1;33m\u001b[0m\u001b[0m\n\u001b[0;32m      5\u001b[0m    \u001b[0mprint\u001b[0m\u001b[1;33m(\u001b[0m\u001b[1;34m\"for loop failed\"\u001b[0m\u001b[1;33m)\u001b[0m\u001b[1;33m\u001b[0m\u001b[1;33m\u001b[0m\u001b[0m\n",
      "\u001b[1;31mTypeError\u001b[0m: 'int' object is not iterable"
     ]
    }
   ],
   "source": [
    " a=40\n",
    "for i in a:\n",
    "    print(\"ten\")\n",
    "else:\n",
    "    print(\"for loop failed\")"
   ]
  },
  {
   "cell_type": "code",
   "execution_count": 14,
   "id": "13084a88",
   "metadata": {},
   "outputs": [
    {
     "data": {
      "text/plain": [
       "['name', 'mail', 'phone', 'address']"
      ]
     },
     "execution_count": 14,
     "metadata": {},
     "output_type": "execute_result"
    }
   ],
   "source": [
    "l"
   ]
  },
  {
   "cell_type": "code",
   "execution_count": 15,
   "id": "92efefb5",
   "metadata": {},
   "outputs": [],
   "source": [
    "for i in l:\n",
    "    if i==\"name\":\n",
    "        break\n",
    "    print(i)\n",
    "else:\n",
    "    print(\"check the statement\")"
   ]
  },
  {
   "cell_type": "code",
   "execution_count": 16,
   "id": "7451114d",
   "metadata": {},
   "outputs": [
    {
     "name": "stdout",
     "output_type": "stream",
     "text": [
      "name\n"
     ]
    }
   ],
   "source": [
    "for i in l:\n",
    "    if i==\"mail\":\n",
    "        break\n",
    "    print(i)\n",
    "else:\n",
    "    print(\"check the statement\")"
   ]
  },
  {
   "cell_type": "code",
   "execution_count": 17,
   "id": "fac31748",
   "metadata": {},
   "outputs": [
    {
     "name": "stdout",
     "output_type": "stream",
     "text": [
      "name\n",
      "mail\n",
      "phone\n"
     ]
    }
   ],
   "source": [
    "for i in l:\n",
    "    if i==\"address\":\n",
    "        break\n",
    "    print(i)\n",
    "else:\n",
    "    print(\"check the statement\")"
   ]
  },
  {
   "cell_type": "code",
   "execution_count": 18,
   "id": "c9b3c1c0",
   "metadata": {},
   "outputs": [
    {
     "name": "stdout",
     "output_type": "stream",
     "text": [
      "name\n",
      "mail\n",
      "phone\n",
      "address\n",
      "check the statement\n"
     ]
    }
   ],
   "source": [
    "for i in l:\n",
    "    if i==\"raji\":\n",
    "        break\n",
    "    print(i)\n",
    "else:\n",
    "    print(\"check the statement\")"
   ]
  },
  {
   "cell_type": "code",
   "execution_count": 19,
   "id": "463753f6",
   "metadata": {},
   "outputs": [],
   "source": [
    "# break breaks the loop"
   ]
  },
  {
   "cell_type": "code",
   "execution_count": 1,
   "id": "f7002695",
   "metadata": {},
   "outputs": [],
   "source": [
    " s=\"rajarajeswari\""
   ]
  },
  {
   "cell_type": "code",
   "execution_count": 2,
   "id": "d4669372",
   "metadata": {},
   "outputs": [
    {
     "name": "stdout",
     "output_type": "stream",
     "text": [
      "r\n",
      "a\n",
      "j\n",
      "a\n",
      "r\n",
      "a\n",
      "j\n",
      "e\n",
      "s\n",
      "w\n",
      "a\n",
      "r\n",
      "i\n"
     ]
    }
   ],
   "source": [
    "for i in s:\n",
    "    print(i)"
   ]
  },
  {
   "cell_type": "code",
   "execution_count": 3,
   "id": "78ed5840",
   "metadata": {},
   "outputs": [],
   "source": [
    "for i in s:\n",
    "    if i==\"w\":\n",
    "        break\n",
    "else:\n",
    "    print(\"it doesnt execute\")"
   ]
  },
  {
   "cell_type": "code",
   "execution_count": 5,
   "id": "42e9189a",
   "metadata": {},
   "outputs": [],
   "source": [
    "for i in s:\n",
    "    if i==\"w\":\n",
    "        break\n",
    "else:\n",
    "    print(\"it doesnt execute\")"
   ]
  },
  {
   "cell_type": "code",
   "execution_count": 7,
   "id": "71f262da",
   "metadata": {},
   "outputs": [],
   "source": [
    "# while loop check whether true or false\n",
    "# if it is true loop continues"
   ]
  },
  {
   "cell_type": "code",
   "execution_count": 8,
   "id": "b1f6cd90",
   "metadata": {},
   "outputs": [
    {
     "name": "stdout",
     "output_type": "stream",
     "text": [
      "1\n",
      "2\n",
      "3\n",
      "4\n",
      "5\n"
     ]
    }
   ],
   "source": [
    "a=1\n",
    "while a<6:\n",
    "    print(a)\n",
    "    a=a+1"
   ]
  },
  {
   "cell_type": "code",
   "execution_count": 9,
   "id": "452e823e",
   "metadata": {},
   "outputs": [
    {
     "name": "stdout",
     "output_type": "stream",
     "text": [
      "1\n",
      "2\n",
      "3\n",
      "4\n",
      "5\n",
      "6\n"
     ]
    }
   ],
   "source": [
    "a=1\n",
    "while a<=6:\n",
    "    print(a)\n",
    "    a=a+1"
   ]
  },
  {
   "cell_type": "code",
   "execution_count": 11,
   "id": "2184ccff",
   "metadata": {},
   "outputs": [
    {
     "name": "stdout",
     "output_type": "stream",
     "text": [
      "1\n",
      "2\n",
      "3\n",
      "4\n"
     ]
    }
   ],
   "source": [
    "a=1\n",
    "while a <5:\n",
    "    print(a)\n",
    "    if a==4:\n",
    "        break\n",
    "    a=a+1"
   ]
  },
  {
   "cell_type": "code",
   "execution_count": null,
   "id": "2eb6d709",
   "metadata": {},
   "outputs": [],
   "source": [
    "a=1\n",
    "while a<5:\n",
    "    print(a)\n",
    "    if a==3:\n",
    "        continue\n",
    "    a=a+1\n",
    "# continues in a infinite loop\n",
    "# continue statement  immediately gives control to the loop"
   ]
  },
  {
   "cell_type": "code",
   "execution_count": 12,
   "id": "8d0e2c85",
   "metadata": {},
   "outputs": [
    {
     "name": "stdout",
     "output_type": "stream",
     "text": [
      "1\n",
      "2\n",
      "3\n",
      "4\n"
     ]
    }
   ],
   "source": [
    "a=1\n",
    "while a<5:\n",
    "    print(a)\n",
    "    a=a+1\n",
    "    if a==3:\n",
    "        continue"
   ]
  },
  {
   "cell_type": "code",
   "execution_count": 13,
   "id": "cc6715bb",
   "metadata": {},
   "outputs": [
    {
     "name": "stdout",
     "output_type": "stream",
     "text": [
      "1\n",
      "2\n",
      "3\n",
      "4\n"
     ]
    }
   ],
   "source": [
    "a=1\n",
    "while a<5:\n",
    "    print(a)\n",
    "    a=a+1"
   ]
  },
  {
   "cell_type": "code",
   "execution_count": 14,
   "id": "144ae608",
   "metadata": {},
   "outputs": [
    {
     "ename": "IndentationError",
     "evalue": "expected an indented block (Temp/ipykernel_36852/2347557020.py, line 1)",
     "output_type": "error",
     "traceback": [
      "\u001b[1;36m  File \u001b[1;32m\"C:\\Users\\91903\\AppData\\Local\\Temp/ipykernel_36852/2347557020.py\"\u001b[1;36m, line \u001b[1;32m1\u001b[0m\n\u001b[1;33m    while a<5:\u001b[0m\n\u001b[1;37m              ^\u001b[0m\n\u001b[1;31mIndentationError\u001b[0m\u001b[1;31m:\u001b[0m expected an indented block\n"
     ]
    }
   ],
   "source": [
    "while a<5:"
   ]
  },
  {
   "cell_type": "code",
   "execution_count": null,
   "id": "34501893",
   "metadata": {},
   "outputs": [],
   "source": [
    "# we have to execute a code , "
   ]
  },
  {
   "cell_type": "code",
   "execution_count": 23,
   "id": "df1bd017",
   "metadata": {},
   "outputs": [],
   "source": [
    "while a<5:\n",
    "    pass\n",
    "# to bypass the statement"
   ]
  },
  {
   "cell_type": "code",
   "execution_count": 24,
   "id": "d0ef283b",
   "metadata": {},
   "outputs": [],
   "source": [
    "l=[1,2,3]"
   ]
  },
  {
   "cell_type": "code",
   "execution_count": 25,
   "id": "1770ff37",
   "metadata": {},
   "outputs": [],
   "source": [
    "for i in l:\n",
    "    pass"
   ]
  },
  {
   "cell_type": "code",
   "execution_count": 26,
   "id": "1d68b9ac",
   "metadata": {},
   "outputs": [],
   "source": [
    "for i in l:\n",
    "    break"
   ]
  },
  {
   "cell_type": "code",
   "execution_count": 30,
   "id": "a52b6cc9",
   "metadata": {},
   "outputs": [
    {
     "data": {
      "text/plain": [
       "range(0, 6)"
      ]
     },
     "execution_count": 30,
     "metadata": {},
     "output_type": "execute_result"
    }
   ],
   "source": [
    "range(6)"
   ]
  },
  {
   "cell_type": "code",
   "execution_count": 31,
   "id": "44556d85",
   "metadata": {},
   "outputs": [
    {
     "data": {
      "text/plain": [
       "[0, 1, 2, 3, 4, 5]"
      ]
     },
     "execution_count": 31,
     "metadata": {},
     "output_type": "execute_result"
    }
   ],
   "source": [
    "list(range(6))"
   ]
  },
  {
   "cell_type": "code",
   "execution_count": 34,
   "id": "1758d8e1",
   "metadata": {},
   "outputs": [
    {
     "data": {
      "text/plain": [
       "range(0, 6)"
      ]
     },
     "execution_count": 34,
     "metadata": {},
     "output_type": "execute_result"
    }
   ],
   "source": [
    "range(0,6)"
   ]
  },
  {
   "cell_type": "code",
   "execution_count": 36,
   "id": "44bf10fa",
   "metadata": {},
   "outputs": [
    {
     "data": {
      "text/plain": [
       "[4, 5, 6, 7, 8, 9, 10, 11, 12, 13, 14, 15, 16, 17, 18, 19, 20, 21, 22, 23, 24]"
      ]
     },
     "execution_count": 36,
     "metadata": {},
     "output_type": "execute_result"
    }
   ],
   "source": [
    "list(range(4,25))"
   ]
  },
  {
   "cell_type": "code",
   "execution_count": 37,
   "id": "7cd4ebe2",
   "metadata": {},
   "outputs": [
    {
     "data": {
      "text/plain": [
       "[4, 6, 8, 10, 12, 14, 16, 18, 20, 22, 24]"
      ]
     },
     "execution_count": 37,
     "metadata": {},
     "output_type": "execute_result"
    }
   ],
   "source": [
    "list(range(4,25,2))"
   ]
  },
  {
   "cell_type": "code",
   "execution_count": 38,
   "id": "4a8ac9b2",
   "metadata": {},
   "outputs": [
    {
     "data": {
      "text/plain": [
       "[]"
      ]
     },
     "execution_count": 38,
     "metadata": {},
     "output_type": "execute_result"
    }
   ],
   "source": [
    "list(range(3,10,-1))"
   ]
  },
  {
   "cell_type": "code",
   "execution_count": 40,
   "id": "75dc1e84",
   "metadata": {},
   "outputs": [
    {
     "data": {
      "text/plain": [
       "[-3, -4, -5, -6, -7, -8, -9]"
      ]
     },
     "execution_count": 40,
     "metadata": {},
     "output_type": "execute_result"
    }
   ],
   "source": [
    "list(range(-3,-10,-1))"
   ]
  },
  {
   "cell_type": "code",
   "execution_count": 48,
   "id": "f7a9a425",
   "metadata": {},
   "outputs": [
    {
     "name": "stdout",
     "output_type": "stream",
     "text": [
      "*\n",
      "*\n"
     ]
    }
   ],
   "source": [
    "n=5# wrong\n",
    "for i in range(0,i+1):\n",
    "    print(\"*\", end=\"\\n\")"
   ]
  },
  {
   "cell_type": "code",
   "execution_count": 51,
   "id": "ce6677e6",
   "metadata": {},
   "outputs": [],
   "source": [
    "#range behaves lika a generator, generates a data for me"
   ]
  },
  {
   "cell_type": "code",
   "execution_count": 52,
   "id": "b026f515",
   "metadata": {},
   "outputs": [
    {
     "name": "stdout",
     "output_type": "stream",
     "text": [
      "0\n",
      "1\n",
      "2\n",
      "3\n",
      "4\n",
      "5\n",
      "6\n"
     ]
    }
   ],
   "source": [
    "for i in range(7):\n",
    "    print(i)"
   ]
  },
  {
   "cell_type": "code",
   "execution_count": 53,
   "id": "97d698e7",
   "metadata": {},
   "outputs": [
    {
     "data": {
      "text/plain": [
       "7"
      ]
     },
     "execution_count": 53,
     "metadata": {},
     "output_type": "execute_result"
    }
   ],
   "source": [
    "len(range(7))"
   ]
  },
  {
   "cell_type": "code",
   "execution_count": 54,
   "id": "daed8071",
   "metadata": {},
   "outputs": [
    {
     "name": "stdout",
     "output_type": "stream",
     "text": [
      "*\n",
      "*\n",
      "*\n",
      "*\n",
      "*\n",
      "*\n",
      "*\n",
      "*\n",
      "*\n",
      "*\n",
      "*\n",
      "*\n",
      "*\n",
      "*\n",
      "*\n"
     ]
    }
   ],
   "source": [
    "n=5\n",
    "for i in range(0,n):\n",
    "    for j in range(0,i+1):\n",
    "        print(\"*\", end = \"\\n\")"
   ]
  },
  {
   "cell_type": "code",
   "execution_count": 56,
   "id": "4bf194ba",
   "metadata": {},
   "outputs": [
    {
     "name": "stdout",
     "output_type": "stream",
     "text": [
      "*\r\n",
      "**\r\n",
      "***\r\n",
      "****\r\n",
      "*****\r\n"
     ]
    }
   ],
   "source": [
    "n=5\n",
    "for i in range(0,n):\n",
    "    for j in range(0,i+1):\n",
    "        print(\"*\", end = \"\")\n",
    "    print(\"\\r\")"
   ]
  },
  {
   "cell_type": "code",
   "execution_count": 58,
   "id": "9e1366e6",
   "metadata": {},
   "outputs": [
    {
     "name": "stdout",
     "output_type": "stream",
     "text": [
      "*\n",
      "\r\n",
      "*\n",
      "*\n",
      "\r\n",
      "*\n",
      "*\n",
      "*\n",
      "\r\n",
      "*\n",
      "*\n",
      "*\n",
      "*\n",
      "\r\n",
      "*\n",
      "*\n",
      "*\n",
      "*\n",
      "*\n",
      "\r\n"
     ]
    }
   ],
   "source": [
    "n=5\n",
    "for i in range(0,n):\n",
    "    for j in range(0,i+1):\n",
    "        print(\"*\", end = \"\\n\")\n",
    "    print(\"\\r\")"
   ]
  },
  {
   "cell_type": "code",
   "execution_count": 59,
   "id": "07f1f3e6",
   "metadata": {},
   "outputs": [
    {
     "name": "stdout",
     "output_type": "stream",
     "text": [
      "*\t\r\n",
      "*\t*\t\r\n",
      "*\t*\t*\t\r\n",
      "*\t*\t*\t*\t\r\n",
      "*\t*\t*\t*\t*\t\r\n"
     ]
    }
   ],
   "source": [
    "n=5\n",
    "for i in range(0,n):\n",
    "    for j in range(0,i+1):\n",
    "        print(\"*\", end = \"\\t\")\n",
    "    print(\"\\r\")"
   ]
  },
  {
   "cell_type": "code",
   "execution_count": 60,
   "id": "2e9731e3",
   "metadata": {},
   "outputs": [
    {
     "name": "stdout",
     "output_type": "stream",
     "text": [
      "*\n",
      "\r\n",
      "*\n",
      "*\n",
      "\r\n",
      "*\n",
      "*\n",
      "*\n",
      "\r\n",
      "*\n",
      "*\n",
      "*\n",
      "*\n",
      "\r\n",
      "*\n",
      "*\n",
      "*\n",
      "*\n",
      "*\n",
      "\r\n"
     ]
    }
   ],
   "source": [
    "n=5\n",
    "for i in range(0,n):\n",
    "    for j in range(0,i+1):\n",
    "        print(\"*\")\n",
    "    print(\"\\r\")"
   ]
  },
  {
   "cell_type": "code",
   "execution_count": 61,
   "id": "79a78a88",
   "metadata": {},
   "outputs": [],
   "source": [
    "# end gives us new line"
   ]
  },
  {
   "cell_type": "code",
   "execution_count": 62,
   "id": "29b8ce0a",
   "metadata": {},
   "outputs": [
    {
     "name": "stdout",
     "output_type": "stream",
     "text": [
      "*a\r\n",
      "*a*a\r\n",
      "*a*a*a\r\n",
      "*a*a*a*a\r\n",
      "*a*a*a*a*a\r\n"
     ]
    }
   ],
   "source": [
    "c"
   ]
  },
  {
   "cell_type": "code",
   "execution_count": 63,
   "id": "9b28a596",
   "metadata": {},
   "outputs": [],
   "source": [
    " # r is called carriage return for the next line"
   ]
  },
  {
   "cell_type": "code",
   "execution_count": 65,
   "id": "745c23dd",
   "metadata": {},
   "outputs": [
    {
     "name": "stdout",
     "output_type": "stream",
     "text": [
      "\r\n",
      "\r\n",
      "\r\n",
      "\r\n",
      "\r\n"
     ]
    }
   ],
   "source": [
    "n=5\n",
    "for i in range(0,n):\n",
    "    for j in range(0,i+1):\n",
    "        print(\"*\", end = \"\")\n",
    "    print(\"\\r\\r\\r\")"
   ]
  },
  {
   "cell_type": "code",
   "execution_count": 66,
   "id": "c5ba93d7",
   "metadata": {},
   "outputs": [
    {
     "name": "stdout",
     "output_type": "stream",
     "text": [
      "*\n",
      "\r\n",
      "**\n",
      "\r\n",
      "***\n",
      "\r\n",
      "****\n",
      "\r\n",
      "*****\n",
      "\r\n"
     ]
    }
   ],
   "source": [
    "n=5\n",
    "for i in range(0,n):\n",
    "    for j in range(0,i+1):\n",
    "        print(\"*\", end = \"\")\n",
    "    print(\"\\n\\r\\r\")"
   ]
  },
  {
   "cell_type": "code",
   "execution_count": 67,
   "id": "65d132cd",
   "metadata": {},
   "outputs": [
    {
     "name": "stdout",
     "output_type": "stream",
     "text": [
      "*\n",
      "\n",
      "\n",
      "\n",
      "**\n",
      "\n",
      "\n",
      "\n",
      "***\n",
      "\n",
      "\n",
      "\n",
      "****\n",
      "\n",
      "\n",
      "\n",
      "*****\n",
      "\n",
      "\n",
      "\n"
     ]
    }
   ],
   "source": [
    "n=5\n",
    "for i in range(0,n):\n",
    "    for j in range(0,i+1):\n",
    "        print(\"*\", end = \"\")\n",
    "    print(\"\\n\\n\\n\")"
   ]
  },
  {
   "cell_type": "code",
   "execution_count": 71,
   "id": "e8fccd8f",
   "metadata": {},
   "outputs": [],
   "source": [
    "n=5\n",
    "for i in range(n,-1):\n",
    "    for j in range(n+1,i,-1):\n",
    "        print(\"*\", end = \"\")\n",
    "    print(\"\\n\\r\\r\")"
   ]
  },
  {
   "cell_type": "code",
   "execution_count": 72,
   "id": "3d3b4942",
   "metadata": {},
   "outputs": [
    {
     "name": "stdout",
     "output_type": "stream",
     "text": [
      "1\n",
      "2\n",
      "3\n",
      "4\n",
      "5\n",
      "6\n",
      "7\n"
     ]
    }
   ],
   "source": [
    "l=[1,2,3,4,5,6,7]\n",
    "for i in l:\n",
    "    print(i)"
   ]
  },
  {
   "cell_type": "code",
   "execution_count": 73,
   "id": "d373cb59",
   "metadata": {},
   "outputs": [],
   "source": [
    "t=(9,8,7,6,5,4)"
   ]
  },
  {
   "cell_type": "code",
   "execution_count": 74,
   "id": "5fd63809",
   "metadata": {},
   "outputs": [
    {
     "name": "stdout",
     "output_type": "stream",
     "text": [
      "9\n",
      "8\n",
      "7\n",
      "6\n",
      "5\n",
      "4\n"
     ]
    }
   ],
   "source": [
    "for i in t:\n",
    "    print(i)"
   ]
  },
  {
   "cell_type": "code",
   "execution_count": 75,
   "id": "7d5f1653",
   "metadata": {},
   "outputs": [],
   "source": [
    "s=\"dkjdfgjgrgbmmbm\""
   ]
  },
  {
   "cell_type": "code",
   "execution_count": 77,
   "id": "d5a4bfb8",
   "metadata": {},
   "outputs": [
    {
     "name": "stdout",
     "output_type": "stream",
     "text": [
      "d\n",
      "k\n",
      "j\n",
      "d\n",
      "f\n",
      "g\n",
      "j\n",
      "g\n",
      "r\n",
      "g\n",
      "b\n",
      "m\n",
      "m\n",
      "b\n",
      "m\n"
     ]
    }
   ],
   "source": [
    "for i in s:\n",
    "    print(i)"
   ]
  },
  {
   "cell_type": "code",
   "execution_count": 78,
   "id": "b59f9d49",
   "metadata": {},
   "outputs": [
    {
     "name": "stdout",
     "output_type": "stream",
     "text": [
      "(0, 'd')\n",
      "(1, 'k')\n",
      "(2, 'j')\n",
      "(3, 'd')\n",
      "(4, 'f')\n",
      "(5, 'g')\n",
      "(6, 'j')\n",
      "(7, 'g')\n",
      "(8, 'r')\n",
      "(9, 'g')\n",
      "(10, 'b')\n",
      "(11, 'm')\n",
      "(12, 'm')\n",
      "(13, 'b')\n",
      "(14, 'm')\n"
     ]
    }
   ],
   "source": [
    "for i in enumerate(s):\n",
    "    print(i)"
   ]
  },
  {
   "cell_type": "code",
   "execution_count": 79,
   "id": "249a607e",
   "metadata": {},
   "outputs": [
    {
     "data": {
      "text/plain": [
       "(9, 8, 7, 6, 5, 4)"
      ]
     },
     "execution_count": 79,
     "metadata": {},
     "output_type": "execute_result"
    }
   ],
   "source": [
    "t"
   ]
  },
  {
   "cell_type": "code",
   "execution_count": 81,
   "id": "17af32ea",
   "metadata": {},
   "outputs": [
    {
     "name": "stdout",
     "output_type": "stream",
     "text": [
      "0\n",
      "1\n",
      "2\n",
      "3\n",
      "4\n",
      "5\n"
     ]
    }
   ],
   "source": [
    "for i in range(len(t)):\n",
    "    print(i)"
   ]
  },
  {
   "cell_type": "code",
   "execution_count": 83,
   "id": "96c19a94",
   "metadata": {},
   "outputs": [
    {
     "name": "stdout",
     "output_type": "stream",
     "text": [
      "0 9\n",
      "1 8\n",
      "2 7\n",
      "3 6\n",
      "4 5\n",
      "5 4\n"
     ]
    }
   ],
   "source": [
    "for i in range(len(t)):\n",
    "    print(i,t[i])"
   ]
  },
  {
   "cell_type": "code",
   "execution_count": 84,
   "id": "91aed565",
   "metadata": {},
   "outputs": [
    {
     "data": {
      "text/plain": [
       "(4, 5, 6, 7, 8, 9)"
      ]
     },
     "execution_count": 84,
     "metadata": {},
     "output_type": "execute_result"
    }
   ],
   "source": [
    "t[::-1]"
   ]
  },
  {
   "cell_type": "code",
   "execution_count": 85,
   "id": "ebdb9095",
   "metadata": {},
   "outputs": [
    {
     "data": {
      "text/plain": [
       "(9, 8, 7, 6, 5, 4)"
      ]
     },
     "execution_count": 85,
     "metadata": {},
     "output_type": "execute_result"
    }
   ],
   "source": [
    "t"
   ]
  },
  {
   "cell_type": "code",
   "execution_count": 86,
   "id": "dc748cca",
   "metadata": {},
   "outputs": [
    {
     "data": {
      "text/plain": [
       "(9, 8, 7, 6, 5, 4)"
      ]
     },
     "execution_count": 86,
     "metadata": {},
     "output_type": "execute_result"
    }
   ],
   "source": [
    "t"
   ]
  },
  {
   "cell_type": "code",
   "execution_count": 88,
   "id": "49c93f44",
   "metadata": {},
   "outputs": [
    {
     "data": {
      "text/plain": [
       "range(6, 0, -1)"
      ]
     },
     "execution_count": 88,
     "metadata": {},
     "output_type": "execute_result"
    }
   ],
   "source": [
    "range(len(t),0,-1)"
   ]
  },
  {
   "cell_type": "code",
   "execution_count": 89,
   "id": "7e45eab9",
   "metadata": {},
   "outputs": [
    {
     "data": {
      "text/plain": [
       "[6, 5, 4, 3, 2, 1]"
      ]
     },
     "execution_count": 89,
     "metadata": {},
     "output_type": "execute_result"
    }
   ],
   "source": [
    "list(range(len(t),0,-1))"
   ]
  },
  {
   "cell_type": "code",
   "execution_count": 90,
   "id": "698ae6ef",
   "metadata": {},
   "outputs": [
    {
     "ename": "IndexError",
     "evalue": "tuple index out of range",
     "output_type": "error",
     "traceback": [
      "\u001b[1;31m---------------------------------------------------------------------------\u001b[0m",
      "\u001b[1;31mIndexError\u001b[0m                                Traceback (most recent call last)",
      "\u001b[1;32m~\\AppData\\Local\\Temp/ipykernel_36852/926544472.py\u001b[0m in \u001b[0;36m<module>\u001b[1;34m\u001b[0m\n\u001b[0;32m      1\u001b[0m \u001b[1;32mfor\u001b[0m \u001b[0mi\u001b[0m \u001b[1;32min\u001b[0m \u001b[0mrange\u001b[0m\u001b[1;33m(\u001b[0m\u001b[0mlen\u001b[0m\u001b[1;33m(\u001b[0m\u001b[0mt\u001b[0m\u001b[1;33m)\u001b[0m\u001b[1;33m,\u001b[0m\u001b[1;36m0\u001b[0m\u001b[1;33m,\u001b[0m\u001b[1;33m-\u001b[0m\u001b[1;36m1\u001b[0m\u001b[1;33m)\u001b[0m\u001b[1;33m:\u001b[0m\u001b[1;33m\u001b[0m\u001b[1;33m\u001b[0m\u001b[0m\n\u001b[1;32m----> 2\u001b[1;33m     \u001b[0mprint\u001b[0m\u001b[1;33m(\u001b[0m\u001b[0mt\u001b[0m\u001b[1;33m[\u001b[0m\u001b[0mi\u001b[0m\u001b[1;33m]\u001b[0m\u001b[1;33m)\u001b[0m\u001b[1;33m\u001b[0m\u001b[1;33m\u001b[0m\u001b[0m\n\u001b[0m",
      "\u001b[1;31mIndexError\u001b[0m: tuple index out of range"
     ]
    }
   ],
   "source": [
    "for i in range(len(t),0,-1):\n",
    "    print(t[i])"
   ]
  },
  {
   "cell_type": "code",
   "execution_count": 93,
   "id": "d50bfdb5",
   "metadata": {},
   "outputs": [
    {
     "name": "stdout",
     "output_type": "stream",
     "text": [
      "4\n",
      "5\n",
      "6\n",
      "7\n",
      "8\n"
     ]
    }
   ],
   "source": [
    "for i in range(len(t)-1,0,-1):\n",
    "    print(t[i])"
   ]
  },
  {
   "cell_type": "code",
   "execution_count": 94,
   "id": "f637a532",
   "metadata": {},
   "outputs": [
    {
     "name": "stdout",
     "output_type": "stream",
     "text": [
      "4\n",
      "5\n",
      "6\n",
      "7\n",
      "8\n",
      "9\n"
     ]
    }
   ],
   "source": [
    "for i in range(len(t)-1,-1,-1):\n",
    "    print(t[i])"
   ]
  },
  {
   "cell_type": "code",
   "execution_count": 96,
   "id": "d9fce123",
   "metadata": {},
   "outputs": [
    {
     "ename": "SyntaxError",
     "evalue": "invalid syntax (Temp/ipykernel_36852/1082650263.py, line 1)",
     "output_type": "error",
     "traceback": [
      "\u001b[1;36m  File \u001b[1;32m\"C:\\Users\\91903\\AppData\\Local\\Temp/ipykernel_36852/1082650263.py\"\u001b[1;36m, line \u001b[1;32m1\u001b[0m\n\u001b[1;33m    for i in range(len(t)-1, ,-1):\u001b[0m\n\u001b[1;37m                             ^\u001b[0m\n\u001b[1;31mSyntaxError\u001b[0m\u001b[1;31m:\u001b[0m invalid syntax\n"
     ]
    }
   ],
   "source": [
    "for i in range(len(t)-1, ,-1):\n",
    "    print(t[i])"
   ]
  },
  {
   "cell_type": "code",
   "execution_count": 97,
   "id": "c5874144",
   "metadata": {},
   "outputs": [],
   "source": [
    "d={\"a\":\"pavan\",\"b\":\"raji\",\"c\":[1,2,3,4],\"d\":(7,8,9,10),\"e\":\"ineuron\"}"
   ]
  },
  {
   "cell_type": "code",
   "execution_count": 98,
   "id": "3fe62a47",
   "metadata": {},
   "outputs": [
    {
     "data": {
      "text/plain": [
       "(7, 8, 9, 10)"
      ]
     },
     "execution_count": 98,
     "metadata": {},
     "output_type": "execute_result"
    }
   ],
   "source": [
    "d[\"d\"]"
   ]
  },
  {
   "cell_type": "code",
   "execution_count": 99,
   "id": "ddc18e3b",
   "metadata": {},
   "outputs": [
    {
     "name": "stdout",
     "output_type": "stream",
     "text": [
      "a\n",
      "b\n",
      "c\n",
      "d\n",
      "e\n"
     ]
    }
   ],
   "source": [
    "for i in d:\n",
    "    print(i)"
   ]
  },
  {
   "cell_type": "code",
   "execution_count": 102,
   "id": "3838d945",
   "metadata": {},
   "outputs": [
    {
     "name": "stdout",
     "output_type": "stream",
     "text": [
      "a pavan\n",
      "b raji\n",
      "c [1, 2, 3, 4]\n",
      "d (7, 8, 9, 10)\n",
      "e ineuron\n"
     ]
    }
   ],
   "source": [
    "for i in d:\n",
    "    print(i,d[i])"
   ]
  },
  {
   "cell_type": "code",
   "execution_count": 103,
   "id": "11521b56",
   "metadata": {},
   "outputs": [
    {
     "data": {
      "text/plain": [
       "dict_items([('a', 'pavan'), ('b', 'raji'), ('c', [1, 2, 3, 4]), ('d', (7, 8, 9, 10)), ('e', 'ineuron')])"
      ]
     },
     "execution_count": 103,
     "metadata": {},
     "output_type": "execute_result"
    }
   ],
   "source": [
    "d.items()"
   ]
  },
  {
   "cell_type": "code",
   "execution_count": 104,
   "id": "898d98cd",
   "metadata": {},
   "outputs": [],
   "source": [
    "#returns list of tuples of items"
   ]
  },
  {
   "cell_type": "code",
   "execution_count": 105,
   "id": "3c21e431",
   "metadata": {},
   "outputs": [
    {
     "name": "stdout",
     "output_type": "stream",
     "text": [
      "('a', 'pavan')\n",
      "('b', 'raji')\n",
      "('c', [1, 2, 3, 4])\n",
      "('d', (7, 8, 9, 10))\n",
      "('e', 'ineuron')\n"
     ]
    }
   ],
   "source": [
    "for i in d.items():\n",
    "    print(i)"
   ]
  },
  {
   "cell_type": "code",
   "execution_count": 106,
   "id": "6122391e",
   "metadata": {},
   "outputs": [],
   "source": [
    "s={1,2,3,1,2,3,4,5,4,5,45,6,9,8,7}"
   ]
  },
  {
   "cell_type": "code",
   "execution_count": 107,
   "id": "5b0c39fd",
   "metadata": {},
   "outputs": [
    {
     "data": {
      "text/plain": [
       "{1, 2, 3, 4, 5, 6, 7, 8, 9, 45}"
      ]
     },
     "execution_count": 107,
     "metadata": {},
     "output_type": "execute_result"
    }
   ],
   "source": [
    "s"
   ]
  },
  {
   "cell_type": "code",
   "execution_count": 108,
   "id": "793383c4",
   "metadata": {},
   "outputs": [],
   "source": [
    "# set must have homogeneous data"
   ]
  },
  {
   "cell_type": "code",
   "execution_count": 109,
   "id": "06f5be6e",
   "metadata": {},
   "outputs": [
    {
     "name": "stdout",
     "output_type": "stream",
     "text": [
      "1\n",
      "2\n",
      "3\n",
      "4\n",
      "5\n",
      "6\n",
      "7\n",
      "8\n",
      "9\n",
      "45\n"
     ]
    }
   ],
   "source": [
    "for i in s:\n",
    "    print(i)"
   ]
  },
  {
   "cell_type": "code",
   "execution_count": 111,
   "id": "dbd94bbc",
   "metadata": {},
   "outputs": [
    {
     "name": "stdout",
     "output_type": "stream",
     "text": [
      "1\n",
      "2\n",
      "3\n",
      "4\n",
      "5\n",
      "6\n",
      "7\n",
      "8\n",
      "9\n",
      "45\n"
     ]
    }
   ],
   "source": [
    "for i in s:\n",
    "    print(i)"
   ]
  },
  {
   "cell_type": "code",
   "execution_count": null,
   "id": "91630be8",
   "metadata": {},
   "outputs": [],
   "source": []
  }
 ],
 "metadata": {
  "kernelspec": {
   "display_name": "Python 3 (ipykernel)",
   "language": "python",
   "name": "python3"
  },
  "language_info": {
   "codemirror_mode": {
    "name": "ipython",
    "version": 3
   },
   "file_extension": ".py",
   "mimetype": "text/x-python",
   "name": "python",
   "nbconvert_exporter": "python",
   "pygments_lexer": "ipython3",
   "version": "3.9.7"
  }
 },
 "nbformat": 4,
 "nbformat_minor": 5
}
