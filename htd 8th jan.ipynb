{
 "cells": [
  {
   "cell_type": "code",
   "execution_count": 1,
   "id": "ff19aee2",
   "metadata": {},
   "outputs": [],
   "source": [
    "# function part2"
   ]
  },
  {
   "cell_type": "code",
   "execution_count": 2,
   "id": "45280a54",
   "metadata": {},
   "outputs": [],
   "source": [
    "def test():\n",
    "    return \"gunturu\""
   ]
  },
  {
   "cell_type": "code",
   "execution_count": 3,
   "id": "6b8ac7ac",
   "metadata": {},
   "outputs": [
    {
     "data": {
      "text/plain": [
       "'gunturu'"
      ]
     },
     "execution_count": 3,
     "metadata": {},
     "output_type": "execute_result"
    }
   ],
   "source": [
    "test()"
   ]
  },
  {
   "cell_type": "code",
   "execution_count": 4,
   "id": "93b4ab33",
   "metadata": {},
   "outputs": [],
   "source": [
    "def test1(a,b,c,d):\n",
    "    return a+b+c+d"
   ]
  },
  {
   "cell_type": "code",
   "execution_count": 5,
   "id": "2123e91e",
   "metadata": {},
   "outputs": [
    {
     "data": {
      "text/plain": [
       "10"
      ]
     },
     "execution_count": 5,
     "metadata": {},
     "output_type": "execute_result"
    }
   ],
   "source": [
    "test1(1,2,3,4)"
   ]
  },
  {
   "cell_type": "code",
   "execution_count": 6,
   "id": "169d80b2",
   "metadata": {},
   "outputs": [],
   "source": [
    "# more variables"
   ]
  },
  {
   "cell_type": "code",
   "execution_count": 7,
   "id": "12a29740",
   "metadata": {},
   "outputs": [],
   "source": [
    "def test2(*args):\n",
    "    return args"
   ]
  },
  {
   "cell_type": "code",
   "execution_count": 8,
   "id": "73bb8ab0",
   "metadata": {},
   "outputs": [
    {
     "data": {
      "text/plain": [
       "(10, 20, 30, 40, 50, [10, 20])"
      ]
     },
     "execution_count": 8,
     "metadata": {},
     "output_type": "execute_result"
    }
   ],
   "source": [
    "test2(10,20,30,40,50,[10,20])"
   ]
  },
  {
   "cell_type": "code",
   "execution_count": 9,
   "id": "127089b9",
   "metadata": {},
   "outputs": [],
   "source": [
    "# function always returns tuples"
   ]
  },
  {
   "cell_type": "code",
   "execution_count": 10,
   "id": "55e93930",
   "metadata": {},
   "outputs": [],
   "source": [
    "# args is not a reserved keyword"
   ]
  },
  {
   "cell_type": "code",
   "execution_count": 11,
   "id": "1475a0a7",
   "metadata": {},
   "outputs": [],
   "source": [
    "# * means pass multiple variables"
   ]
  },
  {
   "cell_type": "code",
   "execution_count": 12,
   "id": "ffd3532c",
   "metadata": {},
   "outputs": [],
   "source": [
    "def test3(*raji):\n",
    "    return raji"
   ]
  },
  {
   "cell_type": "code",
   "execution_count": 13,
   "id": "a382caf3",
   "metadata": {},
   "outputs": [
    {
     "data": {
      "text/plain": [
       "([1, 2], (3, 4), 4, 5, 6, [7, 8, 9])"
      ]
     },
     "execution_count": 13,
     "metadata": {},
     "output_type": "execute_result"
    }
   ],
   "source": [
    "test3([1,2],(3,4),4,5,6,[7,8,9])"
   ]
  },
  {
   "cell_type": "code",
   "execution_count": 14,
   "id": "f6e1507b",
   "metadata": {},
   "outputs": [],
   "source": [
    "#args is a notation"
   ]
  },
  {
   "cell_type": "code",
   "execution_count": 19,
   "id": "ed26d7d1",
   "metadata": {},
   "outputs": [],
   "source": [
    "def test4(*raji,a):\n",
    "    return raji,a"
   ]
  },
  {
   "cell_type": "code",
   "execution_count": 20,
   "id": "9bfda172",
   "metadata": {},
   "outputs": [
    {
     "ename": "TypeError",
     "evalue": "test4() missing 1 required keyword-only argument: 'a'",
     "output_type": "error",
     "traceback": [
      "\u001b[1;31m---------------------------------------------------------------------------\u001b[0m",
      "\u001b[1;31mTypeError\u001b[0m                                 Traceback (most recent call last)",
      "\u001b[1;32m~\\AppData\\Local\\Temp/ipykernel_40004/3892546350.py\u001b[0m in \u001b[0;36m<module>\u001b[1;34m\u001b[0m\n\u001b[1;32m----> 1\u001b[1;33m \u001b[0mtest4\u001b[0m\u001b[1;33m(\u001b[0m\u001b[1;36m34\u001b[0m\u001b[1;33m,\u001b[0m\u001b[1;36m45\u001b[0m\u001b[1;33m,\u001b[0m\u001b[1;36m56\u001b[0m\u001b[1;33m)\u001b[0m\u001b[1;33m\u001b[0m\u001b[1;33m\u001b[0m\u001b[0m\n\u001b[0m",
      "\u001b[1;31mTypeError\u001b[0m: test4() missing 1 required keyword-only argument: 'a'"
     ]
    }
   ],
   "source": [
    "test4(34,45,56)"
   ]
  },
  {
   "cell_type": "code",
   "execution_count": 22,
   "id": "64e7d690",
   "metadata": {},
   "outputs": [
    {
     "data": {
      "text/plain": [
       "((31, 25, 16), 89)"
      ]
     },
     "execution_count": 22,
     "metadata": {},
     "output_type": "execute_result"
    }
   ],
   "source": [
    "test4(31,25,16,a=89)"
   ]
  },
  {
   "cell_type": "code",
   "execution_count": 23,
   "id": "b78c29be",
   "metadata": {},
   "outputs": [],
   "source": [
    "def test5(*raji,a,b,c,d):\n",
    "    return raji,a,b,c,d"
   ]
  },
  {
   "cell_type": "code",
   "execution_count": 24,
   "id": "d3e651ec",
   "metadata": {},
   "outputs": [
    {
     "data": {
      "text/plain": [
       "((10, 50, 16, [10, 2, 3, 4, 5]), 8, 9, 6, 89)"
      ]
     },
     "execution_count": 24,
     "metadata": {},
     "output_type": "execute_result"
    }
   ],
   "source": [
    "test5(10,50,16,[10,2,3,4,5],a=8,b=9,c=6,d=89)"
   ]
  },
  {
   "cell_type": "code",
   "execution_count": 25,
   "id": "5cc6bc64",
   "metadata": {},
   "outputs": [],
   "source": [
    "def test6(a,b,c,d,*raji):\n",
    "    return raji,a,b,c,d"
   ]
  },
  {
   "cell_type": "code",
   "execution_count": 26,
   "id": "54eb3abe",
   "metadata": {},
   "outputs": [
    {
     "ename": "TypeError",
     "evalue": "test6() got multiple values for argument 'a'",
     "output_type": "error",
     "traceback": [
      "\u001b[1;31m---------------------------------------------------------------------------\u001b[0m",
      "\u001b[1;31mTypeError\u001b[0m                                 Traceback (most recent call last)",
      "\u001b[1;32m~\\AppData\\Local\\Temp/ipykernel_40004/1805884841.py\u001b[0m in \u001b[0;36m<module>\u001b[1;34m\u001b[0m\n\u001b[1;32m----> 1\u001b[1;33m \u001b[0mtest6\u001b[0m\u001b[1;33m(\u001b[0m\u001b[1;36m10\u001b[0m\u001b[1;33m,\u001b[0m\u001b[1;36m50\u001b[0m\u001b[1;33m,\u001b[0m\u001b[1;36m16\u001b[0m\u001b[1;33m,\u001b[0m\u001b[1;33m[\u001b[0m\u001b[1;36m10\u001b[0m\u001b[1;33m,\u001b[0m\u001b[1;36m2\u001b[0m\u001b[1;33m,\u001b[0m\u001b[1;36m3\u001b[0m\u001b[1;33m,\u001b[0m\u001b[1;36m4\u001b[0m\u001b[1;33m,\u001b[0m\u001b[1;36m5\u001b[0m\u001b[1;33m]\u001b[0m\u001b[1;33m,\u001b[0m\u001b[0ma\u001b[0m\u001b[1;33m=\u001b[0m\u001b[1;36m8\u001b[0m\u001b[1;33m,\u001b[0m\u001b[0mb\u001b[0m\u001b[1;33m=\u001b[0m\u001b[1;36m9\u001b[0m\u001b[1;33m,\u001b[0m\u001b[0mc\u001b[0m\u001b[1;33m=\u001b[0m\u001b[1;36m6\u001b[0m\u001b[1;33m,\u001b[0m\u001b[0md\u001b[0m\u001b[1;33m=\u001b[0m\u001b[1;36m89\u001b[0m\u001b[1;33m)\u001b[0m\u001b[1;33m\u001b[0m\u001b[1;33m\u001b[0m\u001b[0m\n\u001b[0m",
      "\u001b[1;31mTypeError\u001b[0m: test6() got multiple values for argument 'a'"
     ]
    }
   ],
   "source": [
    "test6(10,50,16,[10,2,3,4,5],a=8,b=9,c=6,d=89)"
   ]
  },
  {
   "cell_type": "code",
   "execution_count": 28,
   "id": "95123e9b",
   "metadata": {},
   "outputs": [
    {
     "data": {
      "text/plain": [
       "((10, 50, 16, [10, 2, 3, 4, 5]), 8, 9, 6, 89)"
      ]
     },
     "execution_count": 28,
     "metadata": {},
     "output_type": "execute_result"
    }
   ],
   "source": [
    "test6(8,9,6,89,10,50,16,[10,2,3,4,5])"
   ]
  },
  {
   "cell_type": "code",
   "execution_count": 31,
   "id": "33a8a334",
   "metadata": {},
   "outputs": [
    {
     "data": {
      "text/plain": [
       "((8, 9, 6, 89), 10, 50, 16, [10, 2, 3, 4, 5])"
      ]
     },
     "execution_count": 31,
     "metadata": {},
     "output_type": "execute_result"
    }
   ],
   "source": [
    "test6(10, 50, 16, [10, 2, 3, 4, 5],8, 9, 6,89)"
   ]
  },
  {
   "cell_type": "code",
   "execution_count": 36,
   "id": "4b23d589",
   "metadata": {},
   "outputs": [],
   "source": [
    "def test7(a,*raji,c,d):\n",
    "    return a,c,d,raji"
   ]
  },
  {
   "cell_type": "code",
   "execution_count": 38,
   "id": "7004de8a",
   "metadata": {},
   "outputs": [
    {
     "data": {
      "text/plain": [
       "(10, 90, 100, (20, 30, 40550, 60, 80, 70, 80))"
      ]
     },
     "execution_count": 38,
     "metadata": {},
     "output_type": "execute_result"
    }
   ],
   "source": [
    "test7(10,20,30,40550,60,80,70,80,c=90,d=100)"
   ]
  },
  {
   "cell_type": "code",
   "execution_count": 39,
   "id": "88f08d88",
   "metadata": {},
   "outputs": [],
   "source": [
    "# arguments always returns tuples"
   ]
  },
  {
   "cell_type": "code",
   "execution_count": 46,
   "id": "dc8ed538",
   "metadata": {},
   "outputs": [],
   "source": [
    "def test9(*args):\n",
    "    for i in args:\n",
    "        if type(i)==list:\n",
    "            return i\n",
    "        elif type(i)!=list:\n",
    "            pass\n",
    "    "
   ]
  },
  {
   "cell_type": "code",
   "execution_count": 47,
   "id": "3101bccf",
   "metadata": {},
   "outputs": [
    {
     "data": {
      "text/plain": [
       "[40, 50, 60, 70]"
      ]
     },
     "execution_count": 47,
     "metadata": {},
     "output_type": "execute_result"
    }
   ],
   "source": [
    "test9(10,20,30,40,50,[40,50,60,70],[80,90])"
   ]
  },
  {
   "cell_type": "code",
   "execution_count": 48,
   "id": "ac8ec8ad",
   "metadata": {},
   "outputs": [],
   "source": [
    "# returning only first list"
   ]
  },
  {
   "cell_type": "code",
   "execution_count": 50,
   "id": "87c5c844",
   "metadata": {},
   "outputs": [],
   "source": [
    "def test9(*args):\n",
    "    l=[]\n",
    "    for i in args:\n",
    "        if type(i)==list:\n",
    "            l.append(i)\n",
    "    return l\n",
    "    \n",
    "        \n",
    "    "
   ]
  },
  {
   "cell_type": "code",
   "execution_count": 51,
   "id": "d7f7d191",
   "metadata": {},
   "outputs": [
    {
     "data": {
      "text/plain": [
       "[[40, 50, 60, 70], [80, 90]]"
      ]
     },
     "execution_count": 51,
     "metadata": {},
     "output_type": "execute_result"
    }
   ],
   "source": [
    "test9(10,20,30,40,50,[40,50,60,70],[80,90])"
   ]
  },
  {
   "cell_type": "code",
   "execution_count": 52,
   "id": "71a4363a",
   "metadata": {},
   "outputs": [],
   "source": [
    "# n no of key value pair"
   ]
  },
  {
   "cell_type": "code",
   "execution_count": 53,
   "id": "75a3b736",
   "metadata": {},
   "outputs": [],
   "source": [
    "# **kwargs"
   ]
  },
  {
   "cell_type": "code",
   "execution_count": 54,
   "id": "88826b4f",
   "metadata": {},
   "outputs": [],
   "source": [
    "d={\"a\":100,\"b\":200,\"c\":300}"
   ]
  },
  {
   "cell_type": "code",
   "execution_count": 55,
   "id": "63e0f7dc",
   "metadata": {},
   "outputs": [
    {
     "data": {
      "text/plain": [
       "{'a': 100, 'b': 200, 'c': 300}"
      ]
     },
     "execution_count": 55,
     "metadata": {},
     "output_type": "execute_result"
    }
   ],
   "source": [
    "d"
   ]
  },
  {
   "cell_type": "code",
   "execution_count": 56,
   "id": "8363dea7",
   "metadata": {},
   "outputs": [
    {
     "data": {
      "text/plain": [
       "100"
      ]
     },
     "execution_count": 56,
     "metadata": {},
     "output_type": "execute_result"
    }
   ],
   "source": [
    "d[\"a\"]"
   ]
  },
  {
   "cell_type": "code",
   "execution_count": 58,
   "id": "2cd1cc97",
   "metadata": {},
   "outputs": [],
   "source": [
    "def test10(**kwargs):\n",
    "    #**kwargs is an keyword argument\n",
    "    return kwargs"
   ]
  },
  {
   "cell_type": "code",
   "execution_count": 61,
   "id": "43455cd8",
   "metadata": {},
   "outputs": [
    {
     "ename": "TypeError",
     "evalue": "test10() takes 0 positional arguments but 1 was given",
     "output_type": "error",
     "traceback": [
      "\u001b[1;31m---------------------------------------------------------------------------\u001b[0m",
      "\u001b[1;31mTypeError\u001b[0m                                 Traceback (most recent call last)",
      "\u001b[1;32m~\\AppData\\Local\\Temp/ipykernel_40004/173839897.py\u001b[0m in \u001b[0;36m<module>\u001b[1;34m\u001b[0m\n\u001b[1;32m----> 1\u001b[1;33m \u001b[0mtest10\u001b[0m\u001b[1;33m(\u001b[0m\u001b[1;33m{\u001b[0m\u001b[1;34m\"a\"\u001b[0m\u001b[1;33m:\u001b[0m\u001b[1;36m100\u001b[0m\u001b[1;33m,\u001b[0m\u001b[1;34m\"b\"\u001b[0m\u001b[1;33m:\u001b[0m\u001b[1;36m200\u001b[0m\u001b[1;33m,\u001b[0m\u001b[1;34m\"c\"\u001b[0m\u001b[1;33m:\u001b[0m\u001b[1;36m300\u001b[0m\u001b[1;33m,\u001b[0m\u001b[1;34m\"d\"\u001b[0m\u001b[1;33m:\u001b[0m\u001b[1;36m500\u001b[0m\u001b[1;33m}\u001b[0m\u001b[1;33m)\u001b[0m\u001b[1;33m\u001b[0m\u001b[1;33m\u001b[0m\u001b[0m\n\u001b[0m",
      "\u001b[1;31mTypeError\u001b[0m: test10() takes 0 positional arguments but 1 was given"
     ]
    }
   ],
   "source": [
    "test10({\"a\":100,\"b\":200,\"c\":300,\"d\":500})"
   ]
  },
  {
   "cell_type": "code",
   "execution_count": 62,
   "id": "cfe34bc3",
   "metadata": {},
   "outputs": [
    {
     "data": {
      "text/plain": [
       "{'a': 100, 'b': 200, 'c': 300, 'd': 400}"
      ]
     },
     "execution_count": 62,
     "metadata": {},
     "output_type": "execute_result"
    }
   ],
   "source": [
    "test10(a=100,b=200,c=300,d=400)"
   ]
  },
  {
   "cell_type": "code",
   "execution_count": 63,
   "id": "496c8056",
   "metadata": {},
   "outputs": [],
   "source": [
    "# bydefault gives a dictionary"
   ]
  },
  {
   "cell_type": "code",
   "execution_count": 64,
   "id": "87bcba6e",
   "metadata": {},
   "outputs": [],
   "source": [
    "def test11(**raji):\n",
    "    return raji"
   ]
  },
  {
   "cell_type": "code",
   "execution_count": 66,
   "id": "9a3f8868",
   "metadata": {},
   "outputs": [
    {
     "data": {
      "text/plain": [
       "{'v': 50, 'b': 20, 'k': 40, 'm': 60}"
      ]
     },
     "execution_count": 66,
     "metadata": {},
     "output_type": "execute_result"
    }
   ],
   "source": [
    "test11(v=50,b=20,k=40,m=60)"
   ]
  },
  {
   "cell_type": "code",
   "execution_count": 67,
   "id": "d7d2eded",
   "metadata": {},
   "outputs": [],
   "source": [
    "def test12(a,**raji):\n",
    "    return a,raji"
   ]
  },
  {
   "cell_type": "code",
   "execution_count": 69,
   "id": "46558502",
   "metadata": {},
   "outputs": [
    {
     "data": {
      "text/plain": [
       "(10, {'m': 10, 'n': 96, 'j': 56})"
      ]
     },
     "execution_count": 69,
     "metadata": {},
     "output_type": "execute_result"
    }
   ],
   "source": [
    "test12(10,m=10,n=96,j=56)"
   ]
  },
  {
   "cell_type": "code",
   "execution_count": 70,
   "id": "5fffbb96",
   "metadata": {},
   "outputs": [],
   "source": [
    "def test12(a,**raji):\n",
    "    return raji,a"
   ]
  },
  {
   "cell_type": "code",
   "execution_count": 71,
   "id": "d3c16d00",
   "metadata": {},
   "outputs": [
    {
     "data": {
      "text/plain": [
       "({'m': 10, 'n': 96, 'j': 56}, 10)"
      ]
     },
     "execution_count": 71,
     "metadata": {},
     "output_type": "execute_result"
    }
   ],
   "source": [
    "test12(10,m=10,n=96,j=56)"
   ]
  },
  {
   "cell_type": "code",
   "execution_count": 72,
   "id": "261c51da",
   "metadata": {},
   "outputs": [
    {
     "ename": "SyntaxError",
     "evalue": "invalid syntax (Temp/ipykernel_40004/513456018.py, line 1)",
     "output_type": "error",
     "traceback": [
      "\u001b[1;36m  File \u001b[1;32m\"C:\\Users\\91903\\AppData\\Local\\Temp/ipykernel_40004/513456018.py\"\u001b[1;36m, line \u001b[1;32m1\u001b[0m\n\u001b[1;33m    def test12(a,**raji,*args):\u001b[0m\n\u001b[1;37m                        ^\u001b[0m\n\u001b[1;31mSyntaxError\u001b[0m\u001b[1;31m:\u001b[0m invalid syntax\n"
     ]
    }
   ],
   "source": [
    "def test12(a,**raji,*args):\n",
    "    return raji,a,args"
   ]
  },
  {
   "cell_type": "code",
   "execution_count": 75,
   "id": "e3d56382",
   "metadata": {},
   "outputs": [],
   "source": [
    "def test12(a,*raji,**kwargs):\n",
    "    return raji,a,kwargs"
   ]
  },
  {
   "cell_type": "code",
   "execution_count": 76,
   "id": "6e1bbf5e",
   "metadata": {},
   "outputs": [
    {
     "data": {
      "text/plain": [
       "((20, 30, 40), 10, {'m': 11, 'n': 22, 'b': 33})"
      ]
     },
     "execution_count": 76,
     "metadata": {},
     "output_type": "execute_result"
    }
   ],
   "source": [
    "test12(10,20,30,40,m=11,n=22,b=33)"
   ]
  },
  {
   "cell_type": "code",
   "execution_count": 77,
   "id": "c89b522e",
   "metadata": {},
   "outputs": [],
   "source": [
    "# ananymous function or function without name"
   ]
  },
  {
   "cell_type": "code",
   "execution_count": 78,
   "id": "77660cb3",
   "metadata": {},
   "outputs": [],
   "source": [
    "def test14(a,b):\n",
    "    return a+b"
   ]
  },
  {
   "cell_type": "code",
   "execution_count": 79,
   "id": "e98ad0ac",
   "metadata": {},
   "outputs": [
    {
     "data": {
      "text/plain": [
       "40"
      ]
     },
     "execution_count": 79,
     "metadata": {},
     "output_type": "execute_result"
    }
   ],
   "source": [
    "test14(10,30)"
   ]
  },
  {
   "cell_type": "code",
   "execution_count": 80,
   "id": "d488eded",
   "metadata": {},
   "outputs": [
    {
     "data": {
      "text/plain": [
       "<function __main__.<lambda>(a, b)>"
      ]
     },
     "execution_count": 80,
     "metadata": {},
     "output_type": "execute_result"
    }
   ],
   "source": [
    "lambda a,b:a*b"
   ]
  },
  {
   "cell_type": "code",
   "execution_count": 81,
   "id": "e26898b7",
   "metadata": {},
   "outputs": [],
   "source": [
    "# save the function in a variable"
   ]
  },
  {
   "cell_type": "code",
   "execution_count": 82,
   "id": "264f46af",
   "metadata": {},
   "outputs": [],
   "source": [
    "g=lambda a,b:a*b"
   ]
  },
  {
   "cell_type": "code",
   "execution_count": 83,
   "id": "71687959",
   "metadata": {},
   "outputs": [
    {
     "data": {
      "text/plain": [
       "<function __main__.<lambda>(a, b)>"
      ]
     },
     "execution_count": 83,
     "metadata": {},
     "output_type": "execute_result"
    }
   ],
   "source": [
    "g"
   ]
  },
  {
   "cell_type": "code",
   "execution_count": 84,
   "id": "538b2295",
   "metadata": {},
   "outputs": [
    {
     "data": {
      "text/plain": [
       "600"
      ]
     },
     "execution_count": 84,
     "metadata": {},
     "output_type": "execute_result"
    }
   ],
   "source": [
    "g(20,30)"
   ]
  },
  {
   "cell_type": "code",
   "execution_count": 85,
   "id": "64b26192",
   "metadata": {},
   "outputs": [],
   "source": [
    "g=lambda a,b: (a+b,a*b,b/a)"
   ]
  },
  {
   "cell_type": "code",
   "execution_count": 87,
   "id": "a5a8607c",
   "metadata": {},
   "outputs": [
    {
     "data": {
      "text/plain": [
       "(60, 500, 5.0)"
      ]
     },
     "execution_count": 87,
     "metadata": {},
     "output_type": "execute_result"
    }
   ],
   "source": [
    "g(10,50)"
   ]
  },
  {
   "cell_type": "code",
   "execution_count": 88,
   "id": "e733507d",
   "metadata": {},
   "outputs": [],
   "source": [
    "c=lambda *a: a"
   ]
  },
  {
   "cell_type": "code",
   "execution_count": 89,
   "id": "a9275638",
   "metadata": {},
   "outputs": [
    {
     "data": {
      "text/plain": [
       "(10, 20, 30, 40, 50, 60)"
      ]
     },
     "execution_count": 89,
     "metadata": {},
     "output_type": "execute_result"
    }
   ],
   "source": [
    "c(10,20,30,40,50,60)"
   ]
  },
  {
   "cell_type": "code",
   "execution_count": 90,
   "id": "30e2e474",
   "metadata": {},
   "outputs": [],
   "source": [
    "# *a returns tuples"
   ]
  },
  {
   "cell_type": "code",
   "execution_count": 91,
   "id": "68327235",
   "metadata": {},
   "outputs": [
    {
     "ename": "SyntaxError",
     "evalue": "invalid syntax (Temp/ipykernel_40004/3161208438.py, line 1)",
     "output_type": "error",
     "traceback": [
      "\u001b[1;36m  File \u001b[1;32m\"C:\\Users\\91903\\AppData\\Local\\Temp/ipykernel_40004/3161208438.py\"\u001b[1;36m, line \u001b[1;32m1\u001b[0m\n\u001b[1;33m    lambda a: for i in a: i\u001b[0m\n\u001b[1;37m              ^\u001b[0m\n\u001b[1;31mSyntaxError\u001b[0m\u001b[1;31m:\u001b[0m invalid syntax\n"
     ]
    }
   ],
   "source": [
    "lambda a: for i in a: i"
   ]
  },
  {
   "cell_type": "code",
   "execution_count": 95,
   "id": "a90be2a1",
   "metadata": {},
   "outputs": [
    {
     "ename": "SyntaxError",
     "evalue": "invalid syntax (Temp/ipykernel_40004/1720563156.py, line 1)",
     "output_type": "error",
     "traceback": [
      "\u001b[1;36m  File \u001b[1;32m\"C:\\Users\\91903\\AppData\\Local\\Temp/ipykernel_40004/1720563156.py\"\u001b[1;36m, line \u001b[1;32m1\u001b[0m\n\u001b[1;33m    lambda a:(for i in a: print(i))\u001b[0m\n\u001b[1;37m              ^\u001b[0m\n\u001b[1;31mSyntaxError\u001b[0m\u001b[1;31m:\u001b[0m invalid syntax\n"
     ]
    }
   ],
   "source": [
    "lambda a:(for i in a: print(i))"
   ]
  },
  {
   "cell_type": "code",
   "execution_count": 96,
   "id": "371a40a0",
   "metadata": {},
   "outputs": [
    {
     "ename": "SyntaxError",
     "evalue": "invalid syntax (Temp/ipykernel_40004/728034448.py, line 1)",
     "output_type": "error",
     "traceback": [
      "\u001b[1;36m  File \u001b[1;32m\"C:\\Users\\91903\\AppData\\Local\\Temp/ipykernel_40004/728034448.py\"\u001b[1;36m, line \u001b[1;32m1\u001b[0m\n\u001b[1;33m    b=lambda a: for i in a: i\u001b[0m\n\u001b[1;37m                ^\u001b[0m\n\u001b[1;31mSyntaxError\u001b[0m\u001b[1;31m:\u001b[0m invalid syntax\n"
     ]
    }
   ],
   "source": [
    "b=lambda a: for i in a: i"
   ]
  },
  {
   "cell_type": "code",
   "execution_count": 97,
   "id": "853309f2",
   "metadata": {},
   "outputs": [
    {
     "ename": "SyntaxError",
     "evalue": "invalid syntax (Temp/ipykernel_40004/3493818008.py, line 1)",
     "output_type": "error",
     "traceback": [
      "\u001b[1;36m  File \u001b[1;32m\"C:\\Users\\91903\\AppData\\Local\\Temp/ipykernel_40004/3493818008.py\"\u001b[1;36m, line \u001b[1;32m1\u001b[0m\n\u001b[1;33m    c=lambda a: i in a: i\u001b[0m\n\u001b[1;37m                      ^\u001b[0m\n\u001b[1;31mSyntaxError\u001b[0m\u001b[1;31m:\u001b[0m invalid syntax\n"
     ]
    }
   ],
   "source": [
    "c=lambda a: i in a: i"
   ]
  },
  {
   "cell_type": "code",
   "execution_count": 98,
   "id": "d0c33d9d",
   "metadata": {},
   "outputs": [
    {
     "ename": "NameError",
     "evalue": "name 't' is not defined",
     "output_type": "error",
     "traceback": [
      "\u001b[1;31m---------------------------------------------------------------------------\u001b[0m",
      "\u001b[1;31mNameError\u001b[0m                                 Traceback (most recent call last)",
      "\u001b[1;32m~\\AppData\\Local\\Temp/ipykernel_40004/887418870.py\u001b[0m in \u001b[0;36m<module>\u001b[1;34m\u001b[0m\n\u001b[1;32m----> 1\u001b[1;33m \u001b[0mc\u001b[0m\u001b[1;33m=\u001b[0m\u001b[1;33m[\u001b[0m\u001b[1;32mlambda\u001b[0m \u001b[0mt\u001b[0m\u001b[1;33m:\u001b[0m\u001b[0mi\u001b[0m \u001b[1;32mfor\u001b[0m \u001b[0mi\u001b[0m \u001b[1;32min\u001b[0m \u001b[0mt\u001b[0m\u001b[1;33m]\u001b[0m\u001b[1;33m\u001b[0m\u001b[1;33m\u001b[0m\u001b[0m\n\u001b[0m",
      "\u001b[1;31mNameError\u001b[0m: name 't' is not defined"
     ]
    }
   ],
   "source": [
    "c=[lambda t:i for i in t]"
   ]
  },
  {
   "cell_type": "code",
   "execution_count": 99,
   "id": "2ee63fd2",
   "metadata": {},
   "outputs": [],
   "source": [
    "c=lambda t:[print(i) for i in t]"
   ]
  },
  {
   "cell_type": "code",
   "execution_count": 100,
   "id": "04252c2c",
   "metadata": {},
   "outputs": [
    {
     "name": "stdout",
     "output_type": "stream",
     "text": [
      "1\n",
      "2\n",
      "3\n",
      "4\n",
      "5\n",
      "5\n",
      "7\n"
     ]
    },
    {
     "data": {
      "text/plain": [
       "[None, None, None, None, None, None, None]"
      ]
     },
     "execution_count": 100,
     "metadata": {},
     "output_type": "execute_result"
    }
   ],
   "source": [
    "c([1,2,3,4,5,5,7])"
   ]
  },
  {
   "cell_type": "code",
   "execution_count": 102,
   "id": "7412d225",
   "metadata": {},
   "outputs": [],
   "source": [
    "c=lambda t:[i for i in t]"
   ]
  },
  {
   "cell_type": "code",
   "execution_count": 103,
   "id": "29aff9bc",
   "metadata": {},
   "outputs": [
    {
     "data": {
      "text/plain": [
       "[10, 20, 30, 40, 50, 60, 70]"
      ]
     },
     "execution_count": 103,
     "metadata": {},
     "output_type": "execute_result"
    }
   ],
   "source": [
    "c([10,20,30,40,50,60,70])"
   ]
  },
  {
   "cell_type": "code",
   "execution_count": 104,
   "id": "90aeb8ff",
   "metadata": {},
   "outputs": [],
   "source": [
    "l=[4,5,6,7,8,9]"
   ]
  },
  {
   "cell_type": "code",
   "execution_count": 108,
   "id": "af361124",
   "metadata": {},
   "outputs": [],
   "source": [
    "l1=[]\n",
    "for i in l:\n",
    "    l1.append(i)"
   ]
  },
  {
   "cell_type": "code",
   "execution_count": 109,
   "id": "402d9389",
   "metadata": {},
   "outputs": [
    {
     "data": {
      "text/plain": [
       "[4, 5, 6, 7, 8, 9]"
      ]
     },
     "execution_count": 109,
     "metadata": {},
     "output_type": "execute_result"
    }
   ],
   "source": [
    "l1"
   ]
  },
  {
   "cell_type": "code",
   "execution_count": 110,
   "id": "1d510f70",
   "metadata": {},
   "outputs": [],
   "source": [
    "# comprehensive way we use [] square brackets"
   ]
  },
  {
   "cell_type": "code",
   "execution_count": 111,
   "id": "8cca0545",
   "metadata": {},
   "outputs": [
    {
     "data": {
      "text/plain": [
       "[4, 5, 6, 7, 8, 9]"
      ]
     },
     "execution_count": 111,
     "metadata": {},
     "output_type": "execute_result"
    }
   ],
   "source": [
    "[i for i in l]"
   ]
  },
  {
   "cell_type": "code",
   "execution_count": 112,
   "id": "4f45ca9a",
   "metadata": {},
   "outputs": [],
   "source": [
    "c=lambda t:[i for i in t]"
   ]
  },
  {
   "cell_type": "code",
   "execution_count": 114,
   "id": "5761ab68",
   "metadata": {},
   "outputs": [],
   "source": [
    "c=[40,20,50,6,7]"
   ]
  },
  {
   "cell_type": "code",
   "execution_count": 115,
   "id": "febcc093",
   "metadata": {},
   "outputs": [],
   "source": [
    "a= lambda **kwargs: kwargs"
   ]
  },
  {
   "cell_type": "code",
   "execution_count": 117,
   "id": "9b0bfc6a",
   "metadata": {},
   "outputs": [
    {
     "data": {
      "text/plain": [
       "{'m': 10, 'n': 20, 'v': 30}"
      ]
     },
     "execution_count": 117,
     "metadata": {},
     "output_type": "execute_result"
    }
   ],
   "source": [
    "a(m=10,n=20,v=30)"
   ]
  },
  {
   "cell_type": "code",
   "execution_count": 118,
   "id": "69bee5cb",
   "metadata": {},
   "outputs": [],
   "source": [
    "a=10\n",
    "def test(c,d):\n",
    "    return c*d"
   ]
  },
  {
   "cell_type": "code",
   "execution_count": 119,
   "id": "9ef6f021",
   "metadata": {},
   "outputs": [
    {
     "data": {
      "text/plain": [
       "200"
      ]
     },
     "execution_count": 119,
     "metadata": {},
     "output_type": "execute_result"
    }
   ],
   "source": [
    "test(10,20)"
   ]
  },
  {
   "cell_type": "code",
   "execution_count": 120,
   "id": "56141afc",
   "metadata": {},
   "outputs": [
    {
     "data": {
      "text/plain": [
       "200"
      ]
     },
     "execution_count": 120,
     "metadata": {},
     "output_type": "execute_result"
    }
   ],
   "source": [
    "test(a,20)"
   ]
  },
  {
   "cell_type": "code",
   "execution_count": 121,
   "id": "9ed12ccc",
   "metadata": {},
   "outputs": [
    {
     "data": {
      "text/plain": [
       "230"
      ]
     },
     "execution_count": 121,
     "metadata": {},
     "output_type": "execute_result"
    }
   ],
   "source": [
    "test(23,a)"
   ]
  },
  {
   "cell_type": "code",
   "execution_count": 122,
   "id": "79322e77",
   "metadata": {},
   "outputs": [],
   "source": [
    "a=10\n",
    "def test(c,d):\n",
    "    a=3\n",
    "    return c*d"
   ]
  },
  {
   "cell_type": "code",
   "execution_count": 123,
   "id": "67b10804",
   "metadata": {},
   "outputs": [
    {
     "data": {
      "text/plain": [
       "100"
      ]
     },
     "execution_count": 123,
     "metadata": {},
     "output_type": "execute_result"
    }
   ],
   "source": [
    "test(a,10)"
   ]
  },
  {
   "cell_type": "code",
   "execution_count": 124,
   "id": "3f9fee54",
   "metadata": {},
   "outputs": [],
   "source": [
    "a=10\n",
    "def test(c,d):\n",
    "    a=3\n",
    "    return c*d*a"
   ]
  },
  {
   "cell_type": "code",
   "execution_count": 125,
   "id": "f145b9a9",
   "metadata": {},
   "outputs": [
    {
     "data": {
      "text/plain": [
       "150"
      ]
     },
     "execution_count": 125,
     "metadata": {},
     "output_type": "execute_result"
    }
   ],
   "source": [
    "test(5,10)"
   ]
  },
  {
   "cell_type": "code",
   "execution_count": 126,
   "id": "e2945482",
   "metadata": {},
   "outputs": [
    {
     "data": {
      "text/plain": [
       "180"
      ]
     },
     "execution_count": 126,
     "metadata": {},
     "output_type": "execute_result"
    }
   ],
   "source": [
    "test(a,6)"
   ]
  },
  {
   "cell_type": "code",
   "execution_count": 129,
   "id": "d593d653",
   "metadata": {},
   "outputs": [],
   "source": [
    "a=10\n",
    "def test(c,d):\n",
    "    c=8\n",
    "    return c*d*a"
   ]
  },
  {
   "cell_type": "code",
   "execution_count": 130,
   "id": "481b08ae",
   "metadata": {},
   "outputs": [
    {
     "data": {
      "text/plain": [
       "640"
      ]
     },
     "execution_count": 130,
     "metadata": {},
     "output_type": "execute_result"
    }
   ],
   "source": [
    "test(4,8)"
   ]
  },
  {
   "cell_type": "code",
   "execution_count": 131,
   "id": "92943c35",
   "metadata": {},
   "outputs": [
    {
     "data": {
      "text/plain": [
       "10"
      ]
     },
     "execution_count": 131,
     "metadata": {},
     "output_type": "execute_result"
    }
   ],
   "source": [
    "a"
   ]
  },
  {
   "cell_type": "code",
   "execution_count": 132,
   "id": "8050f2b5",
   "metadata": {},
   "outputs": [
    {
     "data": {
      "text/plain": [
       "[40, 20, 50, 6, 7]"
      ]
     },
     "execution_count": 132,
     "metadata": {},
     "output_type": "execute_result"
    }
   ],
   "source": [
    "c"
   ]
  },
  {
   "cell_type": "code",
   "execution_count": 134,
   "id": "95e696e9",
   "metadata": {},
   "outputs": [
    {
     "ename": "SyntaxError",
     "evalue": "'return' outside function (Temp/ipykernel_40004/921776928.py, line 5)",
     "output_type": "error",
     "traceback": [
      "\u001b[1;36m  File \u001b[1;32m\"C:\\Users\\91903\\AppData\\Local\\Temp/ipykernel_40004/921776928.py\"\u001b[1;36m, line \u001b[1;32m5\u001b[0m\n\u001b[1;33m    return g\u001b[0m\n\u001b[1;37m    ^\u001b[0m\n\u001b[1;31mSyntaxError\u001b[0m\u001b[1;31m:\u001b[0m 'return' outside function\n"
     ]
    }
   ],
   "source": [
    "l=[1,2,3,4,5,6,7,8]\n",
    "g=[]\n",
    "for i in l:\n",
    "    g.append(i+2)\n",
    "    return g"
   ]
  },
  {
   "cell_type": "code",
   "execution_count": 135,
   "id": "28009d9c",
   "metadata": {},
   "outputs": [
    {
     "data": {
      "text/plain": [
       "[4, 5, 6, 7, 8, 9]"
      ]
     },
     "execution_count": 135,
     "metadata": {},
     "output_type": "execute_result"
    }
   ],
   "source": [
    "l1"
   ]
  },
  {
   "cell_type": "code",
   "execution_count": 139,
   "id": "feaec526",
   "metadata": {},
   "outputs": [],
   "source": [
    "def test(a):\n",
    "    l1=[]\n",
    "    for i in a:\n",
    "        l1.append(i+2)\n",
    "    return l1\n",
    "        "
   ]
  },
  {
   "cell_type": "code",
   "execution_count": 140,
   "id": "9d4cfd59",
   "metadata": {},
   "outputs": [
    {
     "data": {
      "text/plain": [
       "[6, 7, 8, 9, 10, 11]"
      ]
     },
     "execution_count": 140,
     "metadata": {},
     "output_type": "execute_result"
    }
   ],
   "source": [
    "test([4,5,6,7,8,9,])"
   ]
  },
  {
   "cell_type": "code",
   "execution_count": 142,
   "id": "1c81a92f",
   "metadata": {},
   "outputs": [],
   "source": [
    "c=lambda l: [i+2 for i in l]"
   ]
  },
  {
   "cell_type": "code",
   "execution_count": 143,
   "id": "9e3a380a",
   "metadata": {},
   "outputs": [
    {
     "data": {
      "text/plain": [
       "[6, 7, 8, 9, 10, 11, 9]"
      ]
     },
     "execution_count": 143,
     "metadata": {},
     "output_type": "execute_result"
    }
   ],
   "source": [
    "c([4,5,6,7,8,9,7,])"
   ]
  },
  {
   "cell_type": "code",
   "execution_count": 144,
   "id": "462dbdf5",
   "metadata": {},
   "outputs": [],
   "source": [
    "# list comprehension"
   ]
  },
  {
   "cell_type": "code",
   "execution_count": 145,
   "id": "b5ce0b7d",
   "metadata": {},
   "outputs": [
    {
     "data": {
      "text/plain": [
       "[3, 4, 5, 6, 7, 8, 9, 10]"
      ]
     },
     "execution_count": 145,
     "metadata": {},
     "output_type": "execute_result"
    }
   ],
   "source": [
    "[i+2 for i in l]"
   ]
  },
  {
   "cell_type": "code",
   "execution_count": 146,
   "id": "4256abc0",
   "metadata": {},
   "outputs": [
    {
     "data": {
      "text/plain": [
       "[(1, 6), (4, 7), (9, 8), (16, 9), (25, 10), (36, 11), (49, 12), (64, 13)]"
      ]
     },
     "execution_count": 146,
     "metadata": {},
     "output_type": "execute_result"
    }
   ],
   "source": [
    "[(i**2,i+5) for i in l]"
   ]
  },
  {
   "cell_type": "code",
   "execution_count": 148,
   "id": "61e06dc2",
   "metadata": {},
   "outputs": [
    {
     "data": {
      "text/plain": [
       "[[1, 6], [4, 7], [9, 8], [16, 9], [25, 10], [36, 11], [49, 12], [64, 13]]"
      ]
     },
     "execution_count": 148,
     "metadata": {},
     "output_type": "execute_result"
    }
   ],
   "source": [
    "[[i**2,i+5] for i in l]"
   ]
  },
  {
   "cell_type": "code",
   "execution_count": 150,
   "id": "dc5c2cff",
   "metadata": {},
   "outputs": [
    {
     "data": {
      "text/plain": [
       "[(1, 6), (4, 7), (9, 8)]"
      ]
     },
     "execution_count": 150,
     "metadata": {},
     "output_type": "execute_result"
    }
   ],
   "source": [
    "[(i**2,i+5) for i in l if i<4]"
   ]
  },
  {
   "cell_type": "code",
   "execution_count": 151,
   "id": "5cd7afa1",
   "metadata": {},
   "outputs": [
    {
     "data": {
      "text/plain": [
       "[(1, 2), (4, 4), (9, 6)]"
      ]
     },
     "execution_count": 151,
     "metadata": {},
     "output_type": "execute_result"
    }
   ],
   "source": [
    "l1=[]\n",
    "for i in l:\n",
    "    if i<4:\n",
    "        l1.append((i**2,i+i))\n",
    "l1"
   ]
  },
  {
   "cell_type": "code",
   "execution_count": 152,
   "id": "c220ddb7",
   "metadata": {},
   "outputs": [
    {
     "data": {
      "text/plain": [
       "[(4, 7), (9, 8)]"
      ]
     },
     "execution_count": 152,
     "metadata": {},
     "output_type": "execute_result"
    }
   ],
   "source": [
    "[(i**2,i+5) for i in l if i<4 and i>1]"
   ]
  },
  {
   "cell_type": "code",
   "execution_count": 153,
   "id": "e18076dc",
   "metadata": {},
   "outputs": [],
   "source": [
    "# dictionary comprehension"
   ]
  },
  {
   "cell_type": "code",
   "execution_count": 154,
   "id": "673b786d",
   "metadata": {},
   "outputs": [
    {
     "data": {
      "text/plain": [
       "{'a': 100, 'b': 200, 'c': 300}"
      ]
     },
     "execution_count": 154,
     "metadata": {},
     "output_type": "execute_result"
    }
   ],
   "source": [
    "d"
   ]
  },
  {
   "cell_type": "code",
   "execution_count": 155,
   "id": "30c6a1a9",
   "metadata": {},
   "outputs": [
    {
     "data": {
      "text/plain": [
       "{0: 0, 1: 1, 2: 4, 3: 9, 4: 16, 5: 25, 6: 36, 7: 49, 8: 64, 9: 81}"
      ]
     },
     "execution_count": 155,
     "metadata": {},
     "output_type": "execute_result"
    }
   ],
   "source": [
    "{i:i**2 for i in range(10)}"
   ]
  },
  {
   "cell_type": "code",
   "execution_count": 158,
   "id": "a48db8a1",
   "metadata": {},
   "outputs": [],
   "source": [
    "d={}\n",
    "for i in range(10):\n",
    "    d[i]=i**2\n"
   ]
  },
  {
   "cell_type": "code",
   "execution_count": 159,
   "id": "0492c119",
   "metadata": {},
   "outputs": [
    {
     "data": {
      "text/plain": [
       "{0: 0, 1: 1, 2: 4, 3: 9, 4: 16, 5: 25, 6: 36, 7: 49, 8: 64, 9: 81}"
      ]
     },
     "execution_count": 159,
     "metadata": {},
     "output_type": "execute_result"
    }
   ],
   "source": [
    "d"
   ]
  },
  {
   "cell_type": "code",
   "execution_count": 160,
   "id": "dfd61dc9",
   "metadata": {},
   "outputs": [
    {
     "data": {
      "text/plain": [
       "<generator object <genexpr> at 0x000001479C709510>"
      ]
     },
     "execution_count": 160,
     "metadata": {},
     "output_type": "execute_result"
    }
   ],
   "source": [
    "(i+3 for i in range(5))"
   ]
  },
  {
   "cell_type": "code",
   "execution_count": 161,
   "id": "a33290d6",
   "metadata": {},
   "outputs": [],
   "source": [
    "# here generator object"
   ]
  },
  {
   "cell_type": "code",
   "execution_count": 162,
   "id": "23419e51",
   "metadata": {},
   "outputs": [
    {
     "data": {
      "text/plain": [
       "(3, 4, 5, 6, 7)"
      ]
     },
     "execution_count": 162,
     "metadata": {},
     "output_type": "execute_result"
    }
   ],
   "source": [
    "tuple((i+3 for i in range(5)))"
   ]
  },
  {
   "cell_type": "code",
   "execution_count": 163,
   "id": "d72684ec",
   "metadata": {},
   "outputs": [],
   "source": [
    "# iterator and generator"
   ]
  },
  {
   "cell_type": "code",
   "execution_count": 164,
   "id": "7e80e094",
   "metadata": {},
   "outputs": [
    {
     "ename": "TypeError",
     "evalue": "'int' object is not iterable",
     "output_type": "error",
     "traceback": [
      "\u001b[1;31m---------------------------------------------------------------------------\u001b[0m",
      "\u001b[1;31mTypeError\u001b[0m                                 Traceback (most recent call last)",
      "\u001b[1;32m~\\AppData\\Local\\Temp/ipykernel_40004/1601103067.py\u001b[0m in \u001b[0;36m<module>\u001b[1;34m\u001b[0m\n\u001b[0;32m      1\u001b[0m \u001b[0ma\u001b[0m\u001b[1;33m=\u001b[0m\u001b[1;36m56\u001b[0m\u001b[1;33m\u001b[0m\u001b[1;33m\u001b[0m\u001b[0m\n\u001b[1;32m----> 2\u001b[1;33m \u001b[1;32mfor\u001b[0m \u001b[0mi\u001b[0m \u001b[1;32min\u001b[0m \u001b[0ma\u001b[0m\u001b[1;33m:\u001b[0m\u001b[1;33m\u001b[0m\u001b[1;33m\u001b[0m\u001b[0m\n\u001b[0m\u001b[0;32m      3\u001b[0m     \u001b[0mprint\u001b[0m\u001b[1;33m(\u001b[0m\u001b[0mi\u001b[0m\u001b[1;33m)\u001b[0m\u001b[1;33m\u001b[0m\u001b[1;33m\u001b[0m\u001b[0m\n",
      "\u001b[1;31mTypeError\u001b[0m: 'int' object is not iterable"
     ]
    }
   ],
   "source": [
    "a=56\n",
    "for i in a:\n",
    "    print(i)"
   ]
  },
  {
   "cell_type": "code",
   "execution_count": 167,
   "id": "96c2cd7a",
   "metadata": {},
   "outputs": [],
   "source": [
    "r=\"rajeswari\" # str is an iterable object"
   ]
  },
  {
   "cell_type": "code",
   "execution_count": 168,
   "id": "d5ab8a7e",
   "metadata": {},
   "outputs": [
    {
     "name": "stdout",
     "output_type": "stream",
     "text": [
      "r\n",
      "a\n",
      "j\n",
      "e\n",
      "s\n",
      "w\n",
      "a\n",
      "r\n",
      "i\n"
     ]
    }
   ],
   "source": [
    "for i in r:\n",
    "    print(i)"
   ]
  },
  {
   "cell_type": "code",
   "execution_count": 170,
   "id": "88269cff",
   "metadata": {},
   "outputs": [
    {
     "ename": "TypeError",
     "evalue": "'str' object is not an iterator",
     "output_type": "error",
     "traceback": [
      "\u001b[1;31m---------------------------------------------------------------------------\u001b[0m",
      "\u001b[1;31mTypeError\u001b[0m                                 Traceback (most recent call last)",
      "\u001b[1;32m~\\AppData\\Local\\Temp/ipykernel_40004/4134984757.py\u001b[0m in \u001b[0;36m<module>\u001b[1;34m\u001b[0m\n\u001b[1;32m----> 1\u001b[1;33m \u001b[0mnext\u001b[0m\u001b[1;33m(\u001b[0m\u001b[0mr\u001b[0m\u001b[1;33m)\u001b[0m\u001b[1;33m\u001b[0m\u001b[1;33m\u001b[0m\u001b[0m\n\u001b[0m",
      "\u001b[1;31mTypeError\u001b[0m: 'str' object is not an iterator"
     ]
    }
   ],
   "source": [
    "next(r)"
   ]
  },
  {
   "cell_type": "code",
   "execution_count": 171,
   "id": "ae694de5",
   "metadata": {},
   "outputs": [],
   "source": [
    "#str is not an iterator"
   ]
  },
  {
   "cell_type": "code",
   "execution_count": 172,
   "id": "079560f3",
   "metadata": {},
   "outputs": [],
   "source": [
    "# if an object is holding a values with help of indexes\n",
    "# if u will be able to access it one by one with those indexes\n",
    "# is iterable object\n",
    "# it does not mean its an iterator\n",
    "# for loop is trying to create as an iterator"
   ]
  },
  {
   "cell_type": "code",
   "execution_count": 174,
   "id": "2a0b99a7",
   "metadata": {},
   "outputs": [],
   "source": [
    "# if object is an iterator then next function gives one one element\n",
    "# at a time"
   ]
  },
  {
   "cell_type": "code",
   "execution_count": 175,
   "id": "9440e01e",
   "metadata": {},
   "outputs": [],
   "source": [
    "# how for loop works internally"
   ]
  },
  {
   "cell_type": "code",
   "execution_count": 176,
   "id": "4e1e9ad5",
   "metadata": {},
   "outputs": [],
   "source": [
    "b=iter(r)"
   ]
  },
  {
   "cell_type": "code",
   "execution_count": 177,
   "id": "53497a20",
   "metadata": {},
   "outputs": [
    {
     "data": {
      "text/plain": [
       "<str_iterator at 0x1479c6e11f0>"
      ]
     },
     "execution_count": 177,
     "metadata": {},
     "output_type": "execute_result"
    }
   ],
   "source": [
    "b"
   ]
  },
  {
   "cell_type": "code",
   "execution_count": 178,
   "id": "17a76c1c",
   "metadata": {},
   "outputs": [
    {
     "data": {
      "text/plain": [
       "<str_iterator at 0x1479c6e11f0>"
      ]
     },
     "execution_count": 178,
     "metadata": {},
     "output_type": "execute_result"
    }
   ],
   "source": [
    "b"
   ]
  },
  {
   "cell_type": "code",
   "execution_count": 179,
   "id": "7d463c67",
   "metadata": {},
   "outputs": [],
   "source": [
    "#iter function converts iterable into an iterator"
   ]
  },
  {
   "cell_type": "code",
   "execution_count": 181,
   "id": "3f684a48",
   "metadata": {},
   "outputs": [],
   "source": [
    "b=iter(r)"
   ]
  },
  {
   "cell_type": "code",
   "execution_count": 182,
   "id": "2d588d7a",
   "metadata": {},
   "outputs": [
    {
     "data": {
      "text/plain": [
       "'r'"
      ]
     },
     "execution_count": 182,
     "metadata": {},
     "output_type": "execute_result"
    }
   ],
   "source": [
    "next(b)"
   ]
  },
  {
   "cell_type": "code",
   "execution_count": 183,
   "id": "86c8273c",
   "metadata": {},
   "outputs": [
    {
     "data": {
      "text/plain": [
       "'a'"
      ]
     },
     "execution_count": 183,
     "metadata": {},
     "output_type": "execute_result"
    }
   ],
   "source": [
    "next(b)"
   ]
  },
  {
   "cell_type": "code",
   "execution_count": 184,
   "id": "43679b77",
   "metadata": {},
   "outputs": [
    {
     "data": {
      "text/plain": [
       "'j'"
      ]
     },
     "execution_count": 184,
     "metadata": {},
     "output_type": "execute_result"
    }
   ],
   "source": [
    "next(b)"
   ]
  },
  {
   "cell_type": "code",
   "execution_count": 185,
   "id": "a9306196",
   "metadata": {},
   "outputs": [
    {
     "data": {
      "text/plain": [
       "'e'"
      ]
     },
     "execution_count": 185,
     "metadata": {},
     "output_type": "execute_result"
    }
   ],
   "source": [
    "next(b)"
   ]
  },
  {
   "cell_type": "code",
   "execution_count": 186,
   "id": "d5cead54",
   "metadata": {},
   "outputs": [
    {
     "data": {
      "text/plain": [
       "'s'"
      ]
     },
     "execution_count": 186,
     "metadata": {},
     "output_type": "execute_result"
    }
   ],
   "source": [
    "next(b)"
   ]
  },
  {
   "cell_type": "code",
   "execution_count": 187,
   "id": "dbc46f9a",
   "metadata": {},
   "outputs": [
    {
     "data": {
      "text/plain": [
       "'w'"
      ]
     },
     "execution_count": 187,
     "metadata": {},
     "output_type": "execute_result"
    }
   ],
   "source": [
    "next(b)"
   ]
  },
  {
   "cell_type": "code",
   "execution_count": 188,
   "id": "bf46b96c",
   "metadata": {},
   "outputs": [
    {
     "data": {
      "text/plain": [
       "'a'"
      ]
     },
     "execution_count": 188,
     "metadata": {},
     "output_type": "execute_result"
    }
   ],
   "source": [
    "next(b)"
   ]
  },
  {
   "cell_type": "code",
   "execution_count": 189,
   "id": "38c3a1be",
   "metadata": {},
   "outputs": [
    {
     "data": {
      "text/plain": [
       "'r'"
      ]
     },
     "execution_count": 189,
     "metadata": {},
     "output_type": "execute_result"
    }
   ],
   "source": [
    "next(b)"
   ]
  },
  {
   "cell_type": "code",
   "execution_count": 190,
   "id": "da1e29d2",
   "metadata": {},
   "outputs": [
    {
     "data": {
      "text/plain": [
       "'i'"
      ]
     },
     "execution_count": 190,
     "metadata": {},
     "output_type": "execute_result"
    }
   ],
   "source": [
    "next(b)"
   ]
  },
  {
   "cell_type": "code",
   "execution_count": 191,
   "id": "efd1cfef",
   "metadata": {},
   "outputs": [
    {
     "ename": "StopIteration",
     "evalue": "",
     "output_type": "error",
     "traceback": [
      "\u001b[1;31m---------------------------------------------------------------------------\u001b[0m",
      "\u001b[1;31mStopIteration\u001b[0m                             Traceback (most recent call last)",
      "\u001b[1;32m~\\AppData\\Local\\Temp/ipykernel_40004/973617480.py\u001b[0m in \u001b[0;36m<module>\u001b[1;34m\u001b[0m\n\u001b[1;32m----> 1\u001b[1;33m \u001b[0mnext\u001b[0m\u001b[1;33m(\u001b[0m\u001b[0mb\u001b[0m\u001b[1;33m)\u001b[0m\u001b[1;33m\u001b[0m\u001b[1;33m\u001b[0m\u001b[0m\n\u001b[0m",
      "\u001b[1;31mStopIteration\u001b[0m: "
     ]
    }
   ],
   "source": [
    "next(b)"
   ]
  },
  {
   "cell_type": "code",
   "execution_count": 193,
   "id": "19b0fedc",
   "metadata": {},
   "outputs": [
    {
     "name": "stdout",
     "output_type": "stream",
     "text": [
      "d\n",
      "i\n",
      "e\n",
      "i\n",
      "v\n",
      "e\n",
      "v\n",
      "e\n",
      "i\n"
     ]
    }
   ],
   "source": [
    "s=\"dieivevei\"\n",
    "for i in s:\n",
    "    print(i)"
   ]
  },
  {
   "cell_type": "code",
   "execution_count": 194,
   "id": "d70b66cb",
   "metadata": {},
   "outputs": [],
   "source": [
    "# first for loop converts str into iterator format. \n",
    "# by default str is an iterable objects"
   ]
  },
  {
   "cell_type": "code",
   "execution_count": 195,
   "id": "e66540eb",
   "metadata": {},
   "outputs": [],
   "source": [
    "r=\"raji\""
   ]
  },
  {
   "cell_type": "code",
   "execution_count": 196,
   "id": "eb44474e",
   "metadata": {},
   "outputs": [],
   "source": [
    "c=iter(r)"
   ]
  },
  {
   "cell_type": "code",
   "execution_count": 197,
   "id": "c2a9a928",
   "metadata": {},
   "outputs": [
    {
     "data": {
      "text/plain": [
       "'r'"
      ]
     },
     "execution_count": 197,
     "metadata": {},
     "output_type": "execute_result"
    }
   ],
   "source": [
    "next(c)"
   ]
  },
  {
   "cell_type": "code",
   "execution_count": 198,
   "id": "6d9f399f",
   "metadata": {},
   "outputs": [
    {
     "data": {
      "text/plain": [
       "'a'"
      ]
     },
     "execution_count": 198,
     "metadata": {},
     "output_type": "execute_result"
    }
   ],
   "source": [
    "next(c)"
   ]
  },
  {
   "cell_type": "code",
   "execution_count": 199,
   "id": "4de21a7c",
   "metadata": {},
   "outputs": [
    {
     "data": {
      "text/plain": [
       "'j'"
      ]
     },
     "execution_count": 199,
     "metadata": {},
     "output_type": "execute_result"
    }
   ],
   "source": [
    "next(c)"
   ]
  },
  {
   "cell_type": "code",
   "execution_count": 200,
   "id": "5c85f3f4",
   "metadata": {},
   "outputs": [
    {
     "data": {
      "text/plain": [
       "'i'"
      ]
     },
     "execution_count": 200,
     "metadata": {},
     "output_type": "execute_result"
    }
   ],
   "source": [
    "next(c)"
   ]
  },
  {
   "cell_type": "code",
   "execution_count": 201,
   "id": "c2956a35",
   "metadata": {},
   "outputs": [
    {
     "ename": "StopIteration",
     "evalue": "",
     "output_type": "error",
     "traceback": [
      "\u001b[1;31m---------------------------------------------------------------------------\u001b[0m",
      "\u001b[1;31mStopIteration\u001b[0m                             Traceback (most recent call last)",
      "\u001b[1;32m~\\AppData\\Local\\Temp/ipykernel_40004/1173204873.py\u001b[0m in \u001b[0;36m<module>\u001b[1;34m\u001b[0m\n\u001b[1;32m----> 1\u001b[1;33m \u001b[0mnext\u001b[0m\u001b[1;33m(\u001b[0m\u001b[0mc\u001b[0m\u001b[1;33m)\u001b[0m\u001b[1;33m\u001b[0m\u001b[1;33m\u001b[0m\u001b[0m\n\u001b[0m",
      "\u001b[1;31mStopIteration\u001b[0m: "
     ]
    }
   ],
   "source": [
    "next(c)"
   ]
  },
  {
   "cell_type": "code",
   "execution_count": 202,
   "id": "5e36ed7a",
   "metadata": {},
   "outputs": [],
   "source": [
    "# for loop converts iterable object to an iterator\n",
    "# after that access elements one by one\n"
   ]
  },
  {
   "cell_type": "code",
   "execution_count": 203,
   "id": "c049df7a",
   "metadata": {},
   "outputs": [],
   "source": [
    "l=[4,5,6,7]"
   ]
  },
  {
   "cell_type": "code",
   "execution_count": 204,
   "id": "7d007a51",
   "metadata": {},
   "outputs": [
    {
     "ename": "TypeError",
     "evalue": "'list' object is not an iterator",
     "output_type": "error",
     "traceback": [
      "\u001b[1;31m---------------------------------------------------------------------------\u001b[0m",
      "\u001b[1;31mTypeError\u001b[0m                                 Traceback (most recent call last)",
      "\u001b[1;32m~\\AppData\\Local\\Temp/ipykernel_40004/2016234150.py\u001b[0m in \u001b[0;36m<module>\u001b[1;34m\u001b[0m\n\u001b[1;32m----> 1\u001b[1;33m \u001b[0mnext\u001b[0m\u001b[1;33m(\u001b[0m\u001b[0ml\u001b[0m\u001b[1;33m)\u001b[0m\u001b[1;33m\u001b[0m\u001b[1;33m\u001b[0m\u001b[0m\n\u001b[0m",
      "\u001b[1;31mTypeError\u001b[0m: 'list' object is not an iterator"
     ]
    }
   ],
   "source": [
    "next(l)"
   ]
  },
  {
   "cell_type": "code",
   "execution_count": 205,
   "id": "976be12d",
   "metadata": {},
   "outputs": [],
   "source": [
    "# iterable obj only can get converted to iterator"
   ]
  },
  {
   "cell_type": "code",
   "execution_count": 206,
   "id": "c730f573",
   "metadata": {},
   "outputs": [
    {
     "ename": "TypeError",
     "evalue": "'int' object is not iterable",
     "output_type": "error",
     "traceback": [
      "\u001b[1;31m---------------------------------------------------------------------------\u001b[0m",
      "\u001b[1;31mTypeError\u001b[0m                                 Traceback (most recent call last)",
      "\u001b[1;32m~\\AppData\\Local\\Temp/ipykernel_40004/3186544426.py\u001b[0m in \u001b[0;36m<module>\u001b[1;34m\u001b[0m\n\u001b[1;32m----> 1\u001b[1;33m \u001b[0miter\u001b[0m\u001b[1;33m(\u001b[0m\u001b[1;36m45\u001b[0m\u001b[1;33m)\u001b[0m\u001b[1;33m\u001b[0m\u001b[1;33m\u001b[0m\u001b[0m\n\u001b[0m",
      "\u001b[1;31mTypeError\u001b[0m: 'int' object is not iterable"
     ]
    }
   ],
   "source": [
    "iter(45)"
   ]
  },
  {
   "cell_type": "code",
   "execution_count": 207,
   "id": "fe1ae01a",
   "metadata": {},
   "outputs": [
    {
     "data": {
      "text/plain": [
       "[4, 5, 6, 7]"
      ]
     },
     "execution_count": 207,
     "metadata": {},
     "output_type": "execute_result"
    }
   ],
   "source": [
    "l"
   ]
  },
  {
   "cell_type": "code",
   "execution_count": 208,
   "id": "011c221c",
   "metadata": {},
   "outputs": [],
   "source": [
    "c=iter(l)"
   ]
  },
  {
   "cell_type": "code",
   "execution_count": 209,
   "id": "293ed3cf",
   "metadata": {},
   "outputs": [
    {
     "data": {
      "text/plain": [
       "4"
      ]
     },
     "execution_count": 209,
     "metadata": {},
     "output_type": "execute_result"
    }
   ],
   "source": [
    "next(c)"
   ]
  },
  {
   "cell_type": "code",
   "execution_count": 210,
   "id": "8a19f907",
   "metadata": {},
   "outputs": [
    {
     "data": {
      "text/plain": [
       "5"
      ]
     },
     "execution_count": 210,
     "metadata": {},
     "output_type": "execute_result"
    }
   ],
   "source": [
    "next(c)"
   ]
  },
  {
   "cell_type": "code",
   "execution_count": 211,
   "id": "2a33125b",
   "metadata": {},
   "outputs": [
    {
     "data": {
      "text/plain": [
       "6"
      ]
     },
     "execution_count": 211,
     "metadata": {},
     "output_type": "execute_result"
    }
   ],
   "source": [
    "next(c)"
   ]
  },
  {
   "cell_type": "code",
   "execution_count": 212,
   "id": "0c9a6850",
   "metadata": {},
   "outputs": [
    {
     "data": {
      "text/plain": [
       "7"
      ]
     },
     "execution_count": 212,
     "metadata": {},
     "output_type": "execute_result"
    }
   ],
   "source": [
    "next(c)"
   ]
  },
  {
   "cell_type": "code",
   "execution_count": 213,
   "id": "276d8b13",
   "metadata": {},
   "outputs": [
    {
     "ename": "StopIteration",
     "evalue": "",
     "output_type": "error",
     "traceback": [
      "\u001b[1;31m---------------------------------------------------------------------------\u001b[0m",
      "\u001b[1;31mStopIteration\u001b[0m                             Traceback (most recent call last)",
      "\u001b[1;32m~\\AppData\\Local\\Temp/ipykernel_40004/1173204873.py\u001b[0m in \u001b[0;36m<module>\u001b[1;34m\u001b[0m\n\u001b[1;32m----> 1\u001b[1;33m \u001b[0mnext\u001b[0m\u001b[1;33m(\u001b[0m\u001b[0mc\u001b[0m\u001b[1;33m)\u001b[0m\u001b[1;33m\u001b[0m\u001b[1;33m\u001b[0m\u001b[0m\n\u001b[0m",
      "\u001b[1;31mStopIteration\u001b[0m: "
     ]
    }
   ],
   "source": [
    "next(c)"
   ]
  },
  {
   "cell_type": "code",
   "execution_count": 214,
   "id": "4986ac6e",
   "metadata": {},
   "outputs": [],
   "source": [
    "# cursor moves from one point to another point\n",
    "# automatically it is called iteration"
   ]
  },
  {
   "cell_type": "code",
   "execution_count": 215,
   "id": "a7044773",
   "metadata": {},
   "outputs": [
    {
     "ename": "SyntaxError",
     "evalue": "invalid syntax (Temp/ipykernel_40004/3203133236.py, line 1)",
     "output_type": "error",
     "traceback": [
      "\u001b[1;36m  File \u001b[1;32m\"C:\\Users\\91903\\AppData\\Local\\Temp/ipykernel_40004/3203133236.py\"\u001b[1;36m, line \u001b[1;32m1\u001b[0m\n\u001b[1;33m    indexing differs from iteration\u001b[0m\n\u001b[1;37m             ^\u001b[0m\n\u001b[1;31mSyntaxError\u001b[0m\u001b[1;31m:\u001b[0m invalid syntax\n"
     ]
    }
   ],
   "source": [
    "# indexing differs from iteration"
   ]
  },
  {
   "cell_type": "code",
   "execution_count": 216,
   "id": "2324ca6e",
   "metadata": {},
   "outputs": [],
   "source": [
    "# all iterables are iterators"
   ]
  },
  {
   "cell_type": "code",
   "execution_count": null,
   "id": "62bec3ae",
   "metadata": {},
   "outputs": [],
   "source": []
  }
 ],
 "metadata": {
  "kernelspec": {
   "display_name": "Python 3 (ipykernel)",
   "language": "python",
   "name": "python3"
  },
  "language_info": {
   "codemirror_mode": {
    "name": "ipython",
    "version": 3
   },
   "file_extension": ".py",
   "mimetype": "text/x-python",
   "name": "python",
   "nbconvert_exporter": "python",
   "pygments_lexer": "ipython3",
   "version": "3.9.7"
  }
 },
 "nbformat": 4,
 "nbformat_minor": 5
}
