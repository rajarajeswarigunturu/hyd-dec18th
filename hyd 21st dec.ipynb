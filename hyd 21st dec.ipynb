{
 "cells": [
  {
   "cell_type": "code",
   "execution_count": 4,
   "id": "854add4e",
   "metadata": {},
   "outputs": [
    {
     "name": "stdout",
     "output_type": "stream",
     "text": [
      "t\n",
      "h\n",
      "i\n",
      "s\n",
      " \n",
      "i\n",
      "s\n",
      " \n",
      "m\n",
      "y\n",
      " \n",
      "c\n",
      "o\n",
      "u\n",
      "n\n",
      "t\n",
      "r\n",
      "y\n"
     ]
    }
   ],
   "source": [
    "s=\"this is my country\"\n",
    "for i in s:\n",
    "    print(i)"
   ]
  },
  {
   "cell_type": "code",
   "execution_count": 3,
   "id": "cbc1447a",
   "metadata": {},
   "outputs": [
    {
     "data": {
      "text/plain": [
       "1"
      ]
     },
     "execution_count": 3,
     "metadata": {},
     "output_type": "execute_result"
    }
   ],
   "source": [
    "s.count(s)"
   ]
  },
  {
   "cell_type": "code",
   "execution_count": 5,
   "id": "99fecb48",
   "metadata": {},
   "outputs": [
    {
     "data": {
      "text/plain": [
       "18"
      ]
     },
     "execution_count": 5,
     "metadata": {},
     "output_type": "execute_result"
    }
   ],
   "source": [
    "len(s)"
   ]
  },
  {
   "cell_type": "code",
   "execution_count": 6,
   "id": "8640f65d",
   "metadata": {},
   "outputs": [
    {
     "name": "stdout",
     "output_type": "stream",
     "text": [
      "18\n"
     ]
    }
   ],
   "source": [
    "count=0\n",
    "for i in s:\n",
    "    count=count+1\n",
    "print(count)"
   ]
  },
  {
   "cell_type": "code",
   "execution_count": 7,
   "id": "21e3167c",
   "metadata": {},
   "outputs": [],
   "source": [
    "# count= count + 1\n",
    "# count +=1"
   ]
  },
  {
   "cell_type": "code",
   "execution_count": 8,
   "id": "2787ab81",
   "metadata": {},
   "outputs": [
    {
     "data": {
      "text/plain": [
       "'this is my country'"
      ]
     },
     "execution_count": 8,
     "metadata": {},
     "output_type": "execute_result"
    }
   ],
   "source": [
    "s"
   ]
  },
  {
   "cell_type": "code",
   "execution_count": 10,
   "id": "4b51e8eb",
   "metadata": {},
   "outputs": [
    {
     "data": {
      "text/plain": [
       "'yrtnuoc ym si siht'"
      ]
     },
     "execution_count": 10,
     "metadata": {},
     "output_type": "execute_result"
    }
   ],
   "source": [
    "s[::-1]"
   ]
  },
  {
   "cell_type": "code",
   "execution_count": 12,
   "id": "7f9c7c5b",
   "metadata": {},
   "outputs": [
    {
     "name": "stdout",
     "output_type": "stream",
     "text": [
      "y\n",
      "r\n",
      "t\n",
      "n\n",
      "u\n",
      "o\n",
      "c\n",
      " \n",
      "y\n",
      "m\n",
      " \n",
      "s\n",
      "i\n",
      " \n",
      "s\n",
      "i\n",
      "h\n",
      "t\n"
     ]
    }
   ],
   "source": [
    "for i in range(len(s)-1,-1,-1):\n",
    "    print(s[i])"
   ]
  },
  {
   "cell_type": "code",
   "execution_count": 13,
   "id": "f1be85c8",
   "metadata": {},
   "outputs": [
    {
     "name": "stdout",
     "output_type": "stream",
     "text": [
      "y r t n u o c   y m   s i   s i h t "
     ]
    }
   ],
   "source": [
    "i=len(s)-1\n",
    "while i>=0:\n",
    "    print(s[i],end=\" \")\n",
    "    i=i-1"
   ]
  },
  {
   "cell_type": "code",
   "execution_count": 15,
   "id": "b6711897",
   "metadata": {},
   "outputs": [
    {
     "name": "stdout",
     "output_type": "stream",
     "text": [
      "vowel\n",
      "not a vowel\n",
      "vowel\n",
      "vowel\n",
      "not a vowel\n",
      "vowel\n",
      "not a vowel\n"
     ]
    }
   ],
   "source": [
    "s=\"ineuron\"\n",
    "v=\"aeiouAEIOU\"\n",
    "for i in s:\n",
    "    if i in v:\n",
    "        print(\"vowel\")\n",
    "    else:\n",
    "        print(\"not a vowel\")"
   ]
  },
  {
   "cell_type": "code",
   "execution_count": 16,
   "id": "165f1520",
   "metadata": {},
   "outputs": [
    {
     "data": {
      "text/plain": [
       "False"
      ]
     },
     "execution_count": 16,
     "metadata": {},
     "output_type": "execute_result"
    }
   ],
   "source": [
    "s in \"sudh\""
   ]
  },
  {
   "cell_type": "code",
   "execution_count": 17,
   "id": "a70a8c4e",
   "metadata": {},
   "outputs": [
    {
     "data": {
      "text/plain": [
       "True"
      ]
     },
     "execution_count": 17,
     "metadata": {},
     "output_type": "execute_result"
    }
   ],
   "source": [
    "\"s\" in \"sudh\""
   ]
  },
  {
   "cell_type": "code",
   "execution_count": 18,
   "id": "2f6ca1ca",
   "metadata": {},
   "outputs": [
    {
     "data": {
      "text/plain": [
       "False"
      ]
     },
     "execution_count": 18,
     "metadata": {},
     "output_type": "execute_result"
    }
   ],
   "source": [
    "\"g\" in \"seetha\""
   ]
  },
  {
   "cell_type": "code",
   "execution_count": 19,
   "id": "1350389e",
   "metadata": {},
   "outputs": [],
   "source": [
    "#palindrome\n",
    "# madam tenet malayalam siris eye "
   ]
  },
  {
   "cell_type": "code",
   "execution_count": 22,
   "id": "fdabc57d",
   "metadata": {},
   "outputs": [
    {
     "name": "stdout",
     "output_type": "stream",
     "text": [
      "palindrome\n"
     ]
    }
   ],
   "source": [
    "s=\"malayalam\"\n",
    "d=s[::-1]\n",
    "if s == d:\n",
    "    print(\"palindrome\")\n",
    "else:\n",
    "    print(\"not a palindrome\")"
   ]
  },
  {
   "cell_type": "code",
   "execution_count": 23,
   "id": "c350bdf4",
   "metadata": {},
   "outputs": [
    {
     "name": "stdout",
     "output_type": "stream",
     "text": [
      "not a palindrome\n"
     ]
    }
   ],
   "source": [
    "s=\"malar\"\n",
    "d=s[::-1]\n",
    "if s == d:\n",
    "    print(\"palindrome\")\n",
    "else:\n",
    "    print(\"not a palindrome\")"
   ]
  },
  {
   "cell_type": "code",
   "execution_count": 24,
   "id": "118a7482",
   "metadata": {},
   "outputs": [
    {
     "name": "stdout",
     "output_type": "stream",
     "text": [
      "malayalam is a palindrome\n"
     ]
    }
   ],
   "source": [
    "a=\"malayalam\"\n",
    "if a==a[::-1]:\n",
    "    print(a,\"is a palindrome\")\n",
    "else:\n",
    "    print(a,\"is not a palindrome\")\n",
    "        "
   ]
  },
  {
   "cell_type": "code",
   "execution_count": 25,
   "id": "05af9b60",
   "metadata": {},
   "outputs": [
    {
     "name": "stdout",
     "output_type": "stream",
     "text": [
      "malayala is not a palindrome\n"
     ]
    }
   ],
   "source": [
    "a=\"malayala\"\n",
    "if a==a[::-1]:\n",
    "    print(a,\"is a palindrome\")\n",
    "else:\n",
    "    print(a,\"is not a palindrome\")"
   ]
  },
  {
   "cell_type": "code",
   "execution_count": 28,
   "id": "57a313d2",
   "metadata": {},
   "outputs": [
    {
     "name": "stdout",
     "output_type": "stream",
     "text": [
      "palindrome\n"
     ]
    }
   ],
   "source": [
    "a=\"tenet\"\n",
    "for i in range(len(a)):\n",
    "    if a[i]!=a[len(a)-i-1]:\n",
    "        print(\"not a palindrome\")\n",
    "        break\n",
    "else:\n",
    "    print(\"palindrome\")"
   ]
  },
  {
   "cell_type": "code",
   "execution_count": 29,
   "id": "1819aa0f",
   "metadata": {},
   "outputs": [],
   "source": [
    "d={\"india\":\"IN\",\n",
    "  \"canada\":\"CA\",\n",
    "  \"china\":\"CH\",\n",
    "  \"United states\": \"US\"}"
   ]
  },
  {
   "cell_type": "code",
   "execution_count": 30,
   "id": "a5dea301",
   "metadata": {},
   "outputs": [
    {
     "data": {
      "text/plain": [
       "{'india': 'IN', 'canada': 'CA', 'china': 'CH', 'United states': 'US'}"
      ]
     },
     "execution_count": 30,
     "metadata": {},
     "output_type": "execute_result"
    }
   ],
   "source": [
    "d"
   ]
  },
  {
   "cell_type": "code",
   "execution_count": 31,
   "id": "3f73649d",
   "metadata": {},
   "outputs": [
    {
     "data": {
      "text/plain": [
       "True"
      ]
     },
     "execution_count": 31,
     "metadata": {},
     "output_type": "execute_result"
    }
   ],
   "source": [
    "\"india\" in d"
   ]
  },
  {
   "cell_type": "code",
   "execution_count": 32,
   "id": "3e2d75c7",
   "metadata": {},
   "outputs": [
    {
     "data": {
      "text/plain": [
       "<function dict.keys>"
      ]
     },
     "execution_count": 32,
     "metadata": {},
     "output_type": "execute_result"
    }
   ],
   "source": [
    "d.keys"
   ]
  },
  {
   "cell_type": "code",
   "execution_count": 33,
   "id": "7d96973b",
   "metadata": {},
   "outputs": [
    {
     "data": {
      "text/plain": [
       "dict_keys(['india', 'canada', 'china', 'United states'])"
      ]
     },
     "execution_count": 33,
     "metadata": {},
     "output_type": "execute_result"
    }
   ],
   "source": [
    "d.keys()"
   ]
  },
  {
   "cell_type": "code",
   "execution_count": 34,
   "id": "efec69e6",
   "metadata": {},
   "outputs": [
    {
     "data": {
      "text/plain": [
       "dict_values(['IN', 'CA', 'CH', 'US'])"
      ]
     },
     "execution_count": 34,
     "metadata": {},
     "output_type": "execute_result"
    }
   ],
   "source": [
    "d.values()"
   ]
  },
  {
   "cell_type": "code",
   "execution_count": 35,
   "id": "074298b3",
   "metadata": {},
   "outputs": [
    {
     "data": {
      "text/plain": [
       "dict_items([('india', 'IN'), ('canada', 'CA'), ('china', 'CH'), ('United states', 'US')])"
      ]
     },
     "execution_count": 35,
     "metadata": {},
     "output_type": "execute_result"
    }
   ],
   "source": [
    "d.items()"
   ]
  },
  {
   "cell_type": "code",
   "execution_count": 44,
   "id": "67726a37",
   "metadata": {},
   "outputs": [
    {
     "name": "stdout",
     "output_type": "stream",
     "text": [
      "['india', 'china']\n",
      "['canada', 'United states']\n"
     ]
    }
   ],
   "source": [
    "a=[]\n",
    "b=[]\n",
    "for i in d:\n",
    "    if len(i)<=5:\n",
    "        a.append(i)\n",
    "    else:\n",
    "        b.append(i)\n",
    "print(a)\n",
    "print(b)\n",
    "    "
   ]
  },
  {
   "cell_type": "code",
   "execution_count": 48,
   "id": "bde51e78",
   "metadata": {},
   "outputs": [],
   "source": [
    "t={\"ineuron\":{\"a\":14,\"b\":10,\"c\":4},\n",
    "  \"course\":{\"d\":45,\"e\":34,\"f\":1}}"
   ]
  },
  {
   "cell_type": "code",
   "execution_count": 49,
   "id": "2984c93f",
   "metadata": {},
   "outputs": [
    {
     "data": {
      "text/plain": [
       "{'ineuron': {'a': 14, 'b': 10, 'c': 4}, 'course': {'d': 45, 'e': 34, 'f': 1}}"
      ]
     },
     "execution_count": 49,
     "metadata": {},
     "output_type": "execute_result"
    }
   ],
   "source": [
    "t"
   ]
  },
  {
   "cell_type": "code",
   "execution_count": 53,
   "id": "8eed5e96",
   "metadata": {},
   "outputs": [
    {
     "name": "stdout",
     "output_type": "stream",
     "text": [
      "{'a': 14, 'b': 10, 'c': 4}\n",
      "{'d': 45, 'e': 34, 'f': 1}\n"
     ]
    }
   ],
   "source": [
    "for i in t.values():\n",
    "    print(i)"
   ]
  },
  {
   "cell_type": "code",
   "execution_count": 56,
   "id": "3700d5bf",
   "metadata": {},
   "outputs": [
    {
     "name": "stdout",
     "output_type": "stream",
     "text": [
      "{'a': 14, 'b': 10, 'c': 4}\n",
      "{'a': 14, 'b': 10, 'c': 4}\n",
      "{'a': 14, 'b': 10, 'c': 4}\n",
      "{'d': 45, 'e': 34, 'f': 1}\n",
      "{'d': 45, 'e': 34, 'f': 1}\n",
      "{'d': 45, 'e': 34, 'f': 1}\n"
     ]
    }
   ],
   "source": [
    "for i in t.values():\n",
    "    for j in i.values():\n",
    "        print(i)"
   ]
  },
  {
   "cell_type": "code",
   "execution_count": 57,
   "id": "43e1e462",
   "metadata": {},
   "outputs": [
    {
     "data": {
      "text/plain": [
       "dict_values([{'a': 14, 'b': 10, 'c': 4}, {'d': 45, 'e': 34, 'f': 1}])"
      ]
     },
     "execution_count": 57,
     "metadata": {},
     "output_type": "execute_result"
    }
   ],
   "source": [
    "t.values()"
   ]
  },
  {
   "cell_type": "code",
   "execution_count": 64,
   "id": "6ff0e126",
   "metadata": {},
   "outputs": [
    {
     "name": "stdout",
     "output_type": "stream",
     "text": [
      "{'a': 14, 'b': 10, 'c': 4}\n",
      "{'d': 45, 'e': 34, 'f': 1}\n"
     ]
    }
   ],
   "source": [
    "for i in t.values():\n",
    "    print(i)"
   ]
  },
  {
   "cell_type": "code",
   "execution_count": 69,
   "id": "c796dfba",
   "metadata": {},
   "outputs": [
    {
     "name": "stdout",
     "output_type": "stream",
     "text": [
      "14\n",
      "10\n",
      "4\n",
      "45\n",
      "34\n",
      "1\n"
     ]
    }
   ],
   "source": [
    "for i in t.values():\n",
    "    for j in i.values():\n",
    "        print(j)"
   ]
  },
  {
   "cell_type": "code",
   "execution_count": 70,
   "id": "34208cdc",
   "metadata": {},
   "outputs": [
    {
     "data": {
      "text/plain": [
       "45"
      ]
     },
     "execution_count": 70,
     "metadata": {},
     "output_type": "execute_result"
    }
   ],
   "source": [
    "max(i.values())"
   ]
  },
  {
   "cell_type": "code",
   "execution_count": 71,
   "id": "a8845bf5",
   "metadata": {},
   "outputs": [
    {
     "name": "stdout",
     "output_type": "stream",
     "text": [
      "14\n",
      "45\n"
     ]
    }
   ],
   "source": [
    "for i in t.values():\n",
    "    print(max(i.values()))"
   ]
  },
  {
   "cell_type": "code",
   "execution_count": 72,
   "id": "7f05f64b",
   "metadata": {},
   "outputs": [
    {
     "data": {
      "text/plain": [
       "{'ineuron': {'a': 14, 'b': 10, 'c': 4}, 'course': {'d': 45, 'e': 34, 'f': 1}}"
      ]
     },
     "execution_count": 72,
     "metadata": {},
     "output_type": "execute_result"
    }
   ],
   "source": [
    "t"
   ]
  },
  {
   "cell_type": "code",
   "execution_count": 75,
   "id": "f28b885e",
   "metadata": {},
   "outputs": [],
   "source": [
    "r={'ineuron': {'a': 14, 'b': 10, 'c': 4},\n",
    "   'course': {'d': 45, 'e': 34, 'f': 1},\n",
    "  \"g\":34,\n",
    "  \"h\":[45,6,7,8,100],\n",
    "  \"i\":(10,20,22),\n",
    "  \"k\":\"raji\"}\n"
   ]
  },
  {
   "cell_type": "code",
   "execution_count": 76,
   "id": "8a221593",
   "metadata": {},
   "outputs": [
    {
     "data": {
      "text/plain": [
       "{'ineuron': {'a': 14, 'b': 10, 'c': 4},\n",
       " 'course': {'d': 45, 'e': 34, 'f': 1},\n",
       " 'g': 34,\n",
       " 'h': [45, 6, 7, 8, 100],\n",
       " 'i': (10, 20, 22),\n",
       " 'k': 'raji'}"
      ]
     },
     "execution_count": 76,
     "metadata": {},
     "output_type": "execute_result"
    }
   ],
   "source": [
    "r"
   ]
  },
  {
   "cell_type": "code",
   "execution_count": 77,
   "id": "cd088c20",
   "metadata": {},
   "outputs": [
    {
     "name": "stdout",
     "output_type": "stream",
     "text": [
      "ineuron\n",
      "course\n",
      "g\n",
      "h\n",
      "i\n",
      "k\n"
     ]
    }
   ],
   "source": [
    "for i in r:\n",
    "    print(i)"
   ]
  },
  {
   "cell_type": "code",
   "execution_count": 79,
   "id": "a6af357a",
   "metadata": {},
   "outputs": [
    {
     "name": "stdout",
     "output_type": "stream",
     "text": [
      "{'a': 14, 'b': 10, 'c': 4}\n",
      "{'d': 45, 'e': 34, 'f': 1}\n",
      "34\n",
      "[45, 6, 7, 8, 100]\n",
      "(10, 20, 22)\n",
      "raji\n"
     ]
    }
   ],
   "source": [
    "for i in r.values():\n",
    "    print(i)"
   ]
  },
  {
   "cell_type": "code",
   "execution_count": 80,
   "id": "56a84413",
   "metadata": {},
   "outputs": [
    {
     "name": "stdout",
     "output_type": "stream",
     "text": [
      "[{'a': 14, 'b': 10, 'c': 4}, {'d': 45, 'e': 34, 'f': 1}, 34, [45, 6, 7, 8, 100], (10, 20, 22), 'raji']\n"
     ]
    }
   ],
   "source": [
    "l=[]\n",
    "for i in r.values():\n",
    "    l.append(i)\n",
    "    \n",
    "print(l)"
   ]
  },
  {
   "cell_type": "code",
   "execution_count": 82,
   "id": "e179aa60",
   "metadata": {},
   "outputs": [
    {
     "name": "stdout",
     "output_type": "stream",
     "text": [
      "[{'a': 14, 'b': 10, 'c': 4}, {'d': 45, 'e': 34, 'f': 1}, 34, [45, 6, 7, 8, 100], (10, 20, 22), 'raji']\n"
     ]
    }
   ],
   "source": [
    "l=[]\n",
    "for i in r.values():\n",
    "    l.append(i)\n",
    "    \n",
    "print(l)\n"
   ]
  },
  {
   "cell_type": "code",
   "execution_count": 136,
   "id": "16f280f7",
   "metadata": {},
   "outputs": [],
   "source": [
    "w=[]\n",
    "for i in r.values():\n",
    "    if type(i)==dict:\n",
    "        for j in i.values():\n",
    "            w.append(j)\n",
    "            for i in l:\n",
    "                if type(i)==int:\n",
    "                    w.append(i)\n",
    "                elif type(i)==list:\n",
    "                    for j in i:\n",
    "                        w.append(j)\n",
    "                elif type(i)==tuple:\n",
    "                    for h in i:\n",
    "                        w.append(h)\n",
    "                elif type(i)==str:\n",
    "                    pass\n"
   ]
  },
  {
   "cell_type": "code",
   "execution_count": 149,
   "id": "e30adff8",
   "metadata": {},
   "outputs": [
    {
     "name": "stdout",
     "output_type": "stream",
     "text": [
      "100\n"
     ]
    }
   ],
   "source": [
    "w=[]\n",
    "for i in r.values():\n",
    "    if type(i)==dict:\n",
    "        for j in i.values():\n",
    "            w.append(j)\n",
    "    elif type(i)==int:\n",
    "        w.append(i)\n",
    "    elif type(i)==list:\n",
    "        for j in i:\n",
    "            w.append(j)\n",
    "    elif type(i)==tuple:\n",
    "        for h in i:\n",
    "            w.append(h)\n",
    "    elif type(i)==str or type(i)==bool or type(i)==complex or type(i)==float:\n",
    "        pass\n",
    "            \n",
    "print(max(w))"
   ]
  },
  {
   "cell_type": "code",
   "execution_count": 150,
   "id": "a34e99c3",
   "metadata": {},
   "outputs": [
    {
     "data": {
      "text/plain": [
       "[14, 10, 4, 45, 34, 1, 34, 45, 6, 7, 8, 100, 10, 20, 22]"
      ]
     },
     "execution_count": 150,
     "metadata": {},
     "output_type": "execute_result"
    }
   ],
   "source": [
    "w"
   ]
  },
  {
   "cell_type": "code",
   "execution_count": null,
   "id": "f6960e7f",
   "metadata": {},
   "outputs": [],
   "source": []
  },
  {
   "cell_type": "code",
   "execution_count": null,
   "id": "f8ad0215",
   "metadata": {},
   "outputs": [],
   "source": []
  }
 ],
 "metadata": {
  "kernelspec": {
   "display_name": "Python 3 (ipykernel)",
   "language": "python",
   "name": "python3"
  },
  "language_info": {
   "codemirror_mode": {
    "name": "ipython",
    "version": 3
   },
   "file_extension": ".py",
   "mimetype": "text/x-python",
   "name": "python",
   "nbconvert_exporter": "python",
   "pygments_lexer": "ipython3",
   "version": "3.9.7"
  }
 },
 "nbformat": 4,
 "nbformat_minor": 5
}
