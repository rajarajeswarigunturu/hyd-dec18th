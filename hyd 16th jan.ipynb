{
 "cells": [
  {
   "cell_type": "code",
   "execution_count": 1,
   "id": "ce0508a9",
   "metadata": {},
   "outputs": [],
   "source": [
    "# exception handling part2"
   ]
  },
  {
   "cell_type": "code",
   "execution_count": 2,
   "id": "1645bc98",
   "metadata": {},
   "outputs": [
    {
     "ename": "SyntaxError",
     "evalue": "unexpected EOF while parsing (Temp/ipykernel_35964/70184798.py, line 1)",
     "output_type": "error",
     "traceback": [
      "\u001b[1;36m  File \u001b[1;32m\"C:\\Users\\91903\\AppData\\Local\\Temp/ipykernel_35964/70184798.py\"\u001b[1;36m, line \u001b[1;32m1\u001b[0m\n\u001b[1;33m    print(\"dhfefee\"\u001b[0m\n\u001b[1;37m                   ^\u001b[0m\n\u001b[1;31mSyntaxError\u001b[0m\u001b[1;31m:\u001b[0m unexpected EOF while parsing\n"
     ]
    }
   ],
   "source": [
    "print(\"dhfefee\""
   ]
  },
  {
   "cell_type": "code",
   "execution_count": 3,
   "id": "ab9ee669",
   "metadata": {},
   "outputs": [
    {
     "name": "stdout",
     "output_type": "stream",
     "text": [
      "issue in try block\n"
     ]
    }
   ],
   "source": [
    "try:\n",
    "    f=open(\"hydtsst.txt\",\"r\")\n",
    "    f.write(\"jdfijfijirgreigrigri jrgnierhngirhri\")\n",
    "    print(\"this is my code\")\n",
    "except Exception as e:\n",
    "    print(\"issue in try block\")"
   ]
  },
  {
   "cell_type": "code",
   "execution_count": 4,
   "id": "34f0208f",
   "metadata": {},
   "outputs": [
    {
     "ename": "SyntaxError",
     "evalue": "unexpected EOF while parsing (Temp/ipykernel_35964/1246087222.py, line 4)",
     "output_type": "error",
     "traceback": [
      "\u001b[1;36m  File \u001b[1;32m\"C:\\Users\\91903\\AppData\\Local\\Temp/ipykernel_35964/1246087222.py\"\u001b[1;36m, line \u001b[1;32m4\u001b[0m\n\u001b[1;33m    print(\"this is my code\")\u001b[0m\n\u001b[1;37m                            ^\u001b[0m\n\u001b[1;31mSyntaxError\u001b[0m\u001b[1;31m:\u001b[0m unexpected EOF while parsing\n"
     ]
    }
   ],
   "source": [
    "try:\n",
    "    f=open(\"hydtsst.txt\",\"r\")\n",
    "    f.write(\"jdfijfijirgreigrigri jrgnierhngirhri\")\n",
    "    print(\"this is my code\")"
   ]
  },
  {
   "cell_type": "code",
   "execution_count": 6,
   "id": "e6232f60",
   "metadata": {},
   "outputs": [
    {
     "name": "stdout",
     "output_type": "stream",
     "text": [
      "issue in try block\n",
      "1\n",
      "2\n",
      "3\n",
      "4\n",
      "5\n",
      "6\n"
     ]
    }
   ],
   "source": [
    "try:\n",
    "    f=open(\"hydtsst.txt\",\"r\")\n",
    "    f.write(\"jdfijfijirgreigrigri jrgnierhngirhri\")\n",
    "    print(\"this is my code\")\n",
    "except Exception as e:\n",
    "    print(\"issue in try block\")\n",
    "    \n",
    "    \n",
    "l=[1,2,3,4,5,6]\n",
    "for i in l:\n",
    "    print(i)"
   ]
  },
  {
   "cell_type": "code",
   "execution_count": 7,
   "id": "17271d39",
   "metadata": {},
   "outputs": [
    {
     "ename": "FileNotFoundError",
     "evalue": "[Errno 2] No such file or directory: 'hydtsst.txt'",
     "output_type": "error",
     "traceback": [
      "\u001b[1;31m---------------------------------------------------------------------------\u001b[0m",
      "\u001b[1;31mFileNotFoundError\u001b[0m                         Traceback (most recent call last)",
      "\u001b[1;32m~\\AppData\\Local\\Temp/ipykernel_35964/320001456.py\u001b[0m in \u001b[0;36m<module>\u001b[1;34m\u001b[0m\n\u001b[1;32m----> 1\u001b[1;33m \u001b[0mf\u001b[0m\u001b[1;33m=\u001b[0m\u001b[0mopen\u001b[0m\u001b[1;33m(\u001b[0m\u001b[1;34m\"hydtsst.txt\"\u001b[0m\u001b[1;33m,\u001b[0m\u001b[1;34m\"r\"\u001b[0m\u001b[1;33m)\u001b[0m\u001b[1;33m\u001b[0m\u001b[1;33m\u001b[0m\u001b[0m\n\u001b[0m\u001b[0;32m      2\u001b[0m \u001b[0mf\u001b[0m\u001b[1;33m.\u001b[0m\u001b[0mwrite\u001b[0m\u001b[1;33m(\u001b[0m\u001b[1;34m\"jdfijfijirgreigrigri jrgnierhngirhri\"\u001b[0m\u001b[1;33m)\u001b[0m\u001b[1;33m\u001b[0m\u001b[1;33m\u001b[0m\u001b[0m\n\u001b[0;32m      3\u001b[0m \u001b[0mprint\u001b[0m\u001b[1;33m(\u001b[0m\u001b[1;34m\"this is my code\"\u001b[0m\u001b[1;33m)\u001b[0m\u001b[1;33m\u001b[0m\u001b[1;33m\u001b[0m\u001b[0m\n\u001b[0;32m      4\u001b[0m \u001b[0ml\u001b[0m\u001b[1;33m=\u001b[0m\u001b[1;33m[\u001b[0m\u001b[1;36m1\u001b[0m\u001b[1;33m,\u001b[0m\u001b[1;36m2\u001b[0m\u001b[1;33m,\u001b[0m\u001b[1;36m3\u001b[0m\u001b[1;33m,\u001b[0m\u001b[1;36m4\u001b[0m\u001b[1;33m,\u001b[0m\u001b[1;36m5\u001b[0m\u001b[1;33m,\u001b[0m\u001b[1;36m6\u001b[0m\u001b[1;33m]\u001b[0m\u001b[1;33m\u001b[0m\u001b[1;33m\u001b[0m\u001b[0m\n\u001b[0;32m      5\u001b[0m \u001b[1;32mfor\u001b[0m \u001b[0mi\u001b[0m \u001b[1;32min\u001b[0m \u001b[0ml\u001b[0m\u001b[1;33m:\u001b[0m\u001b[1;33m\u001b[0m\u001b[1;33m\u001b[0m\u001b[0m\n",
      "\u001b[1;31mFileNotFoundError\u001b[0m: [Errno 2] No such file or directory: 'hydtsst.txt'"
     ]
    }
   ],
   "source": [
    "f=open(\"hydtsst.txt\",\"r\")\n",
    "f.write(\"jdfijfijirgreigrigri jrgnierhngirhri\")\n",
    "print(\"this is my code\")\n",
    "l=[1,2,3,4,5,6]\n",
    "for i in l:\n",
    "    print(i)"
   ]
  },
  {
   "cell_type": "code",
   "execution_count": 9,
   "id": "043fdd11",
   "metadata": {},
   "outputs": [
    {
     "name": "stdout",
     "output_type": "stream",
     "text": [
      "issue in try block\n",
      "1\n",
      "2\n",
      "3\n",
      "4\n",
      "5\n",
      "6\n"
     ]
    }
   ],
   "source": [
    "try:\n",
    "    f=open(\"hydtsst.txt\",\"r\")\n",
    "    f.write(\"jdfijfijirgreigrigri jrgnierhngirhri\")\n",
    "    print(\"this is my code\")\n",
    "except:\n",
    "    print(\"issue in try block\")\n",
    "    \n",
    "try:\n",
    "    l=[1,2,3,4,5,6]\n",
    "    for i in l:\n",
    "        print(i)\n",
    "except:\n",
    "    print(\"for loop issue\")"
   ]
  },
  {
   "cell_type": "code",
   "execution_count": 10,
   "id": "c8ffabd7",
   "metadata": {},
   "outputs": [
    {
     "name": "stdout",
     "output_type": "stream",
     "text": [
      "issue in try block\n",
      "for loop issue\n"
     ]
    }
   ],
   "source": [
    "try:\n",
    "    f=open(\"hydtsst.txt\",\"r\")\n",
    "    f.write(\"jdfijfijirgreigrigri jrgnierhngirhri\")\n",
    "    print(\"this is my code\")\n",
    "except:\n",
    "    print(\"issue in try block\")\n",
    "    \n",
    "try:\n",
    "    l=[1,2,3,4,5,6]\n",
    "    for i in l[i]:\n",
    "        print(i)\n",
    "except:\n",
    "    print(\"for loop issue\")"
   ]
  },
  {
   "cell_type": "code",
   "execution_count": 11,
   "id": "ccea926d",
   "metadata": {},
   "outputs": [
    {
     "name": "stdout",
     "output_type": "stream",
     "text": [
      "l\n",
      "error in try block\n"
     ]
    }
   ],
   "source": [
    "try:\n",
    "    d={\"key1\":\"raji\",\"key2\":[1,2,3,4,5],\"key3\":(4,5,6,7,8)}\n",
    "    d[\"key4\"]=int(input())\n",
    "except:\n",
    "    print(\"error in try block\")"
   ]
  },
  {
   "cell_type": "code",
   "execution_count": 12,
   "id": "9cb3c6b2",
   "metadata": {},
   "outputs": [],
   "source": [
    "# exception is a super class\n",
    "# inside that there are all error classes\n",
    "# subclasses are also there"
   ]
  },
  {
   "cell_type": "code",
   "execution_count": 13,
   "id": "d61b8e2b",
   "metadata": {},
   "outputs": [
    {
     "name": "stdout",
     "output_type": "stream",
     "text": [
      "d\n",
      "error in try block invalid literal for int() with base 10: 'd'\n"
     ]
    }
   ],
   "source": [
    "try:\n",
    "    d={\"key1\":\"raji\",\"key2\":[1,2,3,4,5],\"key3\":(4,5,6,7,8)}\n",
    "    d[\"key4\"]=int(input())\n",
    "except Exception as raji:\n",
    "    print(\"error in try block\",raji)\n",
    "    #raji here is a variable"
   ]
  },
  {
   "cell_type": "code",
   "execution_count": 14,
   "id": "a79fed94",
   "metadata": {},
   "outputs": [
    {
     "name": "stdout",
     "output_type": "stream",
     "text": [
      "f\n",
      "invalid literal for int() with base 10: 'f'\n"
     ]
    }
   ],
   "source": [
    "try:\n",
    "    d={\"key1\":\"raji\",\"key2\":[1,2,3,4,5],\"key3\":(4,5,6,7,8)}\n",
    "    d[\"key4\"]=int(input())\n",
    "except Exception as e:\n",
    "    print(e)"
   ]
  },
  {
   "cell_type": "code",
   "execution_count": 15,
   "id": "0bda1263",
   "metadata": {},
   "outputs": [
    {
     "name": "stdout",
     "output_type": "stream",
     "text": [
      "g\n"
     ]
    },
    {
     "ename": "ValueError",
     "evalue": "invalid literal for int() with base 10: 'g'",
     "output_type": "error",
     "traceback": [
      "\u001b[1;31m---------------------------------------------------------------------------\u001b[0m",
      "\u001b[1;31mValueError\u001b[0m                                Traceback (most recent call last)",
      "\u001b[1;32m~\\AppData\\Local\\Temp/ipykernel_35964/3249268860.py\u001b[0m in \u001b[0;36m<module>\u001b[1;34m\u001b[0m\n\u001b[0;32m      1\u001b[0m \u001b[0md\u001b[0m\u001b[1;33m=\u001b[0m\u001b[1;33m{\u001b[0m\u001b[1;34m\"key1\"\u001b[0m\u001b[1;33m:\u001b[0m\u001b[1;34m\"raji\"\u001b[0m\u001b[1;33m,\u001b[0m\u001b[1;34m\"key2\"\u001b[0m\u001b[1;33m:\u001b[0m\u001b[1;33m[\u001b[0m\u001b[1;36m1\u001b[0m\u001b[1;33m,\u001b[0m\u001b[1;36m2\u001b[0m\u001b[1;33m,\u001b[0m\u001b[1;36m3\u001b[0m\u001b[1;33m,\u001b[0m\u001b[1;36m4\u001b[0m\u001b[1;33m,\u001b[0m\u001b[1;36m5\u001b[0m\u001b[1;33m]\u001b[0m\u001b[1;33m,\u001b[0m\u001b[1;34m\"key3\"\u001b[0m\u001b[1;33m:\u001b[0m\u001b[1;33m(\u001b[0m\u001b[1;36m4\u001b[0m\u001b[1;33m,\u001b[0m\u001b[1;36m5\u001b[0m\u001b[1;33m,\u001b[0m\u001b[1;36m6\u001b[0m\u001b[1;33m,\u001b[0m\u001b[1;36m7\u001b[0m\u001b[1;33m,\u001b[0m\u001b[1;36m8\u001b[0m\u001b[1;33m)\u001b[0m\u001b[1;33m}\u001b[0m\u001b[1;33m\u001b[0m\u001b[1;33m\u001b[0m\u001b[0m\n\u001b[1;32m----> 2\u001b[1;33m \u001b[0md\u001b[0m\u001b[1;33m[\u001b[0m\u001b[1;34m\"key4\"\u001b[0m\u001b[1;33m]\u001b[0m\u001b[1;33m=\u001b[0m\u001b[0mint\u001b[0m\u001b[1;33m(\u001b[0m\u001b[0minput\u001b[0m\u001b[1;33m(\u001b[0m\u001b[1;33m)\u001b[0m\u001b[1;33m)\u001b[0m\u001b[1;33m\u001b[0m\u001b[1;33m\u001b[0m\u001b[0m\n\u001b[0m",
      "\u001b[1;31mValueError\u001b[0m: invalid literal for int() with base 10: 'g'"
     ]
    }
   ],
   "source": [
    "d={\"key1\":\"raji\",\"key2\":[1,2,3,4,5],\"key3\":(4,5,6,7,8)}\n",
    "d[\"key4\"]=int(input())"
   ]
  },
  {
   "cell_type": "code",
   "execution_count": 16,
   "id": "d130d284",
   "metadata": {},
   "outputs": [
    {
     "name": "stdout",
     "output_type": "stream",
     "text": [
      "g\n",
      "invalid literal for int() with base 10: 'g'\n"
     ]
    }
   ],
   "source": [
    "try:\n",
    "    d={\"key1\":\"raji\",\"key2\":[1,2,3,4,5],\"key3\":(4,5,6,7,8)}\n",
    "    d[\"key4\"]=int(input())\n",
    "except ValueError as e:\n",
    "    print(e)"
   ]
  },
  {
   "cell_type": "code",
   "execution_count": 17,
   "id": "b2ac41f3",
   "metadata": {},
   "outputs": [
    {
     "name": "stdout",
     "output_type": "stream",
     "text": [
      "5\n"
     ]
    }
   ],
   "source": [
    "try:\n",
    "    d={\"key1\":\"raji\",\"key2\":[1,2,3,4,5],\"key3\":(4,5,6,7,8)}\n",
    "    d[\"key4\"]=int(input())\n",
    "except ValueError as e:\n",
    "    print(e)"
   ]
  },
  {
   "cell_type": "code",
   "execution_count": 18,
   "id": "90a959e5",
   "metadata": {},
   "outputs": [
    {
     "name": "stdout",
     "output_type": "stream",
     "text": [
      "5\n"
     ]
    },
    {
     "ename": "FileNotFoundError",
     "evalue": "[Errno 2] No such file or directory: 'test2'",
     "output_type": "error",
     "traceback": [
      "\u001b[1;31m---------------------------------------------------------------------------\u001b[0m",
      "\u001b[1;31mFileNotFoundError\u001b[0m                         Traceback (most recent call last)",
      "\u001b[1;32m~\\AppData\\Local\\Temp/ipykernel_35964/28723890.py\u001b[0m in \u001b[0;36m<module>\u001b[1;34m\u001b[0m\n\u001b[0;32m      2\u001b[0m     \u001b[0md\u001b[0m\u001b[1;33m=\u001b[0m\u001b[1;33m{\u001b[0m\u001b[1;34m\"key1\"\u001b[0m\u001b[1;33m:\u001b[0m\u001b[1;34m\"raji\"\u001b[0m\u001b[1;33m,\u001b[0m\u001b[1;34m\"key2\"\u001b[0m\u001b[1;33m:\u001b[0m\u001b[1;33m[\u001b[0m\u001b[1;36m1\u001b[0m\u001b[1;33m,\u001b[0m\u001b[1;36m2\u001b[0m\u001b[1;33m,\u001b[0m\u001b[1;36m3\u001b[0m\u001b[1;33m,\u001b[0m\u001b[1;36m4\u001b[0m\u001b[1;33m,\u001b[0m\u001b[1;36m5\u001b[0m\u001b[1;33m]\u001b[0m\u001b[1;33m,\u001b[0m\u001b[1;34m\"key3\"\u001b[0m\u001b[1;33m:\u001b[0m\u001b[1;33m(\u001b[0m\u001b[1;36m4\u001b[0m\u001b[1;33m,\u001b[0m\u001b[1;36m5\u001b[0m\u001b[1;33m,\u001b[0m\u001b[1;36m6\u001b[0m\u001b[1;33m,\u001b[0m\u001b[1;36m7\u001b[0m\u001b[1;33m,\u001b[0m\u001b[1;36m8\u001b[0m\u001b[1;33m)\u001b[0m\u001b[1;33m}\u001b[0m\u001b[1;33m\u001b[0m\u001b[1;33m\u001b[0m\u001b[0m\n\u001b[0;32m      3\u001b[0m     \u001b[0md\u001b[0m\u001b[1;33m[\u001b[0m\u001b[1;34m\"key4\"\u001b[0m\u001b[1;33m]\u001b[0m\u001b[1;33m=\u001b[0m\u001b[0mint\u001b[0m\u001b[1;33m(\u001b[0m\u001b[0minput\u001b[0m\u001b[1;33m(\u001b[0m\u001b[1;33m)\u001b[0m\u001b[1;33m)\u001b[0m\u001b[1;33m\u001b[0m\u001b[1;33m\u001b[0m\u001b[0m\n\u001b[1;32m----> 4\u001b[1;33m     \u001b[0mf\u001b[0m\u001b[1;33m=\u001b[0m\u001b[0mopen\u001b[0m\u001b[1;33m(\u001b[0m\u001b[1;34m\"test2\"\u001b[0m\u001b[1;33m,\u001b[0m\u001b[1;34m\"r\"\u001b[0m\u001b[1;33m)\u001b[0m\u001b[1;33m\u001b[0m\u001b[1;33m\u001b[0m\u001b[0m\n\u001b[0m\u001b[0;32m      5\u001b[0m \u001b[1;32mexcept\u001b[0m \u001b[0mValueError\u001b[0m \u001b[1;32mas\u001b[0m \u001b[0me\u001b[0m\u001b[1;33m:\u001b[0m\u001b[1;33m\u001b[0m\u001b[1;33m\u001b[0m\u001b[0m\n\u001b[0;32m      6\u001b[0m     \u001b[0mprint\u001b[0m\u001b[1;33m(\u001b[0m\u001b[0me\u001b[0m\u001b[1;33m)\u001b[0m\u001b[1;33m\u001b[0m\u001b[1;33m\u001b[0m\u001b[0m\n",
      "\u001b[1;31mFileNotFoundError\u001b[0m: [Errno 2] No such file or directory: 'test2'"
     ]
    }
   ],
   "source": [
    "try:\n",
    "    d={\"key1\":\"raji\",\"key2\":[1,2,3,4,5],\"key3\":(4,5,6,7,8)}\n",
    "    d[\"key4\"]=int(input())\n",
    "    f=open(\"test2\",\"r\")\n",
    "except ValueError as e:\n",
    "    print(e)"
   ]
  },
  {
   "cell_type": "code",
   "execution_count": 19,
   "id": "b49e724e",
   "metadata": {},
   "outputs": [
    {
     "name": "stdout",
     "output_type": "stream",
     "text": [
      "5\n"
     ]
    },
    {
     "ename": "FileNotFoundError",
     "evalue": "[Errno 2] No such file or directory: 'test2'",
     "output_type": "error",
     "traceback": [
      "\u001b[1;31m---------------------------------------------------------------------------\u001b[0m",
      "\u001b[1;31mFileNotFoundError\u001b[0m                         Traceback (most recent call last)",
      "\u001b[1;32m~\\AppData\\Local\\Temp/ipykernel_35964/28723890.py\u001b[0m in \u001b[0;36m<module>\u001b[1;34m\u001b[0m\n\u001b[0;32m      2\u001b[0m     \u001b[0md\u001b[0m\u001b[1;33m=\u001b[0m\u001b[1;33m{\u001b[0m\u001b[1;34m\"key1\"\u001b[0m\u001b[1;33m:\u001b[0m\u001b[1;34m\"raji\"\u001b[0m\u001b[1;33m,\u001b[0m\u001b[1;34m\"key2\"\u001b[0m\u001b[1;33m:\u001b[0m\u001b[1;33m[\u001b[0m\u001b[1;36m1\u001b[0m\u001b[1;33m,\u001b[0m\u001b[1;36m2\u001b[0m\u001b[1;33m,\u001b[0m\u001b[1;36m3\u001b[0m\u001b[1;33m,\u001b[0m\u001b[1;36m4\u001b[0m\u001b[1;33m,\u001b[0m\u001b[1;36m5\u001b[0m\u001b[1;33m]\u001b[0m\u001b[1;33m,\u001b[0m\u001b[1;34m\"key3\"\u001b[0m\u001b[1;33m:\u001b[0m\u001b[1;33m(\u001b[0m\u001b[1;36m4\u001b[0m\u001b[1;33m,\u001b[0m\u001b[1;36m5\u001b[0m\u001b[1;33m,\u001b[0m\u001b[1;36m6\u001b[0m\u001b[1;33m,\u001b[0m\u001b[1;36m7\u001b[0m\u001b[1;33m,\u001b[0m\u001b[1;36m8\u001b[0m\u001b[1;33m)\u001b[0m\u001b[1;33m}\u001b[0m\u001b[1;33m\u001b[0m\u001b[1;33m\u001b[0m\u001b[0m\n\u001b[0;32m      3\u001b[0m     \u001b[0md\u001b[0m\u001b[1;33m[\u001b[0m\u001b[1;34m\"key4\"\u001b[0m\u001b[1;33m]\u001b[0m\u001b[1;33m=\u001b[0m\u001b[0mint\u001b[0m\u001b[1;33m(\u001b[0m\u001b[0minput\u001b[0m\u001b[1;33m(\u001b[0m\u001b[1;33m)\u001b[0m\u001b[1;33m)\u001b[0m\u001b[1;33m\u001b[0m\u001b[1;33m\u001b[0m\u001b[0m\n\u001b[1;32m----> 4\u001b[1;33m     \u001b[0mf\u001b[0m\u001b[1;33m=\u001b[0m\u001b[0mopen\u001b[0m\u001b[1;33m(\u001b[0m\u001b[1;34m\"test2\"\u001b[0m\u001b[1;33m,\u001b[0m\u001b[1;34m\"r\"\u001b[0m\u001b[1;33m)\u001b[0m\u001b[1;33m\u001b[0m\u001b[1;33m\u001b[0m\u001b[0m\n\u001b[0m\u001b[0;32m      5\u001b[0m \u001b[1;32mexcept\u001b[0m \u001b[0mValueError\u001b[0m \u001b[1;32mas\u001b[0m \u001b[0me\u001b[0m\u001b[1;33m:\u001b[0m\u001b[1;33m\u001b[0m\u001b[1;33m\u001b[0m\u001b[0m\n\u001b[0;32m      6\u001b[0m     \u001b[0mprint\u001b[0m\u001b[1;33m(\u001b[0m\u001b[0me\u001b[0m\u001b[1;33m)\u001b[0m\u001b[1;33m\u001b[0m\u001b[1;33m\u001b[0m\u001b[0m\n",
      "\u001b[1;31mFileNotFoundError\u001b[0m: [Errno 2] No such file or directory: 'test2'"
     ]
    }
   ],
   "source": [
    "try:\n",
    "    d={\"key1\":\"raji\",\"key2\":[1,2,3,4,5],\"key3\":(4,5,6,7,8)}\n",
    "    d[\"key4\"]=int(input())\n",
    "    f=open(\"test2\",\"r\")\n",
    "except ValueError as e:\n",
    "    print(e)"
   ]
  },
  {
   "cell_type": "code",
   "execution_count": 20,
   "id": "c0283ffd",
   "metadata": {},
   "outputs": [
    {
     "name": "stdout",
     "output_type": "stream",
     "text": [
      "dd\n",
      "invalid literal for int() with base 10: 'dd'\n"
     ]
    }
   ],
   "source": [
    "try:\n",
    "    d={\"key1\":\"raji\",\"key2\":[1,2,3,4,5],\"key3\":(4,5,6,7,8)}\n",
    "    d[\"key4\"]=int(input())\n",
    "    f=open(\"test2\",\"r\")\n",
    "except Exception as e:\n",
    "    print(e)"
   ]
  },
  {
   "cell_type": "code",
   "execution_count": 21,
   "id": "727816d1",
   "metadata": {},
   "outputs": [
    {
     "name": "stdout",
     "output_type": "stream",
     "text": [
      "5\n",
      "[Errno 2] No such file or directory: 'test2'\n"
     ]
    }
   ],
   "source": [
    "try:\n",
    "    d={\"key1\":\"raji\",\"key2\":[1,2,3,4,5],\"key3\":(4,5,6,7,8)}\n",
    "    d[\"key4\"]=int(input())\n",
    "    f=open(\"test2\",\"r\")\n",
    "except Exception as e:\n",
    "    print(e)"
   ]
  },
  {
   "cell_type": "code",
   "execution_count": 22,
   "id": "bf720cdd",
   "metadata": {},
   "outputs": [],
   "source": [
    "# multiple except is possible"
   ]
  },
  {
   "cell_type": "code",
   "execution_count": 24,
   "id": "c8bbf14a",
   "metadata": {},
   "outputs": [
    {
     "name": "stdout",
     "output_type": "stream",
     "text": [
      "5\n",
      "[Errno 2] No such file or directory: 'test2'\n"
     ]
    }
   ],
   "source": [
    "try:\n",
    "    d={\"key1\":\"raji\",\"key2\":[1,2,3,4,5],\"key3\":(4,5,6,7,8)}\n",
    "    d[\"key4\"]=int(input())\n",
    "    f=open(\"test2\",\"r\")\n",
    "except ValueError as e:\n",
    "    print(e)\n",
    "except FileNotFoundError as d:\n",
    "    print(d)"
   ]
  },
  {
   "cell_type": "code",
   "execution_count": 25,
   "id": "2278851f",
   "metadata": {},
   "outputs": [
    {
     "name": "stdout",
     "output_type": "stream",
     "text": [
      "g\n",
      "invalid literal for int() with base 10: 'g'\n"
     ]
    }
   ],
   "source": [
    "try:\n",
    "    d={\"key1\":\"raji\",\"key2\":[1,2,3,4,5],\"key3\":(4,5,6,7,8)}\n",
    "    d[\"key4\"]=int(input())\n",
    "    f=open(\"test2\",\"r\")\n",
    "except ValueError as e:\n",
    "    print(e)\n",
    "except FileNotFoundError as d:\n",
    "    print(d)"
   ]
  },
  {
   "cell_type": "code",
   "execution_count": 26,
   "id": "d03e4295",
   "metadata": {},
   "outputs": [
    {
     "name": "stdout",
     "output_type": "stream",
     "text": [
      "4\n",
      "[Errno 2] No such file or directory: 'test2'\n"
     ]
    }
   ],
   "source": [
    "try:\n",
    "    d={\"key1\":\"raji\",\"key2\":[1,2,3,4,5],\"key3\":(4,5,6,7,8)}\n",
    "    d[\"key4\"]=int(input())\n",
    "    f=open(\"test2\",\"r\")\n",
    "except Exception as f:\n",
    "    print(f)\n",
    "    \n",
    "except ValueError as e:\n",
    "    print(e)\n",
    "except FileNotFoundError as d:\n",
    "    print(d)"
   ]
  },
  {
   "cell_type": "code",
   "execution_count": 27,
   "id": "af34de8c",
   "metadata": {},
   "outputs": [
    {
     "name": "stdout",
     "output_type": "stream",
     "text": [
      "f\n",
      "invalid literal for int() with base 10: 'f'\n"
     ]
    }
   ],
   "source": [
    "try:\n",
    "    d={\"key1\":\"raji\",\"key2\":[1,2,3,4,5],\"key3\":(4,5,6,7,8)}\n",
    "    d[\"key4\"]=int(input())\n",
    "    f=open(\"test2\",\"r\")\n",
    "except Exception as f:\n",
    "    print(f)\n",
    "    \n",
    "except ValueError as e:\n",
    "    print(e)\n",
    "except FileNotFoundError as d:\n",
    "    print(d)"
   ]
  },
  {
   "cell_type": "code",
   "execution_count": 28,
   "id": "64b507df",
   "metadata": {},
   "outputs": [
    {
     "name": "stdout",
     "output_type": "stream",
     "text": [
      "4\n",
      "[Errno 2] No such file or directory: 'test2'\n"
     ]
    }
   ],
   "source": [
    "try:\n",
    "    d={\"key1\":\"raji\",\"key2\":[1,2,3,4,5],\"key3\":(4,5,6,7,8)}\n",
    "    d[\"key4\"]=int(input())\n",
    "    f=open(\"test2\",\"r\")\n",
    "except ValueError as e:\n",
    "    print(e)\n",
    "except FileNotFoundError as d:\n",
    "    print(d)\n",
    "\n",
    "except Exception as f:\n",
    "    print(f)\n",
    "    "
   ]
  },
  {
   "cell_type": "code",
   "execution_count": 29,
   "id": "7db1d271",
   "metadata": {},
   "outputs": [
    {
     "name": "stdout",
     "output_type": "stream",
     "text": [
      "g\n",
      "invalid literal for int() with base 10: 'g'\n"
     ]
    }
   ],
   "source": [
    "try:\n",
    "    d={\"key1\":\"raji\",\"key2\":[1,2,3,4,5],\"key3\":(4,5,6,7,8)}\n",
    "    d[\"key4\"]=int(input())\n",
    "    f=open(\"test2\",\"r\")\n",
    "except ValueError as e:\n",
    "    print(e)\n",
    "except FileNotFoundError as d:\n",
    "    print(d)\n",
    "\n",
    "except Exception as f:\n",
    "    print(f)"
   ]
  },
  {
   "cell_type": "code",
   "execution_count": 30,
   "id": "62ba2212",
   "metadata": {},
   "outputs": [],
   "source": [
    "# parent class is exception class\n",
    "# child class is value error and filenot found error"
   ]
  },
  {
   "cell_type": "code",
   "execution_count": 31,
   "id": "60c9a2fd",
   "metadata": {},
   "outputs": [],
   "source": [
    "# we have try except and else block only in python"
   ]
  },
  {
   "cell_type": "code",
   "execution_count": 32,
   "id": "e0d4cb0d",
   "metadata": {},
   "outputs": [
    {
     "name": "stdout",
     "output_type": "stream",
     "text": [
      "try execute successfully else execute\n"
     ]
    }
   ],
   "source": [
    "try:\n",
    "    f=open(\"priya.txt\",\"w\")\n",
    "    f.write(\"hgdjg jsfhsg jshdgjh\")\n",
    "except Exception as e:\n",
    "    print(\"try error\")\n",
    "else:\n",
    "    print(\"try execute successfully else execute\")\n",
    "    f.close()"
   ]
  },
  {
   "cell_type": "code",
   "execution_count": 33,
   "id": "1af89cc7",
   "metadata": {},
   "outputs": [
    {
     "name": "stdout",
     "output_type": "stream",
     "text": [
      "try error\n"
     ]
    }
   ],
   "source": [
    "try:\n",
    "    f=open(\"priya.txt\",\"w\")\n",
    "    f.read()\n",
    "except Exception as e:\n",
    "    print(\"try error\")\n",
    "else:\n",
    "    print(\"try execute successfully else execute\")\n",
    "    f.close()"
   ]
  },
  {
   "cell_type": "code",
   "execution_count": 34,
   "id": "d59c914e",
   "metadata": {},
   "outputs": [],
   "source": [
    "# along with else we also find finally"
   ]
  },
  {
   "cell_type": "code",
   "execution_count": 35,
   "id": "4ba14605",
   "metadata": {},
   "outputs": [],
   "source": [
    "# finally executes all the time"
   ]
  },
  {
   "cell_type": "code",
   "execution_count": 36,
   "id": "49f5e6f8",
   "metadata": {},
   "outputs": [
    {
     "name": "stdout",
     "output_type": "stream",
     "text": [
      "try error\n",
      "progrm finished\n"
     ]
    }
   ],
   "source": [
    "try:\n",
    "    f=open(\"priya.txt\",\"w\")\n",
    "    f.read()\n",
    "except Exception as e:\n",
    "    print(\"try error\")\n",
    "else:\n",
    "    print(\"try execute successfully else execute\")\n",
    "    f.close()\n",
    "finally:\n",
    "    print('progrm finished')"
   ]
  },
  {
   "cell_type": "code",
   "execution_count": 37,
   "id": "07f8bd18",
   "metadata": {},
   "outputs": [
    {
     "name": "stdout",
     "output_type": "stream",
     "text": [
      "try execute successfully else execute\n",
      "progrm finished\n"
     ]
    }
   ],
   "source": [
    "try:\n",
    "    f=open(\"priya.txt\",\"w\")\n",
    "    f.write(\"wjfnewjkfewbfewj\")\n",
    "except Exception as e:\n",
    "    print(\"try error\")\n",
    "else:\n",
    "    print(\"try execute successfully else execute\")\n",
    "    f.close()\n",
    "finally:\n",
    "    print('progrm finished')"
   ]
  },
  {
   "cell_type": "code",
   "execution_count": 39,
   "id": "8737ac1a",
   "metadata": {},
   "outputs": [
    {
     "name": "stdout",
     "output_type": "stream",
     "text": [
      "try execute successfully else execute\n",
      "progrm finished\n",
      "error\n",
      "dkjgj\n"
     ]
    }
   ],
   "source": [
    "try:\n",
    "    f=open(\"priya.txt\",\"w\")\n",
    "    f.write(\"wjfnewjkfewbfewj\")\n",
    "except Exception as e:\n",
    "    print(\"try error\")\n",
    "else:\n",
    "    print(\"try execute successfully else execute\")\n",
    "    f.close()\n",
    "finally:\n",
    "    print('progrm finished')\n",
    "    try:\n",
    "        f=open(\"hhhas.txt\",\"r\")\n",
    "    except Exception as f:\n",
    "        print(\"error\")\n",
    "    else:\n",
    "        print(\"try executed\")\n",
    "    finally:\n",
    "        print(\"dkjgj\")"
   ]
  },
  {
   "cell_type": "code",
   "execution_count": 40,
   "id": "c950f845",
   "metadata": {},
   "outputs": [],
   "source": [
    "def askint():\n",
    "    a=int(input())\n",
    "    return a"
   ]
  },
  {
   "cell_type": "code",
   "execution_count": 43,
   "id": "fbcb0bba",
   "metadata": {},
   "outputs": [
    {
     "name": "stdout",
     "output_type": "stream",
     "text": [
      "g\n"
     ]
    },
    {
     "ename": "ValueError",
     "evalue": "invalid literal for int() with base 10: 'g'",
     "output_type": "error",
     "traceback": [
      "\u001b[1;31m---------------------------------------------------------------------------\u001b[0m",
      "\u001b[1;31mValueError\u001b[0m                                Traceback (most recent call last)",
      "\u001b[1;32m~\\AppData\\Local\\Temp/ipykernel_35964/577270890.py\u001b[0m in \u001b[0;36m<module>\u001b[1;34m\u001b[0m\n\u001b[1;32m----> 1\u001b[1;33m \u001b[0maskint\u001b[0m\u001b[1;33m(\u001b[0m\u001b[1;33m)\u001b[0m\u001b[1;33m\u001b[0m\u001b[1;33m\u001b[0m\u001b[0m\n\u001b[0m",
      "\u001b[1;32m~\\AppData\\Local\\Temp/ipykernel_35964/1725701437.py\u001b[0m in \u001b[0;36maskint\u001b[1;34m()\u001b[0m\n\u001b[0;32m      1\u001b[0m \u001b[1;32mdef\u001b[0m \u001b[0maskint\u001b[0m\u001b[1;33m(\u001b[0m\u001b[1;33m)\u001b[0m\u001b[1;33m:\u001b[0m\u001b[1;33m\u001b[0m\u001b[1;33m\u001b[0m\u001b[0m\n\u001b[1;32m----> 2\u001b[1;33m     \u001b[0ma\u001b[0m\u001b[1;33m=\u001b[0m\u001b[0mint\u001b[0m\u001b[1;33m(\u001b[0m\u001b[0minput\u001b[0m\u001b[1;33m(\u001b[0m\u001b[1;33m)\u001b[0m\u001b[1;33m)\u001b[0m\u001b[1;33m\u001b[0m\u001b[1;33m\u001b[0m\u001b[0m\n\u001b[0m\u001b[0;32m      3\u001b[0m     \u001b[1;32mreturn\u001b[0m \u001b[0ma\u001b[0m\u001b[1;33m\u001b[0m\u001b[1;33m\u001b[0m\u001b[0m\n",
      "\u001b[1;31mValueError\u001b[0m: invalid literal for int() with base 10: 'g'"
     ]
    }
   ],
   "source": [
    "askint()"
   ]
  },
  {
   "cell_type": "code",
   "execution_count": 45,
   "id": "2a9755b2",
   "metadata": {},
   "outputs": [],
   "source": [
    "def askint():\n",
    "    try:\n",
    "        a=int(input())\n",
    "        return a\n",
    "    except Exception as e:\n",
    "        print(e)\n",
    "    else:\n",
    "        print(\"try success\")\n",
    "    finally:\n",
    "        print(\"worked out\")"
   ]
  },
  {
   "cell_type": "code",
   "execution_count": 46,
   "id": "650ba5c5",
   "metadata": {},
   "outputs": [
    {
     "name": "stdout",
     "output_type": "stream",
     "text": [
      "5\n",
      "worked out\n"
     ]
    },
    {
     "data": {
      "text/plain": [
       "5"
      ]
     },
     "execution_count": 46,
     "metadata": {},
     "output_type": "execute_result"
    }
   ],
   "source": [
    "askint()"
   ]
  },
  {
   "cell_type": "code",
   "execution_count": 49,
   "id": "43429656",
   "metadata": {},
   "outputs": [],
   "source": [
    "def askint():\n",
    "    try:\n",
    "        a=int(input())\n",
    "        return a\n",
    "    except Exception as e:\n",
    "        print(e)\n",
    "    else:\n",
    "        print(\"try success\")\n",
    "    finally:\n",
    "        print(\"worked out\")"
   ]
  },
  {
   "cell_type": "code",
   "execution_count": 50,
   "id": "5d6249b8",
   "metadata": {},
   "outputs": [
    {
     "name": "stdout",
     "output_type": "stream",
     "text": [
      "h\n",
      "invalid literal for int() with base 10: 'h'\n",
      "worked out\n"
     ]
    }
   ],
   "source": [
    "askint()"
   ]
  },
  {
   "cell_type": "code",
   "execution_count": 61,
   "id": "942df2f8",
   "metadata": {},
   "outputs": [
    {
     "ename": "SyntaxError",
     "evalue": "invalid syntax (Temp/ipykernel_35964/2216138641.py, line 7)",
     "output_type": "error",
     "traceback": [
      "\u001b[1;36m  File \u001b[1;32m\"C:\\Users\\91903\\AppData\\Local\\Temp/ipykernel_35964/2216138641.py\"\u001b[1;36m, line \u001b[1;32m7\u001b[0m\n\u001b[1;33m    else:\u001b[0m\n\u001b[1;37m    ^\u001b[0m\n\u001b[1;31mSyntaxError\u001b[0m\u001b[1;31m:\u001b[0m invalid syntax\n"
     ]
    }
   ],
   "source": [
    "def askforint():\n",
    "    try:\n",
    "        a=int(input())\n",
    "        if type(a)!=int:\n",
    "            print(\"not an integer, please enter an integer\")\n",
    "        continue\n",
    "        else:\n",
    "            print(\"it is an int\")\n",
    "    except Exception as e:\n",
    "        print(e)\n",
    "            \n",
    "            "
   ]
  },
  {
   "cell_type": "code",
   "execution_count": 8,
   "id": "bc19dda2",
   "metadata": {},
   "outputs": [],
   "source": [
    "def askforint():\n",
    "    while True:\n",
    "        try:\n",
    "            a=int(input())\n",
    "        except Exception as e:\n",
    "            print(\"please enter an integer:\")\n",
    "        else:\n",
    "            print(\"you entered an integer\")\n",
    "            return a\n",
    "        finally:\n",
    "            print(\"iteration completed\")"
   ]
  },
  {
   "cell_type": "code",
   "execution_count": null,
   "id": "449e5cf1",
   "metadata": {},
   "outputs": [],
   "source": [
    "askforint()"
   ]
  },
  {
   "cell_type": "code",
   "execution_count": 9,
   "id": "41213149",
   "metadata": {},
   "outputs": [
    {
     "name": "stdout",
     "output_type": "stream",
     "text": [
      "\n",
      "please enter an integer:\n",
      "iteration completed\n",
      "\n",
      "please enter an integer:\n",
      "iteration completed\n",
      "1\n",
      "you entered an integer\n",
      "iteration completed\n"
     ]
    },
    {
     "data": {
      "text/plain": [
       "1"
      ]
     },
     "execution_count": 9,
     "metadata": {},
     "output_type": "execute_result"
    }
   ],
   "source": [
    "askforint()"
   ]
  },
  {
   "cell_type": "code",
   "execution_count": 10,
   "id": "64658dfc",
   "metadata": {},
   "outputs": [
    {
     "name": "stdout",
     "output_type": "stream",
     "text": [
      "k\n",
      "please enter an integer:\n",
      "iteration completed\n",
      "4\n",
      "you entered an integer\n",
      "iteration completed\n"
     ]
    },
    {
     "data": {
      "text/plain": [
       "4"
      ]
     },
     "execution_count": 10,
     "metadata": {},
     "output_type": "execute_result"
    }
   ],
   "source": [
    "askforint()"
   ]
  },
  {
   "cell_type": "code",
   "execution_count": null,
   "id": "9fea3dfa",
   "metadata": {},
   "outputs": [],
   "source": []
  },
  {
   "cell_type": "code",
   "execution_count": 2,
   "id": "19844f06",
   "metadata": {},
   "outputs": [
    {
     "name": "stdout",
     "output_type": "stream",
     "text": [
      "Please enter an integer: l\n",
      "Invalid input. Please enter a valid integer.\n",
      "Iteration complete\n",
      "\n",
      "Please enter an integer: 4\n",
      "You entered: 4\n",
      "Iteration complete\n",
      "\n",
      "The entered integer is: 4\n"
     ]
    }
   ],
   "source": [
    "def ask_for_integer():\n",
    "    while True:\n",
    "        try:\n",
    "            user_input = input(\"Please enter an integer: \")\n",
    "            integer_value = int(user_input)\n",
    "        except ValueError:\n",
    "            print(\"Invalid input. Please enter a valid integer.\")\n",
    "        else:\n",
    "            print(\"You entered:\", integer_value)\n",
    "            return integer_value\n",
    "        finally:\n",
    "            print(\"Iteration complete\\n\")\n",
    "\n",
    "# Example usage:\n",
    "result = ask_for_integer()\n",
    "print(\"The entered integer is:\", result)"
   ]
  },
  {
   "cell_type": "code",
   "execution_count": 11,
   "id": "b68e2ec7",
   "metadata": {},
   "outputs": [],
   "source": [
    "# flag is a variable"
   ]
  },
  {
   "cell_type": "code",
   "execution_count": 12,
   "id": "5dc5b9f3",
   "metadata": {},
   "outputs": [],
   "source": [
    "#raising an exception"
   ]
  },
  {
   "cell_type": "code",
   "execution_count": 13,
   "id": "153db812",
   "metadata": {},
   "outputs": [
    {
     "data": {
      "text/plain": [
       "0.6"
      ]
     },
     "execution_count": 13,
     "metadata": {},
     "output_type": "execute_result"
    }
   ],
   "source": [
    "6/10"
   ]
  },
  {
   "cell_type": "code",
   "execution_count": 14,
   "id": "cde528e7",
   "metadata": {},
   "outputs": [
    {
     "ename": "ZeroDivisionError",
     "evalue": "division by zero",
     "output_type": "error",
     "traceback": [
      "\u001b[1;31m---------------------------------------------------------------------------\u001b[0m",
      "\u001b[1;31mZeroDivisionError\u001b[0m                         Traceback (most recent call last)",
      "\u001b[1;32m~\\AppData\\Local\\Temp/ipykernel_36204/2874912419.py\u001b[0m in \u001b[0;36m<module>\u001b[1;34m\u001b[0m\n\u001b[1;32m----> 1\u001b[1;33m \u001b[1;36m5\u001b[0m\u001b[1;33m/\u001b[0m\u001b[1;36m0\u001b[0m\u001b[1;33m\u001b[0m\u001b[1;33m\u001b[0m\u001b[0m\n\u001b[0m",
      "\u001b[1;31mZeroDivisionError\u001b[0m: division by zero"
     ]
    }
   ],
   "source": [
    "5/0"
   ]
  },
  {
   "cell_type": "code",
   "execution_count": 15,
   "id": "50024497",
   "metadata": {},
   "outputs": [],
   "source": [
    "def test(a):\n",
    "    if a<0:\n",
    "        raise Exception(a)\n",
    "    return a"
   ]
  },
  {
   "cell_type": "code",
   "execution_count": 16,
   "id": "a581954c",
   "metadata": {},
   "outputs": [
    {
     "ename": "Exception",
     "evalue": "-5",
     "output_type": "error",
     "traceback": [
      "\u001b[1;31m---------------------------------------------------------------------------\u001b[0m",
      "\u001b[1;31mException\u001b[0m                                 Traceback (most recent call last)",
      "\u001b[1;32m~\\AppData\\Local\\Temp/ipykernel_36204/4093551797.py\u001b[0m in \u001b[0;36m<module>\u001b[1;34m\u001b[0m\n\u001b[1;32m----> 1\u001b[1;33m \u001b[0mtest\u001b[0m\u001b[1;33m(\u001b[0m\u001b[1;33m-\u001b[0m\u001b[1;36m5\u001b[0m\u001b[1;33m)\u001b[0m\u001b[1;33m\u001b[0m\u001b[1;33m\u001b[0m\u001b[0m\n\u001b[0m",
      "\u001b[1;32m~\\AppData\\Local\\Temp/ipykernel_36204/4033397188.py\u001b[0m in \u001b[0;36mtest\u001b[1;34m(a)\u001b[0m\n\u001b[0;32m      1\u001b[0m \u001b[1;32mdef\u001b[0m \u001b[0mtest\u001b[0m\u001b[1;33m(\u001b[0m\u001b[0ma\u001b[0m\u001b[1;33m)\u001b[0m\u001b[1;33m:\u001b[0m\u001b[1;33m\u001b[0m\u001b[1;33m\u001b[0m\u001b[0m\n\u001b[0;32m      2\u001b[0m     \u001b[1;32mif\u001b[0m \u001b[0ma\u001b[0m\u001b[1;33m<\u001b[0m\u001b[1;36m0\u001b[0m\u001b[1;33m:\u001b[0m\u001b[1;33m\u001b[0m\u001b[1;33m\u001b[0m\u001b[0m\n\u001b[1;32m----> 3\u001b[1;33m         \u001b[1;32mraise\u001b[0m \u001b[0mException\u001b[0m\u001b[1;33m(\u001b[0m\u001b[0ma\u001b[0m\u001b[1;33m)\u001b[0m\u001b[1;33m\u001b[0m\u001b[1;33m\u001b[0m\u001b[0m\n\u001b[0m\u001b[0;32m      4\u001b[0m     \u001b[1;32mreturn\u001b[0m \u001b[0ma\u001b[0m\u001b[1;33m\u001b[0m\u001b[1;33m\u001b[0m\u001b[0m\n",
      "\u001b[1;31mException\u001b[0m: -5"
     ]
    }
   ],
   "source": [
    "test(-5)"
   ]
  },
  {
   "cell_type": "code",
   "execution_count": 17,
   "id": "9a5cb507",
   "metadata": {},
   "outputs": [
    {
     "data": {
      "text/plain": [
       "5"
      ]
     },
     "execution_count": 17,
     "metadata": {},
     "output_type": "execute_result"
    }
   ],
   "source": [
    "test(5)"
   ]
  },
  {
   "cell_type": "code",
   "execution_count": 18,
   "id": "4cc44d71",
   "metadata": {},
   "outputs": [],
   "source": [
    "def test(a):\n",
    "    if a<0:\n",
    "        raise Exception(\"user entered a negative value\")\n",
    "    return a"
   ]
  },
  {
   "cell_type": "code",
   "execution_count": 19,
   "id": "06288cc0",
   "metadata": {},
   "outputs": [
    {
     "ename": "Exception",
     "evalue": "user entered a negative value",
     "output_type": "error",
     "traceback": [
      "\u001b[1;31m---------------------------------------------------------------------------\u001b[0m",
      "\u001b[1;31mException\u001b[0m                                 Traceback (most recent call last)",
      "\u001b[1;32m~\\AppData\\Local\\Temp/ipykernel_36204/4093551797.py\u001b[0m in \u001b[0;36m<module>\u001b[1;34m\u001b[0m\n\u001b[1;32m----> 1\u001b[1;33m \u001b[0mtest\u001b[0m\u001b[1;33m(\u001b[0m\u001b[1;33m-\u001b[0m\u001b[1;36m5\u001b[0m\u001b[1;33m)\u001b[0m\u001b[1;33m\u001b[0m\u001b[1;33m\u001b[0m\u001b[0m\n\u001b[0m",
      "\u001b[1;32m~\\AppData\\Local\\Temp/ipykernel_36204/4122521674.py\u001b[0m in \u001b[0;36mtest\u001b[1;34m(a)\u001b[0m\n\u001b[0;32m      1\u001b[0m \u001b[1;32mdef\u001b[0m \u001b[0mtest\u001b[0m\u001b[1;33m(\u001b[0m\u001b[0ma\u001b[0m\u001b[1;33m)\u001b[0m\u001b[1;33m:\u001b[0m\u001b[1;33m\u001b[0m\u001b[1;33m\u001b[0m\u001b[0m\n\u001b[0;32m      2\u001b[0m     \u001b[1;32mif\u001b[0m \u001b[0ma\u001b[0m\u001b[1;33m<\u001b[0m\u001b[1;36m0\u001b[0m\u001b[1;33m:\u001b[0m\u001b[1;33m\u001b[0m\u001b[1;33m\u001b[0m\u001b[0m\n\u001b[1;32m----> 3\u001b[1;33m         \u001b[1;32mraise\u001b[0m \u001b[0mException\u001b[0m\u001b[1;33m(\u001b[0m\u001b[1;34m\"user entered a negative value\"\u001b[0m\u001b[1;33m)\u001b[0m\u001b[1;33m\u001b[0m\u001b[1;33m\u001b[0m\u001b[0m\n\u001b[0m\u001b[0;32m      4\u001b[0m     \u001b[1;32mreturn\u001b[0m \u001b[0ma\u001b[0m\u001b[1;33m\u001b[0m\u001b[1;33m\u001b[0m\u001b[0m\n",
      "\u001b[1;31mException\u001b[0m: user entered a negative value"
     ]
    }
   ],
   "source": [
    "test(-5)"
   ]
  },
  {
   "cell_type": "code",
   "execution_count": 20,
   "id": "875a7956",
   "metadata": {},
   "outputs": [],
   "source": [
    "# overwrite existing exception class with our own exception"
   ]
  },
  {
   "cell_type": "code",
   "execution_count": 21,
   "id": "341abbe4",
   "metadata": {},
   "outputs": [],
   "source": [
    "def test(a):\n",
    "    if a<0:\n",
    "        raise ZeroDivisionError(\"user entered a negative value\")\n",
    "    return a"
   ]
  },
  {
   "cell_type": "code",
   "execution_count": 22,
   "id": "8116106e",
   "metadata": {},
   "outputs": [
    {
     "ename": "ZeroDivisionError",
     "evalue": "user entered a negative value",
     "output_type": "error",
     "traceback": [
      "\u001b[1;31m---------------------------------------------------------------------------\u001b[0m",
      "\u001b[1;31mZeroDivisionError\u001b[0m                         Traceback (most recent call last)",
      "\u001b[1;32m~\\AppData\\Local\\Temp/ipykernel_36204/4093551797.py\u001b[0m in \u001b[0;36m<module>\u001b[1;34m\u001b[0m\n\u001b[1;32m----> 1\u001b[1;33m \u001b[0mtest\u001b[0m\u001b[1;33m(\u001b[0m\u001b[1;33m-\u001b[0m\u001b[1;36m5\u001b[0m\u001b[1;33m)\u001b[0m\u001b[1;33m\u001b[0m\u001b[1;33m\u001b[0m\u001b[0m\n\u001b[0m",
      "\u001b[1;32m~\\AppData\\Local\\Temp/ipykernel_36204/2983983446.py\u001b[0m in \u001b[0;36mtest\u001b[1;34m(a)\u001b[0m\n\u001b[0;32m      1\u001b[0m \u001b[1;32mdef\u001b[0m \u001b[0mtest\u001b[0m\u001b[1;33m(\u001b[0m\u001b[0ma\u001b[0m\u001b[1;33m)\u001b[0m\u001b[1;33m:\u001b[0m\u001b[1;33m\u001b[0m\u001b[1;33m\u001b[0m\u001b[0m\n\u001b[0;32m      2\u001b[0m     \u001b[1;32mif\u001b[0m \u001b[0ma\u001b[0m\u001b[1;33m<\u001b[0m\u001b[1;36m0\u001b[0m\u001b[1;33m:\u001b[0m\u001b[1;33m\u001b[0m\u001b[1;33m\u001b[0m\u001b[0m\n\u001b[1;32m----> 3\u001b[1;33m         \u001b[1;32mraise\u001b[0m \u001b[0mZeroDivisionError\u001b[0m\u001b[1;33m(\u001b[0m\u001b[1;34m\"user entered a negative value\"\u001b[0m\u001b[1;33m)\u001b[0m\u001b[1;33m\u001b[0m\u001b[1;33m\u001b[0m\u001b[0m\n\u001b[0m\u001b[0;32m      4\u001b[0m     \u001b[1;32mreturn\u001b[0m \u001b[0ma\u001b[0m\u001b[1;33m\u001b[0m\u001b[1;33m\u001b[0m\u001b[0m\n",
      "\u001b[1;31mZeroDivisionError\u001b[0m: user entered a negative value"
     ]
    }
   ],
   "source": [
    "test(-5)"
   ]
  },
  {
   "cell_type": "code",
   "execution_count": 24,
   "id": "6086f4be",
   "metadata": {},
   "outputs": [
    {
     "name": "stdout",
     "output_type": "stream",
     "text": [
      "5\n",
      "calling my raised exception\n"
     ]
    }
   ],
   "source": [
    "try:\n",
    "    a=input()\n",
    "    test(\"sudh\")\n",
    "except Exception as e:\n",
    "    print(\"calling my raised exception\")"
   ]
  },
  {
   "cell_type": "code",
   "execution_count": 26,
   "id": "030d4cc3",
   "metadata": {},
   "outputs": [],
   "source": [
    "def test(a):\n",
    "    if a==\"sudh\":\n",
    "        raise ZeroDivisionError(\"user entered a negative value\")\n",
    "    return a"
   ]
  },
  {
   "cell_type": "code",
   "execution_count": 28,
   "id": "1c947b32",
   "metadata": {},
   "outputs": [
    {
     "data": {
      "text/plain": [
       "'Fff'"
      ]
     },
     "execution_count": 28,
     "metadata": {},
     "output_type": "execute_result"
    }
   ],
   "source": [
    "test(\"Fff\")"
   ]
  },
  {
   "cell_type": "code",
   "execution_count": 29,
   "id": "a0dab22c",
   "metadata": {},
   "outputs": [
    {
     "ename": "ZeroDivisionError",
     "evalue": "user entered a negative value",
     "output_type": "error",
     "traceback": [
      "\u001b[1;31m---------------------------------------------------------------------------\u001b[0m",
      "\u001b[1;31mZeroDivisionError\u001b[0m                         Traceback (most recent call last)",
      "\u001b[1;32m~\\AppData\\Local\\Temp/ipykernel_36204/1718169350.py\u001b[0m in \u001b[0;36m<module>\u001b[1;34m\u001b[0m\n\u001b[1;32m----> 1\u001b[1;33m \u001b[0mtest\u001b[0m\u001b[1;33m(\u001b[0m\u001b[1;34m\"sudh\"\u001b[0m\u001b[1;33m)\u001b[0m\u001b[1;33m\u001b[0m\u001b[1;33m\u001b[0m\u001b[0m\n\u001b[0m",
      "\u001b[1;32m~\\AppData\\Local\\Temp/ipykernel_36204/3931106783.py\u001b[0m in \u001b[0;36mtest\u001b[1;34m(a)\u001b[0m\n\u001b[0;32m      1\u001b[0m \u001b[1;32mdef\u001b[0m \u001b[0mtest\u001b[0m\u001b[1;33m(\u001b[0m\u001b[0ma\u001b[0m\u001b[1;33m)\u001b[0m\u001b[1;33m:\u001b[0m\u001b[1;33m\u001b[0m\u001b[1;33m\u001b[0m\u001b[0m\n\u001b[0;32m      2\u001b[0m     \u001b[1;32mif\u001b[0m \u001b[0ma\u001b[0m\u001b[1;33m==\u001b[0m\u001b[1;34m\"sudh\"\u001b[0m\u001b[1;33m:\u001b[0m\u001b[1;33m\u001b[0m\u001b[1;33m\u001b[0m\u001b[0m\n\u001b[1;32m----> 3\u001b[1;33m         \u001b[1;32mraise\u001b[0m \u001b[0mZeroDivisionError\u001b[0m\u001b[1;33m(\u001b[0m\u001b[1;34m\"user entered a negative value\"\u001b[0m\u001b[1;33m)\u001b[0m\u001b[1;33m\u001b[0m\u001b[1;33m\u001b[0m\u001b[0m\n\u001b[0m\u001b[0;32m      4\u001b[0m     \u001b[1;32mreturn\u001b[0m \u001b[0ma\u001b[0m\u001b[1;33m\u001b[0m\u001b[1;33m\u001b[0m\u001b[0m\n",
      "\u001b[1;31mZeroDivisionError\u001b[0m: user entered a negative value"
     ]
    }
   ],
   "source": [
    "test(\"sudh\")"
   ]
  },
  {
   "cell_type": "code",
   "execution_count": 31,
   "id": "4e366511",
   "metadata": {},
   "outputs": [
    {
     "name": "stdout",
     "output_type": "stream",
     "text": [
      "g\n"
     ]
    }
   ],
   "source": [
    "try:\n",
    "    a=input()\n",
    "    test(a)\n",
    "except Exception as e:\n",
    "    print(\"calling my raised exception\")"
   ]
  },
  {
   "cell_type": "code",
   "execution_count": 32,
   "id": "e18555f0",
   "metadata": {},
   "outputs": [
    {
     "name": "stdout",
     "output_type": "stream",
     "text": [
      "sudh\n",
      "calling my raised exception\n"
     ]
    }
   ],
   "source": [
    "try:\n",
    "    a=input()\n",
    "    test(a)\n",
    "except Exception as e:\n",
    "    print(\"calling my raised exception\")"
   ]
  },
  {
   "cell_type": "code",
   "execution_count": 33,
   "id": "309f54b0",
   "metadata": {},
   "outputs": [],
   "source": [
    "# logging"
   ]
  },
  {
   "cell_type": "code",
   "execution_count": 34,
   "id": "d09465e7",
   "metadata": {},
   "outputs": [
    {
     "name": "stdout",
     "output_type": "stream",
     "text": [
      "dneifeifn\n"
     ]
    }
   ],
   "source": [
    "print(\"dneifeifn\")"
   ]
  },
  {
   "cell_type": "code",
   "execution_count": 35,
   "id": "37dae636",
   "metadata": {},
   "outputs": [],
   "source": [
    "# in production environment we dont use print\n"
   ]
  },
  {
   "cell_type": "code",
   "execution_count": 36,
   "id": "1433fc7e",
   "metadata": {},
   "outputs": [],
   "source": [
    "# logging is a way in which you track your error, \n",
    "# warning info and debug for future use"
   ]
  },
  {
   "cell_type": "code",
   "execution_count": 21,
   "id": "ab3a1f41",
   "metadata": {},
   "outputs": [],
   "source": [
    "import logging"
   ]
  },
  {
   "cell_type": "code",
   "execution_count": 22,
   "id": "72a5b26c",
   "metadata": {},
   "outputs": [],
   "source": [
    "# logging is a simple way to write the messages"
   ]
  },
  {
   "cell_type": "code",
   "execution_count": 23,
   "id": "32793991",
   "metadata": {},
   "outputs": [],
   "source": [
    "logging.basicConfig(filename=\"hydtest.log\",level=logging.INFO)"
   ]
  },
  {
   "cell_type": "code",
   "execution_count": 24,
   "id": "775ea65b",
   "metadata": {},
   "outputs": [
    {
     "data": {
      "text/plain": [
       "'C:\\\\Users\\\\91903'"
      ]
     },
     "execution_count": 24,
     "metadata": {},
     "output_type": "execute_result"
    }
   ],
   "source": [
    "pwd()"
   ]
  },
  {
   "cell_type": "code",
   "execution_count": 25,
   "id": "66edf220",
   "metadata": {},
   "outputs": [],
   "source": [
    "#different hierarchy of logs"
   ]
  },
  {
   "cell_type": "code",
   "execution_count": 26,
   "id": "3a2361f4",
   "metadata": {},
   "outputs": [],
   "source": [
    "# DEBUG\n",
    "# INFO\n",
    "# WARNING\n",
    "# ERROR\n",
    "# CRITICAL"
   ]
  },
  {
   "cell_type": "code",
   "execution_count": 27,
   "id": "7f8c277a",
   "metadata": {},
   "outputs": [],
   "source": [
    "logging.info(\"this is my info log\")\n",
    "logging.warning(\"this is my warning log\")\n",
    "logging.error(\"this is my error log\")"
   ]
  },
  {
   "cell_type": "code",
   "execution_count": 28,
   "id": "2919b9d8",
   "metadata": {},
   "outputs": [],
   "source": [
    "logging.shutdown()"
   ]
  },
  {
   "cell_type": "code",
   "execution_count": 29,
   "id": "cbac881a",
   "metadata": {},
   "outputs": [],
   "source": [
    "import logging"
   ]
  },
  {
   "cell_type": "code",
   "execution_count": 30,
   "id": "241f6500",
   "metadata": {},
   "outputs": [],
   "source": [
    "logging.basicConfig(filename=\"hydtest2.log\",level=logging.DEBUG, format='(%(asctime)s %(levelname) %(message)s')"
   ]
  },
  {
   "cell_type": "code",
   "execution_count": 31,
   "id": "b2468d4f",
   "metadata": {},
   "outputs": [],
   "source": [
    "logging.debug(\"this is my debug log\")\n",
    "logging.info(\"this is my info log\")\n",
    "logging.warning(\"this is my warning log\")\n",
    "logging.error(\"this is my error log\")"
   ]
  },
  {
   "cell_type": "code",
   "execution_count": 32,
   "id": "04cad031",
   "metadata": {},
   "outputs": [],
   "source": [
    "logging.shutdown()"
   ]
  },
  {
   "cell_type": "code",
   "execution_count": 33,
   "id": "e214fddb",
   "metadata": {},
   "outputs": [],
   "source": [
    "import logging"
   ]
  },
  {
   "cell_type": "code",
   "execution_count": 34,
   "id": "d2748b23",
   "metadata": {},
   "outputs": [],
   "source": [
    "logging.basicConfig(filename=\"hydtest3.log\", level=logging.DEBUG, format='%(asctime)s-%(level)-%(message)s')"
   ]
  },
  {
   "cell_type": "code",
   "execution_count": 38,
   "id": "d5f7395d",
   "metadata": {},
   "outputs": [],
   "source": [
    "def divbyzero(a,b):\n",
    "    logging.info(\"this is a start of the file %s and %s\",a,b)\n",
    "    try:\n",
    "        div=a/b\n",
    "        logging.info(\"executed successfully\")\n",
    "    except Exception as e:\n",
    "        logging.error(\"error has occured\")\n",
    "        logging.exception(\"exception occured\" + str(e))"
   ]
  },
  {
   "cell_type": "code",
   "execution_count": 1,
   "id": "3a1e37f4",
   "metadata": {},
   "outputs": [
    {
     "ename": "NameError",
     "evalue": "name 'divbyzero' is not defined",
     "output_type": "error",
     "traceback": [
      "\u001b[1;31m---------------------------------------------------------------------------\u001b[0m",
      "\u001b[1;31mNameError\u001b[0m                                 Traceback (most recent call last)",
      "\u001b[1;32m~\\AppData\\Local\\Temp/ipykernel_34020/2477659707.py\u001b[0m in \u001b[0;36m<module>\u001b[1;34m\u001b[0m\n\u001b[1;32m----> 1\u001b[1;33m \u001b[0mdivbyzero\u001b[0m\u001b[1;33m(\u001b[0m\u001b[1;36m4\u001b[0m\u001b[1;33m,\u001b[0m\u001b[1;36m5\u001b[0m\u001b[1;33m)\u001b[0m\u001b[1;33m\u001b[0m\u001b[1;33m\u001b[0m\u001b[0m\n\u001b[0m",
      "\u001b[1;31mNameError\u001b[0m: name 'divbyzero' is not defined"
     ]
    }
   ],
   "source": [
    "divbyzero(4,5)"
   ]
  },
  {
   "cell_type": "code",
   "execution_count": 20,
   "id": "cbe4ea75",
   "metadata": {},
   "outputs": [],
   "source": []
  },
  {
   "cell_type": "raw",
   "id": "087ae4f5",
   "metadata": {},
   "source": [
    "logging.shutdown()"
   ]
  },
  {
   "cell_type": "code",
   "execution_count": null,
   "id": "e133de9e",
   "metadata": {},
   "outputs": [],
   "source": [
    "di"
   ]
  }
 ],
 "metadata": {
  "kernelspec": {
   "display_name": "Python 3 (ipykernel)",
   "language": "python",
   "name": "python3"
  },
  "language_info": {
   "codemirror_mode": {
    "name": "ipython",
    "version": 3
   },
   "file_extension": ".py",
   "mimetype": "text/x-python",
   "name": "python",
   "nbconvert_exporter": "python",
   "pygments_lexer": "ipython3",
   "version": "3.9.7"
  }
 },
 "nbformat": 4,
 "nbformat_minor": 5
}
